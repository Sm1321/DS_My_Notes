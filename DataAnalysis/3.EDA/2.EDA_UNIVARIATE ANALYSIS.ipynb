{
  "cells": [
    {
      "cell_type": "code",
      "execution_count": null,
      "id": "162501d5",
      "metadata": {
        "id": "162501d5",
        "outputId": "33fcd4b3-14f3-439c-a0b3-6efc09fae4fb"
      },
      "outputs": [
        {
          "name": "stderr",
          "output_type": "stream",
          "text": [
            "C:\\Users\\pc\\anaconda3\\lib\\site-packages\\scipy\\__init__.py:146: UserWarning: A NumPy version >=1.16.5 and <1.23.0 is required for this version of SciPy (detected version 1.24.3\n",
            "  warnings.warn(f\"A NumPy version >={np_minversion} and <{np_maxversion}\"\n"
          ]
        }
      ],
      "source": [
        "import numpy as np\n",
        "import pandas as pd\n",
        "import seaborn as sns\n",
        "import matplotlib.pyplot as plt"
      ]
    },
    {
      "cell_type": "code",
      "execution_count": null,
      "id": "9dd1e6d4",
      "metadata": {
        "id": "9dd1e6d4"
      },
      "outputs": [],
      "source": [
        "### import sales_dara,loan_data,titanic\n",
        "df_loan =pd.read_csv('loandata.csv')\n",
        "df_titanic = pd.read_csv('titanic.csv')\n",
        "df_sales=pd.read_csv('Sales_Data.csv')"
      ]
    },
    {
      "cell_type": "code",
      "execution_count": null,
      "id": "cfa0ccae",
      "metadata": {
        "id": "cfa0ccae",
        "outputId": "867b3427-4627-481f-e0f3-85c162c66908"
      },
      "outputs": [
        {
          "data": {
            "text/html": [
              "<div>\n",
              "<style scoped>\n",
              "    .dataframe tbody tr th:only-of-type {\n",
              "        vertical-align: middle;\n",
              "    }\n",
              "\n",
              "    .dataframe tbody tr th {\n",
              "        vertical-align: top;\n",
              "    }\n",
              "\n",
              "    .dataframe thead th {\n",
              "        text-align: right;\n",
              "    }\n",
              "</style>\n",
              "<table border=\"1\" class=\"dataframe\">\n",
              "  <thead>\n",
              "    <tr style=\"text-align: right;\">\n",
              "      <th></th>\n",
              "      <th>Region</th>\n",
              "      <th>Country</th>\n",
              "      <th>Item_Type</th>\n",
              "      <th>Sales_Channel</th>\n",
              "      <th>Order_Priority</th>\n",
              "      <th>Order_Date</th>\n",
              "      <th>Order_ID</th>\n",
              "      <th>Ship_Date</th>\n",
              "      <th>Units_Sold</th>\n",
              "      <th>Unit_SellingPrice</th>\n",
              "      <th>Unit_MakingCost</th>\n",
              "      <th>Total_Revenue</th>\n",
              "      <th>Total_Cost</th>\n",
              "      <th>Total_Profit</th>\n",
              "    </tr>\n",
              "  </thead>\n",
              "  <tbody>\n",
              "    <tr>\n",
              "      <th>0</th>\n",
              "      <td>Central America and the Caribbean</td>\n",
              "      <td>Antigua and Barbuda</td>\n",
              "      <td>Baby Food</td>\n",
              "      <td>Online</td>\n",
              "      <td>M</td>\n",
              "      <td>12/20/2013</td>\n",
              "      <td>957081544.0</td>\n",
              "      <td>01-11-2014</td>\n",
              "      <td>552</td>\n",
              "      <td>255.28</td>\n",
              "      <td>159.42</td>\n",
              "      <td>140914.56</td>\n",
              "      <td>87999.84</td>\n",
              "      <td>52914.72</td>\n",
              "    </tr>\n",
              "    <tr>\n",
              "      <th>1</th>\n",
              "      <td>Central America and the Caribbean</td>\n",
              "      <td>Panama</td>\n",
              "      <td>Snacks</td>\n",
              "      <td>Offline</td>\n",
              "      <td>C</td>\n",
              "      <td>07-05-2010</td>\n",
              "      <td>301644504.0</td>\n",
              "      <td>7/26/2010</td>\n",
              "      <td>2167</td>\n",
              "      <td>152.58</td>\n",
              "      <td>97.44</td>\n",
              "      <td>330640.86</td>\n",
              "      <td>211152.48</td>\n",
              "      <td>119488.38</td>\n",
              "    </tr>\n",
              "    <tr>\n",
              "      <th>2</th>\n",
              "      <td>Europe</td>\n",
              "      <td>Czech Republic</td>\n",
              "      <td>Beverages</td>\n",
              "      <td>Offline</td>\n",
              "      <td>C</td>\n",
              "      <td>09-12-2011</td>\n",
              "      <td>478051030.0</td>\n",
              "      <td>9/29/2011</td>\n",
              "      <td>4778</td>\n",
              "      <td>47.45</td>\n",
              "      <td>31.79</td>\n",
              "      <td>226716.10</td>\n",
              "      <td>151892.62</td>\n",
              "      <td>74823.48</td>\n",
              "    </tr>\n",
              "    <tr>\n",
              "      <th>3</th>\n",
              "      <td>Asia</td>\n",
              "      <td>North Korea</td>\n",
              "      <td>Cereal</td>\n",
              "      <td>Offline</td>\n",
              "      <td>L</td>\n",
              "      <td>5/13/2010</td>\n",
              "      <td>892599952.0</td>\n",
              "      <td>6/15/2010</td>\n",
              "      <td>9016</td>\n",
              "      <td>205.70</td>\n",
              "      <td>117.11</td>\n",
              "      <td>1854591.20</td>\n",
              "      <td>1055863.76</td>\n",
              "      <td>798727.44</td>\n",
              "    </tr>\n",
              "    <tr>\n",
              "      <th>4</th>\n",
              "      <td>Asia</td>\n",
              "      <td>Sri Lanka</td>\n",
              "      <td>Snacks</td>\n",
              "      <td>Offline</td>\n",
              "      <td>C</td>\n",
              "      <td>7/20/2015</td>\n",
              "      <td>571902596.0</td>\n",
              "      <td>7/27/2015</td>\n",
              "      <td>7542</td>\n",
              "      <td>152.58</td>\n",
              "      <td>97.44</td>\n",
              "      <td>1150758.36</td>\n",
              "      <td>734892.48</td>\n",
              "      <td>415865.88</td>\n",
              "    </tr>\n",
              "    <tr>\n",
              "      <th>...</th>\n",
              "      <td>...</td>\n",
              "      <td>...</td>\n",
              "      <td>...</td>\n",
              "      <td>...</td>\n",
              "      <td>...</td>\n",
              "      <td>...</td>\n",
              "      <td>...</td>\n",
              "      <td>...</td>\n",
              "      <td>...</td>\n",
              "      <td>...</td>\n",
              "      <td>...</td>\n",
              "      <td>...</td>\n",
              "      <td>...</td>\n",
              "      <td>...</td>\n",
              "    </tr>\n",
              "    <tr>\n",
              "      <th>4995</th>\n",
              "      <td>Australia and Oceania</td>\n",
              "      <td>New Zealand</td>\n",
              "      <td>Household</td>\n",
              "      <td>Offline</td>\n",
              "      <td>C</td>\n",
              "      <td>04-03-2015</td>\n",
              "      <td>217984473.0</td>\n",
              "      <td>4/20/2015</td>\n",
              "      <td>5305</td>\n",
              "      <td>668.27</td>\n",
              "      <td>502.54</td>\n",
              "      <td>3545172.35</td>\n",
              "      <td>2665974.70</td>\n",
              "      <td>879197.65</td>\n",
              "    </tr>\n",
              "    <tr>\n",
              "      <th>4996</th>\n",
              "      <td>Middle East and North Africa</td>\n",
              "      <td>Azerbaijan</td>\n",
              "      <td>Clothes</td>\n",
              "      <td>Offline</td>\n",
              "      <td>L</td>\n",
              "      <td>8/17/2014</td>\n",
              "      <td>169748055.0</td>\n",
              "      <td>10-02-2014</td>\n",
              "      <td>1077</td>\n",
              "      <td>109.28</td>\n",
              "      <td>35.84</td>\n",
              "      <td>117694.56</td>\n",
              "      <td>38599.68</td>\n",
              "      <td>79094.88</td>\n",
              "    </tr>\n",
              "    <tr>\n",
              "      <th>4997</th>\n",
              "      <td>Asia</td>\n",
              "      <td>Myanmar</td>\n",
              "      <td>Baby Food</td>\n",
              "      <td>Offline</td>\n",
              "      <td>H</td>\n",
              "      <td>11/23/2016</td>\n",
              "      <td>NaN</td>\n",
              "      <td>12-10-2016</td>\n",
              "      <td>5204</td>\n",
              "      <td>255.28</td>\n",
              "      <td>159.42</td>\n",
              "      <td>1328477.12</td>\n",
              "      <td>829621.68</td>\n",
              "      <td>498855.44</td>\n",
              "    </tr>\n",
              "    <tr>\n",
              "      <th>4998</th>\n",
              "      <td>Europe</td>\n",
              "      <td>Finland</td>\n",
              "      <td>Clothes</td>\n",
              "      <td>Online</td>\n",
              "      <td>L</td>\n",
              "      <td>4/22/2014</td>\n",
              "      <td>NaN</td>\n",
              "      <td>05-11-2014</td>\n",
              "      <td>9410</td>\n",
              "      <td>109.28</td>\n",
              "      <td>35.84</td>\n",
              "      <td>1028324.80</td>\n",
              "      <td>337254.40</td>\n",
              "      <td>691070.40</td>\n",
              "    </tr>\n",
              "    <tr>\n",
              "      <th>4999</th>\n",
              "      <td>Sub-Saharan Africa</td>\n",
              "      <td>Tanzania</td>\n",
              "      <td>Vegetables</td>\n",
              "      <td>Online</td>\n",
              "      <td>L</td>\n",
              "      <td>07-08-2011</td>\n",
              "      <td>NaN</td>\n",
              "      <td>08-07-2011</td>\n",
              "      <td>2450</td>\n",
              "      <td>154.06</td>\n",
              "      <td>90.93</td>\n",
              "      <td>377447.00</td>\n",
              "      <td>222778.50</td>\n",
              "      <td>154668.50</td>\n",
              "    </tr>\n",
              "  </tbody>\n",
              "</table>\n",
              "<p>5000 rows × 14 columns</p>\n",
              "</div>"
            ],
            "text/plain": [
              "                                 Region               Country   Item_Type  \\\n",
              "0     Central America and the Caribbean  Antigua and Barbuda    Baby Food   \n",
              "1     Central America and the Caribbean                Panama      Snacks   \n",
              "2                                Europe        Czech Republic   Beverages   \n",
              "3                                  Asia           North Korea      Cereal   \n",
              "4                                  Asia             Sri Lanka      Snacks   \n",
              "...                                 ...                   ...         ...   \n",
              "4995              Australia and Oceania           New Zealand   Household   \n",
              "4996       Middle East and North Africa            Azerbaijan     Clothes   \n",
              "4997                               Asia               Myanmar   Baby Food   \n",
              "4998                             Europe               Finland     Clothes   \n",
              "4999                 Sub-Saharan Africa              Tanzania  Vegetables   \n",
              "\n",
              "     Sales_Channel Order_Priority  Order_Date     Order_ID   Ship_Date  \\\n",
              "0           Online              M  12/20/2013  957081544.0  01-11-2014   \n",
              "1          Offline              C  07-05-2010  301644504.0   7/26/2010   \n",
              "2          Offline              C  09-12-2011  478051030.0   9/29/2011   \n",
              "3          Offline              L   5/13/2010  892599952.0   6/15/2010   \n",
              "4          Offline              C   7/20/2015  571902596.0   7/27/2015   \n",
              "...            ...            ...         ...          ...         ...   \n",
              "4995       Offline              C  04-03-2015  217984473.0   4/20/2015   \n",
              "4996       Offline              L   8/17/2014  169748055.0  10-02-2014   \n",
              "4997       Offline              H  11/23/2016          NaN  12-10-2016   \n",
              "4998        Online              L   4/22/2014          NaN  05-11-2014   \n",
              "4999        Online              L  07-08-2011          NaN  08-07-2011   \n",
              "\n",
              "      Units_Sold  Unit_SellingPrice  Unit_MakingCost  Total_Revenue  \\\n",
              "0            552             255.28           159.42      140914.56   \n",
              "1           2167             152.58            97.44      330640.86   \n",
              "2           4778              47.45            31.79      226716.10   \n",
              "3           9016             205.70           117.11     1854591.20   \n",
              "4           7542             152.58            97.44     1150758.36   \n",
              "...          ...                ...              ...            ...   \n",
              "4995        5305             668.27           502.54     3545172.35   \n",
              "4996        1077             109.28            35.84      117694.56   \n",
              "4997        5204             255.28           159.42     1328477.12   \n",
              "4998        9410             109.28            35.84     1028324.80   \n",
              "4999        2450             154.06            90.93      377447.00   \n",
              "\n",
              "      Total_Cost  Total_Profit  \n",
              "0       87999.84      52914.72  \n",
              "1      211152.48     119488.38  \n",
              "2      151892.62      74823.48  \n",
              "3     1055863.76     798727.44  \n",
              "4      734892.48     415865.88  \n",
              "...          ...           ...  \n",
              "4995  2665974.70     879197.65  \n",
              "4996    38599.68      79094.88  \n",
              "4997   829621.68     498855.44  \n",
              "4998   337254.40     691070.40  \n",
              "4999   222778.50     154668.50  \n",
              "\n",
              "[5000 rows x 14 columns]"
            ]
          },
          "execution_count": 3,
          "metadata": {},
          "output_type": "execute_result"
        }
      ],
      "source": [
        "df_sales"
      ]
    },
    {
      "cell_type": "code",
      "execution_count": null,
      "id": "741aa4fe",
      "metadata": {
        "id": "741aa4fe",
        "outputId": "5cbd04bb-f128-45ad-9c9c-a3e592e64004"
      },
      "outputs": [
        {
          "data": {
            "text/plain": [
              "array(['Central America and the Caribbean', 'Europe', 'Asia',\n",
              "       'Middle East and North Africa', 'Australia and Oceania',\n",
              "       'Sub-Saharan Africa', 'North America'], dtype=object)"
            ]
          },
          "execution_count": 4,
          "metadata": {},
          "output_type": "execute_result"
        }
      ],
      "source": [
        "df_sales.Region.unique()"
      ]
    },
    {
      "cell_type": "code",
      "execution_count": null,
      "id": "dc707a99",
      "metadata": {
        "id": "dc707a99",
        "outputId": "018b5612-52cb-4baa-fa43-5cab98c10109"
      },
      "outputs": [
        {
          "data": {
            "text/plain": [
              "Europe                               1330\n",
              "Sub-Saharan Africa                   1285\n",
              "Asia                                  719\n",
              "Middle East and North Africa          610\n",
              "Central America and the Caribbean     534\n",
              "Australia and Oceania                 416\n",
              "North America                         106\n",
              "Name: Region, dtype: int64"
            ]
          },
          "execution_count": 5,
          "metadata": {},
          "output_type": "execute_result"
        }
      ],
      "source": [
        "df_sales.Region.value_counts()"
      ]
    },
    {
      "cell_type": "code",
      "execution_count": null,
      "id": "d2b1a4b6",
      "metadata": {
        "id": "d2b1a4b6",
        "outputId": "0380040b-c65d-4053-9ec6-547b79588b04"
      },
      "outputs": [
        {
          "data": {
            "text/plain": [
              "<AxesSubplot:>"
            ]
          },
          "execution_count": 6,
          "metadata": {},
          "output_type": "execute_result"
        },
        {
          "data": {
            "image/png": "[encoded data removed]",
            "text/plain": [
              "<Figure size 432x288 with 1 Axes>"
            ]
          },
          "metadata": {
            "needs_background": "light"
          },
          "output_type": "display_data"
        }
      ],
      "source": [
        "df_sales.Region.value_counts().plot.bar()"
      ]
    },
    {
      "cell_type": "code",
      "execution_count": null,
      "id": "3f7e700a",
      "metadata": {
        "id": "3f7e700a",
        "outputId": "1e2af031-5086-4af9-d438-43836cf08128"
      },
      "outputs": [
        {
          "data": {
            "text/html": [
              "<div>\n",
              "<style scoped>\n",
              "    .dataframe tbody tr th:only-of-type {\n",
              "        vertical-align: middle;\n",
              "    }\n",
              "\n",
              "    .dataframe tbody tr th {\n",
              "        vertical-align: top;\n",
              "    }\n",
              "\n",
              "    .dataframe thead th {\n",
              "        text-align: right;\n",
              "    }\n",
              "</style>\n",
              "<table border=\"1\" class=\"dataframe\">\n",
              "  <thead>\n",
              "    <tr style=\"text-align: right;\">\n",
              "      <th></th>\n",
              "      <th>Loan_ID</th>\n",
              "      <th>Gender</th>\n",
              "      <th>Married</th>\n",
              "      <th>Dependents</th>\n",
              "      <th>Education</th>\n",
              "      <th>Self_Employed</th>\n",
              "      <th>ApplicantIncome</th>\n",
              "      <th>CoapplicantIncome</th>\n",
              "      <th>LoanAmount</th>\n",
              "      <th>Loan_Amount_Term</th>\n",
              "      <th>Credit_History</th>\n",
              "      <th>Property_Area</th>\n",
              "      <th>Loan_Status</th>\n",
              "    </tr>\n",
              "  </thead>\n",
              "  <tbody>\n",
              "    <tr>\n",
              "      <th>0</th>\n",
              "      <td>LP001722</td>\n",
              "      <td>Male</td>\n",
              "      <td>Yes</td>\n",
              "      <td>0</td>\n",
              "      <td>Graduate</td>\n",
              "      <td>No</td>\n",
              "      <td>150</td>\n",
              "      <td>1800.0</td>\n",
              "      <td>135.0</td>\n",
              "      <td>360.0</td>\n",
              "      <td>1.0</td>\n",
              "      <td>Rural</td>\n",
              "      <td>N</td>\n",
              "    </tr>\n",
              "    <tr>\n",
              "      <th>1</th>\n",
              "      <td>LP002502</td>\n",
              "      <td>Female</td>\n",
              "      <td>Yes</td>\n",
              "      <td>2</td>\n",
              "      <td>Not Graduate</td>\n",
              "      <td>NaN</td>\n",
              "      <td>210</td>\n",
              "      <td>2917.0</td>\n",
              "      <td>98.0</td>\n",
              "      <td>360.0</td>\n",
              "      <td>1.0</td>\n",
              "      <td>Semiurban</td>\n",
              "      <td>Y</td>\n",
              "    </tr>\n",
              "    <tr>\n",
              "      <th>2</th>\n",
              "      <td>LP002949</td>\n",
              "      <td>Female</td>\n",
              "      <td>No</td>\n",
              "      <td>3+</td>\n",
              "      <td>Graduate</td>\n",
              "      <td>NaN</td>\n",
              "      <td>416</td>\n",
              "      <td>41667.0</td>\n",
              "      <td>350.0</td>\n",
              "      <td>180.0</td>\n",
              "      <td>NaN</td>\n",
              "      <td>Urban</td>\n",
              "      <td>N</td>\n",
              "    </tr>\n",
              "    <tr>\n",
              "      <th>3</th>\n",
              "      <td>LP002603</td>\n",
              "      <td>Female</td>\n",
              "      <td>No</td>\n",
              "      <td>0</td>\n",
              "      <td>Graduate</td>\n",
              "      <td>No</td>\n",
              "      <td>645</td>\n",
              "      <td>3683.0</td>\n",
              "      <td>113.0</td>\n",
              "      <td>480.0</td>\n",
              "      <td>1.0</td>\n",
              "      <td>Rural</td>\n",
              "      <td>Y</td>\n",
              "    </tr>\n",
              "    <tr>\n",
              "      <th>4</th>\n",
              "      <td>LP001644</td>\n",
              "      <td>NaN</td>\n",
              "      <td>Yes</td>\n",
              "      <td>0</td>\n",
              "      <td>Graduate</td>\n",
              "      <td>Yes</td>\n",
              "      <td>674</td>\n",
              "      <td>5296.0</td>\n",
              "      <td>168.0</td>\n",
              "      <td>360.0</td>\n",
              "      <td>1.0</td>\n",
              "      <td>Rural</td>\n",
              "      <td>Y</td>\n",
              "    </tr>\n",
              "    <tr>\n",
              "      <th>...</th>\n",
              "      <td>...</td>\n",
              "      <td>...</td>\n",
              "      <td>...</td>\n",
              "      <td>...</td>\n",
              "      <td>...</td>\n",
              "      <td>...</td>\n",
              "      <td>...</td>\n",
              "      <td>...</td>\n",
              "      <td>...</td>\n",
              "      <td>...</td>\n",
              "      <td>...</td>\n",
              "      <td>...</td>\n",
              "      <td>...</td>\n",
              "    </tr>\n",
              "    <tr>\n",
              "      <th>609</th>\n",
              "      <td>LP001640</td>\n",
              "      <td>Male</td>\n",
              "      <td>Yes</td>\n",
              "      <td>0</td>\n",
              "      <td>Graduate</td>\n",
              "      <td>Yes</td>\n",
              "      <td>39147</td>\n",
              "      <td>4750.0</td>\n",
              "      <td>120.0</td>\n",
              "      <td>360.0</td>\n",
              "      <td>1.0</td>\n",
              "      <td>Semiurban</td>\n",
              "      <td>Y</td>\n",
              "    </tr>\n",
              "    <tr>\n",
              "      <th>610</th>\n",
              "      <td>LP001536</td>\n",
              "      <td>Male</td>\n",
              "      <td>Yes</td>\n",
              "      <td>3+</td>\n",
              "      <td>Graduate</td>\n",
              "      <td>No</td>\n",
              "      <td>39999</td>\n",
              "      <td>0.0</td>\n",
              "      <td>600.0</td>\n",
              "      <td>180.0</td>\n",
              "      <td>0.0</td>\n",
              "      <td>Semiurban</td>\n",
              "      <td>Y</td>\n",
              "    </tr>\n",
              "    <tr>\n",
              "      <th>611</th>\n",
              "      <td>LP001585</td>\n",
              "      <td>NaN</td>\n",
              "      <td>Yes</td>\n",
              "      <td>3+</td>\n",
              "      <td>Graduate</td>\n",
              "      <td>No</td>\n",
              "      <td>51763</td>\n",
              "      <td>0.0</td>\n",
              "      <td>700.0</td>\n",
              "      <td>300.0</td>\n",
              "      <td>1.0</td>\n",
              "      <td>Urban</td>\n",
              "      <td>Y</td>\n",
              "    </tr>\n",
              "    <tr>\n",
              "      <th>612</th>\n",
              "      <td>LP002101</td>\n",
              "      <td>Male</td>\n",
              "      <td>Yes</td>\n",
              "      <td>0</td>\n",
              "      <td>Graduate</td>\n",
              "      <td>NaN</td>\n",
              "      <td>63337</td>\n",
              "      <td>0.0</td>\n",
              "      <td>490.0</td>\n",
              "      <td>180.0</td>\n",
              "      <td>1.0</td>\n",
              "      <td>Urban</td>\n",
              "      <td>Y</td>\n",
              "    </tr>\n",
              "    <tr>\n",
              "      <th>613</th>\n",
              "      <td>LP002317</td>\n",
              "      <td>Male</td>\n",
              "      <td>Yes</td>\n",
              "      <td>3+</td>\n",
              "      <td>Graduate</td>\n",
              "      <td>No</td>\n",
              "      <td>81000</td>\n",
              "      <td>0.0</td>\n",
              "      <td>360.0</td>\n",
              "      <td>360.0</td>\n",
              "      <td>0.0</td>\n",
              "      <td>Rural</td>\n",
              "      <td>N</td>\n",
              "    </tr>\n",
              "  </tbody>\n",
              "</table>\n",
              "<p>614 rows × 13 columns</p>\n",
              "</div>"
            ],
            "text/plain": [
              "      Loan_ID  Gender Married Dependents     Education Self_Employed  \\\n",
              "0    LP001722    Male     Yes          0      Graduate            No   \n",
              "1    LP002502  Female     Yes          2  Not Graduate           NaN   \n",
              "2    LP002949  Female      No         3+      Graduate           NaN   \n",
              "3    LP002603  Female      No          0      Graduate            No   \n",
              "4    LP001644     NaN     Yes          0      Graduate           Yes   \n",
              "..        ...     ...     ...        ...           ...           ...   \n",
              "609  LP001640    Male     Yes          0      Graduate           Yes   \n",
              "610  LP001536    Male     Yes         3+      Graduate            No   \n",
              "611  LP001585     NaN     Yes         3+      Graduate            No   \n",
              "612  LP002101    Male     Yes          0      Graduate           NaN   \n",
              "613  LP002317    Male     Yes         3+      Graduate            No   \n",
              "\n",
              "     ApplicantIncome  CoapplicantIncome  LoanAmount  Loan_Amount_Term  \\\n",
              "0                150             1800.0       135.0             360.0   \n",
              "1                210             2917.0        98.0             360.0   \n",
              "2                416            41667.0       350.0             180.0   \n",
              "3                645             3683.0       113.0             480.0   \n",
              "4                674             5296.0       168.0             360.0   \n",
              "..               ...                ...         ...               ...   \n",
              "609            39147             4750.0       120.0             360.0   \n",
              "610            39999                0.0       600.0             180.0   \n",
              "611            51763                0.0       700.0             300.0   \n",
              "612            63337                0.0       490.0             180.0   \n",
              "613            81000                0.0       360.0             360.0   \n",
              "\n",
              "     Credit_History Property_Area Loan_Status  \n",
              "0               1.0         Rural           N  \n",
              "1               1.0     Semiurban           Y  \n",
              "2               NaN         Urban           N  \n",
              "3               1.0         Rural           Y  \n",
              "4               1.0         Rural           Y  \n",
              "..              ...           ...         ...  \n",
              "609             1.0     Semiurban           Y  \n",
              "610             0.0     Semiurban           Y  \n",
              "611             1.0         Urban           Y  \n",
              "612             1.0         Urban           Y  \n",
              "613             0.0         Rural           N  \n",
              "\n",
              "[614 rows x 13 columns]"
            ]
          },
          "execution_count": 7,
          "metadata": {},
          "output_type": "execute_result"
        }
      ],
      "source": [
        "df_loan"
      ]
    },
    {
      "cell_type": "code",
      "execution_count": null,
      "id": "76aa5868",
      "metadata": {
        "id": "76aa5868",
        "outputId": "fa7ba2b1-64eb-40a5-e162-35ac655d3358"
      },
      "outputs": [
        {
          "data": {
            "text/plain": [
              "<AxesSubplot:>"
            ]
          },
          "execution_count": 8,
          "metadata": {},
          "output_type": "execute_result"
        },
        {
          "data": {
            "image/png": "[encoded data removed]",
            "text/plain": [
              "<Figure size 432x288 with 1 Axes>"
            ]
          },
          "metadata": {
            "needs_background": "light"
          },
          "output_type": "display_data"
        }
      ],
      "source": [
        "df_loan.Gender.value_counts().plot.bar()"
      ]
    },
    {
      "cell_type": "code",
      "execution_count": null,
      "id": "2f06921b",
      "metadata": {
        "id": "2f06921b",
        "outputId": "9b7f2103-a64f-40e0-a4df-373a26b57f07"
      },
      "outputs": [
        {
          "data": {
            "text/plain": [
              "<AxesSubplot:>"
            ]
          },
          "execution_count": 9,
          "metadata": {},
          "output_type": "execute_result"
        },
        {
          "data": {
            "image/png": "[encoded data removed]",
            "text/plain": [
              "<Figure size 432x288 with 1 Axes>"
            ]
          },
          "metadata": {
            "needs_background": "light"
          },
          "output_type": "display_data"
        }
      ],
      "source": [
        "df_loan.Married.value_counts().plot.bar()"
      ]
    },
    {
      "cell_type": "code",
      "execution_count": null,
      "id": "c97a55b1",
      "metadata": {
        "id": "c97a55b1",
        "outputId": "e3878408-a8eb-4f43-8f5a-38bb83cf6f2f"
      },
      "outputs": [
        {
          "data": {
            "text/plain": [
              "<AxesSubplot:>"
            ]
          },
          "execution_count": 10,
          "metadata": {},
          "output_type": "execute_result"
        },
        {
          "data": {
            "image/png": "[encoded data removed]",
            "text/plain": [
              "<Figure size 432x288 with 1 Axes>"
            ]
          },
          "metadata": {
            "needs_background": "light"
          },
          "output_type": "display_data"
        }
      ],
      "source": [
        "df_loan.Education.value_counts().plot.bar()"
      ]
    },
    {
      "cell_type": "code",
      "execution_count": null,
      "id": "02b024f8",
      "metadata": {
        "id": "02b024f8",
        "outputId": "82ff32a0-51d2-4eb8-8e48-ada9ac54d5c4"
      },
      "outputs": [
        {
          "data": {
            "text/html": [
              "<div>\n",
              "<style scoped>\n",
              "    .dataframe tbody tr th:only-of-type {\n",
              "        vertical-align: middle;\n",
              "    }\n",
              "\n",
              "    .dataframe tbody tr th {\n",
              "        vertical-align: top;\n",
              "    }\n",
              "\n",
              "    .dataframe thead th {\n",
              "        text-align: right;\n",
              "    }\n",
              "</style>\n",
              "<table border=\"1\" class=\"dataframe\">\n",
              "  <thead>\n",
              "    <tr style=\"text-align: right;\">\n",
              "      <th></th>\n",
              "      <th>Region</th>\n",
              "      <th>Country</th>\n",
              "      <th>Item_Type</th>\n",
              "      <th>Sales_Channel</th>\n",
              "      <th>Order_Priority</th>\n",
              "      <th>Order_Date</th>\n",
              "      <th>Order_ID</th>\n",
              "      <th>Ship_Date</th>\n",
              "      <th>Units_Sold</th>\n",
              "      <th>Unit_SellingPrice</th>\n",
              "      <th>Unit_MakingCost</th>\n",
              "      <th>Total_Revenue</th>\n",
              "      <th>Total_Cost</th>\n",
              "      <th>Total_Profit</th>\n",
              "    </tr>\n",
              "  </thead>\n",
              "  <tbody>\n",
              "    <tr>\n",
              "      <th>0</th>\n",
              "      <td>Central America and the Caribbean</td>\n",
              "      <td>Antigua and Barbuda</td>\n",
              "      <td>Baby Food</td>\n",
              "      <td>Online</td>\n",
              "      <td>M</td>\n",
              "      <td>12/20/2013</td>\n",
              "      <td>957081544.0</td>\n",
              "      <td>01-11-2014</td>\n",
              "      <td>552</td>\n",
              "      <td>255.28</td>\n",
              "      <td>159.42</td>\n",
              "      <td>140914.56</td>\n",
              "      <td>87999.84</td>\n",
              "      <td>52914.72</td>\n",
              "    </tr>\n",
              "    <tr>\n",
              "      <th>1</th>\n",
              "      <td>Central America and the Caribbean</td>\n",
              "      <td>Panama</td>\n",
              "      <td>Snacks</td>\n",
              "      <td>Offline</td>\n",
              "      <td>C</td>\n",
              "      <td>07-05-2010</td>\n",
              "      <td>301644504.0</td>\n",
              "      <td>7/26/2010</td>\n",
              "      <td>2167</td>\n",
              "      <td>152.58</td>\n",
              "      <td>97.44</td>\n",
              "      <td>330640.86</td>\n",
              "      <td>211152.48</td>\n",
              "      <td>119488.38</td>\n",
              "    </tr>\n",
              "    <tr>\n",
              "      <th>2</th>\n",
              "      <td>Europe</td>\n",
              "      <td>Czech Republic</td>\n",
              "      <td>Beverages</td>\n",
              "      <td>Offline</td>\n",
              "      <td>C</td>\n",
              "      <td>09-12-2011</td>\n",
              "      <td>478051030.0</td>\n",
              "      <td>9/29/2011</td>\n",
              "      <td>4778</td>\n",
              "      <td>47.45</td>\n",
              "      <td>31.79</td>\n",
              "      <td>226716.10</td>\n",
              "      <td>151892.62</td>\n",
              "      <td>74823.48</td>\n",
              "    </tr>\n",
              "    <tr>\n",
              "      <th>3</th>\n",
              "      <td>Asia</td>\n",
              "      <td>North Korea</td>\n",
              "      <td>Cereal</td>\n",
              "      <td>Offline</td>\n",
              "      <td>L</td>\n",
              "      <td>5/13/2010</td>\n",
              "      <td>892599952.0</td>\n",
              "      <td>6/15/2010</td>\n",
              "      <td>9016</td>\n",
              "      <td>205.70</td>\n",
              "      <td>117.11</td>\n",
              "      <td>1854591.20</td>\n",
              "      <td>1055863.76</td>\n",
              "      <td>798727.44</td>\n",
              "    </tr>\n",
              "    <tr>\n",
              "      <th>4</th>\n",
              "      <td>Asia</td>\n",
              "      <td>Sri Lanka</td>\n",
              "      <td>Snacks</td>\n",
              "      <td>Offline</td>\n",
              "      <td>C</td>\n",
              "      <td>7/20/2015</td>\n",
              "      <td>571902596.0</td>\n",
              "      <td>7/27/2015</td>\n",
              "      <td>7542</td>\n",
              "      <td>152.58</td>\n",
              "      <td>97.44</td>\n",
              "      <td>1150758.36</td>\n",
              "      <td>734892.48</td>\n",
              "      <td>415865.88</td>\n",
              "    </tr>\n",
              "    <tr>\n",
              "      <th>...</th>\n",
              "      <td>...</td>\n",
              "      <td>...</td>\n",
              "      <td>...</td>\n",
              "      <td>...</td>\n",
              "      <td>...</td>\n",
              "      <td>...</td>\n",
              "      <td>...</td>\n",
              "      <td>...</td>\n",
              "      <td>...</td>\n",
              "      <td>...</td>\n",
              "      <td>...</td>\n",
              "      <td>...</td>\n",
              "      <td>...</td>\n",
              "      <td>...</td>\n",
              "    </tr>\n",
              "    <tr>\n",
              "      <th>4995</th>\n",
              "      <td>Australia and Oceania</td>\n",
              "      <td>New Zealand</td>\n",
              "      <td>Household</td>\n",
              "      <td>Offline</td>\n",
              "      <td>C</td>\n",
              "      <td>04-03-2015</td>\n",
              "      <td>217984473.0</td>\n",
              "      <td>4/20/2015</td>\n",
              "      <td>5305</td>\n",
              "      <td>668.27</td>\n",
              "      <td>502.54</td>\n",
              "      <td>3545172.35</td>\n",
              "      <td>2665974.70</td>\n",
              "      <td>879197.65</td>\n",
              "    </tr>\n",
              "    <tr>\n",
              "      <th>4996</th>\n",
              "      <td>Middle East and North Africa</td>\n",
              "      <td>Azerbaijan</td>\n",
              "      <td>Clothes</td>\n",
              "      <td>Offline</td>\n",
              "      <td>L</td>\n",
              "      <td>8/17/2014</td>\n",
              "      <td>169748055.0</td>\n",
              "      <td>10-02-2014</td>\n",
              "      <td>1077</td>\n",
              "      <td>109.28</td>\n",
              "      <td>35.84</td>\n",
              "      <td>117694.56</td>\n",
              "      <td>38599.68</td>\n",
              "      <td>79094.88</td>\n",
              "    </tr>\n",
              "    <tr>\n",
              "      <th>4997</th>\n",
              "      <td>Asia</td>\n",
              "      <td>Myanmar</td>\n",
              "      <td>Baby Food</td>\n",
              "      <td>Offline</td>\n",
              "      <td>H</td>\n",
              "      <td>11/23/2016</td>\n",
              "      <td>NaN</td>\n",
              "      <td>12-10-2016</td>\n",
              "      <td>5204</td>\n",
              "      <td>255.28</td>\n",
              "      <td>159.42</td>\n",
              "      <td>1328477.12</td>\n",
              "      <td>829621.68</td>\n",
              "      <td>498855.44</td>\n",
              "    </tr>\n",
              "    <tr>\n",
              "      <th>4998</th>\n",
              "      <td>Europe</td>\n",
              "      <td>Finland</td>\n",
              "      <td>Clothes</td>\n",
              "      <td>Online</td>\n",
              "      <td>L</td>\n",
              "      <td>4/22/2014</td>\n",
              "      <td>NaN</td>\n",
              "      <td>05-11-2014</td>\n",
              "      <td>9410</td>\n",
              "      <td>109.28</td>\n",
              "      <td>35.84</td>\n",
              "      <td>1028324.80</td>\n",
              "      <td>337254.40</td>\n",
              "      <td>691070.40</td>\n",
              "    </tr>\n",
              "    <tr>\n",
              "      <th>4999</th>\n",
              "      <td>Sub-Saharan Africa</td>\n",
              "      <td>Tanzania</td>\n",
              "      <td>Vegetables</td>\n",
              "      <td>Online</td>\n",
              "      <td>L</td>\n",
              "      <td>07-08-2011</td>\n",
              "      <td>NaN</td>\n",
              "      <td>08-07-2011</td>\n",
              "      <td>2450</td>\n",
              "      <td>154.06</td>\n",
              "      <td>90.93</td>\n",
              "      <td>377447.00</td>\n",
              "      <td>222778.50</td>\n",
              "      <td>154668.50</td>\n",
              "    </tr>\n",
              "  </tbody>\n",
              "</table>\n",
              "<p>5000 rows × 14 columns</p>\n",
              "</div>"
            ],
            "text/plain": [
              "                                 Region               Country   Item_Type  \\\n",
              "0     Central America and the Caribbean  Antigua and Barbuda    Baby Food   \n",
              "1     Central America and the Caribbean                Panama      Snacks   \n",
              "2                                Europe        Czech Republic   Beverages   \n",
              "3                                  Asia           North Korea      Cereal   \n",
              "4                                  Asia             Sri Lanka      Snacks   \n",
              "...                                 ...                   ...         ...   \n",
              "4995              Australia and Oceania           New Zealand   Household   \n",
              "4996       Middle East and North Africa            Azerbaijan     Clothes   \n",
              "4997                               Asia               Myanmar   Baby Food   \n",
              "4998                             Europe               Finland     Clothes   \n",
              "4999                 Sub-Saharan Africa              Tanzania  Vegetables   \n",
              "\n",
              "     Sales_Channel Order_Priority  Order_Date     Order_ID   Ship_Date  \\\n",
              "0           Online              M  12/20/2013  957081544.0  01-11-2014   \n",
              "1          Offline              C  07-05-2010  301644504.0   7/26/2010   \n",
              "2          Offline              C  09-12-2011  478051030.0   9/29/2011   \n",
              "3          Offline              L   5/13/2010  892599952.0   6/15/2010   \n",
              "4          Offline              C   7/20/2015  571902596.0   7/27/2015   \n",
              "...            ...            ...         ...          ...         ...   \n",
              "4995       Offline              C  04-03-2015  217984473.0   4/20/2015   \n",
              "4996       Offline              L   8/17/2014  169748055.0  10-02-2014   \n",
              "4997       Offline              H  11/23/2016          NaN  12-10-2016   \n",
              "4998        Online              L   4/22/2014          NaN  05-11-2014   \n",
              "4999        Online              L  07-08-2011          NaN  08-07-2011   \n",
              "\n",
              "      Units_Sold  Unit_SellingPrice  Unit_MakingCost  Total_Revenue  \\\n",
              "0            552             255.28           159.42      140914.56   \n",
              "1           2167             152.58            97.44      330640.86   \n",
              "2           4778              47.45            31.79      226716.10   \n",
              "3           9016             205.70           117.11     1854591.20   \n",
              "4           7542             152.58            97.44     1150758.36   \n",
              "...          ...                ...              ...            ...   \n",
              "4995        5305             668.27           502.54     3545172.35   \n",
              "4996        1077             109.28            35.84      117694.56   \n",
              "4997        5204             255.28           159.42     1328477.12   \n",
              "4998        9410             109.28            35.84     1028324.80   \n",
              "4999        2450             154.06            90.93      377447.00   \n",
              "\n",
              "      Total_Cost  Total_Profit  \n",
              "0       87999.84      52914.72  \n",
              "1      211152.48     119488.38  \n",
              "2      151892.62      74823.48  \n",
              "3     1055863.76     798727.44  \n",
              "4      734892.48     415865.88  \n",
              "...          ...           ...  \n",
              "4995  2665974.70     879197.65  \n",
              "4996    38599.68      79094.88  \n",
              "4997   829621.68     498855.44  \n",
              "4998   337254.40     691070.40  \n",
              "4999   222778.50     154668.50  \n",
              "\n",
              "[5000 rows x 14 columns]"
            ]
          },
          "execution_count": 11,
          "metadata": {},
          "output_type": "execute_result"
        }
      ],
      "source": [
        "df_sales"
      ]
    },
    {
      "cell_type": "code",
      "execution_count": null,
      "id": "fcfe8c41",
      "metadata": {
        "id": "fcfe8c41",
        "outputId": "37ecd844-6a2a-42b4-9abe-bdda30118eac"
      },
      "outputs": [
        {
          "data": {
            "text/plain": [
              "<AxesSubplot:xlabel='Region', ylabel='count'>"
            ]
          },
          "execution_count": 12,
          "metadata": {},
          "output_type": "execute_result"
        },
        {
          "data": {
            "image/png": "[encoded data removed]",
            "text/plain": [
              "<Figure size 432x288 with 1 Axes>"
            ]
          },
          "metadata": {
            "needs_background": "light"
          },
          "output_type": "display_data"
        }
      ],
      "source": [
        "sns.countplot(x='Region',data=df_sales)"
      ]
    },
    {
      "cell_type": "code",
      "execution_count": null,
      "id": "461c09bb",
      "metadata": {
        "id": "461c09bb",
        "outputId": "05676fac-2a8f-462f-d34a-610e36689767"
      },
      "outputs": [
        {
          "data": {
            "text/plain": [
              "<AxesSubplot:title={'center':'Number of Orders by Region'}, xlabel='Region', ylabel='count'>"
            ]
          },
          "execution_count": 13,
          "metadata": {},
          "output_type": "execute_result"
        },
        {
          "data": {
            "image/png": "[encoded data removed]",
            "text/plain": [
              "<Figure size 720x360 with 1 Axes>"
            ]
          },
          "metadata": {
            "needs_background": "light"
          },
          "output_type": "display_data"
        }
      ],
      "source": [
        "plt.figure(figsize=(10,5))\n",
        "plt.title('Number of Orders by Region')\n",
        "sns.countplot(x='Region',data=df_sales)"
      ]
    },
    {
      "cell_type": "code",
      "execution_count": null,
      "id": "8978e6f9",
      "metadata": {
        "id": "8978e6f9",
        "outputId": "b12fcc4d-66b2-4084-b5f3-13da537f6e63"
      },
      "outputs": [
        {
          "data": {
            "image/png": "[encoded data removed]",
            "text/plain": [
              "<Figure size 720x360 with 1 Axes>"
            ]
          },
          "metadata": {
            "needs_background": "light"
          },
          "output_type": "display_data"
        }
      ],
      "source": [
        "plt.figure(figsize=(10,5))\n",
        "plt.title('Number of Orders by Region')\n",
        "sns.countplot(x='Region',data=df_sales)\n",
        "plt.ylabel('Number of Orders')\n",
        "plt.xlabel('Region')\n",
        "plt.xticks(rotation=90)\n",
        "plt.show()"
      ]
    },
    {
      "cell_type": "code",
      "execution_count": null,
      "id": "83441695",
      "metadata": {
        "id": "83441695",
        "outputId": "328083b5-6dae-4eb2-d727-6067083b9c81"
      },
      "outputs": [
        {
          "data": {
            "image/png": "[encoded data removed]",
            "text/plain": [
              "<Figure size 720x360 with 1 Axes>"
            ]
          },
          "metadata": {
            "needs_background": "light"
          },
          "output_type": "display_data"
        }
      ],
      "source": [
        "plt.figure(figsize=(10,5))\n",
        "plt.title('Number of Orders by Region')\n",
        "sns.countplot(y='Region',data=df_sales)\n",
        "plt.xlabel('Number of Orders')\n",
        "plt.ylabel('Region')\n",
        "#plt.yticks(rotation=180)\n",
        "plt.show()"
      ]
    },
    {
      "cell_type": "code",
      "execution_count": null,
      "id": "0871d3be",
      "metadata": {
        "id": "0871d3be",
        "outputId": "88cabc88-1a43-4c70-aa2a-f58c7f4af015"
      },
      "outputs": [
        {
          "data": {
            "image/png": "[encoded data removed]",
            "text/plain": [
              "<Figure size 720x360 with 1 Axes>"
            ]
          },
          "metadata": {
            "needs_background": "light"
          },
          "output_type": "display_data"
        }
      ],
      "source": [
        "plt.figure(figsize=(10,5))\n",
        "plt.title('Number of Orders by Region')\n",
        "plt.ylabel('Number of Orders')\n",
        "plt.xlabel('Sales_Channel')\n",
        "plt.xticks(rotation=90)\n",
        "sns.countplot(x = 'Sales_Channel', data = df_sales)\n",
        "plt.show()"
      ]
    },
    {
      "cell_type": "code",
      "execution_count": null,
      "id": "7a7a0cf0",
      "metadata": {
        "id": "7a7a0cf0",
        "outputId": "e9296869-01fe-4c7c-8125-833672c54383"
      },
      "outputs": [
        {
          "data": {
            "text/plain": [
              "Europe                               1330\n",
              "Sub-Saharan Africa                   1285\n",
              "Asia                                  719\n",
              "Middle East and North Africa          610\n",
              "Central America and the Caribbean     534\n",
              "Australia and Oceania                 416\n",
              "North America                         106\n",
              "Name: Region, dtype: int64"
            ]
          },
          "execution_count": 23,
          "metadata": {},
          "output_type": "execute_result"
        }
      ],
      "source": [
        "df_sales.Region.value_counts()"
      ]
    },
    {
      "cell_type": "code",
      "execution_count": null,
      "id": "7c593ad4",
      "metadata": {
        "id": "7c593ad4",
        "outputId": "1017b0bc-8bf6-4f04-9fdf-1d1515515b7e"
      },
      "outputs": [
        {
          "data": {
            "text/plain": [
              "<AxesSubplot:ylabel='Region'>"
            ]
          },
          "execution_count": 24,
          "metadata": {},
          "output_type": "execute_result"
        },
        {
          "data": {
            "image/png": "[encoded data removed]",
            "text/plain": [
              "<Figure size 432x288 with 1 Axes>"
            ]
          },
          "metadata": {},
          "output_type": "display_data"
        }
      ],
      "source": [
        "df_sales.Region.value_counts().plot.pie(autopct='%.3f%%')"
      ]
    },
    {
      "cell_type": "code",
      "execution_count": null,
      "id": "f8171fa9",
      "metadata": {
        "id": "f8171fa9",
        "outputId": "f8c3c4d2-4d4d-47c9-a032-0a62d00b476a"
      },
      "outputs": [
        {
          "data": {
            "text/plain": [
              "<AxesSubplot:ylabel='Region'>"
            ]
          },
          "execution_count": 26,
          "metadata": {},
          "output_type": "execute_result"
        },
        {
          "data": {
            "image/png": "[encoded data removed]",
            "text/plain": [
              "<Figure size 432x288 with 1 Axes>"
            ]
          },
          "metadata": {},
          "output_type": "display_data"
        }
      ],
      "source": [
        "df_sales.Region.value_counts().plot.pie(autopct='%.2f%%')"
      ]
    },
    {
      "cell_type": "code",
      "execution_count": null,
      "id": "1534c70a",
      "metadata": {
        "id": "1534c70a"
      },
      "outputs": [],
      "source": [
        "df=pd.DataFrame(df_sales.Region.value_counts())"
      ]
    },
    {
      "cell_type": "code",
      "execution_count": null,
      "id": "8def7a37",
      "metadata": {
        "id": "8def7a37",
        "outputId": "25f11c85-c585-47fc-c1df-a84e0365965f"
      },
      "outputs": [
        {
          "data": {
            "text/html": [
              "<div>\n",
              "<style scoped>\n",
              "    .dataframe tbody tr th:only-of-type {\n",
              "        vertical-align: middle;\n",
              "    }\n",
              "\n",
              "    .dataframe tbody tr th {\n",
              "        vertical-align: top;\n",
              "    }\n",
              "\n",
              "    .dataframe thead th {\n",
              "        text-align: right;\n",
              "    }\n",
              "</style>\n",
              "<table border=\"1\" class=\"dataframe\">\n",
              "  <thead>\n",
              "    <tr style=\"text-align: right;\">\n",
              "      <th></th>\n",
              "      <th>Region</th>\n",
              "    </tr>\n",
              "  </thead>\n",
              "  <tbody>\n",
              "    <tr>\n",
              "      <th>Europe</th>\n",
              "      <td>1330</td>\n",
              "    </tr>\n",
              "    <tr>\n",
              "      <th>Sub-Saharan Africa</th>\n",
              "      <td>1285</td>\n",
              "    </tr>\n",
              "    <tr>\n",
              "      <th>Asia</th>\n",
              "      <td>719</td>\n",
              "    </tr>\n",
              "    <tr>\n",
              "      <th>Middle East and North Africa</th>\n",
              "      <td>610</td>\n",
              "    </tr>\n",
              "    <tr>\n",
              "      <th>Central America and the Caribbean</th>\n",
              "      <td>534</td>\n",
              "    </tr>\n",
              "    <tr>\n",
              "      <th>Australia and Oceania</th>\n",
              "      <td>416</td>\n",
              "    </tr>\n",
              "    <tr>\n",
              "      <th>North America</th>\n",
              "      <td>106</td>\n",
              "    </tr>\n",
              "  </tbody>\n",
              "</table>\n",
              "</div>"
            ],
            "text/plain": [
              "                                   Region\n",
              "Europe                               1330\n",
              "Sub-Saharan Africa                   1285\n",
              "Asia                                  719\n",
              "Middle East and North Africa          610\n",
              "Central America and the Caribbean     534\n",
              "Australia and Oceania                 416\n",
              "North America                         106"
            ]
          },
          "execution_count": 29,
          "metadata": {},
          "output_type": "execute_result"
        }
      ],
      "source": [
        "df"
      ]
    },
    {
      "cell_type": "code",
      "execution_count": null,
      "id": "1ae34a44",
      "metadata": {
        "id": "1ae34a44",
        "outputId": "e13d8e55-724b-4d60-9b9a-d616a37cfcc9"
      },
      "outputs": [
        {
          "data": {
            "text/plain": [
              "pandas.core.series.Series"
            ]
          },
          "execution_count": 30,
          "metadata": {},
          "output_type": "execute_result"
        }
      ],
      "source": [
        "type(df_sales.Region.value_counts())"
      ]
    },
    {
      "cell_type": "code",
      "execution_count": null,
      "id": "f6d9c12f",
      "metadata": {
        "id": "f6d9c12f",
        "outputId": "d6fdda77-bea6-4bbe-8491-30158464fcaa"
      },
      "outputs": [
        {
          "data": {
            "text/plain": [
              "Europe                               1330\n",
              "Sub-Saharan Africa                   1285\n",
              "Asia                                  719\n",
              "Middle East and North Africa          610\n",
              "Central America and the Caribbean     534\n",
              "Australia and Oceania                 416\n",
              "North America                         106\n",
              "Name: Region, dtype: int64"
            ]
          },
          "execution_count": 31,
          "metadata": {},
          "output_type": "execute_result"
        }
      ],
      "source": [
        "df.Region"
      ]
    },
    {
      "cell_type": "code",
      "execution_count": null,
      "id": "035e5469",
      "metadata": {
        "id": "035e5469",
        "outputId": "e94a9960-a498-4a83-f20d-00caf64b6d6e"
      },
      "outputs": [
        {
          "data": {
            "text/plain": [
              "Index(['Europe', 'Sub-Saharan Africa', 'Asia', 'Middle East and North Africa',\n",
              "       'Central America and the Caribbean', 'Australia and Oceania',\n",
              "       'North America'],\n",
              "      dtype='object')"
            ]
          },
          "execution_count": 32,
          "metadata": {},
          "output_type": "execute_result"
        }
      ],
      "source": [
        "df.index"
      ]
    },
    {
      "cell_type": "code",
      "execution_count": null,
      "id": "1c9cbc1a",
      "metadata": {
        "id": "1c9cbc1a",
        "outputId": "4657d438-bd53-4d32-9a54-9e21173e5871"
      },
      "outputs": [
        {
          "data": {
            "image/png": "[encoded data removed]",
            "text/plain": [
              "<Figure size 432x288 with 1 Axes>"
            ]
          },
          "metadata": {},
          "output_type": "display_data"
        }
      ],
      "source": [
        "plt.pie(df.Region,labels=df.index,autopct='%.0f%%')\n",
        "plt.show()"
      ]
    },
    {
      "cell_type": "code",
      "execution_count": null,
      "id": "ca115fad",
      "metadata": {
        "id": "ca115fad",
        "outputId": "95ae7264-c336-4098-9379-10c03d8c8640"
      },
      "outputs": [
        {
          "data": {
            "text/plain": [
              "([<matplotlib.patches.Wedge at 0x12cde69d220>,\n",
              "  <matplotlib.patches.Wedge at 0x12cde691460>,\n",
              "  <matplotlib.patches.Wedge at 0x12cde691c10>,\n",
              "  <matplotlib.patches.Wedge at 0x12cde6d8bb0>,\n",
              "  <matplotlib.patches.Wedge at 0x12cde685c70>,\n",
              "  <matplotlib.patches.Wedge at 0x12cde685790>,\n",
              "  <matplotlib.patches.Wedge at 0x12cde60bd30>],\n",
              " [Text(0.7377541274679345, 0.8159159560910836, ''),\n",
              "  Text(-0.8670481828229846, 0.6769249948578945, ''),\n",
              "  Text(-0.9101769185130295, -0.6177199826831946, ''),\n",
              "  Text(-0.15293826117160236, -1.0893162480518717, ''),\n",
              "  Text(0.6021910643604981, -0.9205248079244636, ''),\n",
              "  Text(1.0154722216018264, -0.42286660681005744, ''),\n",
              "  Text(1.0975612171585085, -0.07320774951829408, '')],\n",
              " [Text(0.40241134225523695, 0.44504506695877283, '27%'),\n",
              "  Text(-0.4729353724489006, 0.3692318153770333, '26%'),\n",
              "  Text(-0.4964601373707433, -0.3369381723726516, '14%'),\n",
              "  Text(-0.08342086972996492, -0.5941724989373846, '12%'),\n",
              "  Text(0.3284678532875444, -0.502104440686071, '11%'),\n",
              "  Text(0.5538939390555415, -0.23065451280548582, '8%'),\n",
              "  Text(0.5986697548137319, -0.03993149973725131, '2%')])"
            ]
          },
          "execution_count": 35,
          "metadata": {},
          "output_type": "execute_result"
        },
        {
          "data": {
            "image/png": "[encoded data removed]",
            "text/plain": [
              "<Figure size 432x288 with 1 Axes>"
            ]
          },
          "metadata": {},
          "output_type": "display_data"
        }
      ],
      "source": [
        "plt.pie(df.Region,autopct='%.0f%%')\n"
      ]
    },
    {
      "cell_type": "code",
      "execution_count": null,
      "id": "2bc9646e",
      "metadata": {
        "id": "2bc9646e"
      },
      "outputs": [],
      "source": []
    },
    {
      "cell_type": "code",
      "execution_count": null,
      "id": "a749097d",
      "metadata": {
        "id": "a749097d"
      },
      "outputs": [],
      "source": []
    },
    {
      "cell_type": "code",
      "execution_count": null,
      "id": "01ad0c66",
      "metadata": {
        "id": "01ad0c66"
      },
      "outputs": [],
      "source": []
    },
    {
      "cell_type": "code",
      "execution_count": null,
      "id": "63450aee",
      "metadata": {
        "id": "63450aee"
      },
      "outputs": [],
      "source": []
    },
    {
      "cell_type": "code",
      "execution_count": null,
      "id": "d4f8ff2b",
      "metadata": {
        "id": "d4f8ff2b"
      },
      "outputs": [],
      "source": []
    },
    {
      "cell_type": "code",
      "execution_count": null,
      "id": "e798b2ad",
      "metadata": {
        "id": "e798b2ad"
      },
      "outputs": [],
      "source": []
    }
  ],
  "metadata": {
    "kernelspec": {
      "display_name": "Python 3 (ipykernel)",
      "language": "python",
      "name": "python3"
    },
    "language_info": {
      "codemirror_mode": {
        "name": "ipython",
        "version": 3
      },
      "file_extension": ".py",
      "mimetype": "text/x-python",
      "name": "python",
      "nbconvert_exporter": "python",
      "pygments_lexer": "ipython3",
      "version": "3.9.12"
    },
    "colab": {
      "provenance": []
    }
  },
  "nbformat": 4,
  "nbformat_minor": 5
}