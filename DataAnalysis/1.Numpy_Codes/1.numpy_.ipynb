{
  "cells": [
    {
      "cell_type": "code",
      "execution_count": null,
      "id": "f4c367c9",
      "metadata": {
        "id": "f4c367c9"
      },
      "outputs": [],
      "source": [
        "import numpy as np"
      ]
    },
    {
      "cell_type": "code",
      "execution_count": null,
      "id": "cb6cf7f4",
      "metadata": {
        "id": "cb6cf7f4",
        "outputId": "e503c436-8b74-47bd-daaa-bb2533e461fa"
      },
      "outputs": [
        {
          "data": {
            "text/plain": [
              "array([ 1,  2,  3,  4,  5,  6,  7,  8,  9, 10])"
            ]
          },
          "execution_count": 2,
          "metadata": {},
          "output_type": "execute_result"
        }
      ],
      "source": [
        "arr1 = np.array([1,2,3,4,5,6,7,8,9,10])\n",
        "arr1"
      ]
    },
    {
      "cell_type": "code",
      "execution_count": null,
      "id": "a0cdda32",
      "metadata": {
        "id": "a0cdda32",
        "outputId": "1d8d49b3-f085-4581-9343-5b6ed9e96ee5"
      },
      "outputs": [
        {
          "data": {
            "text/plain": [
              "array([-1, -4, -8])"
            ]
          },
          "execution_count": 5,
          "metadata": {},
          "output_type": "execute_result"
        }
      ],
      "source": [
        "arr2 = np.array([-1,-4,-8])\n",
        "arr2"
      ]
    },
    {
      "cell_type": "code",
      "execution_count": null,
      "id": "e76cfa8e",
      "metadata": {
        "id": "e76cfa8e",
        "outputId": "7398446c-4af6-4d92-f36c-1693928f5fff"
      },
      "outputs": [
        {
          "data": {
            "text/plain": [
              "array([1, 4, 8])"
            ]
          },
          "execution_count": 4,
          "metadata": {},
          "output_type": "execute_result"
        }
      ],
      "source": [
        "\n",
        "\n",
        "\n",
        "\n",
        "\n",
        "\n",
        "arr2*-1"
      ]
    },
    {
      "cell_type": "code",
      "execution_count": null,
      "id": "d4f823fc",
      "metadata": {
        "id": "d4f823fc",
        "outputId": "faebd7ff-2d3f-4752-f5a0-2e4cc05ee139"
      },
      "outputs": [
        {
          "data": {
            "text/plain": [
              "array([1, 4, 8])"
            ]
          },
          "execution_count": 6,
          "metadata": {},
          "output_type": "execute_result"
        }
      ],
      "source": [
        "\n",
        "\n",
        "\n",
        "\n",
        "\n",
        "\n",
        "\n",
        "np.absolute(arr2)"
      ]
    },
    {
      "cell_type": "code",
      "execution_count": null,
      "id": "009bd9ff",
      "metadata": {
        "id": "009bd9ff",
        "outputId": "1b965a28-64dc-46a6-c501-84cdd7d2329d"
      },
      "outputs": [
        {
          "data": {
            "text/plain": [
              "array([1, 4, 8])"
            ]
          },
          "execution_count": 7,
          "metadata": {},
          "output_type": "execute_result"
        }
      ],
      "source": [
        "abs(arr2)"
      ]
    },
    {
      "cell_type": "code",
      "execution_count": null,
      "id": "8c0b990d",
      "metadata": {
        "id": "8c0b990d"
      },
      "outputs": [],
      "source": [
        "arr3 = np.array(range(0,2000))"
      ]
    },
    {
      "cell_type": "code",
      "execution_count": null,
      "id": "fadb859f",
      "metadata": {
        "id": "fadb859f"
      },
      "outputs": [],
      "source": [
        "arr4 = np.arange(2000)"
      ]
    },
    {
      "cell_type": "code",
      "execution_count": null,
      "id": "37d882a8",
      "metadata": {
        "id": "37d882a8",
        "outputId": "84511b93-85a2-44c1-b355-3e8ea0a676ec"
      },
      "outputs": [
        {
          "data": {
            "text/plain": [
              "2000"
            ]
          },
          "execution_count": 10,
          "metadata": {},
          "output_type": "execute_result"
        }
      ],
      "source": [
        "arr4.size"
      ]
    },
    {
      "cell_type": "code",
      "execution_count": null,
      "id": "0d2e0fb6",
      "metadata": {
        "id": "0d2e0fb6",
        "outputId": "67eab3da-2523-48f2-fa1c-44d7884986e7"
      },
      "outputs": [
        {
          "name": "stdout",
          "output_type": "stream",
          "text": [
            "4\n"
          ]
        }
      ],
      "source": [
        "print(arr4.itemsize)"
      ]
    },
    {
      "cell_type": "code",
      "execution_count": null,
      "id": "91ac69e0",
      "metadata": {
        "id": "91ac69e0"
      },
      "outputs": [],
      "source": [
        "arr4 = np.arange(2000,dtype=np.int32)"
      ]
    },
    {
      "cell_type": "code",
      "execution_count": null,
      "id": "30765569",
      "metadata": {
        "id": "30765569",
        "outputId": "d630825c-cb1d-453a-b5a5-72c90b5706ce"
      },
      "outputs": [
        {
          "name": "stdout",
          "output_type": "stream",
          "text": [
            "4\n"
          ]
        }
      ],
      "source": [
        "print(arr4.itemsize)"
      ]
    },
    {
      "cell_type": "code",
      "execution_count": null,
      "id": "24c74a85",
      "metadata": {
        "id": "24c74a85"
      },
      "outputs": [],
      "source": [
        "arr4 = np.arange(2000,dtype=np.int16)"
      ]
    },
    {
      "cell_type": "code",
      "execution_count": null,
      "id": "c480677a",
      "metadata": {
        "id": "c480677a",
        "outputId": "8cc1d83a-b78e-4b65-f3d2-9549ddf6e1e7"
      },
      "outputs": [
        {
          "name": "stdout",
          "output_type": "stream",
          "text": [
            "2\n"
          ]
        }
      ],
      "source": [
        "print(arr4.itemsize)"
      ]
    },
    {
      "cell_type": "code",
      "execution_count": null,
      "id": "d12c448c",
      "metadata": {
        "id": "d12c448c",
        "outputId": "2a20a188-e1a3-4ee5-833c-499ea0946628"
      },
      "outputs": [
        {
          "name": "stdout",
          "output_type": "stream",
          "text": [
            "1\n"
          ]
        }
      ],
      "source": [
        "arr4 = np.arange(2000,dtype=np.int8)\n",
        "print(arr4.itemsize)"
      ]
    },
    {
      "cell_type": "code",
      "execution_count": null,
      "id": "e6123070",
      "metadata": {
        "id": "e6123070",
        "outputId": "2760cd67-3d11-49e1-bca4-c210c171c209"
      },
      "outputs": [
        {
          "data": {
            "text/plain": [
              "array([  0,   1,   2, ..., -51, -50, -49], dtype=int8)"
            ]
          },
          "execution_count": 18,
          "metadata": {},
          "output_type": "execute_result"
        }
      ],
      "source": [
        "arr4"
      ]
    },
    {
      "cell_type": "code",
      "execution_count": null,
      "id": "3624dc96",
      "metadata": {
        "id": "3624dc96",
        "outputId": "b6670941-8de5-496a-962b-eae75d8fe1b2"
      },
      "outputs": [
        {
          "data": {
            "text/plain": [
              "127"
            ]
          },
          "execution_count": 19,
          "metadata": {},
          "output_type": "execute_result"
        }
      ],
      "source": [
        "max(arr4)"
      ]
    },
    {
      "cell_type": "code",
      "execution_count": null,
      "id": "1b789aa8",
      "metadata": {
        "id": "1b789aa8",
        "outputId": "e7e09e16-1770-4f61-c9ae-11c15284f4ec"
      },
      "outputs": [
        {
          "data": {
            "text/plain": [
              "-128"
            ]
          },
          "execution_count": 20,
          "metadata": {},
          "output_type": "execute_result"
        }
      ],
      "source": [
        "min(arr4)"
      ]
    },
    {
      "cell_type": "code",
      "execution_count": null,
      "id": "b577f71f",
      "metadata": {
        "id": "b577f71f"
      },
      "outputs": [],
      "source": [
        "arr5 = np.arange(2000,dtype=np.int32)"
      ]
    },
    {
      "cell_type": "code",
      "execution_count": null,
      "id": "f6d6ee8c",
      "metadata": {
        "id": "f6d6ee8c",
        "outputId": "283a9990-de72-4cf7-b6c0-699c62b9a760"
      },
      "outputs": [
        {
          "data": {
            "text/plain": [
              "array([   0,    1,    2, ..., 1997, 1998, 1999])"
            ]
          },
          "execution_count": 22,
          "metadata": {},
          "output_type": "execute_result"
        }
      ],
      "source": [
        "arr5"
      ]
    },
    {
      "cell_type": "code",
      "execution_count": null,
      "id": "dc1cde11",
      "metadata": {
        "id": "dc1cde11",
        "outputId": "dde14f69-d5f8-404c-8088-5be2b83b2571"
      },
      "outputs": [
        {
          "name": "stdout",
          "output_type": "stream",
          "text": [
            "1\n"
          ]
        }
      ],
      "source": [
        "arr4 = np.arange(2000,dtype=np.uint8)\n",
        "print(arr4.itemsize)"
      ]
    },
    {
      "cell_type": "code",
      "execution_count": null,
      "id": "2c464d37",
      "metadata": {
        "id": "2c464d37",
        "outputId": "94056da2-ee53-47a4-9a6a-0fb340616854"
      },
      "outputs": [
        {
          "data": {
            "text/plain": [
              "array([  0,   1,   2, ..., 205, 206, 207], dtype=uint8)"
            ]
          },
          "execution_count": 24,
          "metadata": {},
          "output_type": "execute_result"
        }
      ],
      "source": [
        "arr4"
      ]
    },
    {
      "cell_type": "code",
      "execution_count": null,
      "id": "59ae4a4e",
      "metadata": {
        "id": "59ae4a4e",
        "outputId": "87a08e7e-db8e-430f-eccc-6a55f231e5b6"
      },
      "outputs": [
        {
          "data": {
            "text/plain": [
              "0"
            ]
          },
          "execution_count": 25,
          "metadata": {},
          "output_type": "execute_result"
        }
      ],
      "source": [
        "min(arr4)"
      ]
    },
    {
      "cell_type": "code",
      "execution_count": null,
      "id": "78f79f91",
      "metadata": {
        "id": "78f79f91",
        "outputId": "8852df5f-1cf3-4418-eaa0-e230e31e6dc8"
      },
      "outputs": [
        {
          "data": {
            "text/plain": [
              "255"
            ]
          },
          "execution_count": 26,
          "metadata": {},
          "output_type": "execute_result"
        }
      ],
      "source": [
        "max(arr4)"
      ]
    },
    {
      "cell_type": "code",
      "execution_count": null,
      "id": "b9cb1600",
      "metadata": {
        "id": "b9cb1600",
        "outputId": "11140f1a-491b-4b48-8fff-ff8732afe83a"
      },
      "outputs": [
        {
          "name": "stdout",
          "output_type": "stream",
          "text": [
            "5.248102188110352\n"
          ]
        }
      ],
      "source": [
        "import time\n",
        "test = 10000000\n",
        "list1 = range(test)\n",
        "list2 = range(test)\n",
        "\n",
        "start = time.time()\n",
        "res = [x+y for x,y in zip(list1,list2)]\n",
        "end = time.time()\n",
        "print(end-start)"
      ]
    },
    {
      "cell_type": "code",
      "execution_count": null,
      "id": "99380f25",
      "metadata": {
        "id": "99380f25",
        "outputId": "80cb59ca-bd4d-49a8-8f8e-88037b0cb33d"
      },
      "outputs": [
        {
          "name": "stdout",
          "output_type": "stream",
          "text": [
            "0.8025374412536621\n"
          ]
        }
      ],
      "source": [
        "arr1 = np.arange(test)\n",
        "arr2 = np.arange(test)\n",
        "start = time.time()\n",
        "res = arr1+arr2\n",
        "end = time.time()\n",
        "print(end-start)"
      ]
    },
    {
      "cell_type": "code",
      "execution_count": null,
      "id": "b6aa86d0",
      "metadata": {
        "id": "b6aa86d0"
      },
      "outputs": [],
      "source": [
        "arr = np.random.rand(3,5)"
      ]
    },
    {
      "cell_type": "code",
      "execution_count": null,
      "id": "129c900a",
      "metadata": {
        "id": "129c900a",
        "outputId": "bea6e74f-97b9-45d8-f64e-feb6bb513913"
      },
      "outputs": [
        {
          "data": {
            "text/plain": [
              "array([[0.81932463, 0.33917774, 0.52896861, 0.20445616, 0.09535105],\n",
              "       [0.98460165, 0.15173085, 0.88224729, 0.15094215, 0.88063149],\n",
              "       [0.66440774, 0.54419054, 0.71876087, 0.73091894, 0.3693663 ]])"
            ]
          },
          "execution_count": 32,
          "metadata": {},
          "output_type": "execute_result"
        }
      ],
      "source": [
        "arr"
      ]
    },
    {
      "cell_type": "code",
      "execution_count": null,
      "id": "988c9f4d",
      "metadata": {
        "id": "988c9f4d",
        "outputId": "34dae3fa-c758-486d-89f8-eb94eecc7057"
      },
      "outputs": [
        {
          "data": {
            "text/plain": [
              "array([[0.10318501, 0.80178045, 0.34575678, 0.960609  , 0.51740181],\n",
              "       [0.85555771, 0.11143101, 0.62360319, 0.47840026, 0.08302689],\n",
              "       [0.47570977, 0.91378558, 0.01244877, 0.21777245, 0.69604318]])"
            ]
          },
          "execution_count": 33,
          "metadata": {},
          "output_type": "execute_result"
        }
      ],
      "source": [
        "arr = np.random.rand(3,5)\n",
        "arr"
      ]
    },
    {
      "cell_type": "code",
      "execution_count": null,
      "id": "a91c4ddc",
      "metadata": {
        "id": "a91c4ddc",
        "outputId": "6c78d6fe-d92f-4072-c091-d07e5b7870e4"
      },
      "outputs": [
        {
          "data": {
            "text/plain": [
              "array([6, 2, 5, 3, 7])"
            ]
          },
          "execution_count": 34,
          "metadata": {},
          "output_type": "execute_result"
        }
      ],
      "source": [
        "arr1 = np.random.randint(1,10,5)\n",
        "arr1"
      ]
    },
    {
      "cell_type": "code",
      "execution_count": null,
      "id": "0461523c",
      "metadata": {
        "id": "0461523c",
        "outputId": "56257d5a-8cf2-4588-c750-d01eb2200e41"
      },
      "outputs": [
        {
          "data": {
            "text/plain": [
              "array([8, 6, 8, 2, 3])"
            ]
          },
          "execution_count": 35,
          "metadata": {},
          "output_type": "execute_result"
        }
      ],
      "source": [
        "arr1 = np.random.randint(1,10,5)\n",
        "arr1"
      ]
    },
    {
      "cell_type": "code",
      "execution_count": null,
      "id": "f459f21b",
      "metadata": {
        "id": "f459f21b",
        "outputId": "56a59219-ce22-490c-d3c7-db3814055f92"
      },
      "outputs": [
        {
          "data": {
            "text/plain": [
              "array([9, 4, 3, 2, 7])"
            ]
          },
          "execution_count": 36,
          "metadata": {},
          "output_type": "execute_result"
        }
      ],
      "source": [
        "arr1 = np.random.randint(1,10,5)\n",
        "arr1"
      ]
    },
    {
      "cell_type": "code",
      "execution_count": null,
      "id": "c42eeb96",
      "metadata": {
        "id": "c42eeb96",
        "outputId": "1b70fafa-1704-4a7b-9a46-b637d5713895"
      },
      "outputs": [
        {
          "data": {
            "text/plain": [
              "array([[48, 18, 17, 68],\n",
              "       [77, 41, 59, 50],\n",
              "       [63, 75, 34, 37]])"
            ]
          },
          "execution_count": 37,
          "metadata": {},
          "output_type": "execute_result"
        }
      ],
      "source": [
        "arr1 = np.random.randint(15,85,(3,4))\n",
        "arr1"
      ]
    },
    {
      "cell_type": "code",
      "execution_count": null,
      "id": "00bfce7a",
      "metadata": {
        "id": "00bfce7a",
        "outputId": "f83e0063-ee42-4f6b-e91d-9bbfd48edbcf"
      },
      "outputs": [
        {
          "data": {
            "text/plain": [
              "array([ 0.22352903,  0.05490126, -0.83328529, -0.07207751, -0.96561803,\n",
              "        0.34648985,  0.71735437,  0.96088214, -0.39852729, -0.60191381])"
            ]
          },
          "execution_count": 38,
          "metadata": {},
          "output_type": "execute_result"
        }
      ],
      "source": [
        "arr1 = np.random.randn(10)\n",
        "arr1"
      ]
    },
    {
      "cell_type": "code",
      "execution_count": null,
      "id": "a375ac95",
      "metadata": {
        "id": "a375ac95",
        "outputId": "d95394d4-52b1-413d-c92a-32d57875994b"
      },
      "outputs": [
        {
          "data": {
            "text/plain": [
              "array([ 0.40109131,  1.43364514, -0.19369444,  0.13360217, -1.32827171,\n",
              "        0.38054478,  0.76013365,  1.02066093, -0.10875953,  0.00889476])"
            ]
          },
          "execution_count": 39,
          "metadata": {},
          "output_type": "execute_result"
        }
      ],
      "source": [
        "arr1 = np.random.randn(10)\n",
        "arr1"
      ]
    },
    {
      "cell_type": "code",
      "execution_count": null,
      "id": "cf0ab4ba",
      "metadata": {
        "id": "cf0ab4ba",
        "outputId": "ca494b52-bfb6-45d1-bc94-4dff6be93058"
      },
      "outputs": [
        {
          "data": {
            "text/plain": [
              "array([[1., 0., 0.],\n",
              "       [0., 1., 0.],\n",
              "       [0., 0., 1.]])"
            ]
          },
          "execution_count": 40,
          "metadata": {},
          "output_type": "execute_result"
        }
      ],
      "source": [
        "#### Identity Matrix\n",
        "np.eye(3)"
      ]
    },
    {
      "cell_type": "code",
      "execution_count": null,
      "id": "708b88b4",
      "metadata": {
        "id": "708b88b4",
        "outputId": "17412e79-47e4-4192-c80a-0ac073c96870"
      },
      "outputs": [
        {
          "data": {
            "text/plain": [
              "array([[1., 0., 0., 0., 0.],\n",
              "       [0., 1., 0., 0., 0.],\n",
              "       [0., 0., 1., 0., 0.],\n",
              "       [0., 0., 0., 1., 0.],\n",
              "       [0., 0., 0., 0., 1.]])"
            ]
          },
          "execution_count": 41,
          "metadata": {},
          "output_type": "execute_result"
        }
      ],
      "source": [
        "np.eye(5)"
      ]
    },
    {
      "cell_type": "code",
      "execution_count": null,
      "id": "0293d2bd",
      "metadata": {
        "id": "0293d2bd",
        "outputId": "d1a22c7b-0f38-46bc-8dd3-c87f82d4b23e"
      },
      "outputs": [
        {
          "data": {
            "text/plain": [
              "array([ 0.        ,  3.33333333,  6.66666667, 10.        , 13.33333333,\n",
              "       16.66666667, 20.        , 23.33333333, 26.66666667, 30.        ])"
            ]
          },
          "execution_count": 42,
          "metadata": {},
          "output_type": "execute_result"
        }
      ],
      "source": [
        "### linspace\n",
        "np.linspace(0,30,10)"
      ]
    },
    {
      "cell_type": "code",
      "execution_count": null,
      "id": "e193fa08",
      "metadata": {
        "id": "e193fa08",
        "outputId": "5a343ba4-a775-4f51-f2a4-a0e5e79b8d1e"
      },
      "outputs": [
        {
          "data": {
            "text/plain": [
              "array([ 0.        ,  0.6122449 ,  1.2244898 ,  1.83673469,  2.44897959,\n",
              "        3.06122449,  3.67346939,  4.28571429,  4.89795918,  5.51020408,\n",
              "        6.12244898,  6.73469388,  7.34693878,  7.95918367,  8.57142857,\n",
              "        9.18367347,  9.79591837, 10.40816327, 11.02040816, 11.63265306,\n",
              "       12.24489796, 12.85714286, 13.46938776, 14.08163265, 14.69387755,\n",
              "       15.30612245, 15.91836735, 16.53061224, 17.14285714, 17.75510204,\n",
              "       18.36734694, 18.97959184, 19.59183673, 20.20408163, 20.81632653,\n",
              "       21.42857143, 22.04081633, 22.65306122, 23.26530612, 23.87755102,\n",
              "       24.48979592, 25.10204082, 25.71428571, 26.32653061, 26.93877551,\n",
              "       27.55102041, 28.16326531, 28.7755102 , 29.3877551 , 30.        ])"
            ]
          },
          "execution_count": 43,
          "metadata": {},
          "output_type": "execute_result"
        }
      ],
      "source": [
        "np.linspace(0,30,50)"
      ]
    },
    {
      "cell_type": "code",
      "execution_count": null,
      "id": "b689dcd8",
      "metadata": {
        "id": "b689dcd8",
        "outputId": "03d12c35-fd17-4d25-b01b-93df1d4beb71"
      },
      "outputs": [
        {
          "data": {
            "text/plain": [
              "array([[1., 1., 1., 1.],\n",
              "       [1., 1., 1., 1.],\n",
              "       [1., 1., 1., 1.]])"
            ]
          },
          "execution_count": 45,
          "metadata": {},
          "output_type": "execute_result"
        }
      ],
      "source": [
        "np.ones((3,4))"
      ]
    },
    {
      "cell_type": "code",
      "execution_count": null,
      "id": "c1a5030f",
      "metadata": {
        "id": "c1a5030f",
        "outputId": "d41f692e-5f34-4db2-fc04-07f0f8b3dfea"
      },
      "outputs": [
        {
          "data": {
            "text/plain": [
              "array([[0., 0., 0., 0.],\n",
              "       [0., 0., 0., 0.],\n",
              "       [0., 0., 0., 0.]])"
            ]
          },
          "execution_count": 46,
          "metadata": {},
          "output_type": "execute_result"
        }
      ],
      "source": [
        "np.zeros((3,4))"
      ]
    },
    {
      "cell_type": "code",
      "execution_count": null,
      "id": "cfd108b3",
      "metadata": {
        "id": "cfd108b3",
        "outputId": "e1c75de8-96d5-407f-da5a-28e90b4e65d1"
      },
      "outputs": [
        {
          "name": "stdout",
          "output_type": "stream",
          "text": [
            "[[13 10 10]\n",
            " [10 12  9]]\n"
          ]
        }
      ],
      "source": [
        "arr1=np.array([[3,5,7],\n",
        "              [2,4,6]])\n",
        "arr2=np.array([[10,5,3],\n",
        "              [8,8,3]])\n",
        "arr3=arr1+arr2\n",
        "print(arr3)"
      ]
    },
    {
      "cell_type": "code",
      "execution_count": null,
      "id": "f5ac6647",
      "metadata": {
        "id": "f5ac6647",
        "outputId": "cb374c2e-3924-4b13-98fb-2d33e0b764c0"
      },
      "outputs": [
        {
          "name": "stdout",
          "output_type": "stream",
          "text": [
            "[[-7  0  4]\n",
            " [-6 -4  3]]\n"
          ]
        }
      ],
      "source": [
        "arr1=np.array([[3,5,7],\n",
        "              [2,4,6]])\n",
        "arr2=np.array([[10,5,3],\n",
        "              [8,8,3]])\n",
        "arr3=arr1-arr2\n",
        "print(arr3)"
      ]
    },
    {
      "cell_type": "code",
      "execution_count": null,
      "id": "996f9c99",
      "metadata": {
        "id": "996f9c99",
        "outputId": "3c582c11-2861-4528-ce40-1b3b17830806"
      },
      "outputs": [
        {
          "name": "stdout",
          "output_type": "stream",
          "text": [
            "[[30 25 21]\n",
            " [16 32 18]]\n"
          ]
        }
      ],
      "source": [
        "arr1=np.array([[3,5,7],\n",
        "              [2,4,6]])\n",
        "arr2=np.array([[10,5,3],\n",
        "              [8,8,3]])\n",
        "arr3=arr1*arr2\n",
        "print(arr3)"
      ]
    },
    {
      "cell_type": "code",
      "execution_count": null,
      "id": "6f0c383e",
      "metadata": {
        "id": "6f0c383e"
      },
      "outputs": [],
      "source": [
        "arr1 = np.array([[3,5,7],[2,4,6]])\n",
        "arr2 = np.array([[10,5,3],[8,8,3],[1,2,3]])"
      ]
    },
    {
      "cell_type": "code",
      "execution_count": null,
      "id": "3841fe88",
      "metadata": {
        "id": "3841fe88"
      },
      "outputs": [],
      "source": [
        "arr3 = arr1@arr2"
      ]
    },
    {
      "cell_type": "code",
      "execution_count": null,
      "id": "3a21abd1",
      "metadata": {
        "id": "3a21abd1",
        "outputId": "3a30faa7-c918-4871-edbc-fb986aa2fce2"
      },
      "outputs": [
        {
          "data": {
            "text/plain": [
              "array([[77, 69, 45],\n",
              "       [58, 54, 36]])"
            ]
          },
          "execution_count": 52,
          "metadata": {},
          "output_type": "execute_result"
        }
      ],
      "source": [
        "arr3"
      ]
    },
    {
      "cell_type": "code",
      "execution_count": null,
      "id": "742e3cf3",
      "metadata": {
        "id": "742e3cf3"
      },
      "outputs": [],
      "source": [
        "arr1 = np.array([[3,5,7],[2,4,6]])"
      ]
    },
    {
      "cell_type": "code",
      "execution_count": null,
      "id": "9b3a705c",
      "metadata": {
        "id": "9b3a705c"
      },
      "outputs": [],
      "source": [
        "#### constant multiplication\n",
        "arr = arr1*2"
      ]
    },
    {
      "cell_type": "code",
      "execution_count": null,
      "id": "730c9ac1",
      "metadata": {
        "id": "730c9ac1",
        "outputId": "bca34b98-40ce-4faf-b9ae-bfb32b0c7c37"
      },
      "outputs": [
        {
          "data": {
            "text/plain": [
              "array([[ 6, 10, 14],\n",
              "       [ 4,  8, 12]])"
            ]
          },
          "execution_count": 63,
          "metadata": {},
          "output_type": "execute_result"
        }
      ],
      "source": [
        "arr"
      ]
    },
    {
      "cell_type": "code",
      "execution_count": null,
      "id": "4b17915b",
      "metadata": {
        "id": "4b17915b"
      },
      "outputs": [],
      "source": [
        "### constant division\n",
        "arr2=arr/3"
      ]
    },
    {
      "cell_type": "code",
      "execution_count": null,
      "id": "c6d61b27",
      "metadata": {
        "id": "c6d61b27",
        "outputId": "4d7d4059-6115-449b-cbdf-47b8bc9774d8"
      },
      "outputs": [
        {
          "data": {
            "text/plain": [
              "array([[2.        , 3.33333333, 4.66666667],\n",
              "       [1.33333333, 2.66666667, 4.        ]])"
            ]
          },
          "execution_count": 65,
          "metadata": {},
          "output_type": "execute_result"
        }
      ],
      "source": [
        "arr2"
      ]
    },
    {
      "cell_type": "code",
      "execution_count": null,
      "id": "c4069ac5",
      "metadata": {
        "id": "c4069ac5"
      },
      "outputs": [],
      "source": [
        "#### constant Floor division\n",
        "arr3 = arr2//2"
      ]
    },
    {
      "cell_type": "code",
      "execution_count": null,
      "id": "7f3b8506",
      "metadata": {
        "id": "7f3b8506",
        "outputId": "353306ac-8a3c-4398-854d-7312b587dde7"
      },
      "outputs": [
        {
          "data": {
            "text/plain": [
              "array([[1., 2., 3.],\n",
              "       [1., 2., 3.]])"
            ]
          },
          "execution_count": 59,
          "metadata": {},
          "output_type": "execute_result"
        }
      ],
      "source": [
        "arr3"
      ]
    },
    {
      "cell_type": "code",
      "execution_count": null,
      "id": "740dd4ec",
      "metadata": {
        "id": "740dd4ec",
        "outputId": "bb5077f3-b5ae-48f9-c436-3835f1b65624"
      },
      "outputs": [
        {
          "data": {
            "text/plain": [
              "array([[ 6, 10, 14],\n",
              "       [ 4,  8, 12]])"
            ]
          },
          "execution_count": 60,
          "metadata": {},
          "output_type": "execute_result"
        }
      ],
      "source": [
        "arr"
      ]
    },
    {
      "cell_type": "code",
      "execution_count": null,
      "id": "2e1c2314",
      "metadata": {
        "id": "2e1c2314",
        "outputId": "b35d3f7e-6e11-4d3d-bbbe-623e03297041"
      },
      "outputs": [
        {
          "data": {
            "text/plain": [
              "array([[0, 0, 0],\n",
              "       [0, 0, 0]], dtype=int32)"
            ]
          },
          "execution_count": 61,
          "metadata": {},
          "output_type": "execute_result"
        }
      ],
      "source": [
        "arr%2"
      ]
    },
    {
      "cell_type": "code",
      "execution_count": null,
      "id": "14762956",
      "metadata": {
        "id": "14762956",
        "outputId": "216341e9-39f8-407d-f973-800075195a37"
      },
      "outputs": [
        {
          "data": {
            "text/plain": [
              "array([[ 36, 100, 196],\n",
              "       [ 16,  64, 144]])"
            ]
          },
          "execution_count": 62,
          "metadata": {},
          "output_type": "execute_result"
        }
      ],
      "source": [
        "arr**2"
      ]
    },
    {
      "cell_type": "code",
      "execution_count": null,
      "id": "a2e2b0fd",
      "metadata": {
        "id": "a2e2b0fd"
      },
      "outputs": [],
      "source": [
        "lis1 = [5,8,1,3,7,15,20]"
      ]
    },
    {
      "cell_type": "code",
      "execution_count": null,
      "id": "b36a9adf",
      "metadata": {
        "id": "b36a9adf",
        "outputId": "98a317fe-0b48-42ce-b849-cbf6bdd5abd1"
      },
      "outputs": [
        {
          "data": {
            "text/plain": [
              "2"
            ]
          },
          "execution_count": 70,
          "metadata": {},
          "output_type": "execute_result"
        }
      ],
      "source": [
        "lis1.index(1)"
      ]
    },
    {
      "cell_type": "code",
      "execution_count": null,
      "id": "51ad0fd9",
      "metadata": {
        "id": "51ad0fd9"
      },
      "outputs": [],
      "source": [
        "lis1.sort()"
      ]
    },
    {
      "cell_type": "code",
      "execution_count": null,
      "id": "caadd266",
      "metadata": {
        "id": "caadd266",
        "outputId": "5311cd02-263e-4788-f6b0-875f915968e6"
      },
      "outputs": [
        {
          "data": {
            "text/plain": [
              "1"
            ]
          },
          "execution_count": 72,
          "metadata": {},
          "output_type": "execute_result"
        }
      ],
      "source": [
        "min(lis1)"
      ]
    },
    {
      "cell_type": "code",
      "execution_count": null,
      "id": "4bf59768",
      "metadata": {
        "id": "4bf59768",
        "outputId": "91c3488e-4fff-4114-b8da-2d8f16b93bf1"
      },
      "outputs": [
        {
          "data": {
            "text/plain": [
              "20"
            ]
          },
          "execution_count": 73,
          "metadata": {},
          "output_type": "execute_result"
        }
      ],
      "source": [
        "max(lis1)"
      ]
    },
    {
      "cell_type": "code",
      "execution_count": null,
      "id": "b809f017",
      "metadata": {
        "id": "b809f017",
        "outputId": "e82b0d64-d911-4610-ed09-6a5362013851"
      },
      "outputs": [
        {
          "name": "stdout",
          "output_type": "stream",
          "text": [
            "[[ 1  3  5  7  8 15 20]]\n",
            "20\n",
            "1\n"
          ]
        }
      ],
      "source": [
        "import numpy as np\n",
        "arr = np.array([[5,8,1,3,7,15,20]])\n",
        "print(np.sort(arr))\n",
        "print(np.max(arr))\n",
        "print(np.min(arr))\n"
      ]
    },
    {
      "cell_type": "code",
      "execution_count": null,
      "id": "fb631309",
      "metadata": {
        "id": "fb631309",
        "outputId": "09393a54-9575-497f-c804-a05dfa39424e"
      },
      "outputs": [
        {
          "data": {
            "text/plain": [
              "59"
            ]
          },
          "execution_count": 76,
          "metadata": {},
          "output_type": "execute_result"
        }
      ],
      "source": [
        "np.sum(arr)"
      ]
    },
    {
      "cell_type": "code",
      "execution_count": null,
      "id": "282e12ff",
      "metadata": {
        "id": "282e12ff",
        "outputId": "d1269de4-b716-4f4b-e481-8b092768bc86"
      },
      "outputs": [
        {
          "data": {
            "text/plain": [
              "1"
            ]
          },
          "execution_count": 77,
          "metadata": {},
          "output_type": "execute_result"
        }
      ],
      "source": [
        "arr.min()"
      ]
    },
    {
      "cell_type": "code",
      "execution_count": null,
      "id": "706fee5a",
      "metadata": {
        "id": "706fee5a",
        "outputId": "25746754-e555-4ba1-b2fa-85e181d61654"
      },
      "outputs": [
        {
          "data": {
            "text/plain": [
              "20"
            ]
          },
          "execution_count": 78,
          "metadata": {},
          "output_type": "execute_result"
        }
      ],
      "source": [
        "arr.max()"
      ]
    },
    {
      "cell_type": "code",
      "execution_count": null,
      "id": "66012e53",
      "metadata": {
        "id": "66012e53",
        "outputId": "31cc5db0-084b-4c8c-8d5c-e087e0047b7d"
      },
      "outputs": [
        {
          "data": {
            "text/plain": [
              "59"
            ]
          },
          "execution_count": 79,
          "metadata": {},
          "output_type": "execute_result"
        }
      ],
      "source": [
        "arr.sum()"
      ]
    },
    {
      "cell_type": "code",
      "execution_count": null,
      "id": "db2fe2f5",
      "metadata": {
        "id": "db2fe2f5",
        "outputId": "392070ba-bf74-48e3-deb3-cf01da61f393"
      },
      "outputs": [
        {
          "data": {
            "text/plain": [
              "6.275966467568228"
            ]
          },
          "execution_count": 80,
          "metadata": {},
          "output_type": "execute_result"
        }
      ],
      "source": [
        "arr.std()"
      ]
    },
    {
      "cell_type": "code",
      "execution_count": null,
      "id": "ae4446ee",
      "metadata": {
        "id": "ae4446ee",
        "outputId": "140dd7fa-a4b2-4292-9c94-3f521bd75475"
      },
      "outputs": [
        {
          "data": {
            "text/plain": [
              "8.428571428571429"
            ]
          },
          "execution_count": 81,
          "metadata": {},
          "output_type": "execute_result"
        }
      ],
      "source": [
        "arr.mean()"
      ]
    },
    {
      "cell_type": "code",
      "execution_count": null,
      "id": "f36383c4",
      "metadata": {
        "id": "f36383c4",
        "outputId": "f6f4eefe-56e6-4d29-ca3c-3ba5a99caa2c"
      },
      "outputs": [
        {
          "data": {
            "text/plain": [
              "39.38775510204082"
            ]
          },
          "execution_count": 82,
          "metadata": {},
          "output_type": "execute_result"
        }
      ],
      "source": [
        "arr.var()"
      ]
    },
    {
      "cell_type": "code",
      "execution_count": null,
      "id": "be08888b",
      "metadata": {
        "id": "be08888b",
        "outputId": "309599fd-5eca-4e74-9165-6d5a8a6c85b6"
      },
      "outputs": [
        {
          "ename": "AttributeError",
          "evalue": "'numpy.ndarray' object has no attribute 'median'",
          "output_type": "error",
          "traceback": [
            "\u001b[1;31m---------------------------------------------------------------------------\u001b[0m",
            "\u001b[1;31mAttributeError\u001b[0m                            Traceback (most recent call last)",
            "Input \u001b[1;32mIn [83]\u001b[0m, in \u001b[0;36m<cell line: 1>\u001b[1;34m()\u001b[0m\n\u001b[1;32m----> 1\u001b[0m \u001b[43marr\u001b[49m\u001b[38;5;241;43m.\u001b[39;49m\u001b[43mmedian\u001b[49m()\n",
            "\u001b[1;31mAttributeError\u001b[0m: 'numpy.ndarray' object has no attribute 'median'"
          ]
        }
      ],
      "source": [
        "arr.median()"
      ]
    },
    {
      "cell_type": "code",
      "execution_count": null,
      "id": "d07a0b47",
      "metadata": {
        "id": "d07a0b47",
        "outputId": "e7b0c4ac-6a2e-47c9-857a-9125694c8931"
      },
      "outputs": [
        {
          "ename": "AttributeError",
          "evalue": "'numpy.ndarray' object has no attribute 'mode'",
          "output_type": "error",
          "traceback": [
            "\u001b[1;31m---------------------------------------------------------------------------\u001b[0m",
            "\u001b[1;31mAttributeError\u001b[0m                            Traceback (most recent call last)",
            "Input \u001b[1;32mIn [84]\u001b[0m, in \u001b[0;36m<cell line: 1>\u001b[1;34m()\u001b[0m\n\u001b[1;32m----> 1\u001b[0m \u001b[43marr\u001b[49m\u001b[38;5;241;43m.\u001b[39;49m\u001b[43mmode\u001b[49m()\n",
            "\u001b[1;31mAttributeError\u001b[0m: 'numpy.ndarray' object has no attribute 'mode'"
          ]
        }
      ],
      "source": [
        "arr.mode()"
      ]
    },
    {
      "cell_type": "code",
      "execution_count": null,
      "id": "b6bf461e",
      "metadata": {
        "id": "b6bf461e"
      },
      "outputs": [],
      "source": []
    }
  ],
  "metadata": {
    "kernelspec": {
      "display_name": "Python 3 (ipykernel)",
      "language": "python",
      "name": "python3"
    },
    "language_info": {
      "codemirror_mode": {
        "name": "ipython",
        "version": 3
      },
      "file_extension": ".py",
      "mimetype": "text/x-python",
      "name": "python",
      "nbconvert_exporter": "python",
      "pygments_lexer": "ipython3",
      "version": "3.9.12"
    },
    "colab": {
      "provenance": []
    }
  },
  "nbformat": 4,
  "nbformat_minor": 5
}