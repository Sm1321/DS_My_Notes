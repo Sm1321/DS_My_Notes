{
  "cells": [
    {
      "cell_type": "code",
      "execution_count": null,
      "id": "0ea93d1c",
      "metadata": {
        "id": "0ea93d1c",
        "outputId": "9f60108e-6761-41c2-e785-719085991994"
      },
      "outputs": [
        {
          "name": "stdout",
          "output_type": "stream",
          "text": [
            "[10 11 12 13 14 15 16 17 18 19 20 21]\n",
            "(12,)\n"
          ]
        }
      ],
      "source": [
        "import numpy as np\n",
        "a = np.array(range(10,22))\n",
        "print(a)\n",
        "print(a.shape)"
      ]
    },
    {
      "cell_type": "code",
      "execution_count": null,
      "id": "66acce64",
      "metadata": {
        "id": "66acce64",
        "outputId": "d448bc25-f5f9-4c34-f916-1f6551dd75ab"
      },
      "outputs": [
        {
          "name": "stdout",
          "output_type": "stream",
          "text": [
            "(1, 12)\n",
            "2\n"
          ]
        }
      ],
      "source": [
        "b = a.reshape(1,12)\n",
        "print(b.shape)\n",
        "print(b.ndim)"
      ]
    },
    {
      "cell_type": "code",
      "execution_count": null,
      "id": "19a5f28c",
      "metadata": {
        "id": "19a5f28c",
        "outputId": "e2442e2a-8f5e-4555-fd8b-a8f2217e6cc4"
      },
      "outputs": [
        {
          "name": "stdout",
          "output_type": "stream",
          "text": [
            "(12, 1)\n",
            "2\n"
          ]
        }
      ],
      "source": [
        "b = a.reshape(12,1)\n",
        "print(b.shape)\n",
        "print(b.ndim)"
      ]
    },
    {
      "cell_type": "code",
      "execution_count": null,
      "id": "1148a131",
      "metadata": {
        "id": "1148a131",
        "outputId": "ecf2f612-b39f-4e71-c8bc-dce8a96c0f5b"
      },
      "outputs": [
        {
          "name": "stdout",
          "output_type": "stream",
          "text": [
            "(2, 6)\n",
            "2\n",
            "[[10 11 12 13 14 15]\n",
            " [16 17 18 19 20 21]]\n"
          ]
        }
      ],
      "source": [
        "b = a.reshape(2,6)\n",
        "print(b.shape)\n",
        "print(b.ndim)\n",
        "print(b)"
      ]
    },
    {
      "cell_type": "code",
      "execution_count": null,
      "id": "54edb71a",
      "metadata": {
        "id": "54edb71a",
        "outputId": "57f68edf-b4e0-4aa1-a611-8abefcea1e6f"
      },
      "outputs": [
        {
          "name": "stdout",
          "output_type": "stream",
          "text": [
            "(6, 2)\n",
            "2\n",
            "[[10 11]\n",
            " [12 13]\n",
            " [14 15]\n",
            " [16 17]\n",
            " [18 19]\n",
            " [20 21]]\n"
          ]
        }
      ],
      "source": [
        "b = a.reshape(6,2)\n",
        "print(b.shape)\n",
        "print(b.ndim)\n",
        "print(b)"
      ]
    },
    {
      "cell_type": "code",
      "execution_count": null,
      "id": "6caa26f1",
      "metadata": {
        "id": "6caa26f1",
        "outputId": "d04b89c2-d75e-4167-bc15-6cab8f400ff5"
      },
      "outputs": [
        {
          "name": "stdout",
          "output_type": "stream",
          "text": [
            "(3, 4)\n",
            "2\n",
            "[[10 11 12 13]\n",
            " [14 15 16 17]\n",
            " [18 19 20 21]]\n"
          ]
        }
      ],
      "source": [
        "b = a.reshape(3,4)\n",
        "print(b.shape)\n",
        "print(b.ndim)\n",
        "print(b)"
      ]
    },
    {
      "cell_type": "code",
      "execution_count": null,
      "id": "9e6437c9",
      "metadata": {
        "id": "9e6437c9",
        "outputId": "078bc8e6-f4a6-4987-d0d5-69c62dedb39b"
      },
      "outputs": [
        {
          "name": "stdout",
          "output_type": "stream",
          "text": [
            "(4, 3)\n",
            "2\n",
            "[[10 11 12]\n",
            " [13 14 15]\n",
            " [16 17 18]\n",
            " [19 20 21]]\n"
          ]
        }
      ],
      "source": [
        "b = a.reshape(4,3)\n",
        "print(b.shape)\n",
        "print(b.ndim)\n",
        "print(b)"
      ]
    },
    {
      "cell_type": "code",
      "execution_count": null,
      "id": "df4cb00f",
      "metadata": {
        "id": "df4cb00f",
        "outputId": "e248488c-0cb0-4483-be24-e08adbf957ec"
      },
      "outputs": [
        {
          "data": {
            "text/plain": [
              "array([[10, -7,  0, 20],\n",
              "       [-5, 20,  0, 40],\n",
              "       [30,  1, -1,  4],\n",
              "       [ 1,  2,  0,  4],\n",
              "       [ 0,  1,  0,  2]])"
            ]
          },
          "execution_count": 8,
          "metadata": {},
          "output_type": "execute_result"
        }
      ],
      "source": [
        "c=np.array([[10,-7,0,20],[-5,20,0,40],[30,1,-1,4],[1,2,0,4],[0,1,0,2]])\n",
        "c"
      ]
    },
    {
      "cell_type": "code",
      "execution_count": null,
      "id": "141b1110",
      "metadata": {
        "id": "141b1110",
        "outputId": "31dc5625-4bbb-4fa2-ae87-d2a9dde61d2c"
      },
      "outputs": [
        {
          "data": {
            "text/plain": [
              "array([20, 40, 30,  4,  2])"
            ]
          },
          "execution_count": 9,
          "metadata": {},
          "output_type": "execute_result"
        }
      ],
      "source": [
        "arr1 = np.max(c,axis = 1)\n",
        "arr1"
      ]
    },
    {
      "cell_type": "code",
      "execution_count": null,
      "id": "cad91354",
      "metadata": {
        "id": "cad91354"
      },
      "outputs": [],
      "source": [
        "d = c.reshape(20)"
      ]
    },
    {
      "cell_type": "code",
      "execution_count": null,
      "id": "3e58ba40",
      "metadata": {
        "id": "3e58ba40",
        "outputId": "1f28943e-d0a2-4935-8b83-31a4c8eb0775"
      },
      "outputs": [
        {
          "data": {
            "text/plain": [
              "array([10, -7,  0, 20, -5, 20,  0, 40, 30,  1, -1,  4,  1,  2,  0,  4,  0,\n",
              "        1,  0,  2])"
            ]
          },
          "execution_count": 11,
          "metadata": {},
          "output_type": "execute_result"
        }
      ],
      "source": [
        "d"
      ]
    },
    {
      "cell_type": "code",
      "execution_count": null,
      "id": "fef5cb97",
      "metadata": {
        "id": "fef5cb97",
        "outputId": "5943f8cf-4c4f-4ad3-a164-da13c307ca80"
      },
      "outputs": [
        {
          "data": {
            "text/plain": [
              "array([10, -7,  0, 20, -5, 20,  0, 40, 30,  1, -1,  4,  1,  2,  0,  4,  0,\n",
              "        1,  0,  2])"
            ]
          },
          "execution_count": 12,
          "metadata": {},
          "output_type": "execute_result"
        }
      ],
      "source": [
        "c.reshape(-1)"
      ]
    },
    {
      "cell_type": "code",
      "execution_count": null,
      "id": "5d48fe93",
      "metadata": {
        "id": "5d48fe93",
        "outputId": "a59cebee-a432-4a76-bff2-0f16ccbad25e"
      },
      "outputs": [
        {
          "data": {
            "text/plain": [
              "array([[10, -7,  0, 20],\n",
              "       [-5, 20,  0, 40],\n",
              "       [30,  1, -1,  4],\n",
              "       [ 1,  2,  0,  4],\n",
              "       [ 0,  1,  0,  2]])"
            ]
          },
          "execution_count": 13,
          "metadata": {},
          "output_type": "execute_result"
        }
      ],
      "source": [
        "#### Print the values which are greater than 0 from array c\n",
        "c"
      ]
    },
    {
      "cell_type": "code",
      "execution_count": null,
      "id": "bf9e585c",
      "metadata": {
        "id": "bf9e585c",
        "outputId": "bdb47d09-447d-42c5-e82b-538156ccebf0"
      },
      "outputs": [
        {
          "data": {
            "text/plain": [
              "array([10, -7,  0, 20, -5, 20,  0, 40, 30,  1, -1,  4,  1,  2,  0,  4,  0,\n",
              "        1,  0,  2])"
            ]
          },
          "execution_count": 14,
          "metadata": {},
          "output_type": "execute_result"
        }
      ],
      "source": [
        "arr1 = c.reshape(-1)\n",
        "arr1"
      ]
    },
    {
      "cell_type": "code",
      "execution_count": null,
      "id": "4902cdc5",
      "metadata": {
        "id": "4902cdc5",
        "outputId": "5f7249b7-fa5d-43c6-da91-554c7d0b18d4"
      },
      "outputs": [
        {
          "data": {
            "text/plain": [
              "array([10, 20, 20, 40, 30,  1,  4,  1,  2,  4,  1,  2])"
            ]
          },
          "execution_count": 15,
          "metadata": {},
          "output_type": "execute_result"
        }
      ],
      "source": [
        "#### Print the values which are greater than 0 from array arr1\n",
        "arr1[arr1>0]\n"
      ]
    },
    {
      "cell_type": "code",
      "execution_count": null,
      "id": "650d9a9d",
      "metadata": {
        "id": "650d9a9d",
        "outputId": "5c9a4e79-d42c-48f0-f87e-53dae3b511ab"
      },
      "outputs": [
        {
          "data": {
            "text/plain": [
              "array([10, -7,  0, 20, -5, 20,  0, 40, 30,  1, -1,  4,  1,  2,  0,  4,  0,\n",
              "        1,  0,  2])"
            ]
          },
          "execution_count": 16,
          "metadata": {},
          "output_type": "execute_result"
        }
      ],
      "source": [
        "arr1"
      ]
    },
    {
      "cell_type": "code",
      "execution_count": null,
      "id": "8755cab1",
      "metadata": {
        "id": "8755cab1",
        "outputId": "d8933016-cdb5-409c-f15e-a04112074375"
      },
      "outputs": [
        {
          "data": {
            "text/plain": [
              "array([ True, False, False,  True, False,  True, False,  True,  True,\n",
              "        True, False,  True,  True,  True, False,  True, False,  True,\n",
              "       False,  True])"
            ]
          },
          "execution_count": 17,
          "metadata": {},
          "output_type": "execute_result"
        }
      ],
      "source": [
        "arr1>0"
      ]
    },
    {
      "cell_type": "code",
      "execution_count": null,
      "id": "2c9c0456",
      "metadata": {
        "id": "2c9c0456"
      },
      "outputs": [],
      "source": [
        "#### print the values 4 & 20"
      ]
    },
    {
      "cell_type": "code",
      "execution_count": null,
      "id": "39634e28",
      "metadata": {
        "id": "39634e28",
        "outputId": "e61a179f-2643-4268-e596-b6bf22668979"
      },
      "outputs": [
        {
          "data": {
            "text/plain": [
              "array([10, 20, 20])"
            ]
          },
          "execution_count": 19,
          "metadata": {},
          "output_type": "execute_result"
        }
      ],
      "source": [
        "arr1[(arr1>4) & (arr1<=20)]"
      ]
    },
    {
      "cell_type": "code",
      "execution_count": null,
      "id": "3277c13d",
      "metadata": {
        "id": "3277c13d",
        "outputId": "ca0020fd-2450-4068-fd94-5f8064e5fa37"
      },
      "outputs": [
        {
          "data": {
            "text/plain": [
              "array([10, 20, 20])"
            ]
          },
          "execution_count": 20,
          "metadata": {},
          "output_type": "execute_result"
        }
      ],
      "source": [
        "temp=arr1[(arr1>4) & (arr1<=20)]\n",
        "temp"
      ]
    },
    {
      "cell_type": "code",
      "execution_count": null,
      "id": "f97483df",
      "metadata": {
        "id": "f97483df"
      },
      "outputs": [],
      "source": [
        "arr2 = np.array([1,2,3,4,5,4,4,5,4,56,56,67,4])"
      ]
    },
    {
      "cell_type": "code",
      "execution_count": null,
      "id": "bcce41a3",
      "metadata": {
        "id": "bcce41a3",
        "outputId": "6e5bae87-8578-47d4-904f-eb86014226d4"
      },
      "outputs": [
        {
          "name": "stdout",
          "output_type": "stream",
          "text": [
            "3\n",
            "5\n",
            "6\n",
            "8\n",
            "12\n"
          ]
        }
      ],
      "source": [
        "for i in range(len(arr2)):\n",
        "    if arr2[i]==4:\n",
        "        print(i)"
      ]
    },
    {
      "cell_type": "code",
      "execution_count": null,
      "id": "05d51df1",
      "metadata": {
        "id": "05d51df1"
      },
      "outputs": [],
      "source": [
        "x = np.where(arr2==4)"
      ]
    },
    {
      "cell_type": "code",
      "execution_count": null,
      "id": "dac18422",
      "metadata": {
        "id": "dac18422",
        "outputId": "d01a66f1-6744-446d-b609-bf668cd1b107"
      },
      "outputs": [
        {
          "data": {
            "text/plain": [
              "(array([ 3,  5,  6,  8, 12], dtype=int64),)"
            ]
          },
          "execution_count": 24,
          "metadata": {},
          "output_type": "execute_result"
        }
      ],
      "source": [
        "x"
      ]
    },
    {
      "cell_type": "code",
      "execution_count": null,
      "id": "3d337193",
      "metadata": {
        "id": "3d337193",
        "outputId": "d070d60d-9301-4893-a3fb-24d10937cf5e"
      },
      "outputs": [
        {
          "data": {
            "text/plain": [
              "array([False, False, False,  True, False,  True,  True, False,  True,\n",
              "       False, False, False,  True])"
            ]
          },
          "execution_count": 25,
          "metadata": {},
          "output_type": "execute_result"
        }
      ],
      "source": [
        "arr2==4"
      ]
    },
    {
      "cell_type": "code",
      "execution_count": null,
      "id": "257d2db5",
      "metadata": {
        "id": "257d2db5",
        "outputId": "1b924b52-d02a-41d1-98fd-fd78870d974d"
      },
      "outputs": [
        {
          "data": {
            "text/plain": [
              "array([4, 4, 4, 4, 4])"
            ]
          },
          "execution_count": 26,
          "metadata": {},
          "output_type": "execute_result"
        }
      ],
      "source": [
        "arr2[x]"
      ]
    },
    {
      "cell_type": "code",
      "execution_count": null,
      "id": "8bcc8ddf",
      "metadata": {
        "id": "8bcc8ddf",
        "outputId": "a679ad81-650f-4c8d-ee70-04ebf52cd49b"
      },
      "outputs": [
        {
          "data": {
            "text/plain": [
              "array([ 1,  2,  3,  4,  5,  4,  4,  5,  4, 56, 56, 67,  4])"
            ]
          },
          "execution_count": 27,
          "metadata": {},
          "output_type": "execute_result"
        }
      ],
      "source": [
        "arr2"
      ]
    },
    {
      "cell_type": "code",
      "execution_count": null,
      "id": "2e2f5a90",
      "metadata": {
        "id": "2e2f5a90"
      },
      "outputs": [],
      "source": [
        "#### print the indices which are divisible by 4\n",
        "x = np.where(arr2%4==0)"
      ]
    },
    {
      "cell_type": "code",
      "execution_count": null,
      "id": "29384fd3",
      "metadata": {
        "id": "29384fd3",
        "outputId": "f6295372-7479-4cac-dbd3-f9dd050426d5"
      },
      "outputs": [
        {
          "data": {
            "text/plain": [
              "(array([ 3,  5,  6,  8,  9, 10, 12], dtype=int64),)"
            ]
          },
          "execution_count": 29,
          "metadata": {},
          "output_type": "execute_result"
        }
      ],
      "source": [
        "x"
      ]
    },
    {
      "cell_type": "code",
      "execution_count": null,
      "id": "90816233",
      "metadata": {
        "id": "90816233",
        "outputId": "b6eda78c-a1c8-4884-b0c0-b0ddba5c6520"
      },
      "outputs": [
        {
          "data": {
            "text/plain": [
              "array([ 4,  4,  4,  4, 56, 56,  4])"
            ]
          },
          "execution_count": 30,
          "metadata": {},
          "output_type": "execute_result"
        }
      ],
      "source": [
        "arr2[x]"
      ]
    },
    {
      "cell_type": "code",
      "execution_count": null,
      "id": "7f76ccdf",
      "metadata": {
        "id": "7f76ccdf"
      },
      "outputs": [],
      "source": [
        "temp= np.where(arr2>50)"
      ]
    },
    {
      "cell_type": "code",
      "execution_count": null,
      "id": "f7b40b73",
      "metadata": {
        "id": "f7b40b73",
        "outputId": "7995e40f-59d6-491d-d2e4-08209431d24b"
      },
      "outputs": [
        {
          "data": {
            "text/plain": [
              "array([56, 56, 67])"
            ]
          },
          "execution_count": 32,
          "metadata": {},
          "output_type": "execute_result"
        }
      ],
      "source": [
        "arr2[temp]"
      ]
    },
    {
      "cell_type": "code",
      "execution_count": null,
      "id": "1256389d",
      "metadata": {
        "id": "1256389d",
        "outputId": "56308117-ef73-41a1-a880-3230daec5a1f"
      },
      "outputs": [
        {
          "data": {
            "text/plain": [
              "array([[10, -7,  0, 20],\n",
              "       [-5, 20,  0, 40],\n",
              "       [30,  1, -1,  4],\n",
              "       [ 1,  2,  0,  4],\n",
              "       [ 0,  1,  0,  2]])"
            ]
          },
          "execution_count": 33,
          "metadata": {},
          "output_type": "execute_result"
        }
      ],
      "source": [
        "arr=np.array([[10,-7,0,20],[-5,20,0,40],[30,1,-1,4],[1,2,0,4],[0,1,0,2]])\n",
        "arr"
      ]
    },
    {
      "cell_type": "code",
      "execution_count": null,
      "id": "0c00529b",
      "metadata": {
        "id": "0c00529b"
      },
      "outputs": [],
      "source": [
        "arr_t=np.transpose(arr)"
      ]
    },
    {
      "cell_type": "code",
      "execution_count": null,
      "id": "aaf47129",
      "metadata": {
        "id": "aaf47129",
        "outputId": "8bb747c8-0c34-4052-bbbe-21e71492dca7"
      },
      "outputs": [
        {
          "name": "stdout",
          "output_type": "stream",
          "text": [
            "[[10 -7  0 20]\n",
            " [-5 20  0 40]\n",
            " [30  1 -1  4]\n",
            " [ 1  2  0  4]\n",
            " [ 0  1  0  2]]\n",
            "[[10 -5 30  1  0]\n",
            " [-7 20  1  2  1]\n",
            " [ 0  0 -1  0  0]\n",
            " [20 40  4  4  2]]\n"
          ]
        }
      ],
      "source": [
        "print(arr)\n",
        "print(arr_t)"
      ]
    },
    {
      "cell_type": "code",
      "execution_count": null,
      "id": "7234c077",
      "metadata": {
        "id": "7234c077",
        "outputId": "867f1511-51f9-4803-d189-32aefdf992f2"
      },
      "outputs": [
        {
          "name": "stdout",
          "output_type": "stream",
          "text": [
            "(5, 4)\n",
            "(4, 5)\n"
          ]
        }
      ],
      "source": [
        "print(arr.shape)\n",
        "print(arr_t.shape)"
      ]
    },
    {
      "cell_type": "code",
      "execution_count": null,
      "id": "de8b20dc",
      "metadata": {
        "id": "de8b20dc",
        "outputId": "2ffaef73-ca8b-4519-d49c-604ec9b9155c"
      },
      "outputs": [
        {
          "name": "stdout",
          "output_type": "stream",
          "text": [
            "[50 51 52 53 54 55 56 57 58 59 60 61 62 63 64 65 66 67 68 69 70 71 72 73\n",
            " 74 75 76 77 78 79 80 81 82 83 84 85 86 87 88 89 90 91 92 93 94 95 96 97\n",
            " 98 99]\n"
          ]
        },
        {
          "data": {
            "text/plain": [
              "array([[50, 51, 52, 53, 54, 55, 56, 57, 58, 59],\n",
              "       [60, 61, 62, 63, 64, 65, 66, 67, 68, 69],\n",
              "       [70, 71, 72, 73, 74, 75, 76, 77, 78, 79],\n",
              "       [80, 81, 82, 83, 84, 85, 86, 87, 88, 89],\n",
              "       [90, 91, 92, 93, 94, 95, 96, 97, 98, 99]])"
            ]
          },
          "execution_count": 37,
          "metadata": {},
          "output_type": "execute_result"
        }
      ],
      "source": [
        "arr1=np.array(range(50,100))\n",
        "print(arr1)\n",
        "arr1.reshape(5,10)"
      ]
    },
    {
      "cell_type": "code",
      "execution_count": null,
      "id": "f80121ef",
      "metadata": {
        "id": "f80121ef"
      },
      "outputs": [],
      "source": [
        "arr2=arr1.reshape(5,5,2)"
      ]
    },
    {
      "cell_type": "code",
      "execution_count": null,
      "id": "1f34a415",
      "metadata": {
        "id": "1f34a415",
        "outputId": "ecc35055-d773-4ded-bf76-055fb232e11c"
      },
      "outputs": [
        {
          "data": {
            "text/plain": [
              "array([[[50, 51],\n",
              "        [52, 53],\n",
              "        [54, 55],\n",
              "        [56, 57],\n",
              "        [58, 59]],\n",
              "\n",
              "       [[60, 61],\n",
              "        [62, 63],\n",
              "        [64, 65],\n",
              "        [66, 67],\n",
              "        [68, 69]],\n",
              "\n",
              "       [[70, 71],\n",
              "        [72, 73],\n",
              "        [74, 75],\n",
              "        [76, 77],\n",
              "        [78, 79]],\n",
              "\n",
              "       [[80, 81],\n",
              "        [82, 83],\n",
              "        [84, 85],\n",
              "        [86, 87],\n",
              "        [88, 89]],\n",
              "\n",
              "       [[90, 91],\n",
              "        [92, 93],\n",
              "        [94, 95],\n",
              "        [96, 97],\n",
              "        [98, 99]]])"
            ]
          },
          "execution_count": 39,
          "metadata": {},
          "output_type": "execute_result"
        }
      ],
      "source": [
        "arr2"
      ]
    },
    {
      "cell_type": "code",
      "execution_count": null,
      "id": "2a2fa4a4",
      "metadata": {
        "id": "2a2fa4a4"
      },
      "outputs": [],
      "source": [
        "arr2=arr1.reshape(5,2,5)"
      ]
    },
    {
      "cell_type": "code",
      "execution_count": null,
      "id": "44a6be50",
      "metadata": {
        "id": "44a6be50",
        "outputId": "88a661c5-4d61-4b6c-9a9e-10a6ca972683"
      },
      "outputs": [
        {
          "data": {
            "text/plain": [
              "array([[[50, 51, 52, 53, 54],\n",
              "        [55, 56, 57, 58, 59]],\n",
              "\n",
              "       [[60, 61, 62, 63, 64],\n",
              "        [65, 66, 67, 68, 69]],\n",
              "\n",
              "       [[70, 71, 72, 73, 74],\n",
              "        [75, 76, 77, 78, 79]],\n",
              "\n",
              "       [[80, 81, 82, 83, 84],\n",
              "        [85, 86, 87, 88, 89]],\n",
              "\n",
              "       [[90, 91, 92, 93, 94],\n",
              "        [95, 96, 97, 98, 99]]])"
            ]
          },
          "execution_count": 41,
          "metadata": {},
          "output_type": "execute_result"
        }
      ],
      "source": [
        "arr2"
      ]
    },
    {
      "cell_type": "code",
      "execution_count": null,
      "id": "bc217914",
      "metadata": {
        "id": "bc217914"
      },
      "outputs": [],
      "source": [
        "arr3=arr1.reshape(5,5,2)"
      ]
    },
    {
      "cell_type": "code",
      "execution_count": null,
      "id": "1c03639b",
      "metadata": {
        "id": "1c03639b",
        "outputId": "24e00473-f4de-456a-bd77-4a391e5a089b"
      },
      "outputs": [
        {
          "data": {
            "text/plain": [
              "array([[[50, 51],\n",
              "        [52, 53],\n",
              "        [54, 55],\n",
              "        [56, 57],\n",
              "        [58, 59]],\n",
              "\n",
              "       [[60, 61],\n",
              "        [62, 63],\n",
              "        [64, 65],\n",
              "        [66, 67],\n",
              "        [68, 69]],\n",
              "\n",
              "       [[70, 71],\n",
              "        [72, 73],\n",
              "        [74, 75],\n",
              "        [76, 77],\n",
              "        [78, 79]],\n",
              "\n",
              "       [[80, 81],\n",
              "        [82, 83],\n",
              "        [84, 85],\n",
              "        [86, 87],\n",
              "        [88, 89]],\n",
              "\n",
              "       [[90, 91],\n",
              "        [92, 93],\n",
              "        [94, 95],\n",
              "        [96, 97],\n",
              "        [98, 99]]])"
            ]
          },
          "execution_count": 43,
          "metadata": {},
          "output_type": "execute_result"
        }
      ],
      "source": [
        "arr3"
      ]
    },
    {
      "cell_type": "code",
      "execution_count": null,
      "id": "d1e49cd9",
      "metadata": {
        "id": "d1e49cd9",
        "outputId": "f6047b7b-8caa-439e-87d5-a3d00baf5b1f"
      },
      "outputs": [
        {
          "data": {
            "text/plain": [
              "array([[70, 71],\n",
              "       [72, 73],\n",
              "       [74, 75],\n",
              "       [76, 77],\n",
              "       [78, 79]])"
            ]
          },
          "execution_count": 44,
          "metadata": {},
          "output_type": "execute_result"
        }
      ],
      "source": [
        "arr3[2]"
      ]
    },
    {
      "cell_type": "code",
      "execution_count": null,
      "id": "9df7e1c9",
      "metadata": {
        "id": "9df7e1c9",
        "outputId": "5b961745-975c-4f90-8fcd-c5c7724fddd6"
      },
      "outputs": [
        {
          "data": {
            "text/plain": [
              "array([[90, 91],\n",
              "       [92, 93],\n",
              "       [94, 95],\n",
              "       [96, 97],\n",
              "       [98, 99]])"
            ]
          },
          "execution_count": 45,
          "metadata": {},
          "output_type": "execute_result"
        }
      ],
      "source": [
        "arr3[4]"
      ]
    },
    {
      "cell_type": "code",
      "execution_count": null,
      "id": "3d24c37c",
      "metadata": {
        "id": "3d24c37c",
        "outputId": "6224e5a4-f7f9-42ae-e718-c0bb5d4bd7ce"
      },
      "outputs": [
        {
          "data": {
            "text/plain": [
              "array([96, 97])"
            ]
          },
          "execution_count": 46,
          "metadata": {},
          "output_type": "execute_result"
        }
      ],
      "source": [
        "arr3[4,3]"
      ]
    },
    {
      "cell_type": "code",
      "execution_count": null,
      "id": "4c8873e3",
      "metadata": {
        "id": "4c8873e3",
        "outputId": "684ee776-6910-4fa5-d3a6-a3217b736ddf"
      },
      "outputs": [
        {
          "data": {
            "text/plain": [
              "96"
            ]
          },
          "execution_count": 47,
          "metadata": {},
          "output_type": "execute_result"
        }
      ],
      "source": [
        "arr3[4,3,0]"
      ]
    },
    {
      "cell_type": "code",
      "execution_count": null,
      "id": "2c2e7e46",
      "metadata": {
        "id": "2c2e7e46",
        "outputId": "70ebd812-099e-4aaf-d9f6-b4807e1fb0fe"
      },
      "outputs": [
        {
          "data": {
            "text/plain": [
              "array([50, 51, 52, 53, 54, 55, 56, 57, 58, 59, 60, 61, 62, 63, 64, 65, 66,\n",
              "       67, 68, 69, 70, 71, 72, 73, 74, 75, 76, 77, 78, 79, 80, 81, 82, 83,\n",
              "       84, 85, 86, 87, 88, 89, 90, 91, 92, 93, 94, 95, 96, 97, 98, 99])"
            ]
          },
          "execution_count": 48,
          "metadata": {},
          "output_type": "execute_result"
        }
      ],
      "source": [
        "arr1"
      ]
    },
    {
      "cell_type": "code",
      "execution_count": null,
      "id": "8124af2b",
      "metadata": {
        "id": "8124af2b"
      },
      "outputs": [],
      "source": [
        "arr1=arr1.reshape(5,10)"
      ]
    },
    {
      "cell_type": "code",
      "execution_count": null,
      "id": "902a17dc",
      "metadata": {
        "id": "902a17dc",
        "outputId": "30bc8c72-d03d-4016-8b0e-1854d3e45b9e"
      },
      "outputs": [
        {
          "data": {
            "text/plain": [
              "array([[50, 51, 52, 53, 54, 55, 56, 57, 58, 59],\n",
              "       [60, 61, 62, 63, 64, 65, 66, 67, 68, 69],\n",
              "       [70, 71, 72, 73, 74, 75, 76, 77, 78, 79],\n",
              "       [80, 81, 82, 83, 84, 85, 86, 87, 88, 89],\n",
              "       [90, 91, 92, 93, 94, 95, 96, 97, 98, 99]])"
            ]
          },
          "execution_count": 50,
          "metadata": {},
          "output_type": "execute_result"
        }
      ],
      "source": [
        "arr1"
      ]
    },
    {
      "cell_type": "code",
      "execution_count": null,
      "id": "f705a5b9",
      "metadata": {
        "id": "f705a5b9",
        "outputId": "305a86fc-d45b-4fff-a5e6-6925b63f93fd"
      },
      "outputs": [
        {
          "data": {
            "text/plain": [
              "array([[90, 91, 92, 93, 94, 95, 96, 97, 98, 99],\n",
              "       [80, 81, 82, 83, 84, 85, 86, 87, 88, 89],\n",
              "       [70, 71, 72, 73, 74, 75, 76, 77, 78, 79],\n",
              "       [60, 61, 62, 63, 64, 65, 66, 67, 68, 69],\n",
              "       [50, 51, 52, 53, 54, 55, 56, 57, 58, 59]])"
            ]
          },
          "execution_count": 51,
          "metadata": {},
          "output_type": "execute_result"
        }
      ],
      "source": [
        "arr1[::-1]"
      ]
    },
    {
      "cell_type": "code",
      "execution_count": null,
      "id": "dce480da",
      "metadata": {
        "id": "dce480da",
        "outputId": "7a3bf360-b225-4d78-81e2-1fcac710bdc7"
      },
      "outputs": [
        {
          "data": {
            "text/plain": [
              "array([[50, 51, 52, 53, 54, 55, 56, 57, 58, 59],\n",
              "       [60, 61, 62, 63, 64, 65, 66, 67, 68, 69],\n",
              "       [70, 71, 72, 73, 74, 75, 76, 77, 78, 79],\n",
              "       [80, 81, 82, 83, 84, 85, 86, 87, 88, 89],\n",
              "       [90, 91, 92, 93, 94, 95, 96, 97, 98, 99]])"
            ]
          },
          "execution_count": 52,
          "metadata": {},
          "output_type": "execute_result"
        }
      ],
      "source": [
        "arr1"
      ]
    },
    {
      "cell_type": "code",
      "execution_count": null,
      "id": "0733142d",
      "metadata": {
        "id": "0733142d",
        "outputId": "061aab9f-e2af-49ea-cefc-a68d43040223"
      },
      "outputs": [
        {
          "data": {
            "text/plain": [
              "array([[99, 98, 97, 96, 95, 94, 93, 92, 91, 90],\n",
              "       [89, 88, 87, 86, 85, 84, 83, 82, 81, 80],\n",
              "       [79, 78, 77, 76, 75, 74, 73, 72, 71, 70],\n",
              "       [69, 68, 67, 66, 65, 64, 63, 62, 61, 60],\n",
              "       [59, 58, 57, 56, 55, 54, 53, 52, 51, 50]])"
            ]
          },
          "execution_count": 53,
          "metadata": {},
          "output_type": "execute_result"
        }
      ],
      "source": [
        "arr1[::-1,::-1]"
      ]
    },
    {
      "cell_type": "code",
      "execution_count": null,
      "id": "94b26059",
      "metadata": {
        "id": "94b26059"
      },
      "outputs": [],
      "source": [
        "s=arr1[::-1]"
      ]
    },
    {
      "cell_type": "code",
      "execution_count": null,
      "id": "2620817f",
      "metadata": {
        "id": "2620817f",
        "outputId": "55fa0dc5-2f20-46c5-a9ab-5b873514b133"
      },
      "outputs": [
        {
          "data": {
            "text/plain": [
              "array([[90, 91, 92, 93, 94, 95, 96, 97, 98, 99],\n",
              "       [80, 81, 82, 83, 84, 85, 86, 87, 88, 89],\n",
              "       [70, 71, 72, 73, 74, 75, 76, 77, 78, 79],\n",
              "       [60, 61, 62, 63, 64, 65, 66, 67, 68, 69],\n",
              "       [50, 51, 52, 53, 54, 55, 56, 57, 58, 59]])"
            ]
          },
          "execution_count": 57,
          "metadata": {},
          "output_type": "execute_result"
        }
      ],
      "source": [
        "s"
      ]
    },
    {
      "cell_type": "code",
      "execution_count": null,
      "id": "b72dd11d",
      "metadata": {
        "id": "b72dd11d"
      },
      "outputs": [],
      "source": [
        "t=s[::-1]"
      ]
    },
    {
      "cell_type": "code",
      "execution_count": null,
      "id": "b76e7559",
      "metadata": {
        "id": "b76e7559",
        "outputId": "65cb77bd-3b15-41d6-c0ea-26f2c3f9c2d3"
      },
      "outputs": [
        {
          "data": {
            "text/plain": [
              "array([[50, 51, 52, 53, 54, 55, 56, 57, 58, 59],\n",
              "       [60, 61, 62, 63, 64, 65, 66, 67, 68, 69],\n",
              "       [70, 71, 72, 73, 74, 75, 76, 77, 78, 79],\n",
              "       [80, 81, 82, 83, 84, 85, 86, 87, 88, 89],\n",
              "       [90, 91, 92, 93, 94, 95, 96, 97, 98, 99]])"
            ]
          },
          "execution_count": 59,
          "metadata": {},
          "output_type": "execute_result"
        }
      ],
      "source": [
        "t"
      ]
    },
    {
      "cell_type": "code",
      "execution_count": null,
      "id": "ae35f355",
      "metadata": {
        "id": "ae35f355",
        "outputId": "fe573a62-f93b-43ab-a731-443c51c5ead5"
      },
      "outputs": [
        {
          "data": {
            "text/plain": [
              "array([[59, 58, 57, 56, 55, 54, 53, 52, 51, 50],\n",
              "       [69, 68, 67, 66, 65, 64, 63, 62, 61, 60],\n",
              "       [79, 78, 77, 76, 75, 74, 73, 72, 71, 70],\n",
              "       [89, 88, 87, 86, 85, 84, 83, 82, 81, 80],\n",
              "       [99, 98, 97, 96, 95, 94, 93, 92, 91, 90]])"
            ]
          },
          "execution_count": 60,
          "metadata": {},
          "output_type": "execute_result"
        }
      ],
      "source": [
        "#### fliplr\n",
        "np.fliplr(arr1)"
      ]
    },
    {
      "cell_type": "code",
      "execution_count": null,
      "id": "3c31b3af",
      "metadata": {
        "id": "3c31b3af",
        "outputId": "964d2d06-b321-4240-dff3-273c0688e4e6"
      },
      "outputs": [
        {
          "data": {
            "text/plain": [
              "array([[59, 58, 57, 56, 55, 54, 53, 52, 51, 50],\n",
              "       [69, 68, 67, 66, 65, 64, 63, 62, 61, 60],\n",
              "       [79, 78, 77, 76, 75, 74, 73, 72, 71, 70],\n",
              "       [89, 88, 87, 86, 85, 84, 83, 82, 81, 80],\n",
              "       [99, 98, 97, 96, 95, 94, 93, 92, 91, 90]])"
            ]
          },
          "execution_count": 61,
          "metadata": {},
          "output_type": "execute_result"
        }
      ],
      "source": [
        "arr1[:,::-1]"
      ]
    },
    {
      "cell_type": "code",
      "execution_count": null,
      "id": "3a8ec76b",
      "metadata": {
        "id": "3a8ec76b",
        "outputId": "6b29ea90-4b35-45d7-984f-c8e0ebad6225"
      },
      "outputs": [
        {
          "data": {
            "text/plain": [
              "array([[90, 91, 92, 93, 94, 95, 96, 97, 98, 99],\n",
              "       [80, 81, 82, 83, 84, 85, 86, 87, 88, 89],\n",
              "       [70, 71, 72, 73, 74, 75, 76, 77, 78, 79],\n",
              "       [60, 61, 62, 63, 64, 65, 66, 67, 68, 69],\n",
              "       [50, 51, 52, 53, 54, 55, 56, 57, 58, 59]])"
            ]
          },
          "execution_count": 62,
          "metadata": {},
          "output_type": "execute_result"
        }
      ],
      "source": [
        "#### flipud\n",
        "np.flipud(arr1)"
      ]
    },
    {
      "cell_type": "code",
      "execution_count": null,
      "id": "34db6f06",
      "metadata": {
        "id": "34db6f06",
        "outputId": "685304f1-ea8d-4554-e22e-789e1e2ac08e"
      },
      "outputs": [
        {
          "data": {
            "text/plain": [
              "array([[90, 91, 92, 93, 94, 95, 96, 97, 98, 99],\n",
              "       [80, 81, 82, 83, 84, 85, 86, 87, 88, 89],\n",
              "       [70, 71, 72, 73, 74, 75, 76, 77, 78, 79],\n",
              "       [60, 61, 62, 63, 64, 65, 66, 67, 68, 69],\n",
              "       [50, 51, 52, 53, 54, 55, 56, 57, 58, 59]])"
            ]
          },
          "execution_count": 63,
          "metadata": {},
          "output_type": "execute_result"
        }
      ],
      "source": [
        "arr1[::-1]"
      ]
    },
    {
      "cell_type": "code",
      "execution_count": null,
      "id": "ca8f9719",
      "metadata": {
        "id": "ca8f9719",
        "outputId": "edbfe1d9-4533-4597-e9ee-475b65e644cb"
      },
      "outputs": [
        {
          "data": {
            "text/plain": [
              "array([[99, 98, 97, 96, 95, 94, 93, 92, 91, 90],\n",
              "       [89, 88, 87, 86, 85, 84, 83, 82, 81, 80],\n",
              "       [79, 78, 77, 76, 75, 74, 73, 72, 71, 70],\n",
              "       [69, 68, 67, 66, 65, 64, 63, 62, 61, 60],\n",
              "       [59, 58, 57, 56, 55, 54, 53, 52, 51, 50]])"
            ]
          },
          "execution_count": 64,
          "metadata": {},
          "output_type": "execute_result"
        }
      ],
      "source": [
        "###flip\n",
        "np.flip(arr1)"
      ]
    },
    {
      "cell_type": "code",
      "execution_count": null,
      "id": "6fbe8762",
      "metadata": {
        "id": "6fbe8762",
        "outputId": "1af64623-e2c8-4896-fc66-82647e89d63f"
      },
      "outputs": [
        {
          "data": {
            "text/plain": [
              "array([[99, 98, 97, 96, 95, 94, 93, 92, 91, 90],\n",
              "       [89, 88, 87, 86, 85, 84, 83, 82, 81, 80],\n",
              "       [79, 78, 77, 76, 75, 74, 73, 72, 71, 70],\n",
              "       [69, 68, 67, 66, 65, 64, 63, 62, 61, 60],\n",
              "       [59, 58, 57, 56, 55, 54, 53, 52, 51, 50]])"
            ]
          },
          "execution_count": 65,
          "metadata": {},
          "output_type": "execute_result"
        }
      ],
      "source": [
        "arr1[::-1,::-1]"
      ]
    },
    {
      "cell_type": "code",
      "execution_count": null,
      "id": "c85d0ccf",
      "metadata": {
        "id": "c85d0ccf",
        "outputId": "65aa2763-7c05-4385-fbff-fb4734d4a5e3"
      },
      "outputs": [
        {
          "data": {
            "text/plain": [
              "array([[90, 91, 92, 93, 94, 95, 96, 97, 98, 99],\n",
              "       [80, 81, 82, 83, 84, 85, 86, 87, 88, 89],\n",
              "       [70, 71, 72, 73, 74, 75, 76, 77, 78, 79],\n",
              "       [60, 61, 62, 63, 64, 65, 66, 67, 68, 69],\n",
              "       [50, 51, 52, 53, 54, 55, 56, 57, 58, 59]])"
            ]
          },
          "execution_count": 66,
          "metadata": {},
          "output_type": "execute_result"
        }
      ],
      "source": [
        "np.flip(arr1,axis=0)  ### np.flipud(arr1),arr1[::-1]"
      ]
    },
    {
      "cell_type": "code",
      "execution_count": null,
      "id": "554c676c",
      "metadata": {
        "id": "554c676c",
        "outputId": "c5a1d6bc-6ab3-4760-ae04-2530d0997f4d"
      },
      "outputs": [
        {
          "data": {
            "text/plain": [
              "array([[59, 58, 57, 56, 55, 54, 53, 52, 51, 50],\n",
              "       [69, 68, 67, 66, 65, 64, 63, 62, 61, 60],\n",
              "       [79, 78, 77, 76, 75, 74, 73, 72, 71, 70],\n",
              "       [89, 88, 87, 86, 85, 84, 83, 82, 81, 80],\n",
              "       [99, 98, 97, 96, 95, 94, 93, 92, 91, 90]])"
            ]
          },
          "execution_count": 67,
          "metadata": {},
          "output_type": "execute_result"
        }
      ],
      "source": [
        "np.flip(arr1,axis=1)  ### np.fliplr(arr1),arr1[:,::-1]"
      ]
    },
    {
      "cell_type": "code",
      "execution_count": null,
      "id": "60096472",
      "metadata": {
        "id": "60096472",
        "outputId": "3f13103c-40db-4052-e0f3-d89a10d2ca89"
      },
      "outputs": [
        {
          "data": {
            "text/plain": [
              "array([[50, 51, 52, 53, 54, 55, 56, 57, 58, 59],\n",
              "       [60, 61, 62, 63, 64, 65, 66, 67, 68, 69],\n",
              "       [70, 71, 72, 73, 74, 75, 76, 77, 78, 79],\n",
              "       [80, 81, 82, 83, 84, 85, 86, 87, 88, 89],\n",
              "       [90, 91, 92, 93, 94, 95, 96, 97, 98, 99]])"
            ]
          },
          "execution_count": 68,
          "metadata": {},
          "output_type": "execute_result"
        }
      ],
      "source": [
        "arr1"
      ]
    },
    {
      "cell_type": "code",
      "execution_count": null,
      "id": "8b8abf08",
      "metadata": {
        "id": "8b8abf08",
        "outputId": "27e9344e-99de-49c4-b5cd-8b59aaf5a323"
      },
      "outputs": [
        {
          "data": {
            "text/plain": [
              "array([[50, 60, 70, 80, 90],\n",
              "       [51, 61, 71, 81, 91],\n",
              "       [52, 62, 72, 82, 92],\n",
              "       [53, 63, 73, 83, 93],\n",
              "       [54, 64, 74, 84, 94],\n",
              "       [55, 65, 75, 85, 95],\n",
              "       [56, 66, 76, 86, 96],\n",
              "       [57, 67, 77, 87, 97],\n",
              "       [58, 68, 78, 88, 98],\n",
              "       [59, 69, 79, 89, 99]])"
            ]
          },
          "execution_count": 69,
          "metadata": {},
          "output_type": "execute_result"
        }
      ],
      "source": [
        "#### Transpose operation\n",
        "arr1.T"
      ]
    },
    {
      "cell_type": "code",
      "execution_count": null,
      "id": "dbfc0257",
      "metadata": {
        "id": "dbfc0257",
        "outputId": "72045644-3fef-4310-d8ab-9db8cf23e63d"
      },
      "outputs": [
        {
          "data": {
            "text/plain": [
              "(10, 5)"
            ]
          },
          "execution_count": 70,
          "metadata": {},
          "output_type": "execute_result"
        }
      ],
      "source": [
        "arr1.T.shape"
      ]
    },
    {
      "cell_type": "code",
      "execution_count": null,
      "id": "3886ceb3",
      "metadata": {
        "id": "3886ceb3"
      },
      "outputs": [],
      "source": [
        "arr_T=np.transpose(arr1)"
      ]
    },
    {
      "cell_type": "code",
      "execution_count": null,
      "id": "04388b0c",
      "metadata": {
        "id": "04388b0c",
        "outputId": "786b26ab-0b24-4e63-81b8-b033c7ccdf57"
      },
      "outputs": [
        {
          "data": {
            "text/plain": [
              "array([[50, 60, 70, 80, 90],\n",
              "       [51, 61, 71, 81, 91],\n",
              "       [52, 62, 72, 82, 92],\n",
              "       [53, 63, 73, 83, 93],\n",
              "       [54, 64, 74, 84, 94],\n",
              "       [55, 65, 75, 85, 95],\n",
              "       [56, 66, 76, 86, 96],\n",
              "       [57, 67, 77, 87, 97],\n",
              "       [58, 68, 78, 88, 98],\n",
              "       [59, 69, 79, 89, 99]])"
            ]
          },
          "execution_count": 72,
          "metadata": {},
          "output_type": "execute_result"
        }
      ],
      "source": [
        "arr_T"
      ]
    },
    {
      "cell_type": "code",
      "execution_count": null,
      "id": "ea4aa0b8",
      "metadata": {
        "id": "ea4aa0b8",
        "outputId": "f2998563-95a4-4a75-82ca-edf7ea9fec0f"
      },
      "outputs": [
        {
          "data": {
            "text/plain": [
              "array([[50, 51, 52, 53, 54, 55, 56, 57, 58, 59],\n",
              "       [60, 61, 62, 63, 64, 65, 66, 67, 68, 69],\n",
              "       [70, 71, 72, 73, 74, 75, 76, 77, 78, 79],\n",
              "       [80, 81, 82, 83, 84, 85, 86, 87, 88, 89],\n",
              "       [90, 91, 92, 93, 94, 95, 96, 97, 98, 99]])"
            ]
          },
          "execution_count": 73,
          "metadata": {},
          "output_type": "execute_result"
        }
      ],
      "source": [
        "arr1"
      ]
    },
    {
      "cell_type": "code",
      "execution_count": null,
      "id": "f7d4f740",
      "metadata": {
        "id": "f7d4f740",
        "outputId": "a01ebd3a-603a-4ced-a109-02af459d7a69"
      },
      "outputs": [
        {
          "data": {
            "text/plain": [
              "array([59, 69, 79, 89, 99])"
            ]
          },
          "execution_count": 74,
          "metadata": {},
          "output_type": "execute_result"
        }
      ],
      "source": [
        "arr1.max(axis=1)"
      ]
    },
    {
      "cell_type": "code",
      "execution_count": null,
      "id": "dba4283d",
      "metadata": {
        "id": "dba4283d",
        "outputId": "afe71e37-33c7-45a1-9ad2-1207124a62a1"
      },
      "outputs": [
        {
          "data": {
            "text/plain": [
              "array([90, 91, 92, 93, 94, 95, 96, 97, 98, 99])"
            ]
          },
          "execution_count": 75,
          "metadata": {},
          "output_type": "execute_result"
        }
      ],
      "source": [
        "arr1.max(axis=0)"
      ]
    },
    {
      "cell_type": "code",
      "execution_count": null,
      "id": "9eb0d237",
      "metadata": {
        "id": "9eb0d237",
        "outputId": "cf672973-8679-4689-9ce7-1a06a36975b2"
      },
      "outputs": [
        {
          "data": {
            "text/plain": [
              "array([[ 0,  1,  2,  3],\n",
              "       [ 4,  5,  6,  7],\n",
              "       [ 8,  9, 10, 11]])"
            ]
          },
          "execution_count": 76,
          "metadata": {},
          "output_type": "execute_result"
        }
      ],
      "source": [
        "a = np.array(range(0,12))\n",
        "a = a.reshape(3,4)\n",
        "a"
      ]
    },
    {
      "cell_type": "code",
      "execution_count": null,
      "id": "8f5b19b1",
      "metadata": {
        "id": "8f5b19b1",
        "outputId": "7ba9577f-199e-440d-d60b-d17ec3d75926"
      },
      "outputs": [
        {
          "data": {
            "text/plain": [
              "array([[0, 1, 2, 3],\n",
              "       [4, 5, 6, 7]])"
            ]
          },
          "execution_count": 77,
          "metadata": {},
          "output_type": "execute_result"
        }
      ],
      "source": [
        "b = np.array(range(0,8))\n",
        "b = b.reshape(2,4)\n",
        "b\n"
      ]
    },
    {
      "cell_type": "code",
      "execution_count": null,
      "id": "434c53f2",
      "metadata": {
        "id": "434c53f2",
        "outputId": "5478b009-823e-4a4c-a774-9faa4f00fcc4"
      },
      "outputs": [
        {
          "data": {
            "text/plain": [
              "array([[0, 1],\n",
              "       [2, 3],\n",
              "       [4, 5]])"
            ]
          },
          "execution_count": 78,
          "metadata": {},
          "output_type": "execute_result"
        }
      ],
      "source": [
        "c = np.array(range(0,6))\n",
        "c = c.reshape(3,2)\n",
        "c"
      ]
    },
    {
      "cell_type": "code",
      "execution_count": null,
      "id": "2ef394cd",
      "metadata": {
        "id": "2ef394cd",
        "outputId": "48bc40b0-0498-4d46-af19-005a9862da6d"
      },
      "outputs": [
        {
          "data": {
            "text/plain": [
              "array([[ 0,  1,  2,  3],\n",
              "       [ 4,  5,  6,  7],\n",
              "       [ 8,  9, 10, 11],\n",
              "       [ 0,  1,  2,  3],\n",
              "       [ 4,  5,  6,  7]])"
            ]
          },
          "execution_count": 79,
          "metadata": {},
          "output_type": "execute_result"
        }
      ],
      "source": [
        "np.vstack((a,b))\n"
      ]
    },
    {
      "cell_type": "code",
      "execution_count": null,
      "id": "a3cf5efd",
      "metadata": {
        "id": "a3cf5efd",
        "outputId": "a88d4c16-7de7-4c49-c4ac-68ec3073ce91"
      },
      "outputs": [
        {
          "data": {
            "text/plain": [
              "array([[ 0,  1,  2,  3,  0,  1],\n",
              "       [ 4,  5,  6,  7,  2,  3],\n",
              "       [ 8,  9, 10, 11,  4,  5]])"
            ]
          },
          "execution_count": 80,
          "metadata": {},
          "output_type": "execute_result"
        }
      ],
      "source": [
        "np.hstack((a,c))"
      ]
    },
    {
      "cell_type": "code",
      "execution_count": null,
      "id": "d574cc00",
      "metadata": {
        "id": "d574cc00",
        "outputId": "3089c784-86b6-491f-9520-c0ed276dde2c"
      },
      "outputs": [
        {
          "data": {
            "text/plain": [
              "array([[ 0,  1,  2,  3],\n",
              "       [ 4,  5,  6,  7],\n",
              "       [ 8,  9, 10, 11],\n",
              "       [ 0,  1,  2,  3],\n",
              "       [ 4,  5,  6,  7]])"
            ]
          },
          "execution_count": 81,
          "metadata": {},
          "output_type": "execute_result"
        }
      ],
      "source": [
        "np.concatenate((a,b),axis = 0)\n"
      ]
    },
    {
      "cell_type": "code",
      "execution_count": null,
      "id": "79e973b9",
      "metadata": {
        "id": "79e973b9",
        "outputId": "b3b816f2-11e5-47b8-8023-f281963bb8f1"
      },
      "outputs": [
        {
          "data": {
            "text/plain": [
              "array([[ 0,  1,  2,  3,  0,  1],\n",
              "       [ 4,  5,  6,  7,  2,  3],\n",
              "       [ 8,  9, 10, 11,  4,  5]])"
            ]
          },
          "execution_count": 82,
          "metadata": {},
          "output_type": "execute_result"
        }
      ],
      "source": [
        "np.concatenate((a,c),axis = 1)"
      ]
    },
    {
      "cell_type": "code",
      "execution_count": null,
      "id": "06ae5e5b",
      "metadata": {
        "id": "06ae5e5b",
        "outputId": "ecfba411-ee6c-4029-dc50-ea02644a85ec"
      },
      "outputs": [
        {
          "data": {
            "text/plain": [
              "array([[ 0,  1,  2,  3,  4,  5],\n",
              "       [ 6,  7,  8,  9, 10, 11],\n",
              "       [12, 13, 14, 15, 16, 17],\n",
              "       [18, 19, 20, 21, 22, 23]])"
            ]
          },
          "execution_count": 83,
          "metadata": {},
          "output_type": "execute_result"
        }
      ],
      "source": [
        "arr4 = np.array(range(0,24))\n",
        "arr4 = arr4.reshape(4,6)\n",
        "arr4"
      ]
    },
    {
      "cell_type": "code",
      "execution_count": null,
      "id": "283949ca",
      "metadata": {
        "id": "283949ca",
        "outputId": "5a0542b1-9bde-45e7-af91-e20094500f71"
      },
      "outputs": [
        {
          "data": {
            "text/plain": [
              "[array([[ 0,  1],\n",
              "        [ 6,  7],\n",
              "        [12, 13],\n",
              "        [18, 19]]),\n",
              " array([[ 2,  3],\n",
              "        [ 8,  9],\n",
              "        [14, 15],\n",
              "        [20, 21]]),\n",
              " array([[ 4,  5],\n",
              "        [10, 11],\n",
              "        [16, 17],\n",
              "        [22, 23]])]"
            ]
          },
          "execution_count": 84,
          "metadata": {},
          "output_type": "execute_result"
        }
      ],
      "source": [
        "np.split(arr4,[2,4],axis=1)"
      ]
    },
    {
      "cell_type": "code",
      "execution_count": null,
      "id": "ce88e013",
      "metadata": {
        "id": "ce88e013",
        "outputId": "b8b5b066-4410-4a27-fa3e-df74822b8927"
      },
      "outputs": [
        {
          "data": {
            "text/plain": [
              "[array([[ 0,  1],\n",
              "        [ 6,  7],\n",
              "        [12, 13],\n",
              "        [18, 19]]),\n",
              " array([[ 2,  3],\n",
              "        [ 8,  9],\n",
              "        [14, 15],\n",
              "        [20, 21]]),\n",
              " array([[ 4,  5],\n",
              "        [10, 11],\n",
              "        [16, 17],\n",
              "        [22, 23]])]"
            ]
          },
          "execution_count": 85,
          "metadata": {},
          "output_type": "execute_result"
        }
      ],
      "source": [
        "np.hsplit(arr4,3)"
      ]
    },
    {
      "cell_type": "code",
      "execution_count": null,
      "id": "9f1b1025",
      "metadata": {
        "id": "9f1b1025",
        "outputId": "3fa68a40-9e07-4490-ab74-e27f0e7f58be"
      },
      "outputs": [
        {
          "ename": "ValueError",
          "evalue": "array split does not result in an equal division",
          "output_type": "error",
          "traceback": [
            "\u001b[1;31m---------------------------------------------------------------------------\u001b[0m",
            "\u001b[1;31mValueError\u001b[0m                                Traceback (most recent call last)",
            "Input \u001b[1;32mIn [86]\u001b[0m, in \u001b[0;36m<cell line: 1>\u001b[1;34m()\u001b[0m\n\u001b[1;32m----> 1\u001b[0m \u001b[43mnp\u001b[49m\u001b[38;5;241;43m.\u001b[39;49m\u001b[43mhsplit\u001b[49m\u001b[43m(\u001b[49m\u001b[43marr4\u001b[49m\u001b[43m,\u001b[49m\u001b[38;5;241;43m4\u001b[39;49m\u001b[43m)\u001b[49m\n",
            "File \u001b[1;32m<__array_function__ internals>:200\u001b[0m, in \u001b[0;36mhsplit\u001b[1;34m(*args, **kwargs)\u001b[0m\n",
            "File \u001b[1;32m~\\anaconda3\\lib\\site-packages\\numpy\\lib\\shape_base.py:946\u001b[0m, in \u001b[0;36mhsplit\u001b[1;34m(ary, indices_or_sections)\u001b[0m\n\u001b[0;32m    944\u001b[0m     \u001b[38;5;28;01mraise\u001b[39;00m \u001b[38;5;167;01mValueError\u001b[39;00m(\u001b[38;5;124m'\u001b[39m\u001b[38;5;124mhsplit only works on arrays of 1 or more dimensions\u001b[39m\u001b[38;5;124m'\u001b[39m)\n\u001b[0;32m    945\u001b[0m \u001b[38;5;28;01mif\u001b[39;00m ary\u001b[38;5;241m.\u001b[39mndim \u001b[38;5;241m>\u001b[39m \u001b[38;5;241m1\u001b[39m:\n\u001b[1;32m--> 946\u001b[0m     \u001b[38;5;28;01mreturn\u001b[39;00m \u001b[43msplit\u001b[49m\u001b[43m(\u001b[49m\u001b[43mary\u001b[49m\u001b[43m,\u001b[49m\u001b[43m \u001b[49m\u001b[43mindices_or_sections\u001b[49m\u001b[43m,\u001b[49m\u001b[43m \u001b[49m\u001b[38;5;241;43m1\u001b[39;49m\u001b[43m)\u001b[49m\n\u001b[0;32m    947\u001b[0m \u001b[38;5;28;01melse\u001b[39;00m:\n\u001b[0;32m    948\u001b[0m     \u001b[38;5;28;01mreturn\u001b[39;00m split(ary, indices_or_sections, \u001b[38;5;241m0\u001b[39m)\n",
            "File \u001b[1;32m<__array_function__ internals>:200\u001b[0m, in \u001b[0;36msplit\u001b[1;34m(*args, **kwargs)\u001b[0m\n",
            "File \u001b[1;32m~\\anaconda3\\lib\\site-packages\\numpy\\lib\\shape_base.py:872\u001b[0m, in \u001b[0;36msplit\u001b[1;34m(ary, indices_or_sections, axis)\u001b[0m\n\u001b[0;32m    870\u001b[0m     N \u001b[38;5;241m=\u001b[39m ary\u001b[38;5;241m.\u001b[39mshape[axis]\n\u001b[0;32m    871\u001b[0m     \u001b[38;5;28;01mif\u001b[39;00m N \u001b[38;5;241m%\u001b[39m sections:\n\u001b[1;32m--> 872\u001b[0m         \u001b[38;5;28;01mraise\u001b[39;00m \u001b[38;5;167;01mValueError\u001b[39;00m(\n\u001b[0;32m    873\u001b[0m             \u001b[38;5;124m'\u001b[39m\u001b[38;5;124marray split does not result in an equal division\u001b[39m\u001b[38;5;124m'\u001b[39m) \u001b[38;5;28;01mfrom\u001b[39;00m \u001b[38;5;28mNone\u001b[39m\n\u001b[0;32m    874\u001b[0m \u001b[38;5;28;01mreturn\u001b[39;00m array_split(ary, indices_or_sections, axis)\n",
            "\u001b[1;31mValueError\u001b[0m: array split does not result in an equal division"
          ]
        }
      ],
      "source": [
        "np.hsplit(arr4,4)"
      ]
    },
    {
      "cell_type": "code",
      "execution_count": null,
      "id": "e2c90fa7",
      "metadata": {
        "id": "e2c90fa7",
        "outputId": "8e91d107-56e6-471f-acb4-710675079012"
      },
      "outputs": [
        {
          "data": {
            "text/plain": [
              "[array([[ 0,  1,  2,  3,  4,  5],\n",
              "        [ 6,  7,  8,  9, 10, 11]]),\n",
              " array([[12, 13, 14, 15, 16, 17],\n",
              "        [18, 19, 20, 21, 22, 23]])]"
            ]
          },
          "execution_count": 87,
          "metadata": {},
          "output_type": "execute_result"
        }
      ],
      "source": [
        "np.vsplit(arr4,2)"
      ]
    },
    {
      "cell_type": "code",
      "execution_count": null,
      "id": "9da28f0b",
      "metadata": {
        "id": "9da28f0b",
        "outputId": "d930915b-56f1-419a-a1d3-197bf33323a9"
      },
      "outputs": [
        {
          "data": {
            "text/plain": [
              "[array([[0, 1, 2, 3, 4, 5]]),\n",
              " array([[ 6,  7,  8,  9, 10, 11]]),\n",
              " array([[12, 13, 14, 15, 16, 17]]),\n",
              " array([[18, 19, 20, 21, 22, 23]])]"
            ]
          },
          "execution_count": 88,
          "metadata": {},
          "output_type": "execute_result"
        }
      ],
      "source": [
        "np.vsplit(arr4,4)"
      ]
    },
    {
      "cell_type": "code",
      "execution_count": null,
      "id": "850857af",
      "metadata": {
        "id": "850857af",
        "outputId": "ac244185-7920-42e7-ddd6-7e631589d358"
      },
      "outputs": [
        {
          "data": {
            "text/plain": [
              "array([[ 0,  1,  2,  3],\n",
              "       [ 4,  5,  6,  7],\n",
              "       [ 8,  9, 10, 11]])"
            ]
          },
          "execution_count": 89,
          "metadata": {},
          "output_type": "execute_result"
        }
      ],
      "source": [
        "a"
      ]
    },
    {
      "cell_type": "code",
      "execution_count": null,
      "id": "253bf6c2",
      "metadata": {
        "id": "253bf6c2",
        "outputId": "1804b69f-c812-4ae9-c0b4-4e43b0bedb30"
      },
      "outputs": [
        {
          "data": {
            "text/plain": [
              "array([[0, 1, 2, 3],\n",
              "       [4, 5, 6, 7]])"
            ]
          },
          "execution_count": 90,
          "metadata": {},
          "output_type": "execute_result"
        }
      ],
      "source": [
        "b"
      ]
    },
    {
      "cell_type": "code",
      "execution_count": null,
      "id": "2d51d2ac",
      "metadata": {
        "id": "2d51d2ac",
        "outputId": "d768d2a3-b7de-420e-9cdc-999181481116"
      },
      "outputs": [
        {
          "data": {
            "text/plain": [
              "array([[0, 1],\n",
              "       [2, 3],\n",
              "       [4, 5]])"
            ]
          },
          "execution_count": 91,
          "metadata": {},
          "output_type": "execute_result"
        }
      ],
      "source": [
        "c"
      ]
    },
    {
      "cell_type": "code",
      "execution_count": null,
      "id": "721801c7",
      "metadata": {
        "id": "721801c7",
        "outputId": "91909826-265c-4f76-df1a-9f7714723ff9"
      },
      "outputs": [
        {
          "data": {
            "text/plain": [
              "array([ 0,  1,  2,  3,  4,  5,  6,  7,  8,  9, 10, 11,  0,  1,  2,  3,  4,\n",
              "        5,  6,  7])"
            ]
          },
          "execution_count": 92,
          "metadata": {},
          "output_type": "execute_result"
        }
      ],
      "source": [
        "np.append(a,b)"
      ]
    },
    {
      "cell_type": "code",
      "execution_count": null,
      "id": "17201bf5",
      "metadata": {
        "id": "17201bf5",
        "outputId": "fe3c3d3b-6881-42bb-96c8-676849d0f501"
      },
      "outputs": [
        {
          "data": {
            "text/plain": [
              "array([[ 0,  1,  2,  3,  0,  1],\n",
              "       [ 4,  5,  6,  7,  2,  3],\n",
              "       [ 8,  9, 10, 11,  4,  5]])"
            ]
          },
          "execution_count": 93,
          "metadata": {},
          "output_type": "execute_result"
        }
      ],
      "source": [
        "np.append(a,c,axis=1)"
      ]
    },
    {
      "cell_type": "code",
      "execution_count": null,
      "id": "8dd11695",
      "metadata": {
        "id": "8dd11695",
        "outputId": "9ba4f59e-17d2-45fb-9f4b-4dd038468f17"
      },
      "outputs": [
        {
          "data": {
            "text/plain": [
              "array([[ 0,  1,  2,  3],\n",
              "       [ 4,  5,  6,  7],\n",
              "       [ 8,  9, 10, 11],\n",
              "       [ 0,  1,  2,  3],\n",
              "       [ 4,  5,  6,  7]])"
            ]
          },
          "execution_count": 94,
          "metadata": {},
          "output_type": "execute_result"
        }
      ],
      "source": [
        "np.append(a,b,axis=0)"
      ]
    },
    {
      "cell_type": "code",
      "execution_count": null,
      "id": "211ea700",
      "metadata": {
        "id": "211ea700",
        "outputId": "99689695-3799-43c1-9e4f-742bb23b0ca7"
      },
      "outputs": [
        {
          "data": {
            "text/plain": [
              "array([[ 0,  1,  2,  3],\n",
              "       [ 4,  5,  6,  7],\n",
              "       [ 8,  9, 10, 11]])"
            ]
          },
          "execution_count": 95,
          "metadata": {},
          "output_type": "execute_result"
        }
      ],
      "source": [
        "a"
      ]
    },
    {
      "cell_type": "code",
      "execution_count": null,
      "id": "98209503",
      "metadata": {
        "id": "98209503",
        "outputId": "cd098071-7798-432f-9ed7-cd67e60eef97"
      },
      "outputs": [
        {
          "data": {
            "text/plain": [
              "array([[  1, 127,   1, 127],\n",
              "       [  1, 127,   1, 127],\n",
              "       [  1, 127,   1, 127]])"
            ]
          },
          "execution_count": 96,
          "metadata": {},
          "output_type": "execute_result"
        }
      ],
      "source": [
        "np.where(a%2==0,1,127)"
      ]
    },
    {
      "cell_type": "code",
      "execution_count": null,
      "id": "e2189423",
      "metadata": {
        "id": "e2189423",
        "outputId": "85a63b03-fc1b-4069-cd8f-d1b288b5ea9b"
      },
      "outputs": [
        {
          "data": {
            "text/plain": [
              "array([[ True, False, False, False],\n",
              "       [False,  True, False, False],\n",
              "       [False, False,  True, False]])"
            ]
          },
          "execution_count": 97,
          "metadata": {},
          "output_type": "execute_result"
        }
      ],
      "source": [
        "np.where(a%5==0,True,False)"
      ]
    },
    {
      "cell_type": "code",
      "execution_count": null,
      "id": "877a8e77",
      "metadata": {
        "id": "877a8e77",
        "outputId": "6012e18e-2e70-4351-fac1-7352dae1ee27"
      },
      "outputs": [
        {
          "data": {
            "text/plain": [
              "array([[ 1,  1,  2,  3],\n",
              "       [ 4,  1,  6,  7],\n",
              "       [ 8,  9,  1, 11]])"
            ]
          },
          "execution_count": 98,
          "metadata": {},
          "output_type": "execute_result"
        }
      ],
      "source": [
        "np.where(a%5==0,1,a)"
      ]
    },
    {
      "cell_type": "code",
      "execution_count": null,
      "id": "17ed3f05",
      "metadata": {
        "id": "17ed3f05",
        "outputId": "13c8bd16-af5a-435d-c885-5ec4c84be241"
      },
      "outputs": [
        {
          "data": {
            "text/plain": [
              "array([[[0, 0, 0],\n",
              "        [0, 0, 0],\n",
              "        [0, 0, 0],\n",
              "        ...,\n",
              "        [0, 0, 0],\n",
              "        [0, 0, 0],\n",
              "        [0, 0, 0]],\n",
              "\n",
              "       [[0, 0, 0],\n",
              "        [0, 0, 0],\n",
              "        [0, 0, 0],\n",
              "        ...,\n",
              "        [0, 0, 0],\n",
              "        [0, 0, 0],\n",
              "        [0, 0, 0]],\n",
              "\n",
              "       [[0, 0, 0],\n",
              "        [0, 0, 0],\n",
              "        [0, 0, 0],\n",
              "        ...,\n",
              "        [0, 0, 0],\n",
              "        [0, 0, 0],\n",
              "        [0, 0, 0]],\n",
              "\n",
              "       ...,\n",
              "\n",
              "       [[0, 0, 0],\n",
              "        [0, 0, 0],\n",
              "        [0, 0, 0],\n",
              "        ...,\n",
              "        [0, 0, 0],\n",
              "        [0, 0, 0],\n",
              "        [0, 0, 0]],\n",
              "\n",
              "       [[0, 0, 0],\n",
              "        [0, 0, 0],\n",
              "        [0, 0, 0],\n",
              "        ...,\n",
              "        [0, 0, 0],\n",
              "        [0, 0, 0],\n",
              "        [0, 0, 0]],\n",
              "\n",
              "       [[0, 0, 0],\n",
              "        [0, 0, 0],\n",
              "        [0, 0, 0],\n",
              "        ...,\n",
              "        [0, 0, 0],\n",
              "        [0, 0, 0],\n",
              "        [0, 0, 0]]], dtype=uint8)"
            ]
          },
          "execution_count": 100,
          "metadata": {},
          "output_type": "execute_result"
        }
      ],
      "source": [
        "arr = np.zeros([100,50,3],dtype=np.uint8)\n",
        "arr"
      ]
    },
    {
      "cell_type": "code",
      "execution_count": null,
      "id": "4f10b13a",
      "metadata": {
        "id": "4f10b13a"
      },
      "outputs": [],
      "source": [
        "arr[:,:]=[255,255,255]"
      ]
    },
    {
      "cell_type": "code",
      "execution_count": null,
      "id": "d0a4f2b4",
      "metadata": {
        "id": "d0a4f2b4",
        "outputId": "2f9d9a4e-10ac-4096-a185-081fb1939a39"
      },
      "outputs": [
        {
          "data": {
            "text/plain": [
              "array([[[255, 255, 255],\n",
              "        [255, 255, 255],\n",
              "        [255, 255, 255],\n",
              "        ...,\n",
              "        [255, 255, 255],\n",
              "        [255, 255, 255],\n",
              "        [255, 255, 255]],\n",
              "\n",
              "       [[255, 255, 255],\n",
              "        [255, 255, 255],\n",
              "        [255, 255, 255],\n",
              "        ...,\n",
              "        [255, 255, 255],\n",
              "        [255, 255, 255],\n",
              "        [255, 255, 255]],\n",
              "\n",
              "       [[255, 255, 255],\n",
              "        [255, 255, 255],\n",
              "        [255, 255, 255],\n",
              "        ...,\n",
              "        [255, 255, 255],\n",
              "        [255, 255, 255],\n",
              "        [255, 255, 255]],\n",
              "\n",
              "       ...,\n",
              "\n",
              "       [[255, 255, 255],\n",
              "        [255, 255, 255],\n",
              "        [255, 255, 255],\n",
              "        ...,\n",
              "        [255, 255, 255],\n",
              "        [255, 255, 255],\n",
              "        [255, 255, 255]],\n",
              "\n",
              "       [[255, 255, 255],\n",
              "        [255, 255, 255],\n",
              "        [255, 255, 255],\n",
              "        ...,\n",
              "        [255, 255, 255],\n",
              "        [255, 255, 255],\n",
              "        [255, 255, 255]],\n",
              "\n",
              "       [[255, 255, 255],\n",
              "        [255, 255, 255],\n",
              "        [255, 255, 255],\n",
              "        ...,\n",
              "        [255, 255, 255],\n",
              "        [255, 255, 255],\n",
              "        [255, 255, 255]]], dtype=uint8)"
            ]
          },
          "execution_count": 102,
          "metadata": {},
          "output_type": "execute_result"
        }
      ],
      "source": [
        "arr"
      ]
    },
    {
      "cell_type": "code",
      "execution_count": null,
      "id": "3a57cb74",
      "metadata": {
        "id": "3a57cb74",
        "outputId": "2e2bc2a8-0891-4475-ec4d-acb569e130d0"
      },
      "outputs": [
        {
          "data": {
            "text/plain": [
              "<matplotlib.image.AxesImage at 0x1a2c95a5dc0>"
            ]
          },
          "execution_count": 103,
          "metadata": {},
          "output_type": "execute_result"
        },
        {
          "data": {
            "image/png": "[encoded data removed]",
            "text/plain": [
              "<Figure size 432x288 with 1 Axes>"
            ]
          },
          "metadata": {
            "needs_background": "light"
          },
          "output_type": "display_data"
        }
      ],
      "source": [
        "from PIL import Image\n",
        "import matplotlib.pyplot as plt\n",
        "img = Image.fromarray(arr)\n",
        "plt.imshow(img)"
      ]
    },
    {
      "cell_type": "code",
      "execution_count": null,
      "id": "60f6af09",
      "metadata": {
        "id": "60f6af09"
      },
      "outputs": [],
      "source": [
        "arr[:,:]=[0,127,255]"
      ]
    },
    {
      "cell_type": "code",
      "execution_count": null,
      "id": "826051ad",
      "metadata": {
        "id": "826051ad",
        "outputId": "3110b19b-70a9-49c9-d7ac-a2e7f473030c"
      },
      "outputs": [
        {
          "data": {
            "text/plain": [
              "<matplotlib.image.AxesImage at 0x1a2cb282340>"
            ]
          },
          "execution_count": 109,
          "metadata": {},
          "output_type": "execute_result"
        },
        {
          "data": {
            "image/png": "[encoded data removed]",
            "text/plain": [
              "<Figure size 432x288 with 1 Axes>"
            ]
          },
          "metadata": {
            "needs_background": "light"
          },
          "output_type": "display_data"
        }
      ],
      "source": [
        "img = Image.fromarray(arr)\n",
        "plt.imshow(img)"
      ]
    },
    {
      "cell_type": "code",
      "execution_count": null,
      "id": "202c814b",
      "metadata": {
        "id": "202c814b",
        "outputId": "0653e3a8-7f3f-47ef-93a8-df5cddfee969"
      },
      "outputs": [
        {
          "data": {
            "text/plain": [
              "(100, 50, 3)"
            ]
          },
          "execution_count": 107,
          "metadata": {},
          "output_type": "execute_result"
        }
      ],
      "source": [
        "arr.shape"
      ]
    },
    {
      "cell_type": "code",
      "execution_count": null,
      "id": "d875bfd3",
      "metadata": {
        "id": "d875bfd3",
        "outputId": "928daab3-3713-46f0-b7ca-7d081e0b4ff2"
      },
      "outputs": [
        {
          "name": "stdout",
          "output_type": "stream",
          "text": [
            "Requirement already satisfied: pandas in c:\\users\\pc\\anaconda3\\lib\\site-packages (1.4.2)Note: you may need to restart the kernel to use updated packages.\n",
            "Requirement already satisfied: numpy>=1.18.5 in c:\\users\\pc\\anaconda3\\lib\\site-packages (from pandas) (1.24.3)\n",
            "Requirement already satisfied: python-dateutil>=2.8.1 in c:\\users\\pc\\anaconda3\\lib\\site-packages (from pandas) (2.8.2)\n",
            "Requirement already satisfied: pytz>=2020.1 in c:\\users\\pc\\anaconda3\\lib\\site-packages (from pandas) (2021.3)\n",
            "Requirement already satisfied: six>=1.5 in c:\\users\\pc\\anaconda3\\lib\\site-packages (from python-dateutil>=2.8.1->pandas) (1.16.0)\n",
            "\n"
          ]
        }
      ],
      "source": [
        "pip install pandas"
      ]
    },
    {
      "cell_type": "code",
      "execution_count": null,
      "id": "e200ec23",
      "metadata": {
        "id": "e200ec23"
      },
      "outputs": [],
      "source": [
        "import pandas as pd"
      ]
    },
    {
      "cell_type": "code",
      "execution_count": null,
      "id": "9e557521",
      "metadata": {
        "id": "9e557521",
        "outputId": "c37d0610-4014-4cc7-a9e4-1b1fd7849963"
      },
      "outputs": [
        {
          "name": "stdout",
          "output_type": "stream",
          "text": [
            "1.4.2\n"
          ]
        }
      ],
      "source": [
        "print(pd. __version__)"
      ]
    },
    {
      "cell_type": "code",
      "execution_count": null,
      "id": "8fea4e39",
      "metadata": {
        "id": "8fea4e39"
      },
      "outputs": [],
      "source": [
        "import numpy as np\n"
      ]
    },
    {
      "cell_type": "code",
      "execution_count": null,
      "id": "20806a68",
      "metadata": {
        "id": "20806a68",
        "outputId": "b8796769-9796-48c9-c8b9-d55bfe4d0ba7"
      },
      "outputs": [
        {
          "data": {
            "text/plain": [
              "array([ 25,  55,  85, 115, 145, 175, 205, 235, 265, 295, 325, 355, 385,\n",
              "       415, 445, 475])"
            ]
          },
          "execution_count": 118,
          "metadata": {},
          "output_type": "execute_result"
        }
      ],
      "source": [
        "arr1 = np.array(range(25,500,30))\n",
        "arr1"
      ]
    },
    {
      "cell_type": "code",
      "execution_count": null,
      "id": "ca5b2f8f",
      "metadata": {
        "id": "ca5b2f8f",
        "outputId": "227bf06f-631a-4aee-fe03-de72b07097c9"
      },
      "outputs": [
        {
          "data": {
            "text/plain": [
              "numpy.ndarray"
            ]
          },
          "execution_count": 119,
          "metadata": {},
          "output_type": "execute_result"
        }
      ],
      "source": [
        "type(arr1)"
      ]
    },
    {
      "cell_type": "code",
      "execution_count": null,
      "id": "d69bba9f",
      "metadata": {
        "id": "d69bba9f"
      },
      "outputs": [],
      "source": [
        "pd_S = pd.Series(arr1)"
      ]
    },
    {
      "cell_type": "code",
      "execution_count": null,
      "id": "0756e958",
      "metadata": {
        "id": "0756e958",
        "outputId": "631c7d69-9abb-47ef-e7a0-ce1321431eaa"
      },
      "outputs": [
        {
          "data": {
            "text/plain": [
              "0      25\n",
              "1      55\n",
              "2      85\n",
              "3     115\n",
              "4     145\n",
              "5     175\n",
              "6     205\n",
              "7     235\n",
              "8     265\n",
              "9     295\n",
              "10    325\n",
              "11    355\n",
              "12    385\n",
              "13    415\n",
              "14    445\n",
              "15    475\n",
              "dtype: int32"
            ]
          },
          "execution_count": 121,
          "metadata": {},
          "output_type": "execute_result"
        }
      ],
      "source": [
        "pd_S"
      ]
    },
    {
      "cell_type": "code",
      "execution_count": null,
      "id": "a64764d8",
      "metadata": {
        "id": "a64764d8"
      },
      "outputs": [],
      "source": [
        "data ={'Name':['Tom','Jack','Steve','Ricky'],'Age':[28,42,52,16]}"
      ]
    },
    {
      "cell_type": "code",
      "execution_count": null,
      "id": "485fd640",
      "metadata": {
        "id": "485fd640"
      },
      "outputs": [],
      "source": [
        "#### cretae a data frame\n",
        "df = pd.DataFrame(data)"
      ]
    },
    {
      "cell_type": "code",
      "execution_count": null,
      "id": "d6ceb359",
      "metadata": {
        "id": "d6ceb359",
        "outputId": "1682815f-a1b3-42fd-c944-0571f2b4ed58"
      },
      "outputs": [
        {
          "data": {
            "text/html": [
              "<div>\n",
              "<style scoped>\n",
              "    .dataframe tbody tr th:only-of-type {\n",
              "        vertical-align: middle;\n",
              "    }\n",
              "\n",
              "    .dataframe tbody tr th {\n",
              "        vertical-align: top;\n",
              "    }\n",
              "\n",
              "    .dataframe thead th {\n",
              "        text-align: right;\n",
              "    }\n",
              "</style>\n",
              "<table border=\"1\" class=\"dataframe\">\n",
              "  <thead>\n",
              "    <tr style=\"text-align: right;\">\n",
              "      <th></th>\n",
              "      <th>Name</th>\n",
              "      <th>Age</th>\n",
              "    </tr>\n",
              "  </thead>\n",
              "  <tbody>\n",
              "    <tr>\n",
              "      <th>0</th>\n",
              "      <td>Tom</td>\n",
              "      <td>28</td>\n",
              "    </tr>\n",
              "    <tr>\n",
              "      <th>1</th>\n",
              "      <td>Jack</td>\n",
              "      <td>42</td>\n",
              "    </tr>\n",
              "    <tr>\n",
              "      <th>2</th>\n",
              "      <td>Steve</td>\n",
              "      <td>52</td>\n",
              "    </tr>\n",
              "    <tr>\n",
              "      <th>3</th>\n",
              "      <td>Ricky</td>\n",
              "      <td>16</td>\n",
              "    </tr>\n",
              "  </tbody>\n",
              "</table>\n",
              "</div>"
            ],
            "text/plain": [
              "    Name  Age\n",
              "0    Tom   28\n",
              "1   Jack   42\n",
              "2  Steve   52\n",
              "3  Ricky   16"
            ]
          },
          "execution_count": 124,
          "metadata": {},
          "output_type": "execute_result"
        }
      ],
      "source": [
        "df"
      ]
    },
    {
      "cell_type": "code",
      "execution_count": null,
      "id": "a165c7e3",
      "metadata": {
        "id": "a165c7e3"
      },
      "outputs": [],
      "source": []
    }
  ],
  "metadata": {
    "kernelspec": {
      "display_name": "Python 3 (ipykernel)",
      "language": "python",
      "name": "python3"
    },
    "language_info": {
      "codemirror_mode": {
        "name": "ipython",
        "version": 3
      },
      "file_extension": ".py",
      "mimetype": "text/x-python",
      "name": "python",
      "nbconvert_exporter": "python",
      "pygments_lexer": "ipython3",
      "version": "3.9.12"
    },
    "colab": {
      "provenance": []
    }
  },
  "nbformat": 4,
  "nbformat_minor": 5
}