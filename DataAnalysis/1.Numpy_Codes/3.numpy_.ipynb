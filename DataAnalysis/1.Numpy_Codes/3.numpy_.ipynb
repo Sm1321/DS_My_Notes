{
  "cells": [
    {
      "cell_type": "code",
      "execution_count": null,
      "id": "0ea93d1c",
      "metadata": {
        "id": "0ea93d1c",
        "outputId": "ac089a17-4a84-4c06-ecec-a653850e029c"
      },
      "outputs": [
        {
          "name": "stdout",
          "output_type": "stream",
          "text": [
            "[10 11 12 13 14 15 16 17 18 19 20 21]\n",
            "(12,)\n"
          ]
        }
      ],
      "source": [
        "import numpy as np\n",
        "a = np.array(range(10,22))\n",
        "print(a)\n",
        "print(a.shape)"
      ]
    },
    {
      "cell_type": "code",
      "execution_count": null,
      "id": "66acce64",
      "metadata": {
        "id": "66acce64",
        "outputId": "8d2bb622-9b8f-43a7-e266-2172a4e25c19"
      },
      "outputs": [
        {
          "name": "stdout",
          "output_type": "stream",
          "text": [
            "(1, 12)\n",
            "2\n"
          ]
        }
      ],
      "source": [
        "b = a.reshape(1,12)\n",
        "print(b.shape)\n",
        "print(b.ndim)"
      ]
    },
    {
      "cell_type": "code",
      "execution_count": null,
      "id": "19a5f28c",
      "metadata": {
        "id": "19a5f28c",
        "outputId": "9970fcbb-48b2-4ab1-bcbe-25e1593acc31"
      },
      "outputs": [
        {
          "name": "stdout",
          "output_type": "stream",
          "text": [
            "(12, 1)\n",
            "2\n"
          ]
        }
      ],
      "source": [
        "b = a.reshape(12,1)\n",
        "print(b.shape)\n",
        "print(b.ndim)"
      ]
    },
    {
      "cell_type": "code",
      "execution_count": null,
      "id": "1148a131",
      "metadata": {
        "id": "1148a131",
        "outputId": "52530413-6361-4b66-f35d-fe6e0f9db0b6"
      },
      "outputs": [
        {
          "name": "stdout",
          "output_type": "stream",
          "text": [
            "(2, 6)\n",
            "2\n",
            "[[10 11 12 13 14 15]\n",
            " [16 17 18 19 20 21]]\n"
          ]
        }
      ],
      "source": [
        "b = a.reshape(2,6)\n",
        "print(b.shape)\n",
        "print(b.ndim)\n",
        "print(b)"
      ]
    },
    {
      "cell_type": "code",
      "execution_count": null,
      "id": "54edb71a",
      "metadata": {
        "id": "54edb71a",
        "outputId": "a61add96-442a-4d91-8c37-e64451cc9240"
      },
      "outputs": [
        {
          "name": "stdout",
          "output_type": "stream",
          "text": [
            "(6, 2)\n",
            "2\n",
            "[[10 11]\n",
            " [12 13]\n",
            " [14 15]\n",
            " [16 17]\n",
            " [18 19]\n",
            " [20 21]]\n"
          ]
        }
      ],
      "source": [
        "b = a.reshape(6,2)\n",
        "print(b.shape)\n",
        "print(b.ndim)\n",
        "print(b)"
      ]
    },
    {
      "cell_type": "code",
      "execution_count": null,
      "id": "6caa26f1",
      "metadata": {
        "id": "6caa26f1",
        "outputId": "4bf34d5d-e249-4557-a943-b3ce7aca8562"
      },
      "outputs": [
        {
          "name": "stdout",
          "output_type": "stream",
          "text": [
            "(3, 4)\n",
            "2\n",
            "[[10 11 12 13]\n",
            " [14 15 16 17]\n",
            " [18 19 20 21]]\n"
          ]
        }
      ],
      "source": [
        "b = a.reshape(3,4)\n",
        "print(b.shape)\n",
        "print(b.ndim)\n",
        "print(b)"
      ]
    },
    {
      "cell_type": "code",
      "execution_count": null,
      "id": "9e6437c9",
      "metadata": {
        "id": "9e6437c9",
        "outputId": "cf8881c9-50f9-4eba-cc2d-e9763ddf243b"
      },
      "outputs": [
        {
          "name": "stdout",
          "output_type": "stream",
          "text": [
            "(4, 3)\n",
            "2\n",
            "[[10 11 12]\n",
            " [13 14 15]\n",
            " [16 17 18]\n",
            " [19 20 21]]\n"
          ]
        }
      ],
      "source": [
        "b = a.reshape(4,3)\n",
        "print(b.shape)\n",
        "print(b.ndim)\n",
        "print(b)"
      ]
    },
    {
      "cell_type": "code",
      "execution_count": null,
      "id": "df4cb00f",
      "metadata": {
        "id": "df4cb00f",
        "outputId": "9d6e97ab-53b9-4e97-fdb5-cabff3609fb5"
      },
      "outputs": [
        {
          "data": {
            "text/plain": [
              "array([[10, -7,  0, 20],\n",
              "       [-5, 20,  0, 40],\n",
              "       [30,  1, -1,  4],\n",
              "       [ 1,  2,  0,  4],\n",
              "       [ 0,  1,  0,  2]])"
            ]
          },
          "execution_count": 10,
          "metadata": {},
          "output_type": "execute_result"
        }
      ],
      "source": [
        "c=np.array([[10,-7,0,20],[-5,20,0,40],[30,1,-1,4],[1,2,0,4],[0,1,0,2]])\n",
        "c"
      ]
    },
    {
      "cell_type": "code",
      "execution_count": null,
      "id": "141b1110",
      "metadata": {
        "id": "141b1110",
        "outputId": "381f92a2-7e69-4f74-d8e4-25715cb62aae"
      },
      "outputs": [
        {
          "data": {
            "text/plain": [
              "array([20, 40, 30,  4,  2])"
            ]
          },
          "execution_count": 11,
          "metadata": {},
          "output_type": "execute_result"
        }
      ],
      "source": [
        "arr1 = np.max(c,axis = 1)\n",
        "arr1"
      ]
    },
    {
      "cell_type": "code",
      "execution_count": null,
      "id": "cad91354",
      "metadata": {
        "id": "cad91354"
      },
      "outputs": [],
      "source": [
        "d = c.reshape(20)"
      ]
    },
    {
      "cell_type": "code",
      "execution_count": null,
      "id": "3e58ba40",
      "metadata": {
        "id": "3e58ba40",
        "outputId": "45e88cd8-de5c-4c8d-ae9f-3a7b508bb62f"
      },
      "outputs": [
        {
          "data": {
            "text/plain": [
              "array([10, -7,  0, 20, -5, 20,  0, 40, 30,  1, -1,  4,  1,  2,  0,  4,  0,\n",
              "        1,  0,  2])"
            ]
          },
          "execution_count": 13,
          "metadata": {},
          "output_type": "execute_result"
        }
      ],
      "source": [
        "d"
      ]
    },
    {
      "cell_type": "code",
      "execution_count": null,
      "id": "fef5cb97",
      "metadata": {
        "id": "fef5cb97",
        "outputId": "22598378-4d80-4038-ed9f-6867bd12f729"
      },
      "outputs": [
        {
          "data": {
            "text/plain": [
              "array([10, -7,  0, 20, -5, 20,  0, 40, 30,  1, -1,  4,  1,  2,  0,  4,  0,\n",
              "        1,  0,  2])"
            ]
          },
          "execution_count": 14,
          "metadata": {},
          "output_type": "execute_result"
        }
      ],
      "source": [
        "c.reshape(-1)"
      ]
    },
    {
      "cell_type": "code",
      "execution_count": null,
      "id": "5d48fe93",
      "metadata": {
        "id": "5d48fe93",
        "outputId": "c096c49c-4d3a-424c-d342-7ffe10d34b44"
      },
      "outputs": [
        {
          "data": {
            "text/plain": [
              "array([[10, -7,  0, 20],\n",
              "       [-5, 20,  0, 40],\n",
              "       [30,  1, -1,  4],\n",
              "       [ 1,  2,  0,  4],\n",
              "       [ 0,  1,  0,  2]])"
            ]
          },
          "execution_count": 16,
          "metadata": {},
          "output_type": "execute_result"
        }
      ],
      "source": [
        "#### Print the values which are greater than 0 from array c\n",
        "c"
      ]
    },
    {
      "cell_type": "code",
      "execution_count": null,
      "id": "bf9e585c",
      "metadata": {
        "id": "bf9e585c",
        "outputId": "29c8b888-6bf1-4a0c-91da-4f3b03e40538"
      },
      "outputs": [
        {
          "data": {
            "text/plain": [
              "array([10, -7,  0, 20, -5, 20,  0, 40, 30,  1, -1,  4,  1,  2,  0,  4,  0,\n",
              "        1,  0,  2])"
            ]
          },
          "execution_count": 17,
          "metadata": {},
          "output_type": "execute_result"
        }
      ],
      "source": [
        "arr1 = c.reshape(-1)\n",
        "arr1"
      ]
    },
    {
      "cell_type": "code",
      "execution_count": null,
      "id": "4902cdc5",
      "metadata": {
        "id": "4902cdc5",
        "outputId": "3c1c6726-0049-4b61-9b5e-aa7519e5fe45"
      },
      "outputs": [
        {
          "data": {
            "text/plain": [
              "array([10, 20, 20, 40, 30,  1,  4,  1,  2,  4,  1,  2])"
            ]
          },
          "execution_count": 18,
          "metadata": {},
          "output_type": "execute_result"
        }
      ],
      "source": [
        "#### Print the values which are greater than 0 from array arr1\n",
        "arr1[arr1>0]\n"
      ]
    },
    {
      "cell_type": "code",
      "execution_count": null,
      "id": "650d9a9d",
      "metadata": {
        "id": "650d9a9d",
        "outputId": "126b2a8e-5f84-4bce-a910-8980f5a18927"
      },
      "outputs": [
        {
          "data": {
            "text/plain": [
              "array([10, -7,  0, 20, -5, 20,  0, 40, 30,  1, -1,  4,  1,  2,  0,  4,  0,\n",
              "        1,  0,  2])"
            ]
          },
          "execution_count": 20,
          "metadata": {},
          "output_type": "execute_result"
        }
      ],
      "source": [
        "arr1"
      ]
    },
    {
      "cell_type": "code",
      "execution_count": null,
      "id": "8755cab1",
      "metadata": {
        "id": "8755cab1",
        "outputId": "bc132d31-4992-406c-e79f-102ac1b7ae28"
      },
      "outputs": [
        {
          "data": {
            "text/plain": [
              "array([ True, False, False,  True, False,  True, False,  True,  True,\n",
              "        True, False,  True,  True,  True, False,  True, False,  True,\n",
              "       False,  True])"
            ]
          },
          "execution_count": 19,
          "metadata": {},
          "output_type": "execute_result"
        }
      ],
      "source": [
        "arr1>0"
      ]
    },
    {
      "cell_type": "code",
      "execution_count": null,
      "id": "2c9c0456",
      "metadata": {
        "id": "2c9c0456"
      },
      "outputs": [],
      "source": [
        "#### print the values 4 & 20"
      ]
    },
    {
      "cell_type": "code",
      "execution_count": null,
      "id": "39634e28",
      "metadata": {
        "id": "39634e28",
        "outputId": "10e27118-5f6e-4696-9835-9e69ef83cbcc"
      },
      "outputs": [
        {
          "data": {
            "text/plain": [
              "array([10, 20, 20])"
            ]
          },
          "execution_count": 22,
          "metadata": {},
          "output_type": "execute_result"
        }
      ],
      "source": [
        "arr1[(arr1>4) & (arr1<=20)]"
      ]
    },
    {
      "cell_type": "code",
      "execution_count": null,
      "id": "3277c13d",
      "metadata": {
        "id": "3277c13d",
        "outputId": "65f377c5-b25a-4a3d-a342-033c165050c6"
      },
      "outputs": [
        {
          "data": {
            "text/plain": [
              "array([10, 20, 20])"
            ]
          },
          "execution_count": 23,
          "metadata": {},
          "output_type": "execute_result"
        }
      ],
      "source": [
        "temp=arr1[(arr1>4) & (arr1<=20)]\n",
        "temp"
      ]
    },
    {
      "cell_type": "code",
      "execution_count": null,
      "id": "f97483df",
      "metadata": {
        "id": "f97483df"
      },
      "outputs": [],
      "source": [
        "arr2 = np.array([1,2,3,4,5,4,4,5,4,56,56,67,4])"
      ]
    },
    {
      "cell_type": "code",
      "execution_count": null,
      "id": "bcce41a3",
      "metadata": {
        "id": "bcce41a3",
        "outputId": "df8522bc-536e-4e33-c70e-568de65d4bd1"
      },
      "outputs": [
        {
          "name": "stdout",
          "output_type": "stream",
          "text": [
            "3\n",
            "5\n",
            "6\n",
            "8\n",
            "12\n"
          ]
        }
      ],
      "source": [
        "for i in range(len(arr2)):\n",
        "    if arr2[i]==4:\n",
        "        print(i)"
      ]
    },
    {
      "cell_type": "code",
      "execution_count": null,
      "id": "05d51df1",
      "metadata": {
        "id": "05d51df1"
      },
      "outputs": [],
      "source": [
        "x = np.where(arr2==4)"
      ]
    },
    {
      "cell_type": "code",
      "execution_count": null,
      "id": "dac18422",
      "metadata": {
        "id": "dac18422",
        "outputId": "a50089f4-e698-4b27-d7a4-36de05f35af0"
      },
      "outputs": [
        {
          "data": {
            "text/plain": [
              "(array([ 3,  5,  6,  8, 12], dtype=int64),)"
            ]
          },
          "execution_count": 28,
          "metadata": {},
          "output_type": "execute_result"
        }
      ],
      "source": [
        "x"
      ]
    },
    {
      "cell_type": "code",
      "execution_count": null,
      "id": "3d337193",
      "metadata": {
        "id": "3d337193",
        "outputId": "7daf9828-0f21-4324-bee2-ff4b695dfd3a"
      },
      "outputs": [
        {
          "data": {
            "text/plain": [
              "array([False, False, False,  True, False,  True,  True, False,  True,\n",
              "       False, False, False,  True])"
            ]
          },
          "execution_count": 29,
          "metadata": {},
          "output_type": "execute_result"
        }
      ],
      "source": [
        "arr2==4"
      ]
    },
    {
      "cell_type": "code",
      "execution_count": null,
      "id": "257d2db5",
      "metadata": {
        "id": "257d2db5",
        "outputId": "3c1b3843-006f-4a37-8456-a076ae458f35"
      },
      "outputs": [
        {
          "data": {
            "text/plain": [
              "array([4, 4, 4, 4, 4])"
            ]
          },
          "execution_count": 30,
          "metadata": {},
          "output_type": "execute_result"
        }
      ],
      "source": [
        "arr2[x]"
      ]
    },
    {
      "cell_type": "code",
      "execution_count": null,
      "id": "8bcc8ddf",
      "metadata": {
        "id": "8bcc8ddf",
        "outputId": "d885b42a-0e39-4f06-d9d4-d62f8c013eec"
      },
      "outputs": [
        {
          "data": {
            "text/plain": [
              "array([ 1,  2,  3,  4,  5,  4,  4,  5,  4, 56, 56, 67,  4])"
            ]
          },
          "execution_count": 31,
          "metadata": {},
          "output_type": "execute_result"
        }
      ],
      "source": [
        "arr2"
      ]
    },
    {
      "cell_type": "code",
      "execution_count": null,
      "id": "2e2f5a90",
      "metadata": {
        "id": "2e2f5a90"
      },
      "outputs": [],
      "source": [
        "#### print the indices which are divisible by 4\n",
        "x = np.where(arr2%4==0)"
      ]
    },
    {
      "cell_type": "code",
      "execution_count": null,
      "id": "29384fd3",
      "metadata": {
        "id": "29384fd3",
        "outputId": "c1086aeb-991d-49b6-db62-87bd867bdbc8"
      },
      "outputs": [
        {
          "data": {
            "text/plain": [
              "(array([ 3,  5,  6,  8,  9, 10, 12], dtype=int64),)"
            ]
          },
          "execution_count": 34,
          "metadata": {},
          "output_type": "execute_result"
        }
      ],
      "source": [
        "x"
      ]
    },
    {
      "cell_type": "code",
      "execution_count": null,
      "id": "90816233",
      "metadata": {
        "id": "90816233",
        "outputId": "9e8c78a7-3e1b-4364-811d-57b389df67d4"
      },
      "outputs": [
        {
          "data": {
            "text/plain": [
              "array([ 4,  4,  4,  4, 56, 56,  4])"
            ]
          },
          "execution_count": 35,
          "metadata": {},
          "output_type": "execute_result"
        }
      ],
      "source": [
        "arr2[x]"
      ]
    },
    {
      "cell_type": "code",
      "execution_count": null,
      "id": "7f76ccdf",
      "metadata": {
        "id": "7f76ccdf"
      },
      "outputs": [],
      "source": [
        "temp= np.where(arr2>50)"
      ]
    },
    {
      "cell_type": "code",
      "execution_count": null,
      "id": "f7b40b73",
      "metadata": {
        "id": "f7b40b73",
        "outputId": "7d73083b-190e-411f-8b4d-3e404fb70253"
      },
      "outputs": [
        {
          "data": {
            "text/plain": [
              "array([56, 56, 67])"
            ]
          },
          "execution_count": 37,
          "metadata": {},
          "output_type": "execute_result"
        }
      ],
      "source": [
        "arr2[temp]"
      ]
    },
    {
      "cell_type": "code",
      "execution_count": null,
      "id": "1256389d",
      "metadata": {
        "id": "1256389d",
        "outputId": "3961ff56-148a-4da2-9614-4077c867b8cf"
      },
      "outputs": [
        {
          "data": {
            "text/plain": [
              "array([[10, -7,  0, 20],\n",
              "       [-5, 20,  0, 40],\n",
              "       [30,  1, -1,  4],\n",
              "       [ 1,  2,  0,  4],\n",
              "       [ 0,  1,  0,  2]])"
            ]
          },
          "execution_count": 38,
          "metadata": {},
          "output_type": "execute_result"
        }
      ],
      "source": [
        "arr=np.array([[10,-7,0,20],[-5,20,0,40],[30,1,-1,4],[1,2,0,4],[0,1,0,2]])\n",
        "arr"
      ]
    },
    {
      "cell_type": "code",
      "execution_count": null,
      "id": "0c00529b",
      "metadata": {
        "id": "0c00529b"
      },
      "outputs": [],
      "source": [
        "arr_t=np.transpose(arr)"
      ]
    },
    {
      "cell_type": "code",
      "execution_count": null,
      "id": "aaf47129",
      "metadata": {
        "id": "aaf47129",
        "outputId": "55dba678-d814-48c7-c815-d27307f2be73"
      },
      "outputs": [
        {
          "name": "stdout",
          "output_type": "stream",
          "text": [
            "[[10 -7  0 20]\n",
            " [-5 20  0 40]\n",
            " [30  1 -1  4]\n",
            " [ 1  2  0  4]\n",
            " [ 0  1  0  2]]\n",
            "[[10 -5 30  1  0]\n",
            " [-7 20  1  2  1]\n",
            " [ 0  0 -1  0  0]\n",
            " [20 40  4  4  2]]\n"
          ]
        }
      ],
      "source": [
        "print(arr)\n",
        "print(arr_t)"
      ]
    },
    {
      "cell_type": "code",
      "execution_count": null,
      "id": "7234c077",
      "metadata": {
        "id": "7234c077",
        "outputId": "11215120-6bd4-4828-ce76-1375933f2905"
      },
      "outputs": [
        {
          "name": "stdout",
          "output_type": "stream",
          "text": [
            "(5, 4)\n",
            "(4, 5)\n"
          ]
        }
      ],
      "source": [
        "print(arr.shape)\n",
        "print(arr_t.shape)"
      ]
    },
    {
      "cell_type": "code",
      "execution_count": null,
      "id": "de8b20dc",
      "metadata": {
        "id": "de8b20dc",
        "outputId": "367703a1-fdb1-4ebf-aee9-0da7e25677bf"
      },
      "outputs": [
        {
          "name": "stdout",
          "output_type": "stream",
          "text": [
            "[50 51 52 53 54 55 56 57 58 59 60 61 62 63 64 65 66 67 68 69 70 71 72 73\n",
            " 74 75 76 77 78 79 80 81 82 83 84 85 86 87 88 89 90 91 92 93 94 95 96 97\n",
            " 98 99]\n"
          ]
        },
        {
          "data": {
            "text/plain": [
              "array([[50, 51, 52, 53, 54, 55, 56, 57, 58, 59],\n",
              "       [60, 61, 62, 63, 64, 65, 66, 67, 68, 69],\n",
              "       [70, 71, 72, 73, 74, 75, 76, 77, 78, 79],\n",
              "       [80, 81, 82, 83, 84, 85, 86, 87, 88, 89],\n",
              "       [90, 91, 92, 93, 94, 95, 96, 97, 98, 99]])"
            ]
          },
          "execution_count": 43,
          "metadata": {},
          "output_type": "execute_result"
        }
      ],
      "source": [
        "arr1=np.array(range(50,100))\n",
        "print(arr1)\n",
        "arr1.reshape(5,10)"
      ]
    },
    {
      "cell_type": "code",
      "execution_count": null,
      "id": "f80121ef",
      "metadata": {
        "id": "f80121ef"
      },
      "outputs": [],
      "source": [
        "arr2=arr1.reshape(5,5,2)"
      ]
    },
    {
      "cell_type": "code",
      "execution_count": null,
      "id": "1f34a415",
      "metadata": {
        "id": "1f34a415",
        "outputId": "fd3a0c95-a934-4130-d3a9-f940bc7338b4"
      },
      "outputs": [
        {
          "data": {
            "text/plain": [
              "array([[[50, 51],\n",
              "        [52, 53],\n",
              "        [54, 55],\n",
              "        [56, 57],\n",
              "        [58, 59]],\n",
              "\n",
              "       [[60, 61],\n",
              "        [62, 63],\n",
              "        [64, 65],\n",
              "        [66, 67],\n",
              "        [68, 69]],\n",
              "\n",
              "       [[70, 71],\n",
              "        [72, 73],\n",
              "        [74, 75],\n",
              "        [76, 77],\n",
              "        [78, 79]],\n",
              "\n",
              "       [[80, 81],\n",
              "        [82, 83],\n",
              "        [84, 85],\n",
              "        [86, 87],\n",
              "        [88, 89]],\n",
              "\n",
              "       [[90, 91],\n",
              "        [92, 93],\n",
              "        [94, 95],\n",
              "        [96, 97],\n",
              "        [98, 99]]])"
            ]
          },
          "execution_count": 45,
          "metadata": {},
          "output_type": "execute_result"
        }
      ],
      "source": [
        "arr2"
      ]
    },
    {
      "cell_type": "code",
      "execution_count": null,
      "id": "2a2fa4a4",
      "metadata": {
        "id": "2a2fa4a4"
      },
      "outputs": [],
      "source": [
        "arr2=arr1.reshape(5,2,5)"
      ]
    },
    {
      "cell_type": "code",
      "execution_count": null,
      "id": "44a6be50",
      "metadata": {
        "id": "44a6be50",
        "outputId": "8d283334-66ad-4f01-952a-218ae031f8aa"
      },
      "outputs": [
        {
          "data": {
            "text/plain": [
              "array([[[50, 51, 52, 53, 54],\n",
              "        [55, 56, 57, 58, 59]],\n",
              "\n",
              "       [[60, 61, 62, 63, 64],\n",
              "        [65, 66, 67, 68, 69]],\n",
              "\n",
              "       [[70, 71, 72, 73, 74],\n",
              "        [75, 76, 77, 78, 79]],\n",
              "\n",
              "       [[80, 81, 82, 83, 84],\n",
              "        [85, 86, 87, 88, 89]],\n",
              "\n",
              "       [[90, 91, 92, 93, 94],\n",
              "        [95, 96, 97, 98, 99]]])"
            ]
          },
          "execution_count": 47,
          "metadata": {},
          "output_type": "execute_result"
        }
      ],
      "source": [
        "arr2"
      ]
    },
    {
      "cell_type": "code",
      "execution_count": null,
      "id": "bc217914",
      "metadata": {
        "id": "bc217914"
      },
      "outputs": [],
      "source": []
    }
  ],
  "metadata": {
    "kernelspec": {
      "display_name": "Python 3 (ipykernel)",
      "language": "python",
      "name": "python3"
    },
    "language_info": {
      "codemirror_mode": {
        "name": "ipython",
        "version": 3
      },
      "file_extension": ".py",
      "mimetype": "text/x-python",
      "name": "python",
      "nbconvert_exporter": "python",
      "pygments_lexer": "ipython3",
      "version": "3.9.12"
    },
    "colab": {
      "provenance": []
    }
  },
  "nbformat": 4,
  "nbformat_minor": 5
}