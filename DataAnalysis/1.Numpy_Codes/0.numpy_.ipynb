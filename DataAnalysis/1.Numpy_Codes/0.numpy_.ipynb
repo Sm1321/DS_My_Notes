{
  "cells": [
    {
      "cell_type": "code",
      "execution_count": null,
      "id": "44f9bd48",
      "metadata": {
        "id": "44f9bd48"
      },
      "outputs": [],
      "source": [
        "from PIL import Image\n",
        "im = Image.open('flower.jpg')\n",
        "im.show()"
      ]
    },
    {
      "cell_type": "code",
      "execution_count": null,
      "id": "bf2cb6a6",
      "metadata": {
        "id": "bf2cb6a6",
        "outputId": "cd8ac54a-3c22-42f2-bb12-f166b1db9919"
      },
      "outputs": [
        {
          "name": "stdout",
          "output_type": "stream",
          "text": [
            "<PIL.JpegImagePlugin.JpegImageFile image mode=RGB size=275x183 at 0x2ABCC438AF0>\n"
          ]
        }
      ],
      "source": [
        "print(im)"
      ]
    },
    {
      "cell_type": "code",
      "execution_count": null,
      "id": "4438926e",
      "metadata": {
        "id": "4438926e",
        "outputId": "e4e2cd55-6dc6-4211-cf44-28d00b303b6e"
      },
      "outputs": [
        {
          "ename": "AttributeError",
          "evalue": "shape",
          "output_type": "error",
          "traceback": [
            "\u001b[1;31m---------------------------------------------------------------------------\u001b[0m",
            "\u001b[1;31mAttributeError\u001b[0m                            Traceback (most recent call last)",
            "Input \u001b[1;32mIn [3]\u001b[0m, in \u001b[0;36m<cell line: 1>\u001b[1;34m()\u001b[0m\n\u001b[1;32m----> 1\u001b[0m \u001b[43mim\u001b[49m\u001b[38;5;241;43m.\u001b[39;49m\u001b[43mshape\u001b[49m()\n",
            "File \u001b[1;32m~\\anaconda3\\lib\\site-packages\\PIL\\Image.py:519\u001b[0m, in \u001b[0;36mImage.__getattr__\u001b[1;34m(self, name)\u001b[0m\n\u001b[0;32m    512\u001b[0m     warnings\u001b[38;5;241m.\u001b[39mwarn(\n\u001b[0;32m    513\u001b[0m         \u001b[38;5;124m\"\u001b[39m\u001b[38;5;124mImage categories are deprecated and will be removed in Pillow 10 \u001b[39m\u001b[38;5;124m\"\u001b[39m\n\u001b[0;32m    514\u001b[0m         \u001b[38;5;124m\"\u001b[39m\u001b[38;5;124m(2023-07-01). Use is_animated instead.\u001b[39m\u001b[38;5;124m\"\u001b[39m,\n\u001b[0;32m    515\u001b[0m         \u001b[38;5;167;01mDeprecationWarning\u001b[39;00m,\n\u001b[0;32m    516\u001b[0m         stacklevel\u001b[38;5;241m=\u001b[39m\u001b[38;5;241m2\u001b[39m,\n\u001b[0;32m    517\u001b[0m     )\n\u001b[0;32m    518\u001b[0m     \u001b[38;5;28;01mreturn\u001b[39;00m \u001b[38;5;28mself\u001b[39m\u001b[38;5;241m.\u001b[39m_category\n\u001b[1;32m--> 519\u001b[0m \u001b[38;5;28;01mraise\u001b[39;00m \u001b[38;5;167;01mAttributeError\u001b[39;00m(name)\n",
            "\u001b[1;31mAttributeError\u001b[0m: shape"
          ]
        }
      ],
      "source": [
        "im.shape()"
      ]
    },
    {
      "cell_type": "code",
      "execution_count": null,
      "id": "c3fca1ce",
      "metadata": {
        "id": "c3fca1ce",
        "outputId": "0624f317-bcd6-4b69-8576-b584013736a7"
      },
      "outputs": [
        {
          "name": "stdout",
          "output_type": "stream",
          "text": [
            "Requirement already satisfied: numpy in c:\\users\\pc\\anaconda3\\lib\\site-packages (1.24.3)Note: you may need to restart the kernel to use updated packages.\n",
            "\n"
          ]
        }
      ],
      "source": [
        "pip install numpy"
      ]
    },
    {
      "cell_type": "code",
      "execution_count": null,
      "id": "236b7cf5",
      "metadata": {
        "id": "236b7cf5"
      },
      "outputs": [],
      "source": [
        "import numpy"
      ]
    },
    {
      "cell_type": "code",
      "execution_count": null,
      "id": "acb7b612",
      "metadata": {
        "id": "acb7b612"
      },
      "outputs": [],
      "source": [
        "import numpy as np"
      ]
    },
    {
      "cell_type": "code",
      "execution_count": null,
      "id": "3025ecee",
      "metadata": {
        "id": "3025ecee",
        "outputId": "b3fcfc1c-55ea-47e9-8254-47dc96369f8d"
      },
      "outputs": [
        {
          "name": "stdout",
          "output_type": "stream",
          "text": [
            "1.24.3\n"
          ]
        }
      ],
      "source": [
        "print(np.__version__)"
      ]
    },
    {
      "cell_type": "code",
      "execution_count": null,
      "id": "e6884170",
      "metadata": {
        "id": "e6884170",
        "outputId": "de236233-de48-45d4-eb48-4d3d4f66081c"
      },
      "outputs": [
        {
          "name": "stdout",
          "output_type": "stream",
          "text": [
            "Requirement already satisfied: numpy==1.24.3 in c:\\users\\pc\\anaconda3\\lib\\site-packages (1.24.3)\n",
            "Note: you may need to restart the kernel to use updated packages.\n"
          ]
        }
      ],
      "source": [
        "pip install numpy==1.24.3"
      ]
    },
    {
      "cell_type": "code",
      "execution_count": null,
      "id": "07b12f46",
      "metadata": {
        "id": "07b12f46",
        "outputId": "c366f7e5-b9ce-4370-e809-8cd41199bb95"
      },
      "outputs": [
        {
          "data": {
            "text/plain": [
              "array([3, 5, 9])"
            ]
          },
          "execution_count": 9,
          "metadata": {},
          "output_type": "execute_result"
        }
      ],
      "source": [
        "arr1 = np.array([3,5,9])\n",
        "arr1"
      ]
    },
    {
      "cell_type": "code",
      "execution_count": null,
      "id": "0fcfe747",
      "metadata": {
        "id": "0fcfe747",
        "outputId": "81a8fba8-f15c-4e8b-a18f-84ed8b32d313"
      },
      "outputs": [
        {
          "data": {
            "text/plain": [
              "(3,)"
            ]
          },
          "execution_count": 15,
          "metadata": {},
          "output_type": "execute_result"
        }
      ],
      "source": [
        "## Shape of the array\n",
        "arr1.shape"
      ]
    },
    {
      "cell_type": "code",
      "execution_count": null,
      "id": "b5006146",
      "metadata": {
        "id": "b5006146",
        "outputId": "10563f6e-c6d5-416a-cdad-413046bbc058"
      },
      "outputs": [
        {
          "data": {
            "text/plain": [
              "1"
            ]
          },
          "execution_count": 16,
          "metadata": {},
          "output_type": "execute_result"
        }
      ],
      "source": [
        "### Check dimensions\n",
        "arr1.ndim"
      ]
    },
    {
      "cell_type": "code",
      "execution_count": null,
      "id": "8db21e5a",
      "metadata": {
        "id": "8db21e5a",
        "outputId": "891c3c66-638b-4d1a-d913-5bb12f34e639"
      },
      "outputs": [
        {
          "data": {
            "text/plain": [
              "numpy.ndarray"
            ]
          },
          "execution_count": 17,
          "metadata": {},
          "output_type": "execute_result"
        }
      ],
      "source": [
        "type(arr1)"
      ]
    },
    {
      "cell_type": "code",
      "execution_count": null,
      "id": "c73f2453",
      "metadata": {
        "id": "c73f2453"
      },
      "outputs": [],
      "source": [
        "arr2 = np.array([[1,2,3,4],\n",
        "                [5,6,7,8]])"
      ]
    },
    {
      "cell_type": "code",
      "execution_count": null,
      "id": "360abc3f",
      "metadata": {
        "id": "360abc3f",
        "outputId": "93386581-0c49-4e65-96d6-c12a8dda7a20"
      },
      "outputs": [
        {
          "data": {
            "text/plain": [
              "array([[1, 2, 3, 4],\n",
              "       [5, 6, 7, 8]])"
            ]
          },
          "execution_count": 11,
          "metadata": {},
          "output_type": "execute_result"
        }
      ],
      "source": [
        "arr2"
      ]
    },
    {
      "cell_type": "code",
      "execution_count": null,
      "id": "f813d280",
      "metadata": {
        "id": "f813d280",
        "outputId": "9229363c-c8c5-48af-a99c-3de6bd42316a"
      },
      "outputs": [
        {
          "data": {
            "text/plain": [
              "(2, 4)"
            ]
          },
          "execution_count": 18,
          "metadata": {},
          "output_type": "execute_result"
        }
      ],
      "source": [
        "arr2.shape"
      ]
    },
    {
      "cell_type": "code",
      "execution_count": null,
      "id": "f3589141",
      "metadata": {
        "id": "f3589141",
        "outputId": "436c95b5-3937-48f4-89ad-f18ed4080c4f"
      },
      "outputs": [
        {
          "data": {
            "text/plain": [
              "2"
            ]
          },
          "execution_count": 19,
          "metadata": {},
          "output_type": "execute_result"
        }
      ],
      "source": [
        "arr2.ndim"
      ]
    },
    {
      "cell_type": "code",
      "execution_count": null,
      "id": "9900bf78",
      "metadata": {
        "id": "9900bf78",
        "outputId": "fc81196c-54a5-4218-90f6-d9461cd16bae"
      },
      "outputs": [
        {
          "data": {
            "text/plain": [
              "numpy.ndarray"
            ]
          },
          "execution_count": 20,
          "metadata": {},
          "output_type": "execute_result"
        }
      ],
      "source": [
        "type(arr2)"
      ]
    },
    {
      "cell_type": "code",
      "execution_count": null,
      "id": "26889b38",
      "metadata": {
        "id": "26889b38",
        "outputId": "2c2006d3-68cb-4d94-cb4d-ef46c6deb014"
      },
      "outputs": [
        {
          "data": {
            "text/plain": [
              "8"
            ]
          },
          "execution_count": 27,
          "metadata": {},
          "output_type": "execute_result"
        }
      ],
      "source": [
        "arr2.size"
      ]
    },
    {
      "cell_type": "code",
      "execution_count": null,
      "id": "62cc762e",
      "metadata": {
        "id": "62cc762e",
        "outputId": "712fa7c8-91bf-4756-c23c-092fe0d2183d"
      },
      "outputs": [
        {
          "name": "stdout",
          "output_type": "stream",
          "text": [
            "[[ 1  4  8]\n",
            " [ 9  2 -1]\n",
            " [ 3  5  7]]\n"
          ]
        }
      ],
      "source": [
        "arr3 = np.array([[1,4,8],[9,2,-1],[3,5,7]])\n",
        "print(arr3)"
      ]
    },
    {
      "cell_type": "code",
      "execution_count": null,
      "id": "cb2108a7",
      "metadata": {
        "id": "cb2108a7",
        "outputId": "89525204-086b-4096-b498-a4bc67a1eb03"
      },
      "outputs": [
        {
          "data": {
            "text/plain": [
              "2"
            ]
          },
          "execution_count": 21,
          "metadata": {},
          "output_type": "execute_result"
        }
      ],
      "source": [
        "arr3.ndim"
      ]
    },
    {
      "cell_type": "code",
      "execution_count": null,
      "id": "3e5a1a9f",
      "metadata": {
        "id": "3e5a1a9f",
        "outputId": "1ffe0262-b0c0-43c9-978f-f0611f17992f"
      },
      "outputs": [
        {
          "data": {
            "text/plain": [
              "(3, 3)"
            ]
          },
          "execution_count": 22,
          "metadata": {},
          "output_type": "execute_result"
        }
      ],
      "source": [
        "arr3.shape"
      ]
    },
    {
      "cell_type": "code",
      "execution_count": null,
      "id": "f74de498",
      "metadata": {
        "id": "f74de498",
        "outputId": "de5b93b7-1dc6-43c5-83e3-53a5af08934b"
      },
      "outputs": [
        {
          "data": {
            "text/plain": [
              "9"
            ]
          },
          "execution_count": 26,
          "metadata": {},
          "output_type": "execute_result"
        }
      ],
      "source": [
        "arr3.size"
      ]
    },
    {
      "cell_type": "code",
      "execution_count": null,
      "id": "c32a1cf8",
      "metadata": {
        "id": "c32a1cf8"
      },
      "outputs": [],
      "source": [
        "arr4 =np.array([[[1,4,8],[9,2,-1],[3,5,7]],[[-1,-4,-8],[-9,-2,1],[-3,-5,-7]]])"
      ]
    },
    {
      "cell_type": "code",
      "execution_count": null,
      "id": "ee29ea32",
      "metadata": {
        "id": "ee29ea32",
        "outputId": "2d1ef87b-2a5c-42a8-f523-c87943c8f302"
      },
      "outputs": [
        {
          "data": {
            "text/plain": [
              "array([[[ 1,  4,  8],\n",
              "        [ 9,  2, -1],\n",
              "        [ 3,  5,  7]],\n",
              "\n",
              "       [[-1, -4, -8],\n",
              "        [-9, -2,  1],\n",
              "        [-3, -5, -7]]])"
            ]
          },
          "execution_count": 14,
          "metadata": {},
          "output_type": "execute_result"
        }
      ],
      "source": [
        "arr4"
      ]
    },
    {
      "cell_type": "code",
      "execution_count": null,
      "id": "647c5eb1",
      "metadata": {
        "id": "647c5eb1",
        "outputId": "b04b219d-7ba3-4ac8-f85c-444908a78e27"
      },
      "outputs": [
        {
          "data": {
            "text/plain": [
              "3"
            ]
          },
          "execution_count": 23,
          "metadata": {},
          "output_type": "execute_result"
        }
      ],
      "source": [
        "arr4.ndim"
      ]
    },
    {
      "cell_type": "code",
      "execution_count": null,
      "id": "f361d139",
      "metadata": {
        "id": "f361d139",
        "outputId": "7b646e99-0d30-4469-e7ca-0e9b991854f9"
      },
      "outputs": [
        {
          "data": {
            "text/plain": [
              "(2, 3, 3)"
            ]
          },
          "execution_count": 24,
          "metadata": {},
          "output_type": "execute_result"
        }
      ],
      "source": [
        "arr4.shape"
      ]
    },
    {
      "cell_type": "code",
      "execution_count": null,
      "id": "35f40770",
      "metadata": {
        "id": "35f40770",
        "outputId": "fe2a1cc1-7d0e-4e1b-eee9-4de030bb476e"
      },
      "outputs": [
        {
          "data": {
            "text/plain": [
              "18"
            ]
          },
          "execution_count": 25,
          "metadata": {},
          "output_type": "execute_result"
        }
      ],
      "source": [
        "arr4.size"
      ]
    },
    {
      "cell_type": "code",
      "execution_count": null,
      "id": "69787fde",
      "metadata": {
        "id": "69787fde",
        "outputId": "6ccb7b8d-d268-46ca-ce61-6cc1a27b3647"
      },
      "outputs": [
        {
          "data": {
            "text/plain": [
              "array([1., 2., 3., 4.])"
            ]
          },
          "execution_count": 28,
          "metadata": {},
          "output_type": "execute_result"
        }
      ],
      "source": [
        "### Create array with data type\n",
        "arr5 = np.array([1,2,3,4],dtype='float')\n",
        "arr5"
      ]
    },
    {
      "cell_type": "code",
      "execution_count": null,
      "id": "6250fd95",
      "metadata": {
        "id": "6250fd95",
        "outputId": "7657ed3d-9134-44a6-a724-ebf85da3faa0"
      },
      "outputs": [
        {
          "data": {
            "text/plain": [
              "array([ 1, 32,  3,  4])"
            ]
          },
          "execution_count": 29,
          "metadata": {},
          "output_type": "execute_result"
        }
      ],
      "source": [
        "### Create array with data type\n",
        "arr6 = np.array([1.39,32.256,3.96,4.89],dtype='int32')\n",
        "arr6"
      ]
    },
    {
      "cell_type": "code",
      "execution_count": null,
      "id": "971e79c2",
      "metadata": {
        "id": "971e79c2",
        "outputId": "3a51ea91-187f-4252-82cf-e5399ec3261b"
      },
      "outputs": [
        {
          "data": {
            "text/plain": [
              "4"
            ]
          },
          "execution_count": 30,
          "metadata": {},
          "output_type": "execute_result"
        }
      ],
      "source": [
        "len(arr6)"
      ]
    },
    {
      "cell_type": "code",
      "execution_count": null,
      "id": "a56b79a8",
      "metadata": {
        "id": "a56b79a8",
        "outputId": "b2d8d3e5-7617-4534-9816-2baf47be221c"
      },
      "outputs": [
        {
          "data": {
            "text/plain": [
              "2"
            ]
          },
          "execution_count": 31,
          "metadata": {},
          "output_type": "execute_result"
        }
      ],
      "source": [
        "len(arr4)"
      ]
    },
    {
      "cell_type": "code",
      "execution_count": null,
      "id": "cda7ec38",
      "metadata": {
        "id": "cda7ec38",
        "outputId": "7a68438b-8522-498b-d796-274bf414f084"
      },
      "outputs": [
        {
          "data": {
            "text/plain": [
              "array([ 1, 32,  3,  4])"
            ]
          },
          "execution_count": 32,
          "metadata": {},
          "output_type": "execute_result"
        }
      ],
      "source": [
        "### Create array with data type\n",
        "arr6 = np.array([1.39,32.256,3.96,4.89],dtype='int')\n",
        "arr6"
      ]
    },
    {
      "cell_type": "code",
      "execution_count": null,
      "id": "774783dd",
      "metadata": {
        "id": "774783dd",
        "outputId": "14392151-71be-465a-dc88-9fc40f419a79"
      },
      "outputs": [
        {
          "data": {
            "text/plain": [
              "array([ 1, 32,  3,  4], dtype=int8)"
            ]
          },
          "execution_count": 33,
          "metadata": {},
          "output_type": "execute_result"
        }
      ],
      "source": [
        "### Create array with data type\n",
        "arr6 = np.array([1.39,32.256,3.96,4.89],dtype='int8')\n",
        "arr6"
      ]
    },
    {
      "cell_type": "code",
      "execution_count": null,
      "id": "2449019e",
      "metadata": {
        "id": "2449019e",
        "outputId": "353dc3eb-32fe-4cad-9179-674fd32b157d"
      },
      "outputs": [
        {
          "data": {
            "text/plain": [
              "array([ 1, 73,  3,  4], dtype=int8)"
            ]
          },
          "execution_count": 34,
          "metadata": {},
          "output_type": "execute_result"
        }
      ],
      "source": [
        "arr6 = np.array([1.39,329.256,3.96,4.89],dtype='int8')\n",
        "arr6"
      ]
    },
    {
      "cell_type": "code",
      "execution_count": null,
      "id": "a1ca0c0f",
      "metadata": {
        "id": "a1ca0c0f",
        "outputId": "a755ccc4-e989-42d3-c33e-9d3753c77828"
      },
      "outputs": [
        {
          "name": "stderr",
          "output_type": "stream",
          "text": [
            "C:\\Users\\pc\\AppData\\Local\\Temp\\ipykernel_10260\\232462346.py:1: DeprecationWarning: NumPy will stop allowing conversion of out-of-bound Python integers to integer arrays.  The conversion of 129 to int8 will fail in the future.\n",
            "For the old behavior, usually:\n",
            "    np.array(value).astype(dtype)`\n",
            "will give the desired result (the cast overflows).\n",
            "  arr6 = np.array([1.39,129,3.96,4.89],dtype='int8')\n"
          ]
        },
        {
          "data": {
            "text/plain": [
              "array([   1, -127,    3,    4], dtype=int8)"
            ]
          },
          "execution_count": 35,
          "metadata": {},
          "output_type": "execute_result"
        }
      ],
      "source": [
        "arr6 = np.array([1.39,129,3.96,4.89],dtype='int8')\n",
        "arr6"
      ]
    },
    {
      "cell_type": "code",
      "execution_count": null,
      "id": "28368edb",
      "metadata": {
        "id": "28368edb",
        "outputId": "fb4d79bb-7bb2-46b4-b539-43e52fa857ff"
      },
      "outputs": [
        {
          "name": "stderr",
          "output_type": "stream",
          "text": [
            "C:\\Users\\pc\\AppData\\Local\\Temp\\ipykernel_10260\\3455727858.py:1: DeprecationWarning: NumPy will stop allowing conversion of out-of-bound Python integers to integer arrays.  The conversion of 16384 to int8 will fail in the future.\n",
            "For the old behavior, usually:\n",
            "    np.array(value).astype(dtype)`\n",
            "will give the desired result (the cast overflows).\n",
            "  arr6 = np.array([1.39,16384,3.96,4.89],dtype='int8')\n"
          ]
        },
        {
          "data": {
            "text/plain": [
              "array([1, 0, 3, 4], dtype=int8)"
            ]
          },
          "execution_count": 36,
          "metadata": {},
          "output_type": "execute_result"
        }
      ],
      "source": [
        "arr6 = np.array([1.39,16384,3.96,4.89],dtype='int8')\n",
        "arr6"
      ]
    },
    {
      "cell_type": "code",
      "execution_count": null,
      "id": "9da908e4",
      "metadata": {
        "id": "9da908e4",
        "outputId": "0c9e0405-4ff3-4a32-f99a-feffa28702a8"
      },
      "outputs": [
        {
          "name": "stderr",
          "output_type": "stream",
          "text": [
            "C:\\Users\\pc\\AppData\\Local\\Temp\\ipykernel_10260\\3077469174.py:1: DeprecationWarning: NumPy will stop allowing conversion of out-of-bound Python integers to integer arrays.  The conversion of 40000 to int16 will fail in the future.\n",
            "For the old behavior, usually:\n",
            "    np.array(value).astype(dtype)`\n",
            "will give the desired result (the cast overflows).\n",
            "  arr6 = np.array([1.39,40000,3.96,4.89],dtype='int16')\n"
          ]
        },
        {
          "data": {
            "text/plain": [
              "array([     1, -25536,      3,      4], dtype=int16)"
            ]
          },
          "execution_count": 38,
          "metadata": {},
          "output_type": "execute_result"
        }
      ],
      "source": [
        "arr6 = np.array([1.39,40000,3.96,4.89],dtype='int16')\n",
        "arr6"
      ]
    },
    {
      "cell_type": "code",
      "execution_count": null,
      "id": "cd807e07",
      "metadata": {
        "id": "cd807e07",
        "outputId": "5f565af5-7966-4b7d-e963-c4606da1c589"
      },
      "outputs": [
        {
          "data": {
            "text/plain": [
              "array([    1, 40000,     3,     4], dtype=uint16)"
            ]
          },
          "execution_count": 39,
          "metadata": {},
          "output_type": "execute_result"
        }
      ],
      "source": [
        "arr6 = np.array([1.39,40000,3.96,4.89],dtype='uint16')\n",
        "arr6"
      ]
    },
    {
      "cell_type": "code",
      "execution_count": null,
      "id": "7ab18b4d",
      "metadata": {
        "id": "7ab18b4d",
        "outputId": "1f476b4d-fa74-4c0b-b196-bfa439336ca7"
      },
      "outputs": [
        {
          "data": {
            "text/plain": [
              "array([    1, 32956,     3,     4])"
            ]
          },
          "execution_count": 42,
          "metadata": {},
          "output_type": "execute_result"
        }
      ],
      "source": [
        "### Create array with data type\n",
        "arr7 = np.array([1.39222,32956.256,3.96,4.89],dtype='int')\n",
        "arr7"
      ]
    },
    {
      "cell_type": "code",
      "execution_count": null,
      "id": "e021d2ca",
      "metadata": {
        "id": "e021d2ca",
        "outputId": "f3a058b0-414d-45c9-ea2a-24e557104953"
      },
      "outputs": [
        {
          "data": {
            "text/plain": [
              "array([1, 2, 3, 4, 5, 6])"
            ]
          },
          "execution_count": 43,
          "metadata": {},
          "output_type": "execute_result"
        }
      ],
      "source": [
        "a = [1,2,3,4,5,6]\n",
        "x = np.array(a)\n",
        "x"
      ]
    },
    {
      "cell_type": "code",
      "execution_count": null,
      "id": "3fe5c7f7",
      "metadata": {
        "id": "3fe5c7f7",
        "outputId": "6eaccf82-4eca-403d-c5b6-cebeef40adb9"
      },
      "outputs": [
        {
          "data": {
            "text/plain": [
              "array([ 5,  6,  7,  8,  9, 10])"
            ]
          },
          "execution_count": 44,
          "metadata": {},
          "output_type": "execute_result"
        }
      ],
      "source": [
        "b = [5,6,7,8,9,10]\n",
        "y = np.array(b)\n",
        "y"
      ]
    },
    {
      "cell_type": "code",
      "execution_count": null,
      "id": "5e955da7",
      "metadata": {
        "id": "5e955da7",
        "outputId": "ed457892-ed8c-4c9f-aef2-a08bfc26385c"
      },
      "outputs": [
        {
          "data": {
            "text/plain": [
              "[1, 2, 3, 4, 5, 6, 5, 6, 7, 8, 9, 10]"
            ]
          },
          "execution_count": 45,
          "metadata": {},
          "output_type": "execute_result"
        }
      ],
      "source": [
        "a+b"
      ]
    },
    {
      "cell_type": "code",
      "execution_count": null,
      "id": "5225dc5a",
      "metadata": {
        "id": "5225dc5a",
        "outputId": "1674dfef-b91b-47da-8f7e-2f4ed42d75c7"
      },
      "outputs": [
        {
          "data": {
            "text/plain": [
              "array([ 6,  8, 10, 12, 14, 16])"
            ]
          },
          "execution_count": 46,
          "metadata": {},
          "output_type": "execute_result"
        }
      ],
      "source": [
        "x+y"
      ]
    },
    {
      "cell_type": "code",
      "execution_count": null,
      "id": "6bbe8ebb",
      "metadata": {
        "id": "6bbe8ebb"
      },
      "outputs": [],
      "source": [
        "a = [1,2,3,4,5,6]\n",
        "x = np.array(a)\n",
        "b = [5,6,7,8]\n",
        "y = np.array(b)\n"
      ]
    },
    {
      "cell_type": "code",
      "execution_count": null,
      "id": "57305a33",
      "metadata": {
        "id": "57305a33",
        "outputId": "69c46958-1651-4ecc-cd1f-af161debf7a5"
      },
      "outputs": [
        {
          "data": {
            "text/plain": [
              "[1, 2, 3, 4, 5, 6, 5, 6, 7, 8]"
            ]
          },
          "execution_count": 48,
          "metadata": {},
          "output_type": "execute_result"
        }
      ],
    
    {
      "cell_type": "code",
      "execution_count": null,
      "id": "4f2fd96c",
      "metadata": {
        "id": "4f2fd96c",
        "outputId": "ca8665a5-f03f-40a0-c321-232a1a1d6230"
      },
      "outputs": [
        {
          "ename": "ValueError",
          "evalue": "operands could not be broadcast together with shapes (6,) (4,) ",
          "output_type": "error",
          "traceback": [
            "\u001b[1;31m---------------------------------------------------------------------------\u001b[0m",
            "\u001b[1;31mValueError\u001b[0m                                Traceback (most recent call last)",
            "Input \u001b[1;32mIn [49]\u001b[0m, in \u001b[0;36m<cell line: 1>\u001b[1;34m()\u001b[0m\n\u001b[1;32m----> 1\u001b[0m \u001b[43mx\u001b[49m\u001b[38;5;241;43m+\u001b[39;49m\u001b[43my\u001b[49m\n",
            "\u001b[1;31mValueError\u001b[0m: operands could not be broadcast together with shapes (6,) (4,) "
          ]
        }
      ],
  "source": [
        "a+b"
      ]
    },
      "source": [
        "x+y"
      ]
    },
    {
      "cell_type": "code",
      "execution_count": null,
      "id": "8de7ed07",
      "metadata": {
        "id": "8de7ed07",
        "outputId": "26e3754c-4937-454c-aef5-15a8983743ef"
      },
      "outputs": [
        {
          "data": {
            "text/plain": [
              "array([ 5, 10, 15, 20, 25, 30, 35, 40, 45, 50, 55, 60, 65, 70, 75, 80, 85,\n",
              "       90, 95])"
            ]
          },
          "execution_count": 51,
          "metadata": {},
          "output_type": "execute_result"
        }
      ],
      "source": [
        "a = []\n",
        "for i in range(5,100,5):\n",
        "    a.append(i)\n",
        "\n",
        "x = np.array(a)\n",
        "x"
      ]
    },
    {
      "cell_type": "code",
      "execution_count": null,
      "id": "47184edc",
      "metadata": {
        "id": "47184edc"
      },
      "outputs": [],
      "source": [
        "a1 = np.array(range(0,101,5))"
      ]
    },
    {
      "cell_type": "code",
      "execution_count": null,
      "id": "c0c7649c",
      "metadata": {
        "id": "c0c7649c",
        "outputId": "2d5051e2-397f-4786-bd09-7eccc2a9958a"
      },
      "outputs": [
        {
          "data": {
            "text/plain": [
              "array([  0,   5,  10,  15,  20,  25,  30,  35,  40,  45,  50,  55,  60,\n",
              "        65,  70,  75,  80,  85,  90,  95, 100])"
            ]
          },
          "execution_count": 53,
          "metadata": {},
          "output_type": "execute_result"
        }
      ],
      "source": [
        "a1"
      ]
    },
    {
      "cell_type": "code",
      "execution_count": null,
      "id": "e9290097",
      "metadata": {
        "id": "e9290097",
        "outputId": "4af63061-cfcb-4ab9-d52d-19653cb018a9"
      },
      "outputs": [
        {
          "data": {
            "text/plain": [
              "array([[[ 1,  4,  8],\n",
              "        [ 9,  2, -1],\n",
              "        [ 3,  5,  7]],\n",
              "\n",
              "       [[-1, -4, -8],\n",
              "        [-9, -2,  1],\n",
              "        [-3, -5, -7]]])"
            ]
          },
          "execution_count": 54,
          "metadata": {},
          "output_type": "execute_result"
        }
      ],
      "source": [
        "###indexing\n",
        "arr4"
      ]
    },
    {
      "cell_type": "code",
      "execution_count": null,
      "id": "1ad123b5",
      "metadata": {
        "id": "1ad123b5",
        "outputId": "b0abe4f0-71f7-4809-8546-d1cac0979c59"
      },
      "outputs": [
        {
          "data": {
            "text/plain": [
              "array([[ 1,  4,  8],\n",
              "       [ 9,  2, -1],\n",
              "       [ 3,  5,  7]])"
            ]
          },
          "execution_count": 55,
          "metadata": {},
          "output_type": "execute_result"
        }
      ],
      "source": [
        "arr4[0]"
      ]
    },
    {
      "cell_type": "code",
      "execution_count": null,
      "id": "a273b051",
      "metadata": {
        "id": "a273b051",
        "outputId": "c6121f1c-a028-4067-f4ec-63c5c708be24"
      },
      "outputs": [
        {
          "data": {
            "text/plain": [
              "array([-1, -4, -8])"
            ]
          },
          "execution_count": 56,
          "metadata": {},
          "output_type": "execute_result"
        }
      ],
      "source": [
        "arr4[1][0]"
      ]
    },
    {
      "cell_type": "code",
      "execution_count": null,
      "id": "0a1eefe3",
      "metadata": {
        "id": "0a1eefe3",
        "outputId": "9c287ce3-0b50-4664-e853-602f15ad46ee"
      },
      "outputs": [
        {
          "data": {
            "text/plain": [
              "array([ 9,  2, -1])"
            ]
          },
          "execution_count": 57,
          "metadata": {},
          "output_type": "execute_result"
        }
      ],
      "source": [
        "### 1 4 8\n",
        "arr4[0][1]"
      ]
    },
    {
      "cell_type": "code",
      "execution_count": null,
      "id": "bd99ee0e",
      "metadata": {
        "id": "bd99ee0e",
        "outputId": "4b49c8b7-b0a9-47a5-db15-49b1d2150616"
      },
      "outputs": [
        {
          "data": {
            "text/plain": [
              "2"
            ]
          },
          "execution_count": 58,
          "metadata": {},
          "output_type": "execute_result"
        }
      ],
      "source": [
        "arr4[0][1][1]"
      ]
    },
    {
      "cell_type": "code",
      "execution_count": null,
      "id": "c2a8be23",
      "metadata": {
        "id": "c2a8be23",
        "outputId": "074ee674-ecc1-469a-d51e-ebcd6bdc17ec"
      },
      "outputs": [
        {
          "data": {
            "text/plain": [
              "7"
            ]
          },
          "execution_count": 59,
          "metadata": {},
          "output_type": "execute_result"
        }
      ],
      "source": [
        "arr4[0][2][2]"
      ]
    },
    {
      "cell_type": "code",
      "execution_count": null,
      "id": "cf0e2ccd",
      "metadata": {
        "id": "cf0e2ccd",
        "outputId": "95412bfe-6f8d-45af-d65b-1c259bb15b9b"
      },
      "outputs": [
        {
          "data": {
            "text/plain": [
              "-7"
            ]
          },
          "execution_count": 60,
          "metadata": {},
          "output_type": "execute_result"
        }
      ],
      "source": [
        "arr4[1][2][2]"
      ]
    },
    {
      "cell_type": "code",
      "execution_count": null,
      "id": "b25c242c",
      "metadata": {
        "id": "b25c242c",
        "outputId": "cb2cb28f-038e-4f6c-dc70-8f13babc2b6e"
      },
      "outputs": [
        {
          "data": {
            "text/plain": [
              "array([4, 8])"
            ]
          },
          "execution_count": 62,
          "metadata": {},
          "output_type": "execute_result"
        }
      ],
      "source": [
        "\n",
        "#4,8 at a time [4,8]\n",
        "arr4[0][0][1:]"
      ]
    },
    {
      "cell_type": "code",
      "execution_count": null,
      "id": "7a991d20",
      "metadata": {
        "id": "7a991d20"
      },
      "outputs": [],
      "source": []
    }
  ],
  "metadata": {
    "kernelspec": {
      "display_name": "Python 3 (ipykernel)",
      "language": "python",
      "name": "python3"
    },
    "language_info": {
      "codemirror_mode": {
        "name": "ipython",
        "version": 3
      },
      "file_extension": ".py",
      "mimetype": "text/x-python",
      "name": "python",
      "nbconvert_exporter": "python",
      "pygments_lexer": "ipython3",
      "version": "3.9.12"
    },
    "colab": {
      "provenance": []
    }
  },
  "nbformat": 4,
  "nbformat_minor": 5
}
