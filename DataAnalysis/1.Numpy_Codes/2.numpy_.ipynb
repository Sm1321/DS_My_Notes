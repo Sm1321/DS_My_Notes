{
  "cells": [
    {
      "cell_type": "code",
      "execution_count": null,
      "id": "8863fa8e",
      "metadata": {
        "id": "8863fa8e"
      },
      "outputs": [],
      "source": [
        "import numpy as np"
      ]
    },
    {
      "cell_type": "code",
      "execution_count": null,
      "id": "dcea3b58",
      "metadata": {
        "id": "dcea3b58",
        "outputId": "2770f790-8c48-4295-e307-c7dd3b44f401"
      },
      "outputs": [
        {
          "name": "stdout",
          "output_type": "stream",
          "text": [
            "(2, 2) (2, 3)\n",
            "addition not possible\n"
          ]
        }
      ],
      "source": [
        "a = np.array([[1,2],[9,4]])\n",
        "b = np.array([[8,7,-2],[5,6,-4]])\n",
        "print(a.shape,b.shape)\n",
        "\n",
        "if a.shape == b.shape:\n",
        "    print(\"addition is possible\")\n",
        "    c=a+b\n",
        "    print(c)\n",
        "else:\n",
        "    print(\"addition not possible\")"
      ]
    },
    {
      "cell_type": "code",
      "execution_count": null,
      "id": "418842ab",
      "metadata": {
        "id": "418842ab",
        "outputId": "bb8b5bea-1d17-4964-a148-2b9d9bfbfe63"
      },
      "outputs": [
        {
          "name": "stdout",
          "output_type": "stream",
          "text": [
            "(2, 2) (2, 2)\n",
            "addition is possible\n",
            "[[ 9  9]\n",
            " [14 10]]\n"
          ]
        }
      ],
      "source": [
        "a = np.array([[1,2],[9,4]])\n",
        "b = np.array([[8,7],[5,6]])\n",
        "print(a.shape,b.shape)\n",
        "\n",
        "if a.shape == b.shape:\n",
        "    print(\"addition is possible\")\n",
        "    c=a+b\n",
        "    print(c)\n",
        "else:\n",
        "    print(\"addition not possible\")"
      ]
    },
    {
      "cell_type": "code",
      "execution_count": null,
      "id": "55cd3bc5",
      "metadata": {
        "id": "55cd3bc5",
        "outputId": "5dcdf940-3158-43aa-9b3d-27d2651b0766"
      },
      "outputs": [
        {
          "name": "stdout",
          "output_type": "stream",
          "text": [
            "(2, 2) (2, 3)\n",
            "Matrix Multiplication is possible\n",
            "[[ 18  19 -10]\n",
            " [ 92  87 -34]]\n"
          ]
        }
      ],
      "source": [
        "a = np.array([[1,2],[9,4]])\n",
        "b = np.array([[8,7,-2],[5,6,-4]])\n",
        "print(a.shape,b.shape)\n",
        "\n",
        "if a.shape[1] == b.shape[0]:\n",
        "    print(\"Matrix Multiplication is possible\")\n",
        "    c=a@b\n",
        "    print(c)\n",
        "else:\n",
        "    print(\"Matrix Multiplication is not possible\")"
      ]
    },
    {
      "cell_type": "code",
      "execution_count": null,
      "id": "cc213bcc",
      "metadata": {
        "id": "cc213bcc",
        "outputId": "b1be1543-74df-4928-df27-796abd1b8da7"
      },
      "outputs": [
        {
          "name": "stdout",
          "output_type": "stream",
          "text": [
            "(2, 2) (2, 3)\n",
            "Matrix Multiplication is not possible\n"
          ]
        }
      ],
      "source": [
        "a = np.array([[1,2],[9,4]])\n",
        "b = np.array([[8,7,-2],[5,6,-4]])\n",
        "print(a.shape,b.shape)\n",
        "if a.shape[0] == b.shape[1]:\n",
        "    c = a@b\n",
        "    print(c)\n",
        "else:\n",
        "    print(\"Matrix Multiplication is not possible\")"
      ]
    },
    {
      "cell_type": "code",
      "execution_count": null,
      "id": "11bb4012",
      "metadata": {
        "id": "11bb4012",
        "outputId": "58a5f86a-1bfe-4fec-902e-1c0adfa1ad58"
      },
      "outputs": [
        {
          "data": {
            "text/plain": [
              "array([[-10,   1],\n",
              "       [ 24,   4]])"
            ]
          },
          "execution_count": 7,
          "metadata": {},
          "output_type": "execute_result"
        }
      ],
      "source": [
        "arr1 = np.array([[1,-2],[0,4]])\n",
        "arr2 = np.array([[2,3],[6,1]])\n",
        "arr1@arr2"
      ]
    },
    {
      "cell_type": "code",
      "execution_count": null,
      "id": "036a0446",
      "metadata": {
        "id": "036a0446",
        "outputId": "80ed5ace-7cce-4724-aaf7-a444b40436d4"
      },
      "outputs": [
        {
          "data": {
            "text/plain": [
              "array([[ 2, -6],\n",
              "       [ 0,  4]])"
            ]
          },
          "execution_count": 8,
          "metadata": {},
          "output_type": "execute_result"
        }
      ],
      "source": [
        "arr1 = np.array([[1,-2],[0,4]])\n",
        "arr2 = np.array([[2,3],[6,1]])\n",
        "arr1*arr2"
      ]
    },
    {
      "cell_type": "code",
      "execution_count": null,
      "id": "cd6868df",
      "metadata": {
        "id": "cd6868df",
        "outputId": "86d670fd-d3bc-40ea-f4f3-f8005d56cd02"
      },
      "outputs": [
        {
          "name": "stdout",
          "output_type": "stream",
          "text": [
            "[1 2 3 4 5 6 7 8]\n",
            "\n",
            "[[1 2]\n",
            " [3 4]\n",
            " [5 6]\n",
            " [7 8]]\n",
            "\n",
            "[[1 2 3 4]\n",
            " [5 6 7 8]]\n"
          ]
        }
      ],
      "source": [
        "arr1 = np.array([1,2,3,4,5,6,7,8])\n",
        "print(arr1)\n",
        "print()\n",
        "print(arr1.reshape(4,2))\n",
        "print()\n",
        "print(arr1.reshape(2,4))"
      ]
    },
    {
      "cell_type": "code",
      "execution_count": null,
      "id": "ab055349",
      "metadata": {
        "id": "ab055349",
        "outputId": "0fa7af49-f862-4adc-8bfd-d53fb0eab978"
      },
      "outputs": [
        {
          "name": "stdout",
          "output_type": "stream",
          "text": [
            "[8 2 3 4 1 6 7 8]\n",
            "[ 8  2  3  4  1  6  7  8  9 10]\n"
          ]
        }
      ],
      "source": [
        "####adding elements to the existing array\n",
        "\n",
        "arr2 = np.array([8,2,3,4,1,6,7,8])\n",
        "print(arr2)\n",
        "arr3 = np.append(arr2,[9,10])\n",
        "print(arr3)"
      ]
    },
    {
      "cell_type": "code",
      "execution_count": null,
      "id": "99fd4b58",
      "metadata": {
        "id": "99fd4b58"
      },
      "outputs": [],
      "source": [
        "#### delete element from array index wise\n",
        "arr4 = np.delete(arr3,9)"
      ]
    },
    {
      "cell_type": "code",
      "execution_count": null,
      "id": "0e3b9ed4",
      "metadata": {
        "id": "0e3b9ed4",
        "outputId": "efed6bc0-a109-4d58-8ec3-53c5451f8fb0"
      },
      "outputs": [
        {
          "data": {
            "text/plain": [
              "array([8, 2, 3, 4, 1, 6, 7, 8, 9])"
            ]
          },
          "execution_count": 13,
          "metadata": {},
          "output_type": "execute_result"
        }
      ],
      "source": [
        "arr4"
      ]
    },
    {
      "cell_type": "code",
      "execution_count": null,
      "id": "f0b97c62",
      "metadata": {
        "id": "f0b97c62",
        "outputId": "a546a509-3867-4e8c-ce03-d18b83a33588"
      },
      "outputs": [
        {
          "ename": "IndexError",
          "evalue": "index 10 is out of bounds for axis 0 with size 10",
          "output_type": "error",
          "traceback": [
            "\u001b[1;31m---------------------------------------------------------------------------\u001b[0m",
            "\u001b[1;31mIndexError\u001b[0m                                Traceback (most recent call last)",
            "Input \u001b[1;32mIn [14]\u001b[0m, in \u001b[0;36m<cell line: 1>\u001b[1;34m()\u001b[0m\n\u001b[1;32m----> 1\u001b[0m arr4 \u001b[38;5;241m=\u001b[39m \u001b[43mnp\u001b[49m\u001b[38;5;241;43m.\u001b[39;49m\u001b[43mdelete\u001b[49m\u001b[43m(\u001b[49m\u001b[43marr3\u001b[49m\u001b[43m,\u001b[49m\u001b[38;5;241;43m10\u001b[39;49m\u001b[43m)\u001b[49m\n",
            "File \u001b[1;32m<__array_function__ internals>:200\u001b[0m, in \u001b[0;36mdelete\u001b[1;34m(*args, **kwargs)\u001b[0m\n",
            "File \u001b[1;32m~\\anaconda3\\lib\\site-packages\\numpy\\lib\\function_base.py:5211\u001b[0m, in \u001b[0;36mdelete\u001b[1;34m(arr, obj, axis)\u001b[0m\n\u001b[0;32m   5208\u001b[0m \u001b[38;5;28;01mif\u001b[39;00m single_value:\n\u001b[0;32m   5209\u001b[0m     \u001b[38;5;66;03m# optimization for a single value\u001b[39;00m\n\u001b[0;32m   5210\u001b[0m     \u001b[38;5;28;01mif\u001b[39;00m (obj \u001b[38;5;241m<\u001b[39m \u001b[38;5;241m-\u001b[39mN \u001b[38;5;129;01mor\u001b[39;00m obj \u001b[38;5;241m>\u001b[39m\u001b[38;5;241m=\u001b[39m N):\n\u001b[1;32m-> 5211\u001b[0m         \u001b[38;5;28;01mraise\u001b[39;00m \u001b[38;5;167;01mIndexError\u001b[39;00m(\n\u001b[0;32m   5212\u001b[0m             \u001b[38;5;124m\"\u001b[39m\u001b[38;5;124mindex \u001b[39m\u001b[38;5;132;01m%i\u001b[39;00m\u001b[38;5;124m is out of bounds for axis \u001b[39m\u001b[38;5;132;01m%i\u001b[39;00m\u001b[38;5;124m with \u001b[39m\u001b[38;5;124m\"\u001b[39m\n\u001b[0;32m   5213\u001b[0m             \u001b[38;5;124m\"\u001b[39m\u001b[38;5;124msize \u001b[39m\u001b[38;5;132;01m%i\u001b[39;00m\u001b[38;5;124m\"\u001b[39m \u001b[38;5;241m%\u001b[39m (obj, axis, N))\n\u001b[0;32m   5214\u001b[0m     \u001b[38;5;28;01mif\u001b[39;00m (obj \u001b[38;5;241m<\u001b[39m \u001b[38;5;241m0\u001b[39m):\n\u001b[0;32m   5215\u001b[0m         obj \u001b[38;5;241m+\u001b[39m\u001b[38;5;241m=\u001b[39m N\n",
            "\u001b[1;31mIndexError\u001b[0m: index 10 is out of bounds for axis 0 with size 10"
          ]
        }
      ],
      "source": [
        "arr4 = np.delete(arr3,10)"
      ]
    },
    {
      "cell_type": "code",
      "execution_count": null,
      "id": "a0b48d21",
      "metadata": {
        "id": "a0b48d21",
        "outputId": "9c8d400e-a1fb-4edf-c472-1f38ad2b98e8"
      },
      "outputs": [
        {
          "data": {
            "text/plain": [
              "array([8, 2, 3, 4, 1, 6, 7, 8, 9])"
            ]
          },
          "execution_count": 15,
          "metadata": {},
          "output_type": "execute_result"
        }
      ],
      "source": [
        "arr4"
      ]
    },
    {
      "cell_type": "code",
      "execution_count": null,
      "id": "df918004",
      "metadata": {
        "id": "df918004"
      },
      "outputs": [],
      "source": [
        "arr4 = np.delete(arr4,7)"
      ]
    },
    {
      "cell_type": "code",
      "execution_count": null,
      "id": "1ced5340",
      "metadata": {
        "id": "1ced5340",
        "outputId": "ab77f80c-971d-40ab-f9bd-90639798a4b5"
      },
      "outputs": [
        {
          "data": {
            "text/plain": [
              "array([8, 2, 3, 4, 1, 6, 7, 9])"
            ]
          },
          "execution_count": 17,
          "metadata": {},
          "output_type": "execute_result"
        }
      ],
      "source": [
        "arr4"
      ]
    },
    {
      "cell_type": "code",
      "execution_count": null,
      "id": "a6234ecc",
      "metadata": {
        "id": "a6234ecc"
      },
      "outputs": [],
      "source": [
        "arr4 = np.delete(arr4,1)"
      ]
    },
    {
      "cell_type": "code",
      "execution_count": null,
      "id": "0f3004d1",
      "metadata": {
        "id": "0f3004d1",
        "outputId": "e402355d-cee6-491f-f65f-47a0f2672b26"
      },
      "outputs": [
        {
          "data": {
            "text/plain": [
              "array([8, 3, 4, 1, 6, 7, 9])"
            ]
          },
          "execution_count": 19,
          "metadata": {},
          "output_type": "execute_result"
        }
      ],
      "source": [
        "arr4"
      ]
    },
    {
      "cell_type": "code",
      "execution_count": null,
      "id": "aac03ddc",
      "metadata": {
        "id": "aac03ddc"
      },
      "outputs": [],
      "source": [
        "arr2 = np.array([8,2,3,4,1,6,7,8])"
      ]
    },
    {
      "cell_type": "code",
      "execution_count": null,
      "id": "a967f9dc",
      "metadata": {
        "id": "a967f9dc",
        "outputId": "e2171fcb-1b0b-467c-ad2d-66a353677ed7"
      },
      "outputs": [
        {
          "data": {
            "text/plain": [
              "array([8, 2, 3, 4, 1, 6, 7, 8])"
            ]
          },
          "execution_count": 21,
          "metadata": {},
          "output_type": "execute_result"
        }
      ],
      "source": [
        "arr2"
      ]
    },
    {
      "cell_type": "code",
      "execution_count": null,
      "id": "d25ec54e",
      "metadata": {
        "id": "d25ec54e"
      },
      "outputs": [],
      "source": [
        "### sorting array\n",
        "arr =np.sort(arr2)"
      ]
    },
    {
      "cell_type": "code",
      "execution_count": null,
      "id": "d49d8883",
      "metadata": {
        "id": "d49d8883",
        "outputId": "274cd5ff-74c0-4697-c984-14d39ea92906"
      },
      "outputs": [
        {
          "data": {
            "text/plain": [
              "array([1, 2, 3, 4, 6, 7, 8, 8])"
            ]
          },
          "execution_count": 23,
          "metadata": {},
          "output_type": "execute_result"
        }
      ],
      "source": [
        "arr"
      ]
    },
    {
      "cell_type": "code",
      "execution_count": null,
      "id": "80088fd0",
      "metadata": {
        "id": "80088fd0",
        "outputId": "e7815519-168f-4186-c872-ddab6e564a26"
      },
      "outputs": [
        {
          "name": "stdout",
          "output_type": "stream",
          "text": [
            "Sin value:  [ 0.84147098  0.90929743  0.14112001 -0.7568025  -0.2794155   0.6569866\n",
            "  0.98935825  0.98935825]\n",
            "\n",
            "\n",
            "Cos is : [ 0.54030231 -0.41614684 -0.9899925  -0.65364362  0.96017029  0.75390225\n",
            " -0.14550003 -0.14550003]\n",
            "\n",
            "\n",
            "Square root : [1.         1.41421356 1.73205081 2.         2.44948974 2.64575131\n",
            " 2.82842712 2.82842712]\n",
            "\n",
            "\n",
            "Log Values [0.         0.69314718 1.09861229 1.38629436 1.79175947 1.94591015\n",
            " 2.07944154 2.07944154]\n",
            "\n",
            "\n",
            "Exponential values: [2.71828183e+00 7.38905610e+00 2.00855369e+01 5.45981500e+01\n",
            " 4.03428793e+02 1.09663316e+03 2.98095799e+03 2.98095799e+03]\n",
            "\n",
            "\n",
            "Sum is: 39\n",
            "\n",
            "\n",
            "Standard Variance: 2.5708704751503917\n",
            "\n",
            "\n",
            "Max is: 8\n",
            "\n",
            "\n",
            "Min is:  1\n"
          ]
        }
      ],
      "source": [
        "print('Sin value: ',np.sin(arr))\n",
        "print('\\n')\n",
        "print('Cos is :',np.cos(arr))\n",
        "print('\\n')\n",
        "print('Square root :',np.sqrt(arr))\n",
        "print('\\n')\n",
        "print('Log Values',np.log(arr))\n",
        "print('\\n')\n",
        "print('Exponential values:',np.exp(arr))\n",
        "print('\\n')\n",
        "print('Sum is:',np.sum(arr))\n",
        "print('\\n')\n",
        "print('Standard Variance:',np.std(arr))\n",
        "print('\\n')\n",
        "print('Max is:', np.max(arr))\n",
        "print('\\n')\n",
        "print('Min is: ',np.min(arr))"
      ]
    },
    {
      "cell_type": "code",
      "execution_count": null,
      "id": "613c677d",
      "metadata": {
        "id": "613c677d",
        "outputId": "e6be17c8-f2a2-43b0-bf3e-637909e9a7d3"
      },
      "outputs": [
        {
          "data": {
            "text/plain": [
              "array([  1,  99, 178])"
            ]
          },
          "execution_count": 25,
          "metadata": {},
          "output_type": "execute_result"
        }
      ],
      "source": [
        "l1 = [1,1,1,1,1,1,99,99,99,99,178,178,178]\n",
        "np.unique(l1)"
      ]
    },
    {
      "cell_type": "code",
      "execution_count": null,
      "id": "5f24fb92",
      "metadata": {
        "id": "5f24fb92"
      },
      "outputs": [],
      "source": [
        "a1 = np.array([[1,5,6],[4,7,2],[3,1,5]])"
      ]
    },
    {
      "cell_type": "code",
      "execution_count": null,
      "id": "d98a4885",
      "metadata": {
        "id": "d98a4885",
        "outputId": "24de572e-68dd-4592-c1c0-43db5ec53391"
      },
      "outputs": [
        {
          "data": {
            "text/plain": [
              "array([[1, 5, 6],\n",
              "       [4, 7, 2],\n",
              "       [3, 1, 5]])"
            ]
          },
          "execution_count": 27,
          "metadata": {},
          "output_type": "execute_result"
        }
      ],
      "source": [
        "a1"
      ]
    },
    {
      "cell_type": "code",
      "execution_count": null,
      "id": "827e5b57",
      "metadata": {
        "id": "827e5b57",
        "outputId": "63716f4f-3fc6-423d-9898-47273b9e6085"
      },
      "outputs": [
        {
          "data": {
            "text/plain": [
              "34"
            ]
          },
          "execution_count": 28,
          "metadata": {},
          "output_type": "execute_result"
        }
      ],
      "source": [
        "np.sum(a1)"
      ]
    },
    {
      "cell_type": "code",
      "execution_count": null,
      "id": "dbfbee62",
      "metadata": {
        "id": "dbfbee62",
        "outputId": "a1be3abe-80d5-4df2-9a15-1305c094b6ac"
      },
      "outputs": [
        {
          "data": {
            "text/plain": [
              "array([ 8, 13, 13])"
            ]
          },
          "execution_count": 29,
          "metadata": {},
          "output_type": "execute_result"
        }
      ],
      "source": [
        "a1.sum(axis=0)  ### it adds all the row values in each column"
      ]
    },
    {
      "cell_type": "code",
      "execution_count": null,
      "id": "8175fe5b",
      "metadata": {
        "id": "8175fe5b",
        "outputId": "bf83a1a5-a736-429f-e8c1-4d4f5e462f66"
      },
      "outputs": [
        {
          "data": {
            "text/plain": [
              "array([12, 13,  9])"
            ]
          },
          "execution_count": 30,
          "metadata": {},
          "output_type": "execute_result"
        }
      ],
      "source": [
        "a1.sum(axis=1)  ### it adds all the column values in each row"
      ]
    },
    {
      "cell_type": "code",
      "execution_count": null,
      "id": "e264d204",
      "metadata": {
        "id": "e264d204",
        "outputId": "9a6152ba-2748-4f96-faca-939fdaac2223"
      },
      "outputs": [
        {
          "data": {
            "text/plain": [
              "array([4, 7, 6])"
            ]
          },
          "execution_count": 31,
          "metadata": {},
          "output_type": "execute_result"
        }
      ],
      "source": [
        "a1.max(axis=0)"
      ]
    },
    {
      "cell_type": "code",
      "execution_count": null,
      "id": "f803c84c",
      "metadata": {
        "id": "f803c84c",
        "outputId": "496f5e25-79f8-41a6-c1b7-dc79d45a3439"
      },
      "outputs": [
        {
          "data": {
            "text/plain": [
              "array([1, 1, 2])"
            ]
          },
          "execution_count": 32,
          "metadata": {},
          "output_type": "execute_result"
        }
      ],
      "source": [
        "a1.min(axis=0)"
      ]
    },
    {
      "cell_type": "code",
      "execution_count": null,
      "id": "905cdca7",
      "metadata": {
        "id": "905cdca7"
      },
      "outputs": [],
      "source": [
        "arr = np.array([[1,4,2],[3,4,6],[0,-1,5]])"
      ]
    },
    {
      "cell_type": "code",
      "execution_count": null,
      "id": "71c74a41",
      "metadata": {
        "id": "71c74a41",
        "outputId": "a95e0053-f967-4423-9776-053a9818b43d"
      },
      "outputs": [
        {
          "data": {
            "text/plain": [
              "array([[ 1,  2,  4],\n",
              "       [ 3,  4,  6],\n",
              "       [-1,  0,  5]])"
            ]
          },
          "execution_count": 34,
          "metadata": {},
          "output_type": "execute_result"
        }
      ],
      "source": [
        "arr1 = np.sort(arr,axis=1)\n",
        "arr1\n"
      ]
    },
    {
      "cell_type": "code",
      "execution_count": null,
      "id": "908a440f",
      "metadata": {
        "id": "908a440f",
        "outputId": "a793ea3b-4673-48d8-e163-b410b856d877"
      },
      "outputs": [
        {
          "data": {
            "text/plain": [
              "array([[ 0, -1,  2],\n",
              "       [ 1,  4,  5],\n",
              "       [ 3,  4,  6]])"
            ]
          },
          "execution_count": 35,
          "metadata": {},
          "output_type": "execute_result"
        }
      ],
      "source": [
        "arr1 = np.sort(arr,axis=0)\n",
        "arr1"
      ]
    },
    {
      "cell_type": "code",
      "execution_count": null,
      "id": "19e86956",
      "metadata": {
        "id": "19e86956",
        "outputId": "69805f2f-389a-4ca1-8532-544034509361"
      },
      "outputs": [
        {
          "data": {
            "text/plain": [
              "array([[ 10,  -7,   0,  20],\n",
              "       [ -5,   1, 200,  40],\n",
              "       [ 30,   1,  -1,   4]])"
            ]
          },
          "execution_count": 36,
          "metadata": {},
          "output_type": "execute_result"
        }
      ],
      "source": [
        "arr = np.array([10,-7,0,20,-5,1,200,40,30,1,-1,4])\n",
        "arr1 = arr.reshape(3,4)\n",
        "arr1\n"
      ]
    },
    {
      "cell_type": "code",
      "execution_count": null,
      "id": "ea511179",
      "metadata": {
        "id": "ea511179",
        "outputId": "9310fadc-4bea-4743-a221-ee850b6ea584"
      },
      "outputs": [
        {
          "data": {
            "text/plain": [
              "array([ -7,  -5,  -1,   0,   1,   1,   4,  10,  20,  30,  40, 200])"
            ]
          },
          "execution_count": 38,
          "metadata": {},
          "output_type": "execute_result"
        }
      ],
      "source": [
        "arr2 = np.sort(arr1,axis=None)\n",
        "arr2\n"
      ]
    },
    {
      "cell_type": "code",
      "execution_count": null,
      "id": "bf44aaad",
      "metadata": {
        "id": "bf44aaad",
        "outputId": "93e2873c-c69d-477a-96df-ce9a8b3897a6"
      },
      "outputs": [
        {
          "data": {
            "text/plain": [
              "array([[ -5,  -7,  -1,   4],\n",
              "       [ 10,   1,   0,  20],\n",
              "       [ 30,   1, 200,  40]])"
            ]
          },
          "execution_count": 39,
          "metadata": {},
          "output_type": "execute_result"
        }
      ],
      "source": [
        "arr2 = np.sort(arr1,axis = 0)\n",
        "arr2\n"
      ]
    },
    {
      "cell_type": "code",
      "execution_count": null,
      "id": "103922b1",
      "metadata": {
        "id": "103922b1",
        "outputId": "e5757e83-d4ce-48b9-f7cd-b8d2e425cf4a"
      },
      "outputs": [
        {
          "data": {
            "text/plain": [
              "array([[ -7,   0,  10,  20],\n",
              "       [ -5,   1,  40, 200],\n",
              "       [ -1,   1,   4,  30]])"
            ]
          },
          "execution_count": 40,
          "metadata": {},
          "output_type": "execute_result"
        }
      ],
      "source": [
        "arr2 = np.sort(arr1,axis = 1)\n",
        "arr2"
      ]
    },
    {
      "cell_type": "code",
      "execution_count": null,
      "id": "67b9fdac",
      "metadata": {
        "id": "67b9fdac"
      },
      "outputs": [],
      "source": [
        "arr1 = np.array([[1,2],[3,4]])\n",
        "arr2 = np.array([[-1,-2],[-3,-4]])"
      ]
    },
    {
      "cell_type": "code",
      "execution_count": null,
      "id": "c4e268c6",
      "metadata": {
        "id": "c4e268c6",
        "outputId": "1ce042cf-2c1d-4f04-ffb5-650d1a7c373d"
      },
      "outputs": [
        {
          "data": {
            "text/plain": [
              "array([[ 1,  2],\n",
              "       [ 3,  4],\n",
              "       [-1, -2],\n",
              "       [-3, -4]])"
            ]
          },
          "execution_count": 49,
          "metadata": {},
          "output_type": "execute_result"
        }
      ],
      "source": [
        "#### concatenation of an array\n",
        "np.concatenate((arr1,arr2),axis=0)"
      ]
    },
    {
      "cell_type": "code",
      "execution_count": null,
      "id": "23752d44",
      "metadata": {
        "id": "23752d44",
        "outputId": "5e449e40-84e0-42a3-fafb-2bf4086578aa"
      },
      "outputs": [
        {
          "data": {
            "text/plain": [
              "array([[ 1,  2, -1, -2],\n",
              "       [ 3,  4, -3, -4]])"
            ]
          },
          "execution_count": 50,
          "metadata": {},
          "output_type": "execute_result"
        }
      ],
      "source": [
        "#### concatenation of an array\n",
        "np.concatenate((arr1,arr2),axis=1)"
      ]
    },
    {
      "cell_type": "code",
      "execution_count": null,
      "id": "e41ef1e0",
      "metadata": {
        "id": "e41ef1e0",
        "outputId": "71b62399-0216-478e-fbaa-77a3b6ec197e"
      },
      "outputs": [
        {
          "data": {
            "text/plain": [
              "array([[ 1,  2],\n",
              "       [ 3,  4],\n",
              "       [-1, -2],\n",
              "       [-3, -4]])"
            ]
          },
          "execution_count": 54,
          "metadata": {},
          "output_type": "execute_result"
        }
      ],
      "source": [
        "np.vstack((arr1,arr2))"
      ]
    },
    {
      "cell_type": "code",
      "execution_count": null,
      "id": "e6a7536b",
      "metadata": {
        "id": "e6a7536b",
        "outputId": "3e718abf-229d-427d-a333-fc32e1879ee3"
      },
      "outputs": [
        {
          "data": {
            "text/plain": [
              "array([[ 1,  2, -1, -2],\n",
              "       [ 3,  4, -3, -4]])"
            ]
          },
          "execution_count": 55,
          "metadata": {},
          "output_type": "execute_result"
        }
      ],
      "source": [
        "np.hstack((arr1,arr2))"
      ]
    },
    {
      "cell_type": "code",
      "execution_count": null,
      "id": "5090d35c",
      "metadata": {
        "id": "5090d35c"
      },
      "outputs": [],
      "source": [
        "arr1 = np.array([[1,2],[3,4],[5,6]])\n",
        "arr2 = np.array([[-1,-2],[-3,-4]])"
      ]
    },
    {
      "cell_type": "code",
      "execution_count": null,
      "id": "7cd4efca",
      "metadata": {
        "id": "7cd4efca",
        "outputId": "18f3751c-ff3e-404a-9123-939b04f6edf8"
      },
      "outputs": [
        {
          "ename": "ValueError",
          "evalue": "all the input array dimensions except for the concatenation axis must match exactly, but along dimension 0, the array at index 0 has size 3 and the array at index 1 has size 2",
          "output_type": "error",
          "traceback": [
            "\u001b[1;31m---------------------------------------------------------------------------\u001b[0m",
            "\u001b[1;31mValueError\u001b[0m                                Traceback (most recent call last)",
            "Input \u001b[1;32mIn [45]\u001b[0m, in \u001b[0;36m<cell line: 2>\u001b[1;34m()\u001b[0m\n\u001b[0;32m      1\u001b[0m \u001b[38;5;66;03m#### concatenation of an array\u001b[39;00m\n\u001b[1;32m----> 2\u001b[0m \u001b[43mnp\u001b[49m\u001b[38;5;241;43m.\u001b[39;49m\u001b[43mconcatenate\u001b[49m\u001b[43m(\u001b[49m\u001b[43m(\u001b[49m\u001b[43marr1\u001b[49m\u001b[43m,\u001b[49m\u001b[43marr2\u001b[49m\u001b[43m)\u001b[49m\u001b[43m,\u001b[49m\u001b[43maxis\u001b[49m\u001b[38;5;241;43m=\u001b[39;49m\u001b[38;5;241;43m1\u001b[39;49m\u001b[43m)\u001b[49m\n",
            "File \u001b[1;32m<__array_function__ internals>:200\u001b[0m, in \u001b[0;36mconcatenate\u001b[1;34m(*args, **kwargs)\u001b[0m\n",
            "\u001b[1;31mValueError\u001b[0m: all the input array dimensions except for the concatenation axis must match exactly, but along dimension 0, the array at index 0 has size 3 and the array at index 1 has size 2"
          ]
        }
      ],
      "source": [
        "#### concatenation of an array\n",
        "np.concatenate((arr1,arr2),axis=1)"
      ]
    },
    {
      "cell_type": "code",
      "execution_count": null,
      "id": "1b759647",
      "metadata": {
        "id": "1b759647",
        "outputId": "d53979f5-e0c8-496e-872b-a8f32adb3619"
      },
      "outputs": [
        {
          "data": {
            "text/plain": [
              "array([[ 1,  2],\n",
              "       [ 3,  4],\n",
              "       [ 5,  6],\n",
              "       [-1, -2],\n",
              "       [-3, -4]])"
            ]
          },
          "execution_count": 46,
          "metadata": {},
          "output_type": "execute_result"
        }
      ],
      "source": [
        "#### concatenation of an array\n",
        "np.concatenate((arr1,arr2),axis=0)"
      ]
    },
    {
      "cell_type": "code",
      "execution_count": null,
      "id": "d700960f",
      "metadata": {
        "id": "d700960f",
        "outputId": "b53bebad-e302-4030-ec18-27221797f3cc"
      },
      "outputs": [
        {
          "ename": "TypeError",
          "evalue": "vstack() takes 1 positional argument but 2 were given",
          "output_type": "error",
          "traceback": [
            "\u001b[1;31m---------------------------------------------------------------------------\u001b[0m",
            "\u001b[1;31mTypeError\u001b[0m                                 Traceback (most recent call last)",
            "Input \u001b[1;32mIn [47]\u001b[0m, in \u001b[0;36m<cell line: 1>\u001b[1;34m()\u001b[0m\n\u001b[1;32m----> 1\u001b[0m \u001b[43mnp\u001b[49m\u001b[38;5;241;43m.\u001b[39;49m\u001b[43mvstack\u001b[49m\u001b[43m(\u001b[49m\u001b[43marr1\u001b[49m\u001b[43m,\u001b[49m\u001b[43marr2\u001b[49m\u001b[43m)\u001b[49m\n",
            "File \u001b[1;32m<__array_function__ internals>:198\u001b[0m, in \u001b[0;36mvstack\u001b[1;34m(*args, **kwargs)\u001b[0m\n",
            "\u001b[1;31mTypeError\u001b[0m: vstack() takes 1 positional argument but 2 were given"
          ]
        }
      ],
      "source": [
        "np.vstack(arr1,arr2)"
      ]
    },
    {
      "cell_type": "code",
      "execution_count": null,
      "id": "7c70412e",
      "metadata": {
        "id": "7c70412e"
      },
      "outputs": [],
      "source": []
    }
  ],
  "metadata": {
    "kernelspec": {
      "display_name": "Python 3 (ipykernel)",
      "language": "python",
      "name": "python3"
    },
    "language_info": {
      "codemirror_mode": {
        "name": "ipython",
        "version": 3
      },
      "file_extension": ".py",
      "mimetype": "text/x-python",
      "name": "python",
      "nbconvert_exporter": "python",
      "pygments_lexer": "ipython3",
      "version": "3.9.12"
    },
    "colab": {
      "provenance": []
    }
  },
  "nbformat": 4,
  "nbformat_minor": 5
}