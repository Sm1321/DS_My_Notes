{
 "cells": [
  {
   "cell_type": "code",
   "execution_count": 40,
   "metadata": {
    "id": "axFEEzo3gm81"
   },
   "outputs": [],
   "source": [
    "import numpy as np\n",
    "import pandas as pd\n"
   ]
  },
  {
   "cell_type": "code",
   "execution_count": 41,
   "metadata": {
    "colab": {
     "base_uri": "https://localhost:8080/",
     "height": 369
    },
    "id": "6inhzPCagm84",
    "outputId": "aaba0bfd-3989-418c-d254-f5d5a4bdbf90",
    "scrolled": false
   },
   "outputs": [
    {
     "data": {
      "text/html": [
       "<div>\n",
       "<style scoped>\n",
       "    .dataframe tbody tr th:only-of-type {\n",
       "        vertical-align: middle;\n",
       "    }\n",
       "\n",
       "    .dataframe tbody tr th {\n",
       "        vertical-align: top;\n",
       "    }\n",
       "\n",
       "    .dataframe thead th {\n",
       "        text-align: right;\n",
       "    }\n",
       "</style>\n",
       "<table border=\"1\" class=\"dataframe\">\n",
       "  <thead>\n",
       "    <tr style=\"text-align: right;\">\n",
       "      <th></th>\n",
       "      <th>Car ID</th>\n",
       "      <th>Symboling</th>\n",
       "      <th>Car Name</th>\n",
       "      <th>Fuel Type</th>\n",
       "      <th>Aspiration</th>\n",
       "      <th>Door Number</th>\n",
       "      <th>Car Body</th>\n",
       "      <th>Drive Wheel</th>\n",
       "      <th>Engine Location</th>\n",
       "      <th>Wheel Base</th>\n",
       "      <th>...</th>\n",
       "      <th>Engine Size</th>\n",
       "      <th>Fuel System</th>\n",
       "      <th>Bore Ratio</th>\n",
       "      <th>Stroke</th>\n",
       "      <th>Compression Ratio</th>\n",
       "      <th>Horse Power</th>\n",
       "      <th>Peak RPM</th>\n",
       "      <th>City MPG</th>\n",
       "      <th>Highway MPG</th>\n",
       "      <th>Price</th>\n",
       "    </tr>\n",
       "  </thead>\n",
       "  <tbody>\n",
       "    <tr>\n",
       "      <th>0</th>\n",
       "      <td>1</td>\n",
       "      <td>3</td>\n",
       "      <td>alfa-romero giulia</td>\n",
       "      <td>gas</td>\n",
       "      <td>std</td>\n",
       "      <td>two</td>\n",
       "      <td>convertible</td>\n",
       "      <td>rwd</td>\n",
       "      <td>front</td>\n",
       "      <td>88.6</td>\n",
       "      <td>...</td>\n",
       "      <td>130</td>\n",
       "      <td>mpfi</td>\n",
       "      <td>3.47</td>\n",
       "      <td>2.68</td>\n",
       "      <td>9.0</td>\n",
       "      <td>111</td>\n",
       "      <td>5K</td>\n",
       "      <td>21</td>\n",
       "      <td>27</td>\n",
       "      <td>13495</td>\n",
       "    </tr>\n",
       "    <tr>\n",
       "      <th>1</th>\n",
       "      <td>2</td>\n",
       "      <td>3</td>\n",
       "      <td>alfa-romero stelvio</td>\n",
       "      <td>gas</td>\n",
       "      <td>std</td>\n",
       "      <td>two</td>\n",
       "      <td>convertible</td>\n",
       "      <td>rwd</td>\n",
       "      <td>front</td>\n",
       "      <td>88.6</td>\n",
       "      <td>...</td>\n",
       "      <td>130</td>\n",
       "      <td>mpfi</td>\n",
       "      <td>3.47</td>\n",
       "      <td>2.68</td>\n",
       "      <td>9.0</td>\n",
       "      <td>111</td>\n",
       "      <td>5K</td>\n",
       "      <td>21</td>\n",
       "      <td>27</td>\n",
       "      <td>16500</td>\n",
       "    </tr>\n",
       "    <tr>\n",
       "      <th>2</th>\n",
       "      <td>3</td>\n",
       "      <td>1</td>\n",
       "      <td>alfa-romero Quadrifoglio</td>\n",
       "      <td>gas</td>\n",
       "      <td>std</td>\n",
       "      <td>two</td>\n",
       "      <td>hatchback</td>\n",
       "      <td>rwd</td>\n",
       "      <td>front</td>\n",
       "      <td>94.5</td>\n",
       "      <td>...</td>\n",
       "      <td>152</td>\n",
       "      <td>mpfi</td>\n",
       "      <td>2.68</td>\n",
       "      <td>3.47</td>\n",
       "      <td>9.0</td>\n",
       "      <td>154</td>\n",
       "      <td>5K</td>\n",
       "      <td>19</td>\n",
       "      <td>26</td>\n",
       "      <td>16500</td>\n",
       "    </tr>\n",
       "    <tr>\n",
       "      <th>3</th>\n",
       "      <td>4</td>\n",
       "      <td>2</td>\n",
       "      <td>audi 100 ls</td>\n",
       "      <td>gas</td>\n",
       "      <td>std</td>\n",
       "      <td>four</td>\n",
       "      <td>sedan</td>\n",
       "      <td>fwd</td>\n",
       "      <td>front</td>\n",
       "      <td>99.8</td>\n",
       "      <td>...</td>\n",
       "      <td>109</td>\n",
       "      <td>mpfi</td>\n",
       "      <td>3.19</td>\n",
       "      <td>3.40</td>\n",
       "      <td>10.0</td>\n",
       "      <td>102</td>\n",
       "      <td>5500</td>\n",
       "      <td>24</td>\n",
       "      <td>30</td>\n",
       "      <td>13950</td>\n",
       "    </tr>\n",
       "    <tr>\n",
       "      <th>4</th>\n",
       "      <td>5</td>\n",
       "      <td>2</td>\n",
       "      <td>audi 100ls</td>\n",
       "      <td>gas</td>\n",
       "      <td>std</td>\n",
       "      <td>four</td>\n",
       "      <td>sedan</td>\n",
       "      <td>4wd</td>\n",
       "      <td>front</td>\n",
       "      <td>99.4</td>\n",
       "      <td>...</td>\n",
       "      <td>136</td>\n",
       "      <td>mpfi</td>\n",
       "      <td>3.19</td>\n",
       "      <td>3.40</td>\n",
       "      <td>8.0</td>\n",
       "      <td>115</td>\n",
       "      <td>5500</td>\n",
       "      <td>18</td>\n",
       "      <td>22</td>\n",
       "      <td>17450</td>\n",
       "    </tr>\n",
       "  </tbody>\n",
       "</table>\n",
       "<p>5 rows × 26 columns</p>\n",
       "</div>"
      ],
      "text/plain": [
       "   Car ID  Symboling                  Car Name Fuel Type Aspiration  \\\n",
       "0       1          3        alfa-romero giulia       gas        std   \n",
       "1       2          3       alfa-romero stelvio       gas        std   \n",
       "2       3          1  alfa-romero Quadrifoglio       gas        std   \n",
       "3       4          2               audi 100 ls       gas        std   \n",
       "4       5          2                audi 100ls       gas        std   \n",
       "\n",
       "  Door Number     Car Body Drive Wheel Engine Location  Wheel Base  ...  \\\n",
       "0         two  convertible         rwd           front        88.6  ...   \n",
       "1         two  convertible         rwd           front        88.6  ...   \n",
       "2         two    hatchback         rwd           front        94.5  ...   \n",
       "3        four        sedan         fwd           front        99.8  ...   \n",
       "4        four        sedan         4wd           front        99.4  ...   \n",
       "\n",
       "   Engine Size  Fuel System  Bore Ratio  Stroke Compression Ratio Horse Power  \\\n",
       "0          130         mpfi        3.47    2.68               9.0         111   \n",
       "1          130         mpfi        3.47    2.68               9.0         111   \n",
       "2          152         mpfi        2.68    3.47               9.0         154   \n",
       "3          109         mpfi        3.19    3.40              10.0         102   \n",
       "4          136         mpfi        3.19    3.40               8.0         115   \n",
       "\n",
       "   Peak RPM City MPG  Highway MPG  Price  \n",
       "0        5K       21           27  13495  \n",
       "1        5K       21           27  16500  \n",
       "2        5K       19           26  16500  \n",
       "3      5500       24           30  13950  \n",
       "4      5500       18           22  17450  \n",
       "\n",
       "[5 rows x 26 columns]"
      ]
     },
     "execution_count": 41,
     "metadata": {},
     "output_type": "execute_result"
    }
   ],
   "source": [
    "df = pd.read_csv('data/car_data.csv')\n",
    "\n",
    "# df.head()\n",
    "df.head()"
   ]
  },
  {
   "cell_type": "code",
   "execution_count": 42,
   "metadata": {},
   "outputs": [
    {
     "data": {
      "text/plain": [
       "(205, 26)"
      ]
     },
     "execution_count": 42,
     "metadata": {},
     "output_type": "execute_result"
    }
   ],
   "source": [
    "df.shape"
   ]
  },
  {
   "cell_type": "code",
   "execution_count": 43,
   "metadata": {
    "colab": {
     "base_uri": "https://localhost:8080/"
    },
    "id": "6a0o_38kgm86",
    "outputId": "65f7cc95-f0ad-4197-ec3f-36491f61c9bf"
   },
   "outputs": [
    {
     "data": {
      "text/plain": [
       "Index(['Car ID', 'Symboling', 'Car Name', 'Fuel Type', 'Aspiration',\n",
       "       'Door Number', 'Car Body', 'Drive Wheel', 'Engine Location',\n",
       "       'Wheel Base', 'Car Length', 'Car Width', 'Car Height', 'Curb Weight',\n",
       "       'Engine Type', 'Cylinder Number', 'Engine Size', 'Fuel System',\n",
       "       'Bore Ratio', 'Stroke', 'Compression Ratio', 'Horse Power', 'Peak RPM',\n",
       "       'City MPG', 'Highway MPG', 'Price'],\n",
       "      dtype='object')"
      ]
     },
     "execution_count": 43,
     "metadata": {},
     "output_type": "execute_result"
    }
   ],
   "source": [
    "#df.columns\n",
    "df.columns"
   ]
  },
  {
   "cell_type": "code",
   "execution_count": 44,
   "metadata": {},
   "outputs": [
    {
     "name": "stdout",
     "output_type": "stream",
     "text": [
      "<class 'pandas.core.frame.DataFrame'>\n",
      "RangeIndex: 205 entries, 0 to 204\n",
      "Data columns (total 26 columns):\n",
      " #   Column             Non-Null Count  Dtype  \n",
      "---  ------             --------------  -----  \n",
      " 0   Car ID             205 non-null    int64  \n",
      " 1   Symboling          205 non-null    int64  \n",
      " 2   Car Name           205 non-null    object \n",
      " 3   Fuel Type          205 non-null    object \n",
      " 4   Aspiration         205 non-null    object \n",
      " 5   Door Number        205 non-null    object \n",
      " 6   Car Body           205 non-null    object \n",
      " 7   Drive Wheel        205 non-null    object \n",
      " 8   Engine Location    205 non-null    object \n",
      " 9   Wheel Base         205 non-null    float64\n",
      " 10  Car Length         205 non-null    float64\n",
      " 11  Car Width          205 non-null    float64\n",
      " 12  Car Height         205 non-null    float64\n",
      " 13  Curb Weight        205 non-null    int64  \n",
      " 14  Engine Type        205 non-null    object \n",
      " 15  Cylinder Number    205 non-null    object \n",
      " 16  Engine Size        205 non-null    int64  \n",
      " 17  Fuel System        205 non-null    object \n",
      " 18  Bore Ratio         205 non-null    float64\n",
      " 19  Stroke             205 non-null    float64\n",
      " 20  Compression Ratio  205 non-null    float64\n",
      " 21  Horse Power        205 non-null    int64  \n",
      " 22  Peak RPM           205 non-null    object \n",
      " 23  City MPG           205 non-null    int64  \n",
      " 24  Highway MPG        205 non-null    int64  \n",
      " 25  Price              205 non-null    object \n",
      "dtypes: float64(7), int64(7), object(12)\n",
      "memory usage: 41.8+ KB\n"
     ]
    }
   ],
   "source": [
    "df.info()"
   ]
  },
  {
   "cell_type": "code",
   "execution_count": 45,
   "metadata": {
    "id": "dG-tcu75gxBm"
   },
   "outputs": [],
   "source": [
    "# Issues with the dataframe?\n",
    "# Column Names\n",
    "# In this case study we will focus on Car Name, Door Number and Peak RPM."
   ]
  },
  {
   "cell_type": "code",
   "execution_count": 46,
   "metadata": {
    "colab": {
     "base_uri": "https://localhost:8080/"
    },
    "id": "W2ud7uxzgm87",
    "outputId": "f30574a0-fc19-497b-9601-d51c8d800fbd"
   },
   "outputs": [],
   "source": [
    "#info\n"
   ]
  },
  {
   "cell_type": "markdown",
   "metadata": {
    "id": "OsIifTYMgm88"
   },
   "source": [
    "### Fixing Column Names"
   ]
  },
  {
   "cell_type": "code",
   "execution_count": 47,
   "metadata": {},
   "outputs": [],
   "source": [
    "columns = df.columns"
   ]
  },
  {
   "cell_type": "code",
   "execution_count": 48,
   "metadata": {
    "colab": {
     "base_uri": "https://localhost:8080/"
    },
    "id": "DjhNLy5Sgm8_",
    "outputId": "68d0992b-730d-4569-a38b-83ec654d1b57"
   },
   "outputs": [],
   "source": [
    "#list comprehesion . lower().replace()\n",
    "\n",
    "new_col = [ col.lower().replace(' ', '_') for col in columns ]"
   ]
  },
  {
   "cell_type": "code",
   "execution_count": 49,
   "metadata": {
    "id": "JGXJMMUBgm9A"
   },
   "outputs": [],
   "source": [
    "#assign\n",
    "df.columns = new_col"
   ]
  },
  {
   "cell_type": "code",
   "execution_count": 50,
   "metadata": {
    "colab": {
     "base_uri": "https://localhost:8080/",
     "height": 352
    },
    "id": "JAsR1wE8gm9C",
    "outputId": "ec0b36f9-f2a4-446b-c126-6b573d860b4b"
   },
   "outputs": [
    {
     "data": {
      "text/html": [
       "<div>\n",
       "<style scoped>\n",
       "    .dataframe tbody tr th:only-of-type {\n",
       "        vertical-align: middle;\n",
       "    }\n",
       "\n",
       "    .dataframe tbody tr th {\n",
       "        vertical-align: top;\n",
       "    }\n",
       "\n",
       "    .dataframe thead th {\n",
       "        text-align: right;\n",
       "    }\n",
       "</style>\n",
       "<table border=\"1\" class=\"dataframe\">\n",
       "  <thead>\n",
       "    <tr style=\"text-align: right;\">\n",
       "      <th></th>\n",
       "      <th>car_id</th>\n",
       "      <th>symboling</th>\n",
       "      <th>car_name</th>\n",
       "      <th>fuel_type</th>\n",
       "      <th>aspiration</th>\n",
       "      <th>door_number</th>\n",
       "      <th>car_body</th>\n",
       "      <th>drive_wheel</th>\n",
       "      <th>engine_location</th>\n",
       "      <th>wheel_base</th>\n",
       "      <th>...</th>\n",
       "      <th>engine_size</th>\n",
       "      <th>fuel_system</th>\n",
       "      <th>bore_ratio</th>\n",
       "      <th>stroke</th>\n",
       "      <th>compression_ratio</th>\n",
       "      <th>horse_power</th>\n",
       "      <th>peak_rpm</th>\n",
       "      <th>city_mpg</th>\n",
       "      <th>highway_mpg</th>\n",
       "      <th>price</th>\n",
       "    </tr>\n",
       "  </thead>\n",
       "  <tbody>\n",
       "    <tr>\n",
       "      <th>0</th>\n",
       "      <td>1</td>\n",
       "      <td>3</td>\n",
       "      <td>alfa-romero giulia</td>\n",
       "      <td>gas</td>\n",
       "      <td>std</td>\n",
       "      <td>two</td>\n",
       "      <td>convertible</td>\n",
       "      <td>rwd</td>\n",
       "      <td>front</td>\n",
       "      <td>88.6</td>\n",
       "      <td>...</td>\n",
       "      <td>130</td>\n",
       "      <td>mpfi</td>\n",
       "      <td>3.47</td>\n",
       "      <td>2.68</td>\n",
       "      <td>9.0</td>\n",
       "      <td>111</td>\n",
       "      <td>5K</td>\n",
       "      <td>21</td>\n",
       "      <td>27</td>\n",
       "      <td>13495</td>\n",
       "    </tr>\n",
       "    <tr>\n",
       "      <th>1</th>\n",
       "      <td>2</td>\n",
       "      <td>3</td>\n",
       "      <td>alfa-romero stelvio</td>\n",
       "      <td>gas</td>\n",
       "      <td>std</td>\n",
       "      <td>two</td>\n",
       "      <td>convertible</td>\n",
       "      <td>rwd</td>\n",
       "      <td>front</td>\n",
       "      <td>88.6</td>\n",
       "      <td>...</td>\n",
       "      <td>130</td>\n",
       "      <td>mpfi</td>\n",
       "      <td>3.47</td>\n",
       "      <td>2.68</td>\n",
       "      <td>9.0</td>\n",
       "      <td>111</td>\n",
       "      <td>5K</td>\n",
       "      <td>21</td>\n",
       "      <td>27</td>\n",
       "      <td>16500</td>\n",
       "    </tr>\n",
       "    <tr>\n",
       "      <th>2</th>\n",
       "      <td>3</td>\n",
       "      <td>1</td>\n",
       "      <td>alfa-romero Quadrifoglio</td>\n",
       "      <td>gas</td>\n",
       "      <td>std</td>\n",
       "      <td>two</td>\n",
       "      <td>hatchback</td>\n",
       "      <td>rwd</td>\n",
       "      <td>front</td>\n",
       "      <td>94.5</td>\n",
       "      <td>...</td>\n",
       "      <td>152</td>\n",
       "      <td>mpfi</td>\n",
       "      <td>2.68</td>\n",
       "      <td>3.47</td>\n",
       "      <td>9.0</td>\n",
       "      <td>154</td>\n",
       "      <td>5K</td>\n",
       "      <td>19</td>\n",
       "      <td>26</td>\n",
       "      <td>16500</td>\n",
       "    </tr>\n",
       "    <tr>\n",
       "      <th>3</th>\n",
       "      <td>4</td>\n",
       "      <td>2</td>\n",
       "      <td>audi 100 ls</td>\n",
       "      <td>gas</td>\n",
       "      <td>std</td>\n",
       "      <td>four</td>\n",
       "      <td>sedan</td>\n",
       "      <td>fwd</td>\n",
       "      <td>front</td>\n",
       "      <td>99.8</td>\n",
       "      <td>...</td>\n",
       "      <td>109</td>\n",
       "      <td>mpfi</td>\n",
       "      <td>3.19</td>\n",
       "      <td>3.40</td>\n",
       "      <td>10.0</td>\n",
       "      <td>102</td>\n",
       "      <td>5500</td>\n",
       "      <td>24</td>\n",
       "      <td>30</td>\n",
       "      <td>13950</td>\n",
       "    </tr>\n",
       "    <tr>\n",
       "      <th>4</th>\n",
       "      <td>5</td>\n",
       "      <td>2</td>\n",
       "      <td>audi 100ls</td>\n",
       "      <td>gas</td>\n",
       "      <td>std</td>\n",
       "      <td>four</td>\n",
       "      <td>sedan</td>\n",
       "      <td>4wd</td>\n",
       "      <td>front</td>\n",
       "      <td>99.4</td>\n",
       "      <td>...</td>\n",
       "      <td>136</td>\n",
       "      <td>mpfi</td>\n",
       "      <td>3.19</td>\n",
       "      <td>3.40</td>\n",
       "      <td>8.0</td>\n",
       "      <td>115</td>\n",
       "      <td>5500</td>\n",
       "      <td>18</td>\n",
       "      <td>22</td>\n",
       "      <td>17450</td>\n",
       "    </tr>\n",
       "  </tbody>\n",
       "</table>\n",
       "<p>5 rows × 26 columns</p>\n",
       "</div>"
      ],
      "text/plain": [
       "   car_id  symboling                  car_name fuel_type aspiration  \\\n",
       "0       1          3        alfa-romero giulia       gas        std   \n",
       "1       2          3       alfa-romero stelvio       gas        std   \n",
       "2       3          1  alfa-romero Quadrifoglio       gas        std   \n",
       "3       4          2               audi 100 ls       gas        std   \n",
       "4       5          2                audi 100ls       gas        std   \n",
       "\n",
       "  door_number     car_body drive_wheel engine_location  wheel_base  ...  \\\n",
       "0         two  convertible         rwd           front        88.6  ...   \n",
       "1         two  convertible         rwd           front        88.6  ...   \n",
       "2         two    hatchback         rwd           front        94.5  ...   \n",
       "3        four        sedan         fwd           front        99.8  ...   \n",
       "4        four        sedan         4wd           front        99.4  ...   \n",
       "\n",
       "   engine_size  fuel_system  bore_ratio  stroke compression_ratio horse_power  \\\n",
       "0          130         mpfi        3.47    2.68               9.0         111   \n",
       "1          130         mpfi        3.47    2.68               9.0         111   \n",
       "2          152         mpfi        2.68    3.47               9.0         154   \n",
       "3          109         mpfi        3.19    3.40              10.0         102   \n",
       "4          136         mpfi        3.19    3.40               8.0         115   \n",
       "\n",
       "   peak_rpm city_mpg  highway_mpg  price  \n",
       "0        5K       21           27  13495  \n",
       "1        5K       21           27  16500  \n",
       "2        5K       19           26  16500  \n",
       "3      5500       24           30  13950  \n",
       "4      5500       18           22  17450  \n",
       "\n",
       "[5 rows x 26 columns]"
      ]
     },
     "execution_count": 50,
     "metadata": {},
     "output_type": "execute_result"
    }
   ],
   "source": [
    "#head\n",
    "df.head()"
   ]
  },
  {
   "cell_type": "code",
   "execution_count": 51,
   "metadata": {
    "colab": {
     "base_uri": "https://localhost:8080/"
    },
    "id": "OQMzF_VCgm9D",
    "outputId": "46f61d8d-7431-45f1-87c4-978976dd6224"
   },
   "outputs": [],
   "source": [
    "#info"
   ]
  },
  {
   "cell_type": "markdown",
   "metadata": {
    "id": "K_rdsNBMgm9E"
   },
   "source": [
    "## As a part of this case study, we will focus only on `car_name`, `door_number` and `peak_rpm`\n",
    "\n",
    "From df.info(), it is clear that `car_name`, `door_number` and `peak_rpm` are object type without any missing values"
   ]
  },
  {
   "cell_type": "code",
   "execution_count": 52,
   "metadata": {},
   "outputs": [
    {
     "data": {
      "text/plain": [
       "car_id                 int64\n",
       "symboling              int64\n",
       "car_name              object\n",
       "fuel_type             object\n",
       "aspiration            object\n",
       "door_number           object\n",
       "car_body              object\n",
       "drive_wheel           object\n",
       "engine_location       object\n",
       "wheel_base           float64\n",
       "car_length           float64\n",
       "car_width            float64\n",
       "car_height           float64\n",
       "curb_weight            int64\n",
       "engine_type           object\n",
       "cylinder_number       object\n",
       "engine_size            int64\n",
       "fuel_system           object\n",
       "bore_ratio           float64\n",
       "stroke               float64\n",
       "compression_ratio    float64\n",
       "horse_power            int64\n",
       "peak_rpm              object\n",
       "city_mpg               int64\n",
       "highway_mpg            int64\n",
       "price                 object\n",
       "dtype: object"
      ]
     },
     "execution_count": 52,
     "metadata": {},
     "output_type": "execute_result"
    }
   ],
   "source": [
    "#dtypes\n",
    "df.dtypes"
   ]
  },
  {
   "cell_type": "code",
   "execution_count": 101,
   "metadata": {
    "colab": {
     "base_uri": "https://localhost:8080/"
    },
    "id": "JNiYJmkAgm9F",
    "outputId": "2a1c127f-817d-4c38-99a2-a01948dc5395"
   },
   "outputs": [
    {
     "data": {
      "text/plain": [
       "array(['13495', '16500', '13950', '17450', '15250', '17710', '18920',\n",
       "       '23875', '17859.167', '16430', '16925', '20970', '21105', '24565',\n",
       "       '30760', '41315', '36880', '5151', '6295', '6575', '5572', '6377',\n",
       "       '7957', '6229', '6692', '7609', '8558', '8921', '12964', '6479',\n",
       "       '6855', '5399', '6529', '7129', '7295', '7895', '9095', '8845',\n",
       "       '10295', '12945', '10345', '6785', '8916.5', '11048', '32250',\n",
       "       '35550', '36K', '5195', '6095', '6795', '6695', '7395', '10945',\n",
       "       '11845', '13645', '15645', '8495', '10595', '10245', '10795',\n",
       "       '11245', '18280', '18344', '25552', '28248', '28176', '31600',\n",
       "       '34184', '35056', '40960', '45400', '16503', '5389', '6189',\n",
       "       '6669', '7689', '9959', '8499', '12629', '14869', '14489', '6989',\n",
       "       '8189', '9279', '5499', '7099', '6649', '6849', '7349', '7299',\n",
       "       '7799', '7499', '7999', '8249', '8949', '9549', '13499', '14399',\n",
       "       '17199', '19699', '18399', '11900', '13200', '12440', '13860',\n",
       "       '15580', '16900', '16695', '17075', '16630', '17950', '18150',\n",
       "       '12764', '22018', '32528', '34028', '37028', '31400.5', '9295',\n",
       "       '9895', '11850', '12170', '15040', '15510', '18620', '5118',\n",
       "       '7053', '7603', '7126', '7775', '9960', '9233', '11259', '7463',\n",
       "       '10198', '8013', '11694', '5348', '6338', '6488', '6918', '7898',\n",
       "       '8778', '6938', '7198', '7788', '7738', '8358', '9258', '8058',\n",
       "       '8238', '9298', '9538', '8449', '9639', '9989', '11199', '11549',\n",
       "       '17669', '8948', '10698', '9988', '10898', '11248', '16558',\n",
       "       '15998', '15690', '15750', '7975', '7995', '8195', '9495', '9995',\n",
       "       '11595', '9980', '13295', '13845', '12290', '12940', '13415',\n",
       "       '15985', '16515', '18420', '18950', '16845', '19045', '21485',\n",
       "       '22470', '22625'], dtype=object)"
      ]
     },
     "execution_count": 101,
     "metadata": {},
     "output_type": "execute_result"
    }
   ],
   "source": [
    "#carname values_counts\n",
    "df.price.unique()"
   ]
  },
  {
   "cell_type": "code",
   "execution_count": 54,
   "metadata": {
    "colab": {
     "base_uri": "https://localhost:8080/"
    },
    "id": "d5keii-qgm9F",
    "outputId": "026f8c36-d572-41c1-a080-a4f723c36fea"
   },
   "outputs": [
    {
     "data": {
      "text/plain": [
       "four    114\n",
       "two      90\n",
       "?         1\n",
       "Name: door_number, dtype: int64"
      ]
     },
     "execution_count": 54,
     "metadata": {},
     "output_type": "execute_result"
    }
   ],
   "source": [
    "#door number values_counts\n",
    "df.door_number.value_counts()"
   ]
  },
  {
   "cell_type": "code",
   "execution_count": 55,
   "metadata": {
    "colab": {
     "base_uri": "https://localhost:8080/"
    },
    "id": "vDA4Krpigm9G",
    "outputId": "eb0e6d99-90ab-4a39-8c9b-db9bcb22d752"
   },
   "outputs": [
    {
     "data": {
      "text/plain": [
       "5500     36\n",
       "4800     36\n",
       "5K       27\n",
       "5200     21\n",
       "5400     10\n",
       "6K        9\n",
       "4500      7\n",
       "5250      7\n",
       "5800      7\n",
       "5100      5\n",
       "4150      5\n",
       "4200      5\n",
       "4750      4\n",
       "4350      4\n",
       "5,400     3\n",
       "4250      3\n",
       "5900      3\n",
       "4400      3\n",
       "5,200     2\n",
       "6600      2\n",
       "4900      1\n",
       "5,500     1\n",
       "5750      1\n",
       "5600      1\n",
       "4650      1\n",
       "5300      1\n",
       "Name: peak_rpm, dtype: int64"
      ]
     },
     "execution_count": 55,
     "metadata": {},
     "output_type": "execute_result"
    }
   ],
   "source": [
    "#peak rpm values_counts\n",
    "df.peak_rpm.value_counts()"
   ]
  },
  {
   "cell_type": "markdown",
   "metadata": {
    "id": "Jsr_x2rfgm9H"
   },
   "source": [
    "**Observations**\n",
    "\n",
    "- `car_name` is a categorical column with 147 categories of cars\n",
    "- It looks like `door_number` is containing one missing value \n",
    "- `peak_rpm` looks like an integer column with some abnormalities."
   ]
  },
  {
   "cell_type": "markdown",
   "metadata": {
    "id": "tAbh0Owkgm9I"
   },
   "source": [
    "## Fixing `door_number` column\n",
    "\n",
    "**Posible Fixes**\n",
    "- Handle the missing value\n",
    "- Possibility to conver to integer column"
   ]
  },
  {
   "cell_type": "markdown",
   "metadata": {
    "id": "LZrGv57Hgm9I"
   },
   "source": [
    "#### Crosstab - It compares the index and columns which yields the count "
   ]
  },
  {
   "cell_type": "code",
   "execution_count": 56,
   "metadata": {
    "colab": {
     "base_uri": "https://localhost:8080/"
    },
    "id": "UPltFeBqh8A1",
    "outputId": "cc782c74-415e-42d1-c303-9cc33480aead"
   },
   "outputs": [],
   "source": [
    "# df.columns\n"
   ]
  },
  {
   "cell_type": "code",
   "execution_count": 57,
   "metadata": {
    "colab": {
     "base_uri": "https://localhost:8080/",
     "height": 175
    },
    "id": "-ue-3FpYgm9I",
    "outputId": "e6239d36-6528-44de-aadd-4cf529f044b9"
   },
   "outputs": [
    {
     "data": {
      "text/html": [
       "<div>\n",
       "<style scoped>\n",
       "    .dataframe tbody tr th:only-of-type {\n",
       "        vertical-align: middle;\n",
       "    }\n",
       "\n",
       "    .dataframe tbody tr th {\n",
       "        vertical-align: top;\n",
       "    }\n",
       "\n",
       "    .dataframe thead th {\n",
       "        text-align: right;\n",
       "    }\n",
       "</style>\n",
       "<table border=\"1\" class=\"dataframe\">\n",
       "  <thead>\n",
       "    <tr style=\"text-align: right;\">\n",
       "      <th>car_body</th>\n",
       "      <th>convertible</th>\n",
       "      <th>hardtop</th>\n",
       "      <th>hatchback</th>\n",
       "      <th>sedan</th>\n",
       "      <th>wagon</th>\n",
       "    </tr>\n",
       "    <tr>\n",
       "      <th>door_number</th>\n",
       "      <th></th>\n",
       "      <th></th>\n",
       "      <th></th>\n",
       "      <th></th>\n",
       "      <th></th>\n",
       "    </tr>\n",
       "  </thead>\n",
       "  <tbody>\n",
       "    <tr>\n",
       "      <th>?</th>\n",
       "      <td>0</td>\n",
       "      <td>0</td>\n",
       "      <td>0</td>\n",
       "      <td>0</td>\n",
       "      <td>1</td>\n",
       "    </tr>\n",
       "    <tr>\n",
       "      <th>four</th>\n",
       "      <td>0</td>\n",
       "      <td>0</td>\n",
       "      <td>10</td>\n",
       "      <td>80</td>\n",
       "      <td>24</td>\n",
       "    </tr>\n",
       "    <tr>\n",
       "      <th>two</th>\n",
       "      <td>6</td>\n",
       "      <td>8</td>\n",
       "      <td>60</td>\n",
       "      <td>16</td>\n",
       "      <td>0</td>\n",
       "    </tr>\n",
       "  </tbody>\n",
       "</table>\n",
       "</div>"
      ],
      "text/plain": [
       "car_body     convertible  hardtop  hatchback  sedan  wagon\n",
       "door_number                                               \n",
       "?                      0        0          0      0      1\n",
       "four                   0        0         10     80     24\n",
       "two                    6        8         60     16      0"
      ]
     },
     "execution_count": 57,
     "metadata": {},
     "output_type": "execute_result"
    }
   ],
   "source": [
    "#crosstab of door number and car body\n",
    "pd.crosstab(df['door_number'], df['car_body'])\n",
    "\n"
   ]
  },
  {
   "cell_type": "code",
   "execution_count": 58,
   "metadata": {
    "colab": {
     "base_uri": "https://localhost:8080/",
     "height": 175
    },
    "id": "vwyH9NgmiL4t",
    "outputId": "2d660b54-f2ed-486a-db9b-1d06d4d7b04c"
   },
   "outputs": [
    {
     "data": {
      "text/html": [
       "<div>\n",
       "<style scoped>\n",
       "    .dataframe tbody tr th:only-of-type {\n",
       "        vertical-align: middle;\n",
       "    }\n",
       "\n",
       "    .dataframe tbody tr th {\n",
       "        vertical-align: top;\n",
       "    }\n",
       "\n",
       "    .dataframe thead th {\n",
       "        text-align: right;\n",
       "    }\n",
       "</style>\n",
       "<table border=\"1\" class=\"dataframe\">\n",
       "  <thead>\n",
       "    <tr style=\"text-align: right;\">\n",
       "      <th>fuel_type</th>\n",
       "      <th>diesel</th>\n",
       "      <th>gas</th>\n",
       "    </tr>\n",
       "    <tr>\n",
       "      <th>door_number</th>\n",
       "      <th></th>\n",
       "      <th></th>\n",
       "    </tr>\n",
       "  </thead>\n",
       "  <tbody>\n",
       "    <tr>\n",
       "      <th>?</th>\n",
       "      <td>0</td>\n",
       "      <td>1</td>\n",
       "    </tr>\n",
       "    <tr>\n",
       "      <th>four</th>\n",
       "      <td>17</td>\n",
       "      <td>97</td>\n",
       "    </tr>\n",
       "    <tr>\n",
       "      <th>two</th>\n",
       "      <td>3</td>\n",
       "      <td>87</td>\n",
       "    </tr>\n",
       "  </tbody>\n",
       "</table>\n",
       "</div>"
      ],
      "text/plain": [
       "fuel_type    diesel  gas\n",
       "door_number             \n",
       "?                 0    1\n",
       "four             17   97\n",
       "two               3   87"
      ]
     },
     "execution_count": 58,
     "metadata": {},
     "output_type": "execute_result"
    }
   ],
   "source": [
    "#crosstab of door number and fuel type\n",
    "pd.crosstab(df['door_number'], df['fuel_type'])"
   ]
  },
  {
   "cell_type": "code",
   "execution_count": 59,
   "metadata": {
    "colab": {
     "base_uri": "https://localhost:8080/",
     "height": 175
    },
    "id": "IF6MBKC-ihzH",
    "outputId": "74d7ba72-1ce6-40a9-8366-8922550e7837"
   },
   "outputs": [
    {
     "data": {
      "text/html": [
       "<div>\n",
       "<style scoped>\n",
       "    .dataframe tbody tr th:only-of-type {\n",
       "        vertical-align: middle;\n",
       "    }\n",
       "\n",
       "    .dataframe tbody tr th {\n",
       "        vertical-align: top;\n",
       "    }\n",
       "\n",
       "    .dataframe thead th {\n",
       "        text-align: right;\n",
       "    }\n",
       "</style>\n",
       "<table border=\"1\" class=\"dataframe\">\n",
       "  <thead>\n",
       "    <tr style=\"text-align: right;\">\n",
       "      <th>drive_wheel</th>\n",
       "      <th>4wd</th>\n",
       "      <th>fwd</th>\n",
       "      <th>rwd</th>\n",
       "    </tr>\n",
       "    <tr>\n",
       "      <th>door_number</th>\n",
       "      <th></th>\n",
       "      <th></th>\n",
       "      <th></th>\n",
       "    </tr>\n",
       "  </thead>\n",
       "  <tbody>\n",
       "    <tr>\n",
       "      <th>?</th>\n",
       "      <td>0</td>\n",
       "      <td>1</td>\n",
       "      <td>0</td>\n",
       "    </tr>\n",
       "    <tr>\n",
       "      <th>four</th>\n",
       "      <td>7</td>\n",
       "      <td>68</td>\n",
       "      <td>39</td>\n",
       "    </tr>\n",
       "    <tr>\n",
       "      <th>two</th>\n",
       "      <td>2</td>\n",
       "      <td>51</td>\n",
       "      <td>37</td>\n",
       "    </tr>\n",
       "  </tbody>\n",
       "</table>\n",
       "</div>"
      ],
      "text/plain": [
       "drive_wheel  4wd  fwd  rwd\n",
       "door_number               \n",
       "?              0    1    0\n",
       "four           7   68   39\n",
       "two            2   51   37"
      ]
     },
     "execution_count": 59,
     "metadata": {},
     "output_type": "execute_result"
    }
   ],
   "source": [
    "#crosstab of door number and drive wheel\n",
    "pd.crosstab(df['door_number'], df['drive_wheel'])"
   ]
  },
  {
   "cell_type": "code",
   "execution_count": 60,
   "metadata": {
    "colab": {
     "base_uri": "https://localhost:8080/",
     "height": 175
    },
    "id": "e-7AAHa8gm9J",
    "outputId": "4c0ea713-89b4-47fb-fd7d-2fdc46a5601d"
   },
   "outputs": [
    {
     "data": {
      "text/html": [
       "<div>\n",
       "<style scoped>\n",
       "    .dataframe tbody tr th:only-of-type {\n",
       "        vertical-align: middle;\n",
       "    }\n",
       "\n",
       "    .dataframe tbody tr th {\n",
       "        vertical-align: top;\n",
       "    }\n",
       "\n",
       "    .dataframe thead th {\n",
       "        text-align: right;\n",
       "    }\n",
       "</style>\n",
       "<table border=\"1\" class=\"dataframe\">\n",
       "  <thead>\n",
       "    <tr style=\"text-align: right;\">\n",
       "      <th>engine_location</th>\n",
       "      <th>front</th>\n",
       "      <th>rear</th>\n",
       "    </tr>\n",
       "    <tr>\n",
       "      <th>door_number</th>\n",
       "      <th></th>\n",
       "      <th></th>\n",
       "    </tr>\n",
       "  </thead>\n",
       "  <tbody>\n",
       "    <tr>\n",
       "      <th>?</th>\n",
       "      <td>1</td>\n",
       "      <td>0</td>\n",
       "    </tr>\n",
       "    <tr>\n",
       "      <th>four</th>\n",
       "      <td>114</td>\n",
       "      <td>0</td>\n",
       "    </tr>\n",
       "    <tr>\n",
       "      <th>two</th>\n",
       "      <td>87</td>\n",
       "      <td>3</td>\n",
       "    </tr>\n",
       "  </tbody>\n",
       "</table>\n",
       "</div>"
      ],
      "text/plain": [
       "engine_location  front  rear\n",
       "door_number                 \n",
       "?                    1     0\n",
       "four               114     0\n",
       "two                 87     3"
      ]
     },
     "execution_count": 60,
     "metadata": {},
     "output_type": "execute_result"
    }
   ],
   "source": [
    "#crosstab of door number and engine location\n",
    "pd.crosstab(df['door_number'], df['engine_location'])"
   ]
  },
  {
   "cell_type": "markdown",
   "metadata": {
    "id": "0vMZApDVgm9J"
   },
   "source": [
    "#### Replace\n",
    "replace the ? to four"
   ]
  },
  {
   "cell_type": "code",
   "execution_count": 61,
   "metadata": {
    "colab": {
     "base_uri": "https://localhost:8080/"
    },
    "id": "7m7eeiXMgm9K",
    "outputId": "306bc82a-50fb-4290-9cad-f0364f9bd2e3"
   },
   "outputs": [],
   "source": [
    "# df.replace(to_replace='old', value='new', regex=False, inplace=True)\n",
    "# df.replace(to_replace=r'regex', value='new', regex=True, inplace=True)\n",
    "\n",
    "df.replace(to_replace = '?', value = 'four', regex= False, inplace= True)\n"
   ]
  },
  {
   "cell_type": "code",
   "execution_count": 62,
   "metadata": {},
   "outputs": [
    {
     "data": {
      "text/plain": [
       "four    115\n",
       "two      90\n",
       "Name: door_number, dtype: int64"
      ]
     },
     "execution_count": 62,
     "metadata": {},
     "output_type": "execute_result"
    }
   ],
   "source": [
    "# door number value count\n",
    "df.door_number.value_counts()"
   ]
  },
  {
   "cell_type": "code",
   "execution_count": 63,
   "metadata": {
    "colab": {
     "base_uri": "https://localhost:8080/",
     "height": 352
    },
    "id": "ylh06dLQgm9M",
    "outputId": "b01b6255-1e8a-43f7-e1e1-ef4ea5c0bc58"
   },
   "outputs": [],
   "source": [
    "#head"
   ]
  },
  {
   "cell_type": "markdown",
   "metadata": {},
   "source": [
    "### turn door number to int"
   ]
  },
  {
   "cell_type": "code",
   "execution_count": 67,
   "metadata": {
    "colab": {
     "base_uri": "https://localhost:8080/"
    },
    "id": "bxDMqSlNgm9M",
    "outputId": "c005e616-e071-436d-c42c-253069d435db"
   },
   "outputs": [],
   "source": [
    "# df['door_number'].replace(to_replace='four', value='4', regex=False, inplace=True)\n",
    "# df['door_number'].replace(to_replace='two', value='2', regex=False, inplace=True)\n",
    "\n",
    "\n",
    "## apply() lamda on door number column with if else ... ( hint in else=2)\n",
    "\n",
    "df['door_number'] = df.door_number.apply(lambda x: 4 if x == 'four' else 2)\n"
   ]
  },
  {
   "cell_type": "code",
   "execution_count": 68,
   "metadata": {
    "colab": {
     "base_uri": "https://localhost:8080/"
    },
    "id": "7pHSlF65gm9O",
    "outputId": "00da0222-b969-4ad9-f375-8f6e852a66f4",
    "scrolled": true
   },
   "outputs": [
    {
     "data": {
      "text/plain": [
       "4    115\n",
       "2     90\n",
       "Name: door_number, dtype: int64"
      ]
     },
     "execution_count": 68,
     "metadata": {},
     "output_type": "execute_result"
    }
   ],
   "source": [
    "# value count on door number\n",
    "df.door_number.value_counts()"
   ]
  },
  {
   "cell_type": "code",
   "execution_count": null,
   "metadata": {
    "colab": {
     "base_uri": "https://localhost:8080/",
     "height": 352
    },
    "id": "ypN8D8Hwgm9T",
    "outputId": "dec52666-d64a-44e9-ec56-b83410e003f1",
    "scrolled": true
   },
   "outputs": [],
   "source": [
    "#head"
   ]
  },
  {
   "cell_type": "code",
   "execution_count": 69,
   "metadata": {
    "id": "Xcvdn1n1gm9U"
   },
   "outputs": [
    {
     "data": {
      "text/plain": [
       "0      2\n",
       "1      2\n",
       "2      2\n",
       "3      4\n",
       "4      4\n",
       "      ..\n",
       "200    4\n",
       "201    4\n",
       "202    4\n",
       "203    4\n",
       "204    4\n",
       "Name: door_number, Length: 205, dtype: int32"
      ]
     },
     "execution_count": 69,
     "metadata": {},
     "output_type": "execute_result"
    }
   ],
   "source": [
    "# change the type of the column\n",
    "\n",
    "# df.col_name.astype('int')\n",
    "df.door_number.astype('int')\n"
   ]
  },
  {
   "cell_type": "code",
   "execution_count": null,
   "metadata": {},
   "outputs": [],
   "source": []
  },
  {
   "cell_type": "code",
   "execution_count": 73,
   "metadata": {
    "colab": {
     "base_uri": "https://localhost:8080/"
    },
    "id": "yBQ4BNjGgm9V",
    "outputId": "7a3710bc-240e-4806-9114-e87f815df1bc"
   },
   "outputs": [
    {
     "data": {
      "text/plain": [
       "car_id                 int64\n",
       "symboling              int64\n",
       "car_name              object\n",
       "fuel_type             object\n",
       "aspiration            object\n",
       "door_number            int64\n",
       "car_body              object\n",
       "drive_wheel           object\n",
       "engine_location       object\n",
       "wheel_base           float64\n",
       "car_length           float64\n",
       "car_width            float64\n",
       "car_height           float64\n",
       "curb_weight            int64\n",
       "engine_type           object\n",
       "cylinder_number       object\n",
       "engine_size            int64\n",
       "fuel_system           object\n",
       "bore_ratio           float64\n",
       "stroke               float64\n",
       "compression_ratio    float64\n",
       "horse_power            int64\n",
       "peak_rpm              object\n",
       "city_mpg               int64\n",
       "highway_mpg            int64\n",
       "price                 object\n",
       "dtype: object"
      ]
     },
     "execution_count": 73,
     "metadata": {},
     "output_type": "execute_result"
    }
   ],
   "source": [
    "#df.info() to check the type\n",
    "df.dtypes"
   ]
  },
  {
   "cell_type": "markdown",
   "metadata": {
    "id": "9Ud3r_REgm9V"
   },
   "source": [
    "## Fixing `peak_rpm`\n",
    "\n",
    "**Posible Fixes**\n",
    "- `5K` should be replaced with `5000`\n",
    "- `5,500` should be replaced with `5500`\n",
    "- Convert to numerical column"
   ]
  },
  {
   "cell_type": "code",
   "execution_count": null,
   "metadata": {
    "colab": {
     "base_uri": "https://localhost:8080/",
     "height": 311
    },
    "id": "y2WLAhSRgm9W",
    "outputId": "c447ed08-f345-40ba-e54b-54f5fd8d8f0f"
   },
   "outputs": [],
   "source": []
  },
  {
   "cell_type": "code",
   "execution_count": 86,
   "metadata": {
    "colab": {
     "base_uri": "https://localhost:8080/"
    },
    "id": "6r1jA2DHgm9X",
    "outputId": "956f3013-4434-414b-fa06-2c379872e3c3"
   },
   "outputs": [],
   "source": [
    "# if k replace k with '', typecast to int and multiply by 1000, if ,  replace , to '' else return int of x\n",
    "df['peak_rpm'] = df.peak_rpm.apply(lambda x: int(x.replace('K', '')) * 1000 if 'K' in x else int(x.replace(',','')))"
   ]
  },
  {
   "cell_type": "code",
   "execution_count": 87,
   "metadata": {},
   "outputs": [
    {
     "name": "stdout",
     "output_type": "stream",
     "text": [
      "<class 'pandas.core.frame.DataFrame'>\n",
      "RangeIndex: 205 entries, 0 to 204\n",
      "Data columns (total 26 columns):\n",
      " #   Column             Non-Null Count  Dtype  \n",
      "---  ------             --------------  -----  \n",
      " 0   car_id             205 non-null    int64  \n",
      " 1   symboling          205 non-null    int64  \n",
      " 2   car_name           205 non-null    object \n",
      " 3   fuel_type          205 non-null    object \n",
      " 4   aspiration         205 non-null    object \n",
      " 5   door_number        205 non-null    int64  \n",
      " 6   car_body           205 non-null    object \n",
      " 7   drive_wheel        205 non-null    object \n",
      " 8   engine_location    205 non-null    object \n",
      " 9   wheel_base         205 non-null    float64\n",
      " 10  car_length         205 non-null    float64\n",
      " 11  car_width          205 non-null    float64\n",
      " 12  car_height         205 non-null    float64\n",
      " 13  curb_weight        205 non-null    int64  \n",
      " 14  engine_type        205 non-null    object \n",
      " 15  cylinder_number    205 non-null    object \n",
      " 16  engine_size        205 non-null    int64  \n",
      " 17  fuel_system        205 non-null    object \n",
      " 18  bore_ratio         205 non-null    float64\n",
      " 19  stroke             205 non-null    float64\n",
      " 20  compression_ratio  205 non-null    float64\n",
      " 21  horse_power        205 non-null    int64  \n",
      " 22  peak_rpm           205 non-null    int64  \n",
      " 23  city_mpg           205 non-null    int64  \n",
      " 24  highway_mpg        205 non-null    int64  \n",
      " 25  price              205 non-null    object \n",
      "dtypes: float64(7), int64(9), object(10)\n",
      "memory usage: 41.8+ KB\n"
     ]
    }
   ],
   "source": [
    "df.info()"
   ]
  },
  {
   "cell_type": "code",
   "execution_count": 88,
   "metadata": {
    "id": "431_z6oWgm9Y"
   },
   "outputs": [
    {
     "data": {
      "text/plain": [
       "0      5000\n",
       "1      5000\n",
       "2      5000\n",
       "3      5500\n",
       "4      5500\n",
       "       ... \n",
       "200    5400\n",
       "201    5300\n",
       "202    5500\n",
       "203    4800\n",
       "204    5400\n",
       "Name: peak_rpm, Length: 205, dtype: int32"
      ]
     },
     "execution_count": 88,
     "metadata": {},
     "output_type": "execute_result"
    }
   ],
   "source": [
    "# df.col_name.astype('int')\n",
    "df.peak_rpm.astype('int')"
   ]
  },
  {
   "cell_type": "code",
   "execution_count": null,
   "metadata": {
    "colab": {
     "base_uri": "https://localhost:8080/"
    },
    "id": "S1hlZU5ngm9Z",
    "outputId": "b2d885c6-319a-40bb-e97f-020c9110760b"
   },
   "outputs": [],
   "source": [
    "#df.info()"
   ]
  },
  {
   "cell_type": "markdown",
   "metadata": {
    "id": "vCXCJTh1gm9Z"
   },
   "source": [
    "## Fixing `car_name`\n",
    "\n",
    "**Posible Fixes**\n",
    "- Extract Company Name from car name\n",
    "- Observe problems in Company Names"
   ]
  },
  {
   "cell_type": "code",
   "execution_count": null,
   "metadata": {
    "colab": {
     "base_uri": "https://localhost:8080/",
     "height": 352
    },
    "id": "_xaQV-f8gm9a",
    "outputId": "2bc2de5d-73c3-4ce1-ed52-56558455a777"
   },
   "outputs": [],
   "source": [
    "#head"
   ]
  },
  {
   "cell_type": "code",
   "execution_count": null,
   "metadata": {
    "colab": {
     "base_uri": "https://localhost:8080/"
    },
    "id": "4YVJZjNWgm9a",
    "outputId": "50c41be1-2a2f-4a6f-931b-413eb68709f0"
   },
   "outputs": [],
   "source": [
    "# df.car_name"
   ]
  },
  {
   "cell_type": "code",
   "execution_count": 90,
   "metadata": {
    "colab": {
     "base_uri": "https://localhost:8080/"
    },
    "id": "egcqKzT-gm9b",
    "outputId": "3b5afcf1-6a59-4307-e863-8e10d16d04c7"
   },
   "outputs": [],
   "source": [
    "# apply lamda . return split, 0th index, new column of car company\n",
    "\n",
    "df['car_brand'] = df.car_name.apply(lambda x: x.split(' ')[0])"
   ]
  },
  {
   "cell_type": "code",
   "execution_count": 92,
   "metadata": {
    "colab": {
     "base_uri": "https://localhost:8080/"
    },
    "id": "LKn1jf9jgm9c",
    "outputId": "31e1bea7-ac6b-4e26-fd64-4d84a34b5b10",
    "scrolled": false
   },
   "outputs": [
    {
     "data": {
      "text/plain": [
       "toyota         31\n",
       "nissan         17\n",
       "mazda          15\n",
       "honda          13\n",
       "mitsubishi     13\n",
       "subaru         12\n",
       "peugeot        11\n",
       "volvo          11\n",
       "volkswagen      9\n",
       "dodge           9\n",
       "buick           8\n",
       "bmw             8\n",
       "audi            7\n",
       "plymouth        7\n",
       "saab            6\n",
       "isuzu           4\n",
       "porsche         4\n",
       "alfa-romero     3\n",
       "chevrolet       3\n",
       "jaguar          3\n",
       "vw              2\n",
       "maxda           2\n",
       "renault         2\n",
       "toyouta         1\n",
       "vokswagen       1\n",
       "Nissan          1\n",
       "mercury         1\n",
       "porcshce        1\n",
       "Name: car_brand, dtype: int64"
      ]
     },
     "execution_count": 92,
     "metadata": {},
     "output_type": "execute_result"
    }
   ],
   "source": [
    "# value count of car company\n",
    "df.car_brand.value_counts()"
   ]
  },
  {
   "cell_type": "markdown",
   "metadata": {
    "id": "PnVm7j-Sgm9c"
   },
   "source": [
    "**Observations**\n",
    "\n",
    "Notice that some **car_company names are misspelled**  \n",
    "- vw and vokswagen should be volkswagen \n",
    "- porcshce should be porsche \n",
    "- toyouta should be toyota\n",
    "- Nissan should be nissan \n",
    "- maxda should be mazda\n",
    "\n",
    "This is a data quality issue, let's solve it."
   ]
  },
  {
   "cell_type": "code",
   "execution_count": 96,
   "metadata": {
    "id": "pRfziybfgm9d"
   },
   "outputs": [],
   "source": [
    "# replacing misspelled car_company names using loc\n",
    "\n",
    "# df.loc[(df['col_name'] == 'wrong value') | (df['col_name'] == ''wrong value''), col_name] = 'right value'\n",
    "\n",
    "# volkswagen\n",
    "df.loc[(df['car_brand'] == 'vw') | (df['car_brand']== 'vokswagen'), 'car_brand' ] = 'volkswagen'\n",
    "\n",
    "# porsche\n",
    "df.loc[(df['car_brand'] == 'porcshce'), 'car_brand' ] = 'porsche'\n",
    "\n",
    "# toyota\n",
    "df.loc[(df['car_brand'] == 'toyouta'), 'car_brand' ] = 'toyota'\n",
    "\n",
    "# nissan\n",
    "df.loc[(df['car_brand'] == 'Nissan'), 'car_brand' ] = 'nissan'\n",
    "\n",
    "# mazda\n",
    "df.loc[(df['car_brand'] == 'maxda'), 'car_brand' ] = 'mazda'"
   ]
  },
  {
   "cell_type": "code",
   "execution_count": 97,
   "metadata": {
    "colab": {
     "base_uri": "https://localhost:8080/"
    },
    "id": "ztpXU10agm9e",
    "outputId": "647281ab-2b5c-4f9b-c1f5-ea0ca8aac4b1"
   },
   "outputs": [
    {
     "data": {
      "text/plain": [
       "toyota         32\n",
       "nissan         18\n",
       "mazda          17\n",
       "mitsubishi     13\n",
       "honda          13\n",
       "volkswagen     12\n",
       "subaru         12\n",
       "peugeot        11\n",
       "volvo          11\n",
       "dodge           9\n",
       "buick           8\n",
       "bmw             8\n",
       "audi            7\n",
       "plymouth        7\n",
       "saab            6\n",
       "porsche         5\n",
       "isuzu           4\n",
       "jaguar          3\n",
       "chevrolet       3\n",
       "alfa-romero     3\n",
       "renault         2\n",
       "mercury         1\n",
       "Name: car_brand, dtype: int64"
      ]
     },
     "execution_count": 97,
     "metadata": {},
     "output_type": "execute_result"
    }
   ],
   "source": [
    "# value count in car company\n",
    "df.car_brand.value_counts()"
   ]
  },
  {
   "cell_type": "markdown",
   "metadata": {
    "id": "0sEOXOQGgm9e"
   },
   "source": [
    "#### Dropping a column"
   ]
  },
  {
   "cell_type": "code",
   "execution_count": 27,
   "metadata": {
    "colab": {
     "base_uri": "https://localhost:8080/"
    },
    "id": "ZYICrJMRgm9f",
    "outputId": "993efc90-9a6a-45f7-ca73-321b09b24993"
   },
   "outputs": [],
   "source": [
    "# crop car_name column"
   ]
  },
  {
   "cell_type": "markdown",
   "metadata": {
    "id": "oAiXyeoQgm9f"
   },
   "source": [
    "## Filtering Categorical and Numerical Columns"
   ]
  },
  {
   "cell_type": "code",
   "execution_count": 30,
   "metadata": {
    "id": "PsLwfBergm9g",
    "outputId": "c47ab69c-3607-419e-f25a-a676605672b3"
   },
   "outputs": [],
   "source": [
    "# df.select_dtypes(include=['data type'])\n",
    "# try object, int, float64\n"
   ]
  },
  {
   "cell_type": "code",
   "execution_count": null,
   "metadata": {
    "id": "8QzaFWtXgm9g",
    "outputId": "e13da301-7322-4fc0-d42c-6ed38b1e5c16"
   },
   "outputs": [],
   "source": []
  },
  {
   "cell_type": "markdown",
   "metadata": {
    "id": "KT0V28B7mp4C"
   },
   "source": [
    "## Can you fix the Price Column? "
   ]
  },
  {
   "cell_type": "code",
   "execution_count": null,
   "metadata": {
    "colab": {
     "base_uri": "https://localhost:8080/"
    },
    "id": "9t3D5_brgm9o",
    "outputId": "871be8c7-a2c5-4350-ff78-2407654d7b72"
   },
   "outputs": [],
   "source": [
    "df.info()"
   ]
  }
 ],
 "metadata": {
  "kernelspec": {
   "display_name": "Python 3 (ipykernel)",
   "language": "python",
   "name": "python3"
  },
  "language_info": {
   "codemirror_mode": {
    "name": "ipython",
    "version": 3
   },
   "file_extension": ".py",
   "mimetype": "text/x-python",
   "name": "python",
   "nbconvert_exporter": "python",
   "pygments_lexer": "ipython3",
   "version": "3.9.6"
  },
  "vscode": {
   "interpreter": {
    "hash": "488fe58c5812f3f64f64eeaa837f953ea1484ce6971a520198ce9353905ca39f"
   }
  }
 },
 "nbformat": 4,
 "nbformat_minor": 2
}
