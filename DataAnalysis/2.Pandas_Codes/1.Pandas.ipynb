{
  "cells": [
    {
      "cell_type": "code",
      "execution_count": null,
      "id": "184a00e0",
      "metadata": {
        "id": "184a00e0"
      },
      "outputs": [],
      "source": [
        "import numpy as np\n",
        "import pandas as pd"
      ]
    },
    {
      "cell_type": "code",
      "execution_count": null,
      "id": "3b60dffd",
      "metadata": {
        "id": "3b60dffd",
        "outputId": "aec9717d-21a2-4064-9390-5519e3f3b04f"
      },
      "outputs": [
        {
          "name": "stdout",
          "output_type": "stream",
          "text": [
            "[10 20 30 40 50]\n",
            "<class 'numpy.ndarray'>\n"
          ]
        }
      ],
      "source": [
        "## Use Pandas Series and Pandas DataFrame\n",
        "### Create Series from Numpy array\n",
        "arr = np.array([10,20,30,40,50])\n",
        "print(arr)\n",
        "print(type(arr))"
      ]
    },
    {
      "cell_type": "code",
      "execution_count": null,
      "id": "808aa525",
      "metadata": {
        "id": "808aa525",
        "outputId": "d3b5cd00-26c7-4786-aaf2-eb8206d717f8"
      },
      "outputs": [
        {
          "name": "stdout",
          "output_type": "stream",
          "text": [
            "0    10\n",
            "1    20\n",
            "2    30\n",
            "3    40\n",
            "4    50\n",
            "dtype: int32\n",
            "<class 'pandas.core.series.Series'>\n"
          ]
        }
      ],
      "source": [
        "pd_Se1 = pd.Series(arr)\n",
        "print(pd_Se1)\n",
        "print(type(pd_Se1))"
      ]
    },
    {
      "cell_type": "code",
      "execution_count": null,
      "id": "2857811a",
      "metadata": {
        "id": "2857811a",
        "outputId": "8456440b-55f5-483f-b4bf-704c8fdaeed2"
      },
      "outputs": [
        {
          "name": "stdout",
          "output_type": "stream",
          "text": [
            "[10, 20, 30, 40, 50]\n",
            "<class 'list'>\n"
          ]
        }
      ],
      "source": [
        "#Crate Pandas Series Using List\n",
        "list1 = [10,20,30,40,50]\n",
        "print(list1)\n",
        "print(type(list1))"
      ]
    },
    {
      "cell_type": "code",
      "execution_count": null,
      "id": "ce448abe",
      "metadata": {
        "id": "ce448abe",
        "outputId": "07e60330-205e-490b-d468-6b63c3dabc51"
      },
      "outputs": [
        {
          "name": "stdout",
          "output_type": "stream",
          "text": [
            "0    10\n",
            "1    20\n",
            "2    30\n",
            "3    40\n",
            "4    50\n",
            "dtype: int64\n",
            "<class 'pandas.core.series.Series'>\n"
          ]
        }
      ],
      "source": [
        "pd_Se1 = pd.Series(list1)\n",
        "print(pd_Se1)\n",
        "print(type(pd_Se1))"
      ]
    },
    {
      "cell_type": "code",
      "execution_count": null,
      "id": "3ece74c8",
      "metadata": {
        "id": "3ece74c8",
        "outputId": "4c01896a-5255-4a8c-a429-63fd3ba0d5f4"
      },
      "outputs": [
        {
          "name": "stdout",
          "output_type": "stream",
          "text": [
            "0    100\n",
            "1    200\n",
            "2    300\n",
            "3    400\n",
            "4    500\n",
            "dtype: int64\n",
            "<class 'pandas.core.series.Series'>\n"
          ]
        }
      ],
      "source": [
        "pd_Se1 = pd.Series([100,200,300,400,500])\n",
        "print(pd_Se1)\n",
        "print(type(pd_Se1))"
      ]
    },
    {
      "cell_type": "code",
      "execution_count": null,
      "id": "b827dc65",
      "metadata": {
        "id": "b827dc65",
        "outputId": "c72a2fbb-f5a8-44ff-9944-ee3de8181c29"
      },
      "outputs": [
        {
          "name": "stdout",
          "output_type": "stream",
          "text": [
            "a    10\n",
            "b    20\n",
            "c    30\n",
            "d    40\n",
            "e    50\n",
            "dtype: int64\n",
            "<class 'pandas.core.series.Series'>\n"
          ]
        }
      ],
      "source": [
        "#### Create a Series with index a,b,c ....\n",
        "pd_Se2 = pd.Series(list1,index=['a','b','c','d','e'])\n",
        "print(pd_Se2)\n",
        "print(type(pd_Se2))"
      ]
    },
    {
      "cell_type": "code",
      "execution_count": null,
      "id": "b780a74d",
      "metadata": {
        "id": "b780a74d",
        "outputId": "224a3735-a8cf-4ddb-d781-091833b58e12"
      },
      "outputs": [
        {
          "ename": "ValueError",
          "evalue": "Length of values (5) does not match length of index (3)",
          "output_type": "error",
          "traceback": [
            "\u001b[1;31m---------------------------------------------------------------------------\u001b[0m",
            "\u001b[1;31mValueError\u001b[0m                                Traceback (most recent call last)",
            "Input \u001b[1;32mIn [9]\u001b[0m, in \u001b[0;36m<cell line: 2>\u001b[1;34m()\u001b[0m\n\u001b[0;32m      1\u001b[0m \u001b[38;5;66;03m#### Create a Series with index a,b,c ....\u001b[39;00m\n\u001b[1;32m----> 2\u001b[0m pd_Se3 \u001b[38;5;241m=\u001b[39m \u001b[43mpd\u001b[49m\u001b[38;5;241;43m.\u001b[39;49m\u001b[43mSeries\u001b[49m\u001b[43m(\u001b[49m\u001b[43mlist1\u001b[49m\u001b[43m,\u001b[49m\u001b[43mindex\u001b[49m\u001b[38;5;241;43m=\u001b[39;49m\u001b[43m[\u001b[49m\u001b[38;5;124;43m'\u001b[39;49m\u001b[38;5;124;43ma\u001b[39;49m\u001b[38;5;124;43m'\u001b[39;49m\u001b[43m,\u001b[49m\u001b[38;5;124;43m'\u001b[39;49m\u001b[38;5;124;43mb\u001b[39;49m\u001b[38;5;124;43m'\u001b[39;49m\u001b[43m,\u001b[49m\u001b[38;5;124;43m'\u001b[39;49m\u001b[38;5;124;43mc\u001b[39;49m\u001b[38;5;124;43m'\u001b[39;49m\u001b[43m]\u001b[49m\u001b[43m)\u001b[49m\n\u001b[0;32m      3\u001b[0m \u001b[38;5;28mprint\u001b[39m(pd_Se3)\n\u001b[0;32m      4\u001b[0m \u001b[38;5;28mprint\u001b[39m(\u001b[38;5;28mtype\u001b[39m(pd_Se3))\n",
            "File \u001b[1;32m~\\anaconda3\\lib\\site-packages\\pandas\\core\\series.py:442\u001b[0m, in \u001b[0;36mSeries.__init__\u001b[1;34m(self, data, index, dtype, name, copy, fastpath)\u001b[0m\n\u001b[0;32m    440\u001b[0m     index \u001b[38;5;241m=\u001b[39m default_index(\u001b[38;5;28mlen\u001b[39m(data))\n\u001b[0;32m    441\u001b[0m \u001b[38;5;28;01melif\u001b[39;00m is_list_like(data):\n\u001b[1;32m--> 442\u001b[0m     \u001b[43mcom\u001b[49m\u001b[38;5;241;43m.\u001b[39;49m\u001b[43mrequire_length_match\u001b[49m\u001b[43m(\u001b[49m\u001b[43mdata\u001b[49m\u001b[43m,\u001b[49m\u001b[43m \u001b[49m\u001b[43mindex\u001b[49m\u001b[43m)\u001b[49m\n\u001b[0;32m    444\u001b[0m \u001b[38;5;66;03m# create/copy the manager\u001b[39;00m\n\u001b[0;32m    445\u001b[0m \u001b[38;5;28;01mif\u001b[39;00m \u001b[38;5;28misinstance\u001b[39m(data, (SingleBlockManager, SingleArrayManager)):\n",
            "File \u001b[1;32m~\\anaconda3\\lib\\site-packages\\pandas\\core\\common.py:557\u001b[0m, in \u001b[0;36mrequire_length_match\u001b[1;34m(data, index)\u001b[0m\n\u001b[0;32m    553\u001b[0m \u001b[38;5;124;03m\"\"\"\u001b[39;00m\n\u001b[0;32m    554\u001b[0m \u001b[38;5;124;03mCheck the length of data matches the length of the index.\u001b[39;00m\n\u001b[0;32m    555\u001b[0m \u001b[38;5;124;03m\"\"\"\u001b[39;00m\n\u001b[0;32m    556\u001b[0m \u001b[38;5;28;01mif\u001b[39;00m \u001b[38;5;28mlen\u001b[39m(data) \u001b[38;5;241m!=\u001b[39m \u001b[38;5;28mlen\u001b[39m(index):\n\u001b[1;32m--> 557\u001b[0m     \u001b[38;5;28;01mraise\u001b[39;00m \u001b[38;5;167;01mValueError\u001b[39;00m(\n\u001b[0;32m    558\u001b[0m         \u001b[38;5;124m\"\u001b[39m\u001b[38;5;124mLength of values \u001b[39m\u001b[38;5;124m\"\u001b[39m\n\u001b[0;32m    559\u001b[0m         \u001b[38;5;124mf\u001b[39m\u001b[38;5;124m\"\u001b[39m\u001b[38;5;124m(\u001b[39m\u001b[38;5;132;01m{\u001b[39;00m\u001b[38;5;28mlen\u001b[39m(data)\u001b[38;5;132;01m}\u001b[39;00m\u001b[38;5;124m) \u001b[39m\u001b[38;5;124m\"\u001b[39m\n\u001b[0;32m    560\u001b[0m         \u001b[38;5;124m\"\u001b[39m\u001b[38;5;124mdoes not match length of index \u001b[39m\u001b[38;5;124m\"\u001b[39m\n\u001b[0;32m    561\u001b[0m         \u001b[38;5;124mf\u001b[39m\u001b[38;5;124m\"\u001b[39m\u001b[38;5;124m(\u001b[39m\u001b[38;5;132;01m{\u001b[39;00m\u001b[38;5;28mlen\u001b[39m(index)\u001b[38;5;132;01m}\u001b[39;00m\u001b[38;5;124m)\u001b[39m\u001b[38;5;124m\"\u001b[39m\n\u001b[0;32m    562\u001b[0m     )\n",
            "\u001b[1;31mValueError\u001b[0m: Length of values (5) does not match length of index (3)"
          ]
        }
      ],
      "source": [
        "#### Create a Series with index a,b,c ....\n",
        "pd_Se3 = pd.Series(list1,index=['a','b','c'])\n",
        "print(pd_Se3)\n",
        "print(type(pd_Se3))"
      ]
    },
    {
      "cell_type": "code",
      "execution_count": null,
      "id": "25229a1e",
      "metadata": {
        "id": "25229a1e",
        "outputId": "a154183e-6b50-4600-e297-23f0f2f73827"
      },
      "outputs": [
        {
          "name": "stdout",
          "output_type": "stream",
          "text": [
            "0      a\n",
            "1      b\n",
            "2    af \n",
            "dtype: object\n"
          ]
        }
      ],
      "source": [
        "#### Create a Series of Characters\n",
        "char_Series = pd.Series(['a','b','af '])\n",
        "print(char_Series)"
      ]
    },
    {
      "cell_type": "code",
      "execution_count": null,
      "id": "79b11d51",
      "metadata": {
        "id": "79b11d51"
      },
      "outputs": [],
      "source": [
        "### Creating a series from dictionary\n",
        "dic_ = {\n",
        "    \"Name\": \"Raj\",\n",
        "    \"Age\":28,\n",
        "    \"Designation\":\"SE\",\n",
        "    \"Office\":\"Whipro\",\n",
        "    \"EmpId\":4172,\n",
        "    \"Location\":\"Hydrabad\"\n",
        "}"
      ]
    },
    {
      "cell_type": "code",
      "execution_count": null,
      "id": "6209f649",
      "metadata": {
        "id": "6209f649"
      },
      "outputs": [],
      "source": [
        "S3= pd.Series(dic_)"
      ]
    },
    {
      "cell_type": "code",
      "execution_count": null,
      "id": "f32460a0",
      "metadata": {
        "id": "f32460a0",
        "outputId": "e390f20f-08fd-4353-fd62-1aad1cf70866"
      },
      "outputs": [
        {
          "data": {
            "text/plain": [
              "Name                Raj\n",
              "Age                  28\n",
              "Designation          SE\n",
              "Office           Whipro\n",
              "EmpId              4172\n",
              "Location       Hydrabad\n",
              "dtype: object"
            ]
          },
          "execution_count": 13,
          "metadata": {},
          "output_type": "execute_result"
        }
      ],
      "source": [
        "S3"
      ]
    },
    {
      "cell_type": "code",
      "execution_count": null,
      "id": "0f118741",
      "metadata": {
        "id": "0f118741"
      },
      "outputs": [],
      "source": [
        "### Create a Series of Date..\n",
        "date_Series = pd.date_range(start='11-09-2023',end='12-12-2023')"
      ]
    },
    {
      "cell_type": "code",
      "execution_count": null,
      "id": "dafcb7c1",
      "metadata": {
        "id": "dafcb7c1",
        "outputId": "5038c7b9-8c40-49e8-c04f-f1505ff71981"
      },
      "outputs": [
        {
          "data": {
            "text/plain": [
              "DatetimeIndex(['2023-11-09', '2023-11-10', '2023-11-11', '2023-11-12',\n",
              "               '2023-11-13', '2023-11-14', '2023-11-15', '2023-11-16',\n",
              "               '2023-11-17', '2023-11-18', '2023-11-19', '2023-11-20',\n",
              "               '2023-11-21', '2023-11-22', '2023-11-23', '2023-11-24',\n",
              "               '2023-11-25', '2023-11-26', '2023-11-27', '2023-11-28',\n",
              "               '2023-11-29', '2023-11-30', '2023-12-01', '2023-12-02',\n",
              "               '2023-12-03', '2023-12-04', '2023-12-05', '2023-12-06',\n",
              "               '2023-12-07', '2023-12-08', '2023-12-09', '2023-12-10',\n",
              "               '2023-12-11', '2023-12-12'],\n",
              "              dtype='datetime64[ns]', freq='D')"
            ]
          },
          "execution_count": 15,
          "metadata": {},
          "output_type": "execute_result"
        }
      ],
      "source": [
        "date_Series"
      ]
    },
    {
      "cell_type": "code",
      "execution_count": null,
      "id": "7ffa8ba4",
      "metadata": {
        "id": "7ffa8ba4"
      },
      "outputs": [],
      "source": [
        "### indexing Series\n",
        "Series1 = pd.Series([235,568,78,9666,74586,45789556])"
      ]
    },
    {
      "cell_type": "code",
      "execution_count": null,
      "id": "928518a3",
      "metadata": {
        "id": "928518a3",
        "outputId": "f109ce83-f35b-4693-8ba9-42689d251073"
      },
      "outputs": [
        {
          "data": {
            "text/plain": [
              "0         235\n",
              "1         568\n",
              "2          78\n",
              "3        9666\n",
              "4       74586\n",
              "5    45789556\n",
              "dtype: int64"
            ]
          },
          "execution_count": 17,
          "metadata": {},
          "output_type": "execute_result"
        }
      ],
      "source": [
        "Series1"
      ]
    },
    {
      "cell_type": "code",
      "execution_count": null,
      "id": "49e30b17",
      "metadata": {
        "id": "49e30b17",
        "outputId": "ffec5a74-6500-4175-b226-c6b0651b9206"
      },
      "outputs": [
        {
          "data": {
            "text/plain": [
              "45789556"
            ]
          },
          "execution_count": 18,
          "metadata": {},
          "output_type": "execute_result"
        }
      ],
      "source": [
        "#### Access the data 45789556\n",
        "Series1[5]"
      ]
    },
    {
      "cell_type": "code",
      "execution_count": null,
      "id": "71d6804e",
      "metadata": {
        "id": "71d6804e",
        "outputId": "fc9fac86-729c-447f-d53b-8ca54b639a2e"
      },
      "outputs": [
        {
          "data": {
            "text/plain": [
              "3        9666\n",
              "4       74586\n",
              "5    45789556\n",
              "dtype: int64"
            ]
          },
          "execution_count": 19,
          "metadata": {},
          "output_type": "execute_result"
        }
      ],
      "source": [
        "### access the data from index 3 to end\n",
        "Series1[3:]"
      ]
    },
    {
      "cell_type": "code",
      "execution_count": null,
      "id": "73314583",
      "metadata": {
        "id": "73314583",
        "outputId": "34ee3912-1ae5-4427-dc74-149ae0ae0a85"
      },
      "outputs": [
        {
          "data": {
            "text/plain": [
              "0     235\n",
              "1     568\n",
              "2      78\n",
              "3    9666\n",
              "dtype: int64"
            ]
          },
          "execution_count": 20,
          "metadata": {},
          "output_type": "execute_result"
        }
      ],
      "source": [
        "### access the data from start to 9666\n",
        "Series1[:4]"
      ]
    },
    {
      "cell_type": "code",
      "execution_count": null,
      "id": "a1d36f79",
      "metadata": {
        "id": "a1d36f79"
      },
      "outputs": [],
      "source": [
        "#### access the 2nd element and 4th element at a time"
      ]
    },
    {
      "cell_type": "code",
      "execution_count": null,
      "id": "54ed4903",
      "metadata": {
        "id": "54ed4903",
        "outputId": "aa8b79de-01f8-422a-e54b-56e7e84f9363"
      },
      "outputs": [
        {
          "data": {
            "text/plain": [
              "1         568\n",
              "3        9666\n",
              "5    45789556\n",
              "dtype: int64"
            ]
          },
          "execution_count": 22,
          "metadata": {},
          "output_type": "execute_result"
        }
      ],
      "source": [
        "Series1[1::2]"
      ]
    },
    {
      "cell_type": "code",
      "execution_count": null,
      "id": "54e8d0b4",
      "metadata": {
        "id": "54e8d0b4",
        "outputId": "0746baf6-5b2e-4610-a472-4160de4b703c"
      },
      "outputs": [
        {
          "data": {
            "text/plain": [
              "0    235\n",
              "2     78\n",
              "dtype: int64"
            ]
          },
          "execution_count": 23,
          "metadata": {},
          "output_type": "execute_result"
        }
      ],
      "source": [
        "Series1[0:4:2]"
      ]
    },
    {
      "cell_type": "code",
      "execution_count": null,
      "id": "cdbf2dc0",
      "metadata": {
        "id": "cdbf2dc0",
        "outputId": "d8bc9297-705b-4cc2-a16f-175f7187c05b"
      },
      "outputs": [
        {
          "data": {
            "text/plain": [
              "0         235\n",
              "1         568\n",
              "2          78\n",
              "3        9666\n",
              "4       74586\n",
              "5    45789556\n",
              "dtype: int64"
            ]
          },
          "execution_count": 24,
          "metadata": {},
          "output_type": "execute_result"
        }
      ],
      "source": [
        "Series1"
      ]
    },
    {
      "cell_type": "code",
      "execution_count": null,
      "id": "159659ea",
      "metadata": {
        "id": "159659ea",
        "outputId": "92f04787-8fd9-47c0-9a8a-2b3e06045cae"
      },
      "outputs": [
        {
          "data": {
            "text/plain": [
              "0         235\n",
              "4       74586\n",
              "5    45789556\n",
              "dtype: int64"
            ]
          },
          "execution_count": 25,
          "metadata": {},
          "output_type": "execute_result"
        }
      ],
      "source": [
        "#235,74586,45789556\n",
        "Series1[[0,4,5]]"
      ]
    },
    {
      "cell_type": "code",
      "execution_count": null,
      "id": "0eca4f62",
      "metadata": {
        "id": "0eca4f62",
        "outputId": "8740c804-b6e7-42b5-c9e8-9b186ba08596"
      },
      "outputs": [
        {
          "name": "stdout",
          "output_type": "stream",
          "text": [
            "Empty DataFrame\n",
            "Columns: []\n",
            "Index: []\n",
            "<class 'pandas.core.frame.DataFrame'>\n"
          ]
        }
      ],
      "source": [
        "##### Data Frame\n",
        "df = pd.DataFrame()\n",
        "print(df)\n",
        "print(type(df))"
      ]
    },
    {
      "cell_type": "code",
      "execution_count": null,
      "id": "0b2a15a8",
      "metadata": {
        "id": "0b2a15a8"
      },
      "outputs": [],
      "source": [
        "#### Data Frame With Dictionary\n",
        "## create a df with dict\n",
        "d1 = {'Name':['Tom','Rock','Steve','Ricks'],'Age':[28,24,32,36]}"
      ]
    },
    {
      "cell_type": "code",
      "execution_count": null,
      "id": "e5468572",
      "metadata": {
        "id": "e5468572"
      },
      "outputs": [],
      "source": [
        "df1 = pd.DataFrame(d1)"
      ]
    },
    {
      "cell_type": "code",
      "execution_count": null,
      "id": "a331265e",
      "metadata": {
        "id": "a331265e",
        "outputId": "45889dd8-427f-49b6-ebe9-4bf20b9b42f3"
      },
      "outputs": [
        {
          "data": {
            "text/html": [
              "<div>\n",
              "<style scoped>\n",
              "    .dataframe tbody tr th:only-of-type {\n",
              "        vertical-align: middle;\n",
              "    }\n",
              "\n",
              "    .dataframe tbody tr th {\n",
              "        vertical-align: top;\n",
              "    }\n",
              "\n",
              "    .dataframe thead th {\n",
              "        text-align: right;\n",
              "    }\n",
              "</style>\n",
              "<table border=\"1\" class=\"dataframe\">\n",
              "  <thead>\n",
              "    <tr style=\"text-align: right;\">\n",
              "      <th></th>\n",
              "      <th>Name</th>\n",
              "      <th>Age</th>\n",
              "    </tr>\n",
              "  </thead>\n",
              "  <tbody>\n",
              "    <tr>\n",
              "      <th>0</th>\n",
              "      <td>Tom</td>\n",
              "      <td>28</td>\n",
              "    </tr>\n",
              "    <tr>\n",
              "      <th>1</th>\n",
              "      <td>Rock</td>\n",
              "      <td>24</td>\n",
              "    </tr>\n",
              "    <tr>\n",
              "      <th>2</th>\n",
              "      <td>Steve</td>\n",
              "      <td>32</td>\n",
              "    </tr>\n",
              "    <tr>\n",
              "      <th>3</th>\n",
              "      <td>Ricks</td>\n",
              "      <td>36</td>\n",
              "    </tr>\n",
              "  </tbody>\n",
              "</table>\n",
              "</div>"
            ],
            "text/plain": [
              "    Name  Age\n",
              "0    Tom   28\n",
              "1   Rock   24\n",
              "2  Steve   32\n",
              "3  Ricks   36"
            ]
          },
          "execution_count": 29,
          "metadata": {},
          "output_type": "execute_result"
        }
      ],
      "source": [
        "df1"
      ]
    },
    {
      "cell_type": "code",
      "execution_count": null,
      "id": "8eac6ff3",
      "metadata": {
        "id": "8eac6ff3",
        "outputId": "08ffa61f-cc2c-45f5-ca87-1c8c20623e72"
      },
      "outputs": [
        {
          "name": "stdout",
          "output_type": "stream",
          "text": [
            "<class 'pandas.core.frame.DataFrame'>\n"
          ]
        }
      ],
      "source": [
        "print(type(df1))"
      ]
    },
    {
      "cell_type": "code",
      "execution_count": null,
      "id": "950ae5c8",
      "metadata": {
        "id": "950ae5c8"
      },
      "outputs": [],
      "source": [
        "d1 = {'Name':['Tom','Rock','Steve','Ricks'],'Age':[28,24,32,36],'Gender':['Male','Female','Female','Male']}"
      ]
    },
    {
      "cell_type": "code",
      "execution_count": null,
      "id": "a0bab7a5",
      "metadata": {
        "id": "a0bab7a5"
      },
      "outputs": [],
      "source": [
        "df2 = pd.DataFrame(d1)"
      ]
    },
    {
      "cell_type": "code",
      "execution_count": null,
      "id": "e4407a21",
      "metadata": {
        "id": "e4407a21",
        "outputId": "f807edc6-d334-4e1b-e2df-7855f114d145"
      },
      "outputs": [
        {
          "data": {
            "text/html": [
              "<div>\n",
              "<style scoped>\n",
              "    .dataframe tbody tr th:only-of-type {\n",
              "        vertical-align: middle;\n",
              "    }\n",
              "\n",
              "    .dataframe tbody tr th {\n",
              "        vertical-align: top;\n",
              "    }\n",
              "\n",
              "    .dataframe thead th {\n",
              "        text-align: right;\n",
              "    }\n",
              "</style>\n",
              "<table border=\"1\" class=\"dataframe\">\n",
              "  <thead>\n",
              "    <tr style=\"text-align: right;\">\n",
              "      <th></th>\n",
              "      <th>Name</th>\n",
              "      <th>Age</th>\n",
              "      <th>Gender</th>\n",
              "    </tr>\n",
              "  </thead>\n",
              "  <tbody>\n",
              "    <tr>\n",
              "      <th>0</th>\n",
              "      <td>Tom</td>\n",
              "      <td>28</td>\n",
              "      <td>Male</td>\n",
              "    </tr>\n",
              "    <tr>\n",
              "      <th>1</th>\n",
              "      <td>Rock</td>\n",
              "      <td>24</td>\n",
              "      <td>Female</td>\n",
              "    </tr>\n",
              "    <tr>\n",
              "      <th>2</th>\n",
              "      <td>Steve</td>\n",
              "      <td>32</td>\n",
              "      <td>Female</td>\n",
              "    </tr>\n",
              "    <tr>\n",
              "      <th>3</th>\n",
              "      <td>Ricks</td>\n",
              "      <td>36</td>\n",
              "      <td>Male</td>\n",
              "    </tr>\n",
              "  </tbody>\n",
              "</table>\n",
              "</div>"
            ],
            "text/plain": [
              "    Name  Age  Gender\n",
              "0    Tom   28    Male\n",
              "1   Rock   24  Female\n",
              "2  Steve   32  Female\n",
              "3  Ricks   36    Male"
            ]
          },
          "execution_count": 33,
          "metadata": {},
          "output_type": "execute_result"
        }
      ],
      "source": [
        "df2"
      ]
    },
    {
      "cell_type": "code",
      "execution_count": null,
      "id": "d99e351b",
      "metadata": {
        "id": "d99e351b"
      },
      "outputs": [],
      "source": [
        "#### index I1,I2,I3,I4"
      ]
    },
    {
      "cell_type": "code",
      "execution_count": null,
      "id": "a6916ae9",
      "metadata": {
        "id": "a6916ae9"
      },
      "outputs": [],
      "source": [
        "df3 = pd.DataFrame(d1,index=['I1','I2','I3','I4'])"
      ]
    },
    {
      "cell_type": "code",
      "execution_count": null,
      "id": "f26d4831",
      "metadata": {
        "id": "f26d4831",
        "outputId": "50b7e3e8-df26-4409-bb2d-acd8fbfcad95"
      },
      "outputs": [
        {
          "data": {
            "text/html": [
              "<div>\n",
              "<style scoped>\n",
              "    .dataframe tbody tr th:only-of-type {\n",
              "        vertical-align: middle;\n",
              "    }\n",
              "\n",
              "    .dataframe tbody tr th {\n",
              "        vertical-align: top;\n",
              "    }\n",
              "\n",
              "    .dataframe thead th {\n",
              "        text-align: right;\n",
              "    }\n",
              "</style>\n",
              "<table border=\"1\" class=\"dataframe\">\n",
              "  <thead>\n",
              "    <tr style=\"text-align: right;\">\n",
              "      <th></th>\n",
              "      <th>Name</th>\n",
              "      <th>Age</th>\n",
              "      <th>Gender</th>\n",
              "    </tr>\n",
              "  </thead>\n",
              "  <tbody>\n",
              "    <tr>\n",
              "      <th>I1</th>\n",
              "      <td>Tom</td>\n",
              "      <td>28</td>\n",
              "      <td>Male</td>\n",
              "    </tr>\n",
              "    <tr>\n",
              "      <th>I2</th>\n",
              "      <td>Rock</td>\n",
              "      <td>24</td>\n",
              "      <td>Female</td>\n",
              "    </tr>\n",
              "    <tr>\n",
              "      <th>I3</th>\n",
              "      <td>Steve</td>\n",
              "      <td>32</td>\n",
              "      <td>Female</td>\n",
              "    </tr>\n",
              "    <tr>\n",
              "      <th>I4</th>\n",
              "      <td>Ricks</td>\n",
              "      <td>36</td>\n",
              "      <td>Male</td>\n",
              "    </tr>\n",
              "  </tbody>\n",
              "</table>\n",
              "</div>"
            ],
            "text/plain": [
              "     Name  Age  Gender\n",
              "I1    Tom   28    Male\n",
              "I2   Rock   24  Female\n",
              "I3  Steve   32  Female\n",
              "I4  Ricks   36    Male"
            ]
          },
          "execution_count": 35,
          "metadata": {},
          "output_type": "execute_result"
        }
      ],
      "source": [
        "df3"
      ]
    },
    {
      "cell_type": "code",
      "execution_count": null,
      "id": "e174af83",
      "metadata": {
        "id": "e174af83",
        "outputId": "7cefddce-43b3-45ea-ac45-3871d49d0fcf"
      },
      "outputs": [
        {
          "name": "stdout",
          "output_type": "stream",
          "text": [
            "    Col1    Col2  Col3\n",
            "0  Item1    Gold   1.0\n",
            "1  Item2  Bronze   2.0\n",
            "2  Item3    Gold   3.0\n",
            "3  Item4  Silver   4.0\n"
          ]
        }
      ],
      "source": [
        "d3 = {'Col1':['Item1','Item2','Item3','Item4'],'Col2':['Gold','Bronze','Gold','Silver'],\n",
        "      'Col3':[1.0,2.0,3.0,4.0]}\n",
        "df3 = pd.DataFrame(d3)\n",
        "print(df3)"
      ]
    },
    {
      "cell_type": "code",
      "execution_count": null,
      "id": "b29f3613",
      "metadata": {
        "id": "b29f3613"
      },
      "outputs": [],
      "source": [
        "dic_2 = {\n",
        "    \"col1\": ['Item1','Item2','Item3','Item4'],\n",
        "    \"col2\": ['Gold','Bronze','Gold','Gold'],\n",
        "    \"col3\":[1.0,2.0,2.0,4.0]\n",
        "}\n",
        "df = pd.DataFrame(dic_2)"
      ]
    },
    {
      "cell_type": "code",
      "execution_count": null,
      "id": "05db7f0a",
      "metadata": {
        "id": "05db7f0a",
        "outputId": "a7832a57-3913-45be-bc67-ee8dc5bf4be1"
      },
      "outputs": [
        {
          "data": {
            "text/html": [
              "<div>\n",
              "<style scoped>\n",
              "    .dataframe tbody tr th:only-of-type {\n",
              "        vertical-align: middle;\n",
              "    }\n",
              "\n",
              "    .dataframe tbody tr th {\n",
              "        vertical-align: top;\n",
              "    }\n",
              "\n",
              "    .dataframe thead th {\n",
              "        text-align: right;\n",
              "    }\n",
              "</style>\n",
              "<table border=\"1\" class=\"dataframe\">\n",
              "  <thead>\n",
              "    <tr style=\"text-align: right;\">\n",
              "      <th></th>\n",
              "      <th>col1</th>\n",
              "      <th>col2</th>\n",
              "      <th>col3</th>\n",
              "    </tr>\n",
              "  </thead>\n",
              "  <tbody>\n",
              "    <tr>\n",
              "      <th>0</th>\n",
              "      <td>Item1</td>\n",
              "      <td>Gold</td>\n",
              "      <td>1.0</td>\n",
              "    </tr>\n",
              "    <tr>\n",
              "      <th>1</th>\n",
              "      <td>Item2</td>\n",
              "      <td>Bronze</td>\n",
              "      <td>2.0</td>\n",
              "    </tr>\n",
              "    <tr>\n",
              "      <th>2</th>\n",
              "      <td>Item3</td>\n",
              "      <td>Gold</td>\n",
              "      <td>2.0</td>\n",
              "    </tr>\n",
              "    <tr>\n",
              "      <th>3</th>\n",
              "      <td>Item4</td>\n",
              "      <td>Gold</td>\n",
              "      <td>4.0</td>\n",
              "    </tr>\n",
              "  </tbody>\n",
              "</table>\n",
              "</div>"
            ],
            "text/plain": [
              "    col1    col2  col3\n",
              "0  Item1    Gold   1.0\n",
              "1  Item2  Bronze   2.0\n",
              "2  Item3    Gold   2.0\n",
              "3  Item4    Gold   4.0"
            ]
          },
          "execution_count": 38,
          "metadata": {},
          "output_type": "execute_result"
        }
      ],
      "source": [
        "df"
      ]
    },
    {
      "cell_type": "code",
      "execution_count": null,
      "id": "2b43948d",
      "metadata": {
        "id": "2b43948d"
      },
      "outputs": [],
      "source": [
        "### Create a Data Frame Using Tuple"
      ]
    },
    {
      "cell_type": "code",
      "execution_count": null,
      "id": "6af28d68",
      "metadata": {
        "id": "6af28d68"
      },
      "outputs": [],
      "source": [
        "list_of_tup = [\n",
        "        ('1/1/2019',12,6,'Rain'),\n",
        "        ('2/1/2019',11,7,'Fog'),\n",
        "        ('3/1/2019',12,8,'Sunny'),\n",
        "        ('4/1/2019',8,5,'Snow'),\n",
        "        ('5/1/2019',9,6,'Rain')\n",
        "       ]"
      ]
    },
    {
      "cell_type": "code",
      "execution_count": null,
      "id": "d5a8ad3c",
      "metadata": {
        "id": "d5a8ad3c"
      },
      "outputs": [],
      "source": [
        "df = pd.DataFrame(list_of_tup)"
      ]
    },
    {
      "cell_type": "code",
      "execution_count": null,
      "id": "a4b581f5",
      "metadata": {
        "id": "a4b581f5",
        "outputId": "7c90ddf5-2184-448e-d25b-aea578a6a956"
      },
      "outputs": [
        {
          "data": {
            "text/html": [
              "<div>\n",
              "<style scoped>\n",
              "    .dataframe tbody tr th:only-of-type {\n",
              "        vertical-align: middle;\n",
              "    }\n",
              "\n",
              "    .dataframe tbody tr th {\n",
              "        vertical-align: top;\n",
              "    }\n",
              "\n",
              "    .dataframe thead th {\n",
              "        text-align: right;\n",
              "    }\n",
              "</style>\n",
              "<table border=\"1\" class=\"dataframe\">\n",
              "  <thead>\n",
              "    <tr style=\"text-align: right;\">\n",
              "      <th></th>\n",
              "      <th>0</th>\n",
              "      <th>1</th>\n",
              "      <th>2</th>\n",
              "      <th>3</th>\n",
              "    </tr>\n",
              "  </thead>\n",
              "  <tbody>\n",
              "    <tr>\n",
              "      <th>0</th>\n",
              "      <td>1/1/2019</td>\n",
              "      <td>12</td>\n",
              "      <td>6</td>\n",
              "      <td>Rain</td>\n",
              "    </tr>\n",
              "    <tr>\n",
              "      <th>1</th>\n",
              "      <td>2/1/2019</td>\n",
              "      <td>11</td>\n",
              "      <td>7</td>\n",
              "      <td>Fog</td>\n",
              "    </tr>\n",
              "    <tr>\n",
              "      <th>2</th>\n",
              "      <td>3/1/2019</td>\n",
              "      <td>12</td>\n",
              "      <td>8</td>\n",
              "      <td>Sunny</td>\n",
              "    </tr>\n",
              "    <tr>\n",
              "      <th>3</th>\n",
              "      <td>4/1/2019</td>\n",
              "      <td>8</td>\n",
              "      <td>5</td>\n",
              "      <td>Snow</td>\n",
              "    </tr>\n",
              "    <tr>\n",
              "      <th>4</th>\n",
              "      <td>5/1/2019</td>\n",
              "      <td>9</td>\n",
              "      <td>6</td>\n",
              "      <td>Rain</td>\n",
              "    </tr>\n",
              "  </tbody>\n",
              "</table>\n",
              "</div>"
            ],
            "text/plain": [
              "          0   1  2      3\n",
              "0  1/1/2019  12  6   Rain\n",
              "1  2/1/2019  11  7    Fog\n",
              "2  3/1/2019  12  8  Sunny\n",
              "3  4/1/2019   8  5   Snow\n",
              "4  5/1/2019   9  6   Rain"
            ]
          },
          "execution_count": 41,
          "metadata": {},
          "output_type": "execute_result"
        }
      ],
      "source": [
        "df"
      ]
    },
    {
      "cell_type": "code",
      "execution_count": null,
      "id": "485353d7",
      "metadata": {
        "id": "485353d7"
      },
      "outputs": [],
      "source": [
        "df = pd.DataFrame(list_of_tup,columns =['Date','Temp','Wind Speed','Climate'])"
      ]
    },
    {
      "cell_type": "code",
      "execution_count": null,
      "id": "e642acb5",
      "metadata": {
        "id": "e642acb5",
        "outputId": "b58be4ec-7f95-410e-8454-6fea4f04650e"
      },
      "outputs": [
        {
          "data": {
            "text/html": [
              "<div>\n",
              "<style scoped>\n",
              "    .dataframe tbody tr th:only-of-type {\n",
              "        vertical-align: middle;\n",
              "    }\n",
              "\n",
              "    .dataframe tbody tr th {\n",
              "        vertical-align: top;\n",
              "    }\n",
              "\n",
              "    .dataframe thead th {\n",
              "        text-align: right;\n",
              "    }\n",
              "</style>\n",
              "<table border=\"1\" class=\"dataframe\">\n",
              "  <thead>\n",
              "    <tr style=\"text-align: right;\">\n",
              "      <th></th>\n",
              "      <th>Date</th>\n",
              "      <th>Temp</th>\n",
              "      <th>Wind Speed</th>\n",
              "      <th>Climate</th>\n",
              "    </tr>\n",
              "  </thead>\n",
              "  <tbody>\n",
              "    <tr>\n",
              "      <th>0</th>\n",
              "      <td>1/1/2019</td>\n",
              "      <td>12</td>\n",
              "      <td>6</td>\n",
              "      <td>Rain</td>\n",
              "    </tr>\n",
              "    <tr>\n",
              "      <th>1</th>\n",
              "      <td>2/1/2019</td>\n",
              "      <td>11</td>\n",
              "      <td>7</td>\n",
              "      <td>Fog</td>\n",
              "    </tr>\n",
              "    <tr>\n",
              "      <th>2</th>\n",
              "      <td>3/1/2019</td>\n",
              "      <td>12</td>\n",
              "      <td>8</td>\n",
              "      <td>Sunny</td>\n",
              "    </tr>\n",
              "    <tr>\n",
              "      <th>3</th>\n",
              "      <td>4/1/2019</td>\n",
              "      <td>8</td>\n",
              "      <td>5</td>\n",
              "      <td>Snow</td>\n",
              "    </tr>\n",
              "    <tr>\n",
              "      <th>4</th>\n",
              "      <td>5/1/2019</td>\n",
              "      <td>9</td>\n",
              "      <td>6</td>\n",
              "      <td>Rain</td>\n",
              "    </tr>\n",
              "  </tbody>\n",
              "</table>\n",
              "</div>"
            ],
            "text/plain": [
              "       Date  Temp  Wind Speed Climate\n",
              "0  1/1/2019    12           6    Rain\n",
              "1  2/1/2019    11           7     Fog\n",
              "2  3/1/2019    12           8   Sunny\n",
              "3  4/1/2019     8           5    Snow\n",
              "4  5/1/2019     9           6    Rain"
            ]
          },
          "execution_count": 43,
          "metadata": {},
          "output_type": "execute_result"
        }
      ],
      "source": [
        "df"
      ]
    },
    {
      "cell_type": "code",
      "execution_count": null,
      "id": "3e0a7de7",
      "metadata": {
        "id": "3e0a7de7",
        "outputId": "de39285c-22ab-4496-82da-161118462272"
      },
      "outputs": [
        {
          "name": "stdout",
          "output_type": "stream",
          "text": [
            "    Name  Age  Gender  Rating\n",
            "0    Tom   28    Male     4.0\n",
            "1   Rick   32  Female     5.0\n",
            "2  Steve   24    Male     2.0\n",
            "3   Tony   25    Male     3.0\n",
            "4   Nick   29  Female     3.5\n"
          ]
        }
      ],
      "source": [
        "dic_2 = {\n",
        "    \"Name\": pd.Series(['Tom','Rick','Steve','Tony','Nick']),\n",
        "    \"Age\": pd.Series([28,32,24,25,29]),\n",
        "    \"Gender\": pd.Series(['Male','Female','Male','Male','Female']),\n",
        "    \"Rating\": pd.Series([4.0,5.0,2.0,3.0,3.5])\n",
        "}\n",
        "df = pd.DataFrame(dic_2)\n",
        "print(df)"
      ]
    },
    {
      "cell_type": "code",
      "execution_count": null,
      "id": "ed183ffa",
      "metadata": {
        "scrolled": true,
        "id": "ed183ffa",
        "outputId": "26f1c674-c793-4fd6-f8af-33158ab7779a"
      },
      "outputs": [
        {
          "data": {
            "text/html": [
              "<div>\n",
              "<style scoped>\n",
              "    .dataframe tbody tr th:only-of-type {\n",
              "        vertical-align: middle;\n",
              "    }\n",
              "\n",
              "    .dataframe tbody tr th {\n",
              "        vertical-align: top;\n",
              "    }\n",
              "\n",
              "    .dataframe thead th {\n",
              "        text-align: right;\n",
              "    }\n",
              "</style>\n",
              "<table border=\"1\" class=\"dataframe\">\n",
              "  <thead>\n",
              "    <tr style=\"text-align: right;\">\n",
              "      <th></th>\n",
              "      <th>name</th>\n",
              "      <th>age</th>\n",
              "      <th>gender</th>\n",
              "      <th>rating</th>\n",
              "    </tr>\n",
              "  </thead>\n",
              "  <tbody>\n",
              "    <tr>\n",
              "      <th>0</th>\n",
              "      <td>tom</td>\n",
              "      <td>28</td>\n",
              "      <td>m</td>\n",
              "      <td>4.0</td>\n",
              "    </tr>\n",
              "    <tr>\n",
              "      <th>1</th>\n",
              "      <td>jack</td>\n",
              "      <td>32</td>\n",
              "      <td>m</td>\n",
              "      <td>5.0</td>\n",
              "    </tr>\n",
              "    <tr>\n",
              "      <th>2</th>\n",
              "      <td>tony</td>\n",
              "      <td>29</td>\n",
              "      <td>m</td>\n",
              "      <td>2.0</td>\n",
              "    </tr>\n",
              "    <tr>\n",
              "      <th>3</th>\n",
              "      <td>alice</td>\n",
              "      <td>25</td>\n",
              "      <td>f</td>\n",
              "      <td>3.0</td>\n",
              "    </tr>\n",
              "    <tr>\n",
              "      <th>4</th>\n",
              "      <td>jenny</td>\n",
              "      <td>26</td>\n",
              "      <td>f</td>\n",
              "      <td>3.5</td>\n",
              "    </tr>\n",
              "  </tbody>\n",
              "</table>\n",
              "</div>"
            ],
            "text/plain": [
              "    name  age gender  rating\n",
              "0    tom   28      m     4.0\n",
              "1   jack   32      m     5.0\n",
              "2   tony   29      m     2.0\n",
              "3  alice   25      f     3.0\n",
              "4  jenny   26      f     3.5"
            ]
          },
          "execution_count": 45,
          "metadata": {},
          "output_type": "execute_result"
        }
      ],
      "source": [
        "dic3={\n",
        "    \"name\":pd.Series([\"tom\",\"jack\",\"tony\",\"alice\",\"jenny\"]),\n",
        "    \"age\":pd.Series([28,32,29,25,26]),\n",
        "    \"gender\":pd.Series([\"m\",\"m\",\"m\",\"f\",\"f\"]),\n",
        "    \"rating\":pd.Series([4.0,5.,2.,3.,3.5])\n",
        "}\n",
        "df=pd.DataFrame(dic3)\n",
        "df"
      ]
    },
    {
      "cell_type": "code",
      "execution_count": null,
      "id": "3a366fa1",
      "metadata": {
        "id": "3a366fa1"
      },
      "outputs": [],
      "source": [
        "d1 = {'Name': pd.Series(['Tom','Rick','Steve','Tony','Nick']),'Age':pd.Series([28,32,29,25,29]),'Gender':pd.Series(['Male','Female','Male','Female']),'Rating':pd.Series([4.0,5.0,2.0,3.0,3.5])\n",
        "     }\n",
        "df5 = pd.DataFrame(d1)"
      ]
    },
    {
      "cell_type": "code",
      "execution_count": null,
      "id": "37d6e417",
      "metadata": {
        "id": "37d6e417",
        "outputId": "107ad761-4534-4ea7-984f-eb1b2f87c568"
      },
      "outputs": [
        {
          "data": {
            "text/html": [
              "<div>\n",
              "<style scoped>\n",
              "    .dataframe tbody tr th:only-of-type {\n",
              "        vertical-align: middle;\n",
              "    }\n",
              "\n",
              "    .dataframe tbody tr th {\n",
              "        vertical-align: top;\n",
              "    }\n",
              "\n",
              "    .dataframe thead th {\n",
              "        text-align: right;\n",
              "    }\n",
              "</style>\n",
              "<table border=\"1\" class=\"dataframe\">\n",
              "  <thead>\n",
              "    <tr style=\"text-align: right;\">\n",
              "      <th></th>\n",
              "      <th>Name</th>\n",
              "      <th>Age</th>\n",
              "      <th>Gender</th>\n",
              "      <th>Rating</th>\n",
              "    </tr>\n",
              "  </thead>\n",
              "  <tbody>\n",
              "    <tr>\n",
              "      <th>0</th>\n",
              "      <td>Tom</td>\n",
              "      <td>28</td>\n",
              "      <td>Male</td>\n",
              "      <td>4.0</td>\n",
              "    </tr>\n",
              "    <tr>\n",
              "      <th>1</th>\n",
              "      <td>Rick</td>\n",
              "      <td>32</td>\n",
              "      <td>Female</td>\n",
              "      <td>5.0</td>\n",
              "    </tr>\n",
              "    <tr>\n",
              "      <th>2</th>\n",
              "      <td>Steve</td>\n",
              "      <td>29</td>\n",
              "      <td>Male</td>\n",
              "      <td>2.0</td>\n",
              "    </tr>\n",
              "    <tr>\n",
              "      <th>3</th>\n",
              "      <td>Tony</td>\n",
              "      <td>25</td>\n",
              "      <td>Female</td>\n",
              "      <td>3.0</td>\n",
              "    </tr>\n",
              "    <tr>\n",
              "      <th>4</th>\n",
              "      <td>Nick</td>\n",
              "      <td>29</td>\n",
              "      <td>NaN</td>\n",
              "      <td>3.5</td>\n",
              "    </tr>\n",
              "  </tbody>\n",
              "</table>\n",
              "</div>"
            ],
            "text/plain": [
              "    Name  Age  Gender  Rating\n",
              "0    Tom   28    Male     4.0\n",
              "1   Rick   32  Female     5.0\n",
              "2  Steve   29    Male     2.0\n",
              "3   Tony   25  Female     3.0\n",
              "4   Nick   29     NaN     3.5"
            ]
          },
          "execution_count": 49,
          "metadata": {},
          "output_type": "execute_result"
        }
      ],
      "source": [
        "df5"
      ]
    },
    {
      "cell_type": "code",
      "execution_count": null,
      "id": "e7b3dd1f",
      "metadata": {
        "id": "e7b3dd1f",
        "outputId": "c6139a4e-62e8-4d4d-adfc-0295b371cd54"
      },
      "outputs": [
        {
          "data": {
            "text/plain": [
              "Index(['Name', 'Age', 'Gender', 'Rating'], dtype='object')"
            ]
          },
          "execution_count": 50,
          "metadata": {},
          "output_type": "execute_result"
        }
      ],
      "source": [
        "###Basic Functionality\n",
        "df5.columns"
      ]
    },
    {
      "cell_type": "code",
      "execution_count": null,
      "id": "48ec5ba9",
      "metadata": {
        "id": "48ec5ba9",
        "outputId": "35ad3132-0846-4508-8de3-8450f1febd2b"
      },
      "outputs": [
        {
          "data": {
            "text/html": [
              "<div>\n",
              "<style scoped>\n",
              "    .dataframe tbody tr th:only-of-type {\n",
              "        vertical-align: middle;\n",
              "    }\n",
              "\n",
              "    .dataframe tbody tr th {\n",
              "        vertical-align: top;\n",
              "    }\n",
              "\n",
              "    .dataframe thead th {\n",
              "        text-align: right;\n",
              "    }\n",
              "</style>\n",
              "<table border=\"1\" class=\"dataframe\">\n",
              "  <thead>\n",
              "    <tr style=\"text-align: right;\">\n",
              "      <th></th>\n",
              "      <th>0</th>\n",
              "      <th>1</th>\n",
              "      <th>2</th>\n",
              "      <th>3</th>\n",
              "      <th>4</th>\n",
              "    </tr>\n",
              "  </thead>\n",
              "  <tbody>\n",
              "    <tr>\n",
              "      <th>name</th>\n",
              "      <td>tom</td>\n",
              "      <td>jack</td>\n",
              "      <td>tony</td>\n",
              "      <td>alice</td>\n",
              "      <td>jenny</td>\n",
              "    </tr>\n",
              "    <tr>\n",
              "      <th>age</th>\n",
              "      <td>28</td>\n",
              "      <td>32</td>\n",
              "      <td>29</td>\n",
              "      <td>25</td>\n",
              "      <td>26</td>\n",
              "    </tr>\n",
              "    <tr>\n",
              "      <th>gender</th>\n",
              "      <td>m</td>\n",
              "      <td>m</td>\n",
              "      <td>m</td>\n",
              "      <td>f</td>\n",
              "      <td>f</td>\n",
              "    </tr>\n",
              "    <tr>\n",
              "      <th>rating</th>\n",
              "      <td>4.0</td>\n",
              "      <td>5.0</td>\n",
              "      <td>2.0</td>\n",
              "      <td>3.0</td>\n",
              "      <td>3.5</td>\n",
              "    </tr>\n",
              "  </tbody>\n",
              "</table>\n",
              "</div>"
            ],
            "text/plain": [
              "          0     1     2      3      4\n",
              "name    tom  jack  tony  alice  jenny\n",
              "age      28    32    29     25     26\n",
              "gender    m     m     m      f      f\n",
              "rating  4.0   5.0   2.0    3.0    3.5"
            ]
          },
          "execution_count": 51,
          "metadata": {},
          "output_type": "execute_result"
        }
      ],
      "source": [
        "#### transpose\n",
        "df.T"
      ]
    },
    {
      "cell_type": "code",
      "execution_count": null,
      "id": "621ec51c",
      "metadata": {
        "id": "621ec51c",
        "outputId": "bbb640dd-3ead-494f-adc0-94f7f2bd0437"
      },
      "outputs": [
        {
          "data": {
            "text/plain": [
              "Name       object\n",
              "Age         int64\n",
              "Gender     object\n",
              "Rating    float64\n",
              "dtype: object"
            ]
          },
          "execution_count": 52,
          "metadata": {},
          "output_type": "execute_result"
        }
      ],
      "source": [
        "### data types\n",
        "df5.dtypes"
      ]
    },
    {
      "cell_type": "code",
      "execution_count": null,
      "id": "fd8dee0f",
      "metadata": {
        "id": "fd8dee0f",
        "outputId": "64d362f7-470d-4f91-e0cb-a6cb5eba3e7e"
      },
      "outputs": [
        {
          "data": {
            "text/html": [
              "<div>\n",
              "<style scoped>\n",
              "    .dataframe tbody tr th:only-of-type {\n",
              "        vertical-align: middle;\n",
              "    }\n",
              "\n",
              "    .dataframe tbody tr th {\n",
              "        vertical-align: top;\n",
              "    }\n",
              "\n",
              "    .dataframe thead th {\n",
              "        text-align: right;\n",
              "    }\n",
              "</style>\n",
              "<table border=\"1\" class=\"dataframe\">\n",
              "  <thead>\n",
              "    <tr style=\"text-align: right;\">\n",
              "      <th></th>\n",
              "      <th>Name</th>\n",
              "      <th>Age</th>\n",
              "      <th>Gender</th>\n",
              "      <th>Rating</th>\n",
              "    </tr>\n",
              "  </thead>\n",
              "  <tbody>\n",
              "    <tr>\n",
              "      <th>0</th>\n",
              "      <td>Tom</td>\n",
              "      <td>28</td>\n",
              "      <td>Male</td>\n",
              "      <td>4.0</td>\n",
              "    </tr>\n",
              "    <tr>\n",
              "      <th>1</th>\n",
              "      <td>Rick</td>\n",
              "      <td>32</td>\n",
              "      <td>Female</td>\n",
              "      <td>5.0</td>\n",
              "    </tr>\n",
              "    <tr>\n",
              "      <th>2</th>\n",
              "      <td>Steve</td>\n",
              "      <td>29</td>\n",
              "      <td>Male</td>\n",
              "      <td>2.0</td>\n",
              "    </tr>\n",
              "    <tr>\n",
              "      <th>3</th>\n",
              "      <td>Tony</td>\n",
              "      <td>25</td>\n",
              "      <td>Female</td>\n",
              "      <td>3.0</td>\n",
              "    </tr>\n",
              "    <tr>\n",
              "      <th>4</th>\n",
              "      <td>Nick</td>\n",
              "      <td>29</td>\n",
              "      <td>NaN</td>\n",
              "      <td>3.5</td>\n",
              "    </tr>\n",
              "  </tbody>\n",
              "</table>\n",
              "</div>"
            ],
            "text/plain": [
              "    Name  Age  Gender  Rating\n",
              "0    Tom   28    Male     4.0\n",
              "1   Rick   32  Female     5.0\n",
              "2  Steve   29    Male     2.0\n",
              "3   Tony   25  Female     3.0\n",
              "4   Nick   29     NaN     3.5"
            ]
          },
          "execution_count": 53,
          "metadata": {},
          "output_type": "execute_result"
        }
      ],
      "source": [
        "df5"
      ]
    },
    {
      "cell_type": "code",
      "execution_count": null,
      "id": "4e5b1f92",
      "metadata": {
        "id": "4e5b1f92",
        "outputId": "787e1c9a-4855-4be8-93f5-fcde9112cec7"
      },
      "outputs": [
        {
          "data": {
            "text/plain": [
              "(5, 4)"
            ]
          },
          "execution_count": 54,
          "metadata": {},
          "output_type": "execute_result"
        }
      ],
      "source": [
        "df5.shape"
      ]
    },
    {
      "cell_type": "code",
      "execution_count": null,
      "id": "0dc29f26",
      "metadata": {
        "id": "0dc29f26",
        "outputId": "be65a7ef-3b9b-4384-c2a1-47b71f4ac3a6"
      },
      "outputs": [
        {
          "name": "stdout",
          "output_type": "stream",
          "text": [
            "<class 'pandas.core.frame.DataFrame'>\n",
            "RangeIndex: 5 entries, 0 to 4\n",
            "Data columns (total 4 columns):\n",
            " #   Column  Non-Null Count  Dtype  \n",
            "---  ------  --------------  -----  \n",
            " 0   Name    5 non-null      object \n",
            " 1   Age     5 non-null      int64  \n",
            " 2   Gender  4 non-null      object \n",
            " 3   Rating  5 non-null      float64\n",
            "dtypes: float64(1), int64(1), object(2)\n",
            "memory usage: 288.0+ bytes\n"
          ]
        }
      ],
      "source": [
        "df5.info()"
      ]
    },
    {
      "cell_type": "code",
      "execution_count": null,
      "id": "f85d45ca",
      "metadata": {
        "id": "f85d45ca",
        "outputId": "8a655654-e807-4497-f84f-8fedfe807c5d"
      },
      "outputs": [
        {
          "data": {
            "text/plain": [
              "[RangeIndex(start=0, stop=5, step=1),\n",
              " Index(['Name', 'Age', 'Gender', 'Rating'], dtype='object')]"
            ]
          },
          "execution_count": 56,
          "metadata": {},
          "output_type": "execute_result"
        }
      ],
      "source": [
        "df5.axes"
      ]
    },
    {
      "cell_type": "code",
      "execution_count": null,
      "id": "52ec66c9",
      "metadata": {
        "id": "52ec66c9",
        "outputId": "c4a05cc7-eb18-4834-bae3-c11d94413306"
      },
      "outputs": [
        {
          "data": {
            "text/plain": [
              "array([['Tom', 28, 'Male', 4.0],\n",
              "       ['Rick', 32, 'Female', 5.0],\n",
              "       ['Steve', 29, 'Male', 2.0],\n",
              "       ['Tony', 25, 'Female', 3.0],\n",
              "       ['Nick', 29, nan, 3.5]], dtype=object)"
            ]
          },
          "execution_count": 57,
          "metadata": {},
          "output_type": "execute_result"
        }
      ],
      "source": [
        "df5.values"
      ]
    },
    {
      "cell_type": "code",
      "execution_count": null,
      "id": "98501323",
      "metadata": {
        "id": "98501323",
        "outputId": "90eb5681-fcd6-48e5-db4f-e38593c19c71"
      },
      "outputs": [
        {
          "data": {
            "text/html": [
              "<div>\n",
              "<style scoped>\n",
              "    .dataframe tbody tr th:only-of-type {\n",
              "        vertical-align: middle;\n",
              "    }\n",
              "\n",
              "    .dataframe tbody tr th {\n",
              "        vertical-align: top;\n",
              "    }\n",
              "\n",
              "    .dataframe thead th {\n",
              "        text-align: right;\n",
              "    }\n",
              "</style>\n",
              "<table border=\"1\" class=\"dataframe\">\n",
              "  <thead>\n",
              "    <tr style=\"text-align: right;\">\n",
              "      <th></th>\n",
              "      <th>Name</th>\n",
              "      <th>Age</th>\n",
              "      <th>Gender</th>\n",
              "      <th>Rating</th>\n",
              "    </tr>\n",
              "  </thead>\n",
              "  <tbody>\n",
              "    <tr>\n",
              "      <th>0</th>\n",
              "      <td>Tom</td>\n",
              "      <td>28</td>\n",
              "      <td>Male</td>\n",
              "      <td>4.0</td>\n",
              "    </tr>\n",
              "    <tr>\n",
              "      <th>1</th>\n",
              "      <td>Rick</td>\n",
              "      <td>32</td>\n",
              "      <td>Female</td>\n",
              "      <td>5.0</td>\n",
              "    </tr>\n",
              "    <tr>\n",
              "      <th>2</th>\n",
              "      <td>Steve</td>\n",
              "      <td>29</td>\n",
              "      <td>Male</td>\n",
              "      <td>2.0</td>\n",
              "    </tr>\n",
              "    <tr>\n",
              "      <th>3</th>\n",
              "      <td>Tony</td>\n",
              "      <td>25</td>\n",
              "      <td>Female</td>\n",
              "      <td>3.0</td>\n",
              "    </tr>\n",
              "    <tr>\n",
              "      <th>4</th>\n",
              "      <td>Nick</td>\n",
              "      <td>29</td>\n",
              "      <td>NaN</td>\n",
              "      <td>3.5</td>\n",
              "    </tr>\n",
              "  </tbody>\n",
              "</table>\n",
              "</div>"
            ],
            "text/plain": [
              "    Name  Age  Gender  Rating\n",
              "0    Tom   28    Male     4.0\n",
              "1   Rick   32  Female     5.0\n",
              "2  Steve   29    Male     2.0\n",
              "3   Tony   25  Female     3.0\n",
              "4   Nick   29     NaN     3.5"
            ]
          },
          "execution_count": 58,
          "metadata": {},
          "output_type": "execute_result"
        }
      ],
      "source": [
        "##### Reading First 5 rows\n",
        "df5.head()"
      ]
    },
    {
      "cell_type": "code",
      "execution_count": null,
      "id": "406e0c48",
      "metadata": {
        "id": "406e0c48",
        "outputId": "3fef66d3-41b9-4c03-aeb2-8d36c099ae07"
      },
      "outputs": [
        {
          "data": {
            "text/html": [
              "<div>\n",
              "<style scoped>\n",
              "    .dataframe tbody tr th:only-of-type {\n",
              "        vertical-align: middle;\n",
              "    }\n",
              "\n",
              "    .dataframe tbody tr th {\n",
              "        vertical-align: top;\n",
              "    }\n",
              "\n",
              "    .dataframe thead th {\n",
              "        text-align: right;\n",
              "    }\n",
              "</style>\n",
              "<table border=\"1\" class=\"dataframe\">\n",
              "  <thead>\n",
              "    <tr style=\"text-align: right;\">\n",
              "      <th></th>\n",
              "      <th>Name</th>\n",
              "      <th>Age</th>\n",
              "      <th>Gender</th>\n",
              "      <th>Rating</th>\n",
              "    </tr>\n",
              "  </thead>\n",
              "  <tbody>\n",
              "    <tr>\n",
              "      <th>0</th>\n",
              "      <td>Tom</td>\n",
              "      <td>28</td>\n",
              "      <td>Male</td>\n",
              "      <td>4.0</td>\n",
              "    </tr>\n",
              "    <tr>\n",
              "      <th>1</th>\n",
              "      <td>Rick</td>\n",
              "      <td>32</td>\n",
              "      <td>Female</td>\n",
              "      <td>5.0</td>\n",
              "    </tr>\n",
              "  </tbody>\n",
              "</table>\n",
              "</div>"
            ],
            "text/plain": [
              "   Name  Age  Gender  Rating\n",
              "0   Tom   28    Male     4.0\n",
              "1  Rick   32  Female     5.0"
            ]
          },
          "execution_count": 59,
          "metadata": {},
          "output_type": "execute_result"
        }
      ],
      "source": [
        "df5.head(2)"
      ]
    },
    {
      "cell_type": "code",
      "execution_count": null,
      "id": "53663c36",
      "metadata": {
        "id": "53663c36",
        "outputId": "06a8884a-c02b-4ef6-bce2-78a5f6e437cd"
      },
      "outputs": [
        {
          "data": {
            "text/html": [
              "<div>\n",
              "<style scoped>\n",
              "    .dataframe tbody tr th:only-of-type {\n",
              "        vertical-align: middle;\n",
              "    }\n",
              "\n",
              "    .dataframe tbody tr th {\n",
              "        vertical-align: top;\n",
              "    }\n",
              "\n",
              "    .dataframe thead th {\n",
              "        text-align: right;\n",
              "    }\n",
              "</style>\n",
              "<table border=\"1\" class=\"dataframe\">\n",
              "  <thead>\n",
              "    <tr style=\"text-align: right;\">\n",
              "      <th></th>\n",
              "      <th>Name</th>\n",
              "      <th>Age</th>\n",
              "      <th>Gender</th>\n",
              "      <th>Rating</th>\n",
              "    </tr>\n",
              "  </thead>\n",
              "  <tbody>\n",
              "    <tr>\n",
              "      <th>0</th>\n",
              "      <td>Tom</td>\n",
              "      <td>28</td>\n",
              "      <td>Male</td>\n",
              "      <td>4.0</td>\n",
              "    </tr>\n",
              "  </tbody>\n",
              "</table>\n",
              "</div>"
            ],
            "text/plain": [
              "  Name  Age Gender  Rating\n",
              "0  Tom   28   Male     4.0"
            ]
          },
          "execution_count": 60,
          "metadata": {},
          "output_type": "execute_result"
        }
      ],
      "source": [
        "df5.head(1)"
      ]
    },
    {
      "cell_type": "code",
      "execution_count": null,
      "id": "4f478a51",
      "metadata": {
        "id": "4f478a51",
        "outputId": "bdbbd781-5836-490c-de81-8413f6570ce2"
      },
      "outputs": [
        {
          "data": {
            "text/html": [
              "<div>\n",
              "<style scoped>\n",
              "    .dataframe tbody tr th:only-of-type {\n",
              "        vertical-align: middle;\n",
              "    }\n",
              "\n",
              "    .dataframe tbody tr th {\n",
              "        vertical-align: top;\n",
              "    }\n",
              "\n",
              "    .dataframe thead th {\n",
              "        text-align: right;\n",
              "    }\n",
              "</style>\n",
              "<table border=\"1\" class=\"dataframe\">\n",
              "  <thead>\n",
              "    <tr style=\"text-align: right;\">\n",
              "      <th></th>\n",
              "      <th>Name</th>\n",
              "      <th>Age</th>\n",
              "      <th>Gender</th>\n",
              "      <th>Rating</th>\n",
              "    </tr>\n",
              "  </thead>\n",
              "  <tbody>\n",
              "    <tr>\n",
              "      <th>0</th>\n",
              "      <td>Tom</td>\n",
              "      <td>28</td>\n",
              "      <td>Male</td>\n",
              "      <td>4.0</td>\n",
              "    </tr>\n",
              "    <tr>\n",
              "      <th>1</th>\n",
              "      <td>Rick</td>\n",
              "      <td>32</td>\n",
              "      <td>Female</td>\n",
              "      <td>5.0</td>\n",
              "    </tr>\n",
              "    <tr>\n",
              "      <th>2</th>\n",
              "      <td>Steve</td>\n",
              "      <td>29</td>\n",
              "      <td>Male</td>\n",
              "      <td>2.0</td>\n",
              "    </tr>\n",
              "    <tr>\n",
              "      <th>3</th>\n",
              "      <td>Tony</td>\n",
              "      <td>25</td>\n",
              "      <td>Female</td>\n",
              "      <td>3.0</td>\n",
              "    </tr>\n",
              "    <tr>\n",
              "      <th>4</th>\n",
              "      <td>Nick</td>\n",
              "      <td>29</td>\n",
              "      <td>NaN</td>\n",
              "      <td>3.5</td>\n",
              "    </tr>\n",
              "  </tbody>\n",
              "</table>\n",
              "</div>"
            ],
            "text/plain": [
              "    Name  Age  Gender  Rating\n",
              "0    Tom   28    Male     4.0\n",
              "1   Rick   32  Female     5.0\n",
              "2  Steve   29    Male     2.0\n",
              "3   Tony   25  Female     3.0\n",
              "4   Nick   29     NaN     3.5"
            ]
          },
          "execution_count": 62,
          "metadata": {},
          "output_type": "execute_result"
        }
      ],
      "source": [
        "### to get last rows\n",
        "df5.tail()"
      ]
    },
    {
      "cell_type": "code",
      "execution_count": null,
      "id": "fb7c16f7",
      "metadata": {
        "id": "fb7c16f7",
        "outputId": "4bb9e135-22fc-4c10-cb56-8d597dc05899"
      },
      "outputs": [
        {
          "data": {
            "text/html": [
              "<div>\n",
              "<style scoped>\n",
              "    .dataframe tbody tr th:only-of-type {\n",
              "        vertical-align: middle;\n",
              "    }\n",
              "\n",
              "    .dataframe tbody tr th {\n",
              "        vertical-align: top;\n",
              "    }\n",
              "\n",
              "    .dataframe thead th {\n",
              "        text-align: right;\n",
              "    }\n",
              "</style>\n",
              "<table border=\"1\" class=\"dataframe\">\n",
              "  <thead>\n",
              "    <tr style=\"text-align: right;\">\n",
              "      <th></th>\n",
              "      <th>Name</th>\n",
              "      <th>Age</th>\n",
              "      <th>Gender</th>\n",
              "      <th>Rating</th>\n",
              "    </tr>\n",
              "  </thead>\n",
              "  <tbody>\n",
              "    <tr>\n",
              "      <th>3</th>\n",
              "      <td>Tony</td>\n",
              "      <td>25</td>\n",
              "      <td>Female</td>\n",
              "      <td>3.0</td>\n",
              "    </tr>\n",
              "    <tr>\n",
              "      <th>4</th>\n",
              "      <td>Nick</td>\n",
              "      <td>29</td>\n",
              "      <td>NaN</td>\n",
              "      <td>3.5</td>\n",
              "    </tr>\n",
              "  </tbody>\n",
              "</table>\n",
              "</div>"
            ],
            "text/plain": [
              "   Name  Age  Gender  Rating\n",
              "3  Tony   25  Female     3.0\n",
              "4  Nick   29     NaN     3.5"
            ]
          },
          "execution_count": 63,
          "metadata": {},
          "output_type": "execute_result"
        }
      ],
      "source": [
        "df5.tail(2)"
      ]
    },
    {
      "cell_type": "code",
      "execution_count": null,
      "id": "51e03193",
      "metadata": {
        "id": "51e03193",
        "outputId": "be6dd573-c95d-4219-9589-de36e045ad09"
      },
      "outputs": [
        {
          "data": {
            "text/html": [
              "<div>\n",
              "<style scoped>\n",
              "    .dataframe tbody tr th:only-of-type {\n",
              "        vertical-align: middle;\n",
              "    }\n",
              "\n",
              "    .dataframe tbody tr th {\n",
              "        vertical-align: top;\n",
              "    }\n",
              "\n",
              "    .dataframe thead th {\n",
              "        text-align: right;\n",
              "    }\n",
              "</style>\n",
              "<table border=\"1\" class=\"dataframe\">\n",
              "  <thead>\n",
              "    <tr style=\"text-align: right;\">\n",
              "      <th></th>\n",
              "      <th>Name</th>\n",
              "      <th>Age</th>\n",
              "      <th>Gender</th>\n",
              "      <th>Rating</th>\n",
              "    </tr>\n",
              "  </thead>\n",
              "  <tbody>\n",
              "    <tr>\n",
              "      <th>4</th>\n",
              "      <td>Nick</td>\n",
              "      <td>29</td>\n",
              "      <td>NaN</td>\n",
              "      <td>3.5</td>\n",
              "    </tr>\n",
              "  </tbody>\n",
              "</table>\n",
              "</div>"
            ],
            "text/plain": [
              "   Name  Age Gender  Rating\n",
              "4  Nick   29    NaN     3.5"
            ]
          },
          "execution_count": 64,
          "metadata": {},
          "output_type": "execute_result"
        }
      ],
      "source": [
        "df5.tail(1)"
      ]
    },
    {
      "cell_type": "code",
      "execution_count": null,
      "id": "5950395b",
      "metadata": {
        "id": "5950395b",
        "outputId": "89408630-e725-4adc-a2c6-423b417c03c6"
      },
      "outputs": [
        {
          "name": "stderr",
          "output_type": "stream",
          "text": [
            "C:\\Users\\pc\\AppData\\Local\\Temp\\ipykernel_8548\\2145574871.py:1: FutureWarning: Dropping of nuisance columns in DataFrame reductions (with 'numeric_only=None') is deprecated; in a future version this will raise TypeError.  Select only valid columns before calling the reduction.\n",
            "  df5.sum()\n"
          ]
        },
        {
          "data": {
            "text/plain": [
              "Name      TomRickSteveTonyNick\n",
              "Age                        143\n",
              "Rating                    17.5\n",
              "dtype: object"
            ]
          },
          "execution_count": 65,
          "metadata": {},
          "output_type": "execute_result"
        }
      ],
      "source": [
        "df5.sum()"
      ]
    },
    {
      "cell_type": "code",
      "execution_count": null,
      "id": "4ebcb6cf",
      "metadata": {
        "id": "4ebcb6cf",
        "outputId": "536f8976-4f93-4658-eac2-bdc7c4a19f90"
      },
      "outputs": [
        {
          "data": {
            "text/plain": [
              "name      tomjacktonyalicejenny\n",
              "age                         140\n",
              "gender                    mmmff\n",
              "rating                     17.5\n",
              "dtype: object"
            ]
          },
          "execution_count": 66,
          "metadata": {},
          "output_type": "execute_result"
        }
      ],
      "source": [
        "df.sum()"
      ]
    },
    {
      "cell_type": "code",
      "execution_count": null,
      "id": "3261dccd",
      "metadata": {
        "id": "3261dccd",
        "outputId": "d6b8e469-5cb5-46a6-d442-da079c973071"
      },
      "outputs": [
        {
          "name": "stderr",
          "output_type": "stream",
          "text": [
            "C:\\Users\\pc\\AppData\\Local\\Temp\\ipykernel_8548\\1640132065.py:1: FutureWarning: Dropping of nuisance columns in DataFrame reductions (with 'numeric_only=None') is deprecated; in a future version this will raise TypeError.  Select only valid columns before calling the reduction.\n",
            "  df5.mean()\n"
          ]
        },
        {
          "data": {
            "text/plain": [
              "Age       28.6\n",
              "Rating     3.5\n",
              "dtype: float64"
            ]
          },
          "execution_count": 67,
          "metadata": {},
          "output_type": "execute_result"
        }
      ],
      "source": [
        "df5.mean()"
      ]
    },
    {
      "cell_type": "code",
      "execution_count": null,
      "id": "5ef76192",
      "metadata": {
        "id": "5ef76192",
        "outputId": "c1a1c978-09c5-49fa-dfb5-4751a8289879"
      },
      "outputs": [
        {
          "data": {
            "text/html": [
              "<div>\n",
              "<style scoped>\n",
              "    .dataframe tbody tr th:only-of-type {\n",
              "        vertical-align: middle;\n",
              "    }\n",
              "\n",
              "    .dataframe tbody tr th {\n",
              "        vertical-align: top;\n",
              "    }\n",
              "\n",
              "    .dataframe thead th {\n",
              "        text-align: right;\n",
              "    }\n",
              "</style>\n",
              "<table border=\"1\" class=\"dataframe\">\n",
              "  <thead>\n",
              "    <tr style=\"text-align: right;\">\n",
              "      <th></th>\n",
              "      <th>Name</th>\n",
              "      <th>Age</th>\n",
              "      <th>Gender</th>\n",
              "      <th>Rating</th>\n",
              "    </tr>\n",
              "  </thead>\n",
              "  <tbody>\n",
              "    <tr>\n",
              "      <th>0</th>\n",
              "      <td>Tom</td>\n",
              "      <td>28</td>\n",
              "      <td>Male</td>\n",
              "      <td>4.0</td>\n",
              "    </tr>\n",
              "    <tr>\n",
              "      <th>1</th>\n",
              "      <td>Rick</td>\n",
              "      <td>32</td>\n",
              "      <td>Female</td>\n",
              "      <td>5.0</td>\n",
              "    </tr>\n",
              "    <tr>\n",
              "      <th>2</th>\n",
              "      <td>Steve</td>\n",
              "      <td>29</td>\n",
              "      <td>Male</td>\n",
              "      <td>2.0</td>\n",
              "    </tr>\n",
              "    <tr>\n",
              "      <th>3</th>\n",
              "      <td>Tony</td>\n",
              "      <td>25</td>\n",
              "      <td>Female</td>\n",
              "      <td>3.0</td>\n",
              "    </tr>\n",
              "    <tr>\n",
              "      <th>4</th>\n",
              "      <td>Nick</td>\n",
              "      <td>29</td>\n",
              "      <td>NaN</td>\n",
              "      <td>3.5</td>\n",
              "    </tr>\n",
              "  </tbody>\n",
              "</table>\n",
              "</div>"
            ],
            "text/plain": [
              "    Name  Age  Gender  Rating\n",
              "0    Tom   28    Male     4.0\n",
              "1   Rick   32  Female     5.0\n",
              "2  Steve   29    Male     2.0\n",
              "3   Tony   25  Female     3.0\n",
              "4   Nick   29     NaN     3.5"
            ]
          },
          "execution_count": 68,
          "metadata": {},
          "output_type": "execute_result"
        }
      ],
      "source": [
        "df5"
      ]
    },
    {
      "cell_type": "code",
      "execution_count": null,
      "id": "50ae05b1",
      "metadata": {
        "id": "50ae05b1",
        "outputId": "f9d06f19-e2a2-490a-be46-70882ec8846c"
      },
      "outputs": [
        {
          "data": {
            "text/plain": [
              "0      Tom\n",
              "1     Rick\n",
              "2    Steve\n",
              "3     Tony\n",
              "4     Nick\n",
              "Name: Name, dtype: object"
            ]
          },
          "execution_count": 69,
          "metadata": {},
          "output_type": "execute_result"
        }
      ],
      "source": [
        "df5.Name"
      ]
    },
    {
      "cell_type": "code",
      "execution_count": null,
      "id": "61a3f099",
      "metadata": {
        "id": "61a3f099",
        "outputId": "fc9d3e97-9508-490b-ae79-f5eb1a8f0d6c"
      },
      "outputs": [
        {
          "data": {
            "text/plain": [
              "0      Tom\n",
              "1     Rick\n",
              "2    Steve\n",
              "3     Tony\n",
              "4     Nick\n",
              "Name: Name, dtype: object"
            ]
          },
          "execution_count": 70,
          "metadata": {},
          "output_type": "execute_result"
        }
      ],
      "source": [
        "df5['Name']"
      ]
    },
    {
      "cell_type": "code",
      "execution_count": null,
      "id": "80d24a90",
      "metadata": {
        "id": "80d24a90",
        "outputId": "2d8700ec-390d-4a39-c1a7-93dccdbe2f3d"
      },
      "outputs": [
        {
          "data": {
            "text/plain": [
              "0    28\n",
              "1    32\n",
              "2    29\n",
              "3    25\n",
              "4    29\n",
              "Name: Age, dtype: int64"
            ]
          },
          "execution_count": 71,
          "metadata": {},
          "output_type": "execute_result"
        }
      ],
      "source": [
        "df5['Age']"
      ]
    },
    {
      "cell_type": "code",
      "execution_count": null,
      "id": "e121b21d",
      "metadata": {
        "id": "e121b21d",
        "outputId": "408984f7-cd90-40b3-a638-9130fb9bac85"
      },
      "outputs": [
        {
          "data": {
            "text/plain": [
              "0    4.0\n",
              "1    5.0\n",
              "2    2.0\n",
              "3    3.0\n",
              "4    3.5\n",
              "Name: Rating, dtype: float64"
            ]
          },
          "execution_count": 72,
          "metadata": {},
          "output_type": "execute_result"
        }
      ],
      "source": [
        "df5['Rating']"
      ]
    },
    {
      "cell_type": "code",
      "execution_count": null,
      "id": "3062cabe",
      "metadata": {
        "id": "3062cabe",
        "outputId": "0e335219-3b72-48a3-ffbc-c34327dacb51"
      },
      "outputs": [
        {
          "data": {
            "text/plain": [
              "28.6"
            ]
          },
          "execution_count": 73,
          "metadata": {},
          "output_type": "execute_result"
        }
      ],
      "source": [
        "df5['Age'].mean()"
      ]
    },
    {
      "cell_type": "code",
      "execution_count": null,
      "id": "63e234cb",
      "metadata": {
        "id": "63e234cb",
        "outputId": "03e1c9b4-c74b-448e-a7a6-87edf21a51d3"
      },
      "outputs": [
        {
          "data": {
            "text/plain": [
              "3.5"
            ]
          },
          "execution_count": 74,
          "metadata": {},
          "output_type": "execute_result"
        }
      ],
      "source": [
        "df5['Rating'].mean()"
      ]
    },
    {
      "cell_type": "code",
      "execution_count": null,
      "id": "9d9c69c1",
      "metadata": {
        "id": "9d9c69c1",
        "outputId": "5a698abd-6223-4bae-9ac8-ce976b179b38"
      },
      "outputs": [
        {
          "data": {
            "text/plain": [
              "1.118033988749895"
            ]
          },
          "execution_count": 75,
          "metadata": {},
          "output_type": "execute_result"
        }
      ],
      "source": [
        "## median ### std ### Var\n",
        "df5['Rating'].std()"
      ]
    },
    {
      "cell_type": "code",
      "execution_count": null,
      "id": "355c0263",
      "metadata": {
        "id": "355c0263",
        "outputId": "75f1ef58-789c-437e-f07e-9b76d0fc55af"
      },
      "outputs": [
        {
          "data": {
            "text/plain": [
              "3.5"
            ]
          },
          "execution_count": 76,
          "metadata": {},
          "output_type": "execute_result"
        }
      ],
      "source": [
        "df5['Rating'].median()"
      ]
    },
    {
      "cell_type": "code",
      "execution_count": null,
      "id": "8bf213ef",
      "metadata": {
        "id": "8bf213ef",
        "outputId": "229f80db-501e-4b9c-c516-633c53a4926c"
      },
      "outputs": [
        {
          "data": {
            "text/plain": [
              "1.25"
            ]
          },
          "execution_count": 77,
          "metadata": {},
          "output_type": "execute_result"
        }
      ],
      "source": [
        "df5['Rating'].var()"
      ]
    },
    {
      "cell_type": "code",
      "execution_count": null,
      "id": "00f77145",
      "metadata": {
        "id": "00f77145",
        "outputId": "b8766f77-fcbe-42f2-9fd7-a0024a0a37f6"
      },
      "outputs": [
        {
          "data": {
            "text/plain": [
              "6.3"
            ]
          },
          "execution_count": 78,
          "metadata": {},
          "output_type": "execute_result"
        }
      ],
      "source": [
        "df5['Age'].var()"
      ]
    },
    {
      "cell_type": "code",
      "execution_count": null,
      "id": "36525b0f",
      "metadata": {
        "id": "36525b0f"
      },
      "outputs": [],
      "source": [
        "d1 = {\n",
        "    'Name':pd.Series(['Steve','Rock','John','Tom','Jack','Rick','Allen']),\n",
        "    'Age':pd.Series([25,28,26,29,32,34,36]),\n",
        "    'Gender':pd.Series(['Male','Male','Female','Male','Female','Female','Male']),\n",
        "    'Dependencies':pd.Series([0,1,4,5,2,3,2]),\n",
        "    'Income':pd.Series([100000,75000,60000,50000,80000,95000,55000]),\n",
        "    'Co-Applicant':pd.Series(['Yes','No','No','Yes','No','Yes','yes']),\n",
        "    'Co-ApplicantIncome':pd.Series([40000,60000,70000,55000,75000,80000,np.NAN])\n",
        "}"
      ]
    },
    {
      "cell_type": "code",
      "execution_count": null,
      "id": "c10b2bda",
      "metadata": {
        "id": "c10b2bda"
      },
      "outputs": [],
      "source": [
        "df=pd.DataFrame(d1)"
      ]
    },
    {
      "cell_type": "code",
      "execution_count": null,
      "id": "cb9b90d1",
      "metadata": {
        "id": "cb9b90d1",
        "outputId": "3673df82-92d5-47a5-d24a-680d2127b405"
      },
      "outputs": [
        {
          "data": {
            "text/html": [
              "<div>\n",
              "<style scoped>\n",
              "    .dataframe tbody tr th:only-of-type {\n",
              "        vertical-align: middle;\n",
              "    }\n",
              "\n",
              "    .dataframe tbody tr th {\n",
              "        vertical-align: top;\n",
              "    }\n",
              "\n",
              "    .dataframe thead th {\n",
              "        text-align: right;\n",
              "    }\n",
              "</style>\n",
              "<table border=\"1\" class=\"dataframe\">\n",
              "  <thead>\n",
              "    <tr style=\"text-align: right;\">\n",
              "      <th></th>\n",
              "      <th>Name</th>\n",
              "      <th>Age</th>\n",
              "      <th>Gender</th>\n",
              "      <th>Dependencies</th>\n",
              "      <th>Income</th>\n",
              "      <th>Co-Applicant</th>\n",
              "      <th>Co-ApplicantIncome</th>\n",
              "    </tr>\n",
              "  </thead>\n",
              "  <tbody>\n",
              "    <tr>\n",
              "      <th>0</th>\n",
              "      <td>Steve</td>\n",
              "      <td>25</td>\n",
              "      <td>Male</td>\n",
              "      <td>0</td>\n",
              "      <td>100000</td>\n",
              "      <td>Yes</td>\n",
              "      <td>40000.0</td>\n",
              "    </tr>\n",
              "    <tr>\n",
              "      <th>1</th>\n",
              "      <td>Rock</td>\n",
              "      <td>28</td>\n",
              "      <td>Male</td>\n",
              "      <td>1</td>\n",
              "      <td>75000</td>\n",
              "      <td>No</td>\n",
              "      <td>60000.0</td>\n",
              "    </tr>\n",
              "    <tr>\n",
              "      <th>2</th>\n",
              "      <td>John</td>\n",
              "      <td>26</td>\n",
              "      <td>Female</td>\n",
              "      <td>4</td>\n",
              "      <td>60000</td>\n",
              "      <td>No</td>\n",
              "      <td>70000.0</td>\n",
              "    </tr>\n",
              "    <tr>\n",
              "      <th>3</th>\n",
              "      <td>Tom</td>\n",
              "      <td>29</td>\n",
              "      <td>Male</td>\n",
              "      <td>5</td>\n",
              "      <td>50000</td>\n",
              "      <td>Yes</td>\n",
              "      <td>55000.0</td>\n",
              "    </tr>\n",
              "    <tr>\n",
              "      <th>4</th>\n",
              "      <td>Jack</td>\n",
              "      <td>32</td>\n",
              "      <td>Female</td>\n",
              "      <td>2</td>\n",
              "      <td>80000</td>\n",
              "      <td>No</td>\n",
              "      <td>75000.0</td>\n",
              "    </tr>\n",
              "    <tr>\n",
              "      <th>5</th>\n",
              "      <td>Rick</td>\n",
              "      <td>34</td>\n",
              "      <td>Female</td>\n",
              "      <td>3</td>\n",
              "      <td>95000</td>\n",
              "      <td>Yes</td>\n",
              "      <td>80000.0</td>\n",
              "    </tr>\n",
              "    <tr>\n",
              "      <th>6</th>\n",
              "      <td>Allen</td>\n",
              "      <td>36</td>\n",
              "      <td>Male</td>\n",
              "      <td>2</td>\n",
              "      <td>55000</td>\n",
              "      <td>yes</td>\n",
              "      <td>NaN</td>\n",
              "    </tr>\n",
              "  </tbody>\n",
              "</table>\n",
              "</div>"
            ],
            "text/plain": [
              "    Name  Age  Gender  Dependencies  Income Co-Applicant  Co-ApplicantIncome\n",
              "0  Steve   25    Male             0  100000          Yes             40000.0\n",
              "1   Rock   28    Male             1   75000           No             60000.0\n",
              "2   John   26  Female             4   60000           No             70000.0\n",
              "3    Tom   29    Male             5   50000          Yes             55000.0\n",
              "4   Jack   32  Female             2   80000           No             75000.0\n",
              "5   Rick   34  Female             3   95000          Yes             80000.0\n",
              "6  Allen   36    Male             2   55000          yes                 NaN"
            ]
          },
          "execution_count": 84,
          "metadata": {},
          "output_type": "execute_result"
        }
      ],
      "source": [
        "df"
      ]
    },
    {
      "cell_type": "code",
      "execution_count": null,
      "id": "5e6a9831",
      "metadata": {
        "id": "5e6a9831"
      },
      "outputs": [],
      "source": [
        "df.to_csv('Loan_Data.csv',index=False)"
      ]
    },
    {
      "cell_type": "code",
      "execution_count": null,
      "id": "7e45e40a",
      "metadata": {
        "id": "7e45e40a"
      },
      "outputs": [],
      "source": [
        "df.to_csv('Loan_Data1.csv')"
      ]
    },
    {
      "cell_type": "code",
      "execution_count": null,
      "id": "757d4e12",
      "metadata": {
        "id": "757d4e12"
      },
      "outputs": [],
      "source": [
        "df2 = pd.read_csv('Loan_Data1.csv')"
      ]
    },
    {
      "cell_type": "code",
      "execution_count": null,
      "id": "b1eca902",
      "metadata": {
        "id": "b1eca902",
        "outputId": "b04f0c1c-a010-40fd-ccfb-d7423d4bf886"
      },
      "outputs": [
        {
          "data": {
            "text/html": [
              "<div>\n",
              "<style scoped>\n",
              "    .dataframe tbody tr th:only-of-type {\n",
              "        vertical-align: middle;\n",
              "    }\n",
              "\n",
              "    .dataframe tbody tr th {\n",
              "        vertical-align: top;\n",
              "    }\n",
              "\n",
              "    .dataframe thead th {\n",
              "        text-align: right;\n",
              "    }\n",
              "</style>\n",
              "<table border=\"1\" class=\"dataframe\">\n",
              "  <thead>\n",
              "    <tr style=\"text-align: right;\">\n",
              "      <th></th>\n",
              "      <th>Unnamed: 0</th>\n",
              "      <th>Name</th>\n",
              "      <th>Age</th>\n",
              "      <th>Gender</th>\n",
              "      <th>Dependencies</th>\n",
              "      <th>Income</th>\n",
              "      <th>Co-Applicant</th>\n",
              "      <th>Co-ApplicantIncome</th>\n",
              "    </tr>\n",
              "  </thead>\n",
              "  <tbody>\n",
              "    <tr>\n",
              "      <th>0</th>\n",
              "      <td>0</td>\n",
              "      <td>Steve</td>\n",
              "      <td>25</td>\n",
              "      <td>Male</td>\n",
              "      <td>0</td>\n",
              "      <td>100000</td>\n",
              "      <td>Yes</td>\n",
              "      <td>40000.0</td>\n",
              "    </tr>\n",
              "    <tr>\n",
              "      <th>1</th>\n",
              "      <td>1</td>\n",
              "      <td>Rock</td>\n",
              "      <td>28</td>\n",
              "      <td>Male</td>\n",
              "      <td>1</td>\n",
              "      <td>75000</td>\n",
              "      <td>No</td>\n",
              "      <td>60000.0</td>\n",
              "    </tr>\n",
              "    <tr>\n",
              "      <th>2</th>\n",
              "      <td>2</td>\n",
              "      <td>John</td>\n",
              "      <td>26</td>\n",
              "      <td>Female</td>\n",
              "      <td>4</td>\n",
              "      <td>60000</td>\n",
              "      <td>No</td>\n",
              "      <td>70000.0</td>\n",
              "    </tr>\n",
              "    <tr>\n",
              "      <th>3</th>\n",
              "      <td>3</td>\n",
              "      <td>Tom</td>\n",
              "      <td>29</td>\n",
              "      <td>Male</td>\n",
              "      <td>5</td>\n",
              "      <td>50000</td>\n",
              "      <td>Yes</td>\n",
              "      <td>55000.0</td>\n",
              "    </tr>\n",
              "    <tr>\n",
              "      <th>4</th>\n",
              "      <td>4</td>\n",
              "      <td>Jack</td>\n",
              "      <td>32</td>\n",
              "      <td>Female</td>\n",
              "      <td>2</td>\n",
              "      <td>80000</td>\n",
              "      <td>No</td>\n",
              "      <td>75000.0</td>\n",
              "    </tr>\n",
              "    <tr>\n",
              "      <th>5</th>\n",
              "      <td>5</td>\n",
              "      <td>Rick</td>\n",
              "      <td>34</td>\n",
              "      <td>Female</td>\n",
              "      <td>3</td>\n",
              "      <td>95000</td>\n",
              "      <td>Yes</td>\n",
              "      <td>80000.0</td>\n",
              "    </tr>\n",
              "    <tr>\n",
              "      <th>6</th>\n",
              "      <td>6</td>\n",
              "      <td>Allen</td>\n",
              "      <td>36</td>\n",
              "      <td>Male</td>\n",
              "      <td>2</td>\n",
              "      <td>55000</td>\n",
              "      <td>yes</td>\n",
              "      <td>NaN</td>\n",
              "    </tr>\n",
              "  </tbody>\n",
              "</table>\n",
              "</div>"
            ],
            "text/plain": [
              "   Unnamed: 0   Name  Age  Gender  Dependencies  Income Co-Applicant  \\\n",
              "0           0  Steve   25    Male             0  100000          Yes   \n",
              "1           1   Rock   28    Male             1   75000           No   \n",
              "2           2   John   26  Female             4   60000           No   \n",
              "3           3    Tom   29    Male             5   50000          Yes   \n",
              "4           4   Jack   32  Female             2   80000           No   \n",
              "5           5   Rick   34  Female             3   95000          Yes   \n",
              "6           6  Allen   36    Male             2   55000          yes   \n",
              "\n",
              "   Co-ApplicantIncome  \n",
              "0             40000.0  \n",
              "1             60000.0  \n",
              "2             70000.0  \n",
              "3             55000.0  \n",
              "4             75000.0  \n",
              "5             80000.0  \n",
              "6                 NaN  "
            ]
          },
          "execution_count": 90,
          "metadata": {},
          "output_type": "execute_result"
        }
      ],
      "source": [
        "df2"
      ]
    },
    {
      "cell_type": "code",
      "execution_count": null,
      "id": "576282d6",
      "metadata": {
        "id": "576282d6",
        "outputId": "1e2e5344-377d-451d-d6f1-a98c67815344"
      },
      "outputs": [
        {
          "data": {
            "text/html": [
              "<div>\n",
              "<style scoped>\n",
              "    .dataframe tbody tr th:only-of-type {\n",
              "        vertical-align: middle;\n",
              "    }\n",
              "\n",
              "    .dataframe tbody tr th {\n",
              "        vertical-align: top;\n",
              "    }\n",
              "\n",
              "    .dataframe thead th {\n",
              "        text-align: right;\n",
              "    }\n",
              "</style>\n",
              "<table border=\"1\" class=\"dataframe\">\n",
              "  <thead>\n",
              "    <tr style=\"text-align: right;\">\n",
              "      <th></th>\n",
              "      <th>Name</th>\n",
              "      <th>Age</th>\n",
              "      <th>Gender</th>\n",
              "      <th>Dependencies</th>\n",
              "      <th>Income</th>\n",
              "      <th>Co-Applicant</th>\n",
              "      <th>Co-ApplicantIncome</th>\n",
              "    </tr>\n",
              "  </thead>\n",
              "  <tbody>\n",
              "    <tr>\n",
              "      <th>0</th>\n",
              "      <td>Steve</td>\n",
              "      <td>25</td>\n",
              "      <td>Male</td>\n",
              "      <td>0</td>\n",
              "      <td>100000</td>\n",
              "      <td>Yes</td>\n",
              "      <td>40000.0</td>\n",
              "    </tr>\n",
              "    <tr>\n",
              "      <th>1</th>\n",
              "      <td>Rock</td>\n",
              "      <td>28</td>\n",
              "      <td>Male</td>\n",
              "      <td>1</td>\n",
              "      <td>75000</td>\n",
              "      <td>No</td>\n",
              "      <td>60000.0</td>\n",
              "    </tr>\n",
              "    <tr>\n",
              "      <th>2</th>\n",
              "      <td>John</td>\n",
              "      <td>26</td>\n",
              "      <td>Female</td>\n",
              "      <td>4</td>\n",
              "      <td>60000</td>\n",
              "      <td>No</td>\n",
              "      <td>70000.0</td>\n",
              "    </tr>\n",
              "    <tr>\n",
              "      <th>3</th>\n",
              "      <td>Tom</td>\n",
              "      <td>29</td>\n",
              "      <td>Male</td>\n",
              "      <td>5</td>\n",
              "      <td>50000</td>\n",
              "      <td>Yes</td>\n",
              "      <td>55000.0</td>\n",
              "    </tr>\n",
              "    <tr>\n",
              "      <th>4</th>\n",
              "      <td>Jack</td>\n",
              "      <td>32</td>\n",
              "      <td>Female</td>\n",
              "      <td>2</td>\n",
              "      <td>80000</td>\n",
              "      <td>No</td>\n",
              "      <td>75000.0</td>\n",
              "    </tr>\n",
              "    <tr>\n",
              "      <th>5</th>\n",
              "      <td>Rick</td>\n",
              "      <td>34</td>\n",
              "      <td>Female</td>\n",
              "      <td>3</td>\n",
              "      <td>95000</td>\n",
              "      <td>Yes</td>\n",
              "      <td>80000.0</td>\n",
              "    </tr>\n",
              "    <tr>\n",
              "      <th>6</th>\n",
              "      <td>Allen</td>\n",
              "      <td>36</td>\n",
              "      <td>Male</td>\n",
              "      <td>2</td>\n",
              "      <td>55000</td>\n",
              "      <td>yes</td>\n",
              "      <td>NaN</td>\n",
              "    </tr>\n",
              "  </tbody>\n",
              "</table>\n",
              "</div>"
            ],
            "text/plain": [
              "    Name  Age  Gender  Dependencies  Income Co-Applicant  Co-ApplicantIncome\n",
              "0  Steve   25    Male             0  100000          Yes             40000.0\n",
              "1   Rock   28    Male             1   75000           No             60000.0\n",
              "2   John   26  Female             4   60000           No             70000.0\n",
              "3    Tom   29    Male             5   50000          Yes             55000.0\n",
              "4   Jack   32  Female             2   80000           No             75000.0\n",
              "5   Rick   34  Female             3   95000          Yes             80000.0\n",
              "6  Allen   36    Male             2   55000          yes                 NaN"
            ]
          },
          "execution_count": 91,
          "metadata": {},
          "output_type": "execute_result"
        }
      ],
      "source": [
        "df1"
      ]
    },
    {
      "cell_type": "code",
      "execution_count": null,
      "id": "9fdf3d5a",
      "metadata": {
        "id": "9fdf3d5a"
      },
      "outputs": [],
      "source": []
    }
  ],
  "metadata": {
    "kernelspec": {
      "display_name": "Python 3 (ipykernel)",
      "language": "python",
      "name": "python3"
    },
    "language_info": {
      "codemirror_mode": {
        "name": "ipython",
        "version": 3
      },
      "file_extension": ".py",
      "mimetype": "text/x-python",
      "name": "python",
      "nbconvert_exporter": "python",
      "pygments_lexer": "ipython3",
      "version": "3.9.12"
    },
    "colab": {
      "provenance": []
    }
  },
  "nbformat": 4,
  "nbformat_minor": 5
}