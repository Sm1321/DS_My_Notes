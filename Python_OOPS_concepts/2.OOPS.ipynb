{
  "cells": [
    {
      "cell_type": "code",
      "execution_count": null,
      "id": "96c692ee",
      "metadata": {
        "id": "96c692ee"
      },
      "outputs": [],
      "source": [
        "class students1():\n",
        "    def __init__(self):\n",
        "        self.name1=input('enter the name:')\n",
        "        self.roll_num=int(input('enter the roll number:'))\n",
        "        self.maths=int(input('enter maths marks:'))\n",
        "        self.physics=int(input('enter physics marks:'))\n",
        "        self.english=int(input('enter english marks:'))\n",
        "        self.chemistry=int(input('enter chemistry marks:'))\n",
        "\n",
        "        print('name:',self.name1)\n",
        "        print('roll_num:',self.roll_num)\n",
        "        print('maths:',self.maths)\n",
        "        print('physics:',self.physics)\n",
        "        print('english:',self.english)\n",
        "        print('chemistry:',self.chemistry)\n",
        "\n",
        "    def average(self):\n",
        "        print('the avg of marks is:',(self.maths+self.physics+self.english+self.chemistry)/4)\n",
        "        print()\n",
        "\n",
        "    def display(self):\n",
        "        print('name:',self.name1)\n",
        "        print('roll_num:',self.roll_num)\n",
        "        print('maths:',self.maths)\n",
        "        print('physics:',self.physics)\n",
        "        print('english:',self.english)\n",
        "        print('chemistry:',self.chemistry)\n",
        "\n"
      ]
    },
    {
      "cell_type": "code",
      "execution_count": null,
      "id": "62566fe0",
      "metadata": {
        "id": "62566fe0",
        "outputId": "33d586b4-5812-4d4f-ed4c-a02fcd7dd226"
      },
      "outputs": [
        {
          "name": "stdout",
          "output_type": "stream",
          "text": [
            "enter the name:Nick\n",
            "enter the roll number:45689\n",
            "enter maths marks:96\n",
            "enter physics marks:95\n",
            "enter english marks:95\n",
            "enter chemistry marks:87\n",
            "name: Nick\n",
            "roll_num: 45689\n",
            "maths: 96\n",
            "physics: 95\n",
            "english: 95\n",
            "chemistry: 87\n"
          ]
        }
      ],
      "source": [
        "s=students1()"
      ]
    },
    {
      "cell_type": "code",
      "execution_count": null,
      "id": "c861b7c7",
      "metadata": {
        "id": "c861b7c7",
        "outputId": "0f6d8a5b-d941-434b-8053-2be848a757c0"
      },
      "outputs": [
        {
          "name": "stdout",
          "output_type": "stream",
          "text": [
            "the avg of marks is: 93.25\n",
            "\n"
          ]
        }
      ],
      "source": [
        "s.average()"
      ]
    },
    {
      "cell_type": "code",
      "execution_count": null,
      "id": "cb6e6cd2",
      "metadata": {
        "id": "cb6e6cd2"
      },
      "outputs": [],
      "source": [
        "#### Creating a class with list\n",
        "\n",
        "class Students():\n",
        "\n",
        "    def __init__(self,RollNo,Name,P,C,M):\n",
        "        self.r = RollNo\n",
        "        self.n = Name\n",
        "\n",
        "    def disp(self):\n",
        "        print(\"Roll No: \",self.r)\n",
        "        print(\"Name: \",self.n)\n",
        "\n",
        "S1 = Students(1235,'Raj',95,85,65)"
      ]
    },
    {
      "cell_type": "code",
      "execution_count": null,
      "id": "2311d1da",
      "metadata": {
        "id": "2311d1da",
        "outputId": "14732ba0-a5af-4346-e2d4-d573583e875d"
      },
      "outputs": [
        {
          "name": "stdout",
          "output_type": "stream",
          "text": [
            "Roll No:  1235\n",
            "Name:  Raj\n"
          ]
        }
      ],
      "source": [
        "S1.disp()"
      ]
    },
    {
      "cell_type": "code",
      "execution_count": null,
      "id": "b252ea65",
      "metadata": {
        "id": "b252ea65"
      },
      "outputs": [],
      "source": [
        "#### Creating a class with list\n",
        "\n",
        "class Students():\n",
        "    marks = []\n",
        "\n",
        "    def __init__(self,RollNo,Name,P,C,M):\n",
        "        self.r = RollNo\n",
        "        self.n = Name\n",
        "        self.marks.append(P)\n",
        "        self.marks.append(C)\n",
        "        self.marks.append(M)\n",
        "\n",
        "    def disp(self):\n",
        "        print(\"Roll No: \",self.r)\n",
        "        print(\"Name: \",self.n)\n",
        "        print('Marks :',self.marks)\n",
        "\n",
        "S1 = Students(1235,'Raj',95,85,65)"
      ]
    },
    {
      "cell_type": "code",
      "execution_count": null,
      "id": "703aff01",
      "metadata": {
        "id": "703aff01",
        "outputId": "187273ca-d23c-4971-de40-2f4bfb909d50"
      },
      "outputs": [
        {
          "name": "stdout",
          "output_type": "stream",
          "text": [
            "Roll No:  1235\n",
            "Name:  Raj\n",
            "Marks : [95, 85, 65]\n"
          ]
        }
      ],
      "source": [
        "S1.disp()"
      ]
    },
    {
      "cell_type": "code",
      "execution_count": null,
      "id": "e12a97a5",
      "metadata": {
        "id": "e12a97a5"
      },
      "outputs": [],
      "source": [
        "#### Creating a class with list\n",
        "\n",
        "class Students():\n",
        "    marks = []\n",
        "\n",
        "    def __init__(self,RollNo,Name,P,C,M):\n",
        "        self.r = RollNo\n",
        "        self.n = Name\n",
        "        self.marks.append(P)\n",
        "        self.marks.append(C)\n",
        "        self.marks.append(M)\n",
        "\n",
        "    def disp(self):\n",
        "        print(\"Roll No: \",self.r)\n",
        "        print(\"Name: \",self.n)\n",
        "        print('Marks :',self.marks)\n",
        "\n",
        "    def Avg(self):\n",
        "        print((self.marks[0]+self.marks[1]+self.marks[2])/3)\n",
        "\n",
        "S1 = Students(1235,'Raj',95,85,65)"
      ]
    },
    {
      "cell_type": "code",
      "execution_count": null,
      "id": "df1f97bd",
      "metadata": {
        "id": "df1f97bd",
        "outputId": "f08014e1-25cd-4166-8694-423c6a1640e2"
      },
      "outputs": [
        {
          "name": "stdout",
          "output_type": "stream",
          "text": [
            "81.66666666666667\n"
          ]
        }
      ],
      "source": [
        "S1.Avg()"
      ]
    },
    {
      "cell_type": "code",
      "execution_count": null,
      "id": "3e7fab42",
      "metadata": {
        "id": "3e7fab42"
      },
      "outputs": [],
      "source": [
        "class employee:\n",
        "    def __init__(self,name,age,des,sal):\n",
        "        self.n = name\n",
        "        self.a = age\n",
        "        self.d = des\n",
        "        self.s = sal\n",
        "\n",
        "    def disp(self):\n",
        "        print('Name is:',self.n)\n",
        "        print('Age is:',self.a)\n",
        "        print('Designation is:',self.d)\n",
        "        print('Salary is:',self.s)\n"
      ]
    },
    {
      "cell_type": "code",
      "execution_count": null,
      "id": "aa70e5db",
      "metadata": {
        "id": "aa70e5db"
      },
      "outputs": [],
      "source": [
        "e1 = employee('John',22,'QA',10000)\n",
        "e1 = employee('John',22,'QA',10000)\n",
        "e2 = employee('Bob',24,'SDE',30000)\n",
        "e3 = employee('Alan',34,'SE',20000)\n",
        "e4 = employee('Nick',55,'Manager',100000)"
      ]
    },
    {
      "cell_type": "code",
      "execution_count": null,
      "id": "b4f56b9e",
      "metadata": {
        "id": "b4f56b9e",
        "outputId": "4f1458dd-f788-4db2-d63a-5d084069aea2"
      },
      "outputs": [
        {
          "name": "stdout",
          "output_type": "stream",
          "text": [
            "Name is: Nick\n",
            "Age is: 55\n",
            "Designation is: Manager\n",
            "Salary is: 100000\n"
          ]
        }
      ],
      "source": [
        "e4.disp()"
      ]
    },
    {
      "cell_type": "code",
      "execution_count": null,
      "id": "2f8e2aad",
      "metadata": {
        "id": "2f8e2aad"
      },
      "outputs": [],
      "source": [
        "class employee:\n",
        "    emp_count = 0\n",
        "    def __init__(self,name,age,des,sal):\n",
        "        self.n = name\n",
        "        self.a = age\n",
        "        self.d = des\n",
        "        self.s = sal\n",
        "        employee.emp_count+=1\n",
        "\n",
        "    def disp(self):\n",
        "        print('Name is:',self.n)\n",
        "        print('Age is:',self.a)\n",
        "        print('Designation is:',self.d)\n",
        "        print('Salary is:',self.s)\n",
        "\n",
        "    def count(self):\n",
        "        return employee.emp_count"
      ]
    },
    {
      "cell_type": "code",
      "execution_count": null,
      "id": "869d7817",
      "metadata": {
        "id": "869d7817",
        "outputId": "e2c68f9c-279b-4ced-d3ee-9fd0485e62e7"
      },
      "outputs": [
        {
          "data": {
            "text/plain": [
              "3"
            ]
          },
          "execution_count": 67,
          "metadata": {},
          "output_type": "execute_result"
        }
      ],
      "source": [
        "e1 = employee('John',22,'QA',10000)\n",
        "e3 = employee('Alan',34,'SE',20000)\n",
        "e4 = employee('Nick',55,'Manager',100000)\n",
        "e1.count()"
      ]
    },
    {
      "cell_type": "code",
      "execution_count": null,
      "id": "b78a35d2",
      "metadata": {
        "id": "b78a35d2",
        "outputId": "49fb9261-5bd9-434b-bd11-c9eb809dce93"
      },
      "outputs": [
        {
          "name": "stdout",
          "output_type": "stream",
          "text": [
            "Name is: John\n",
            "Age is: 22\n",
            "Designation is: QA\n",
            "Salary is: 10000\n"
          ]
        }
      ],
      "source": [
        "e1.disp()"
      ]
    },
    {
      "cell_type": "code",
      "execution_count": null,
      "id": "b9292713",
      "metadata": {
        "id": "b9292713",
        "outputId": "f9fc5663-9e0e-455f-d19b-58b6a3535dda"
      },
      "outputs": [
        {
          "data": {
            "text/plain": [
              "2"
            ]
          },
          "execution_count": 56,
          "metadata": {},
          "output_type": "execute_result"
        }
      ],
      "source": [
        "e2.count()"
      ]
    },
    {
      "cell_type": "code",
      "execution_count": null,
      "id": "f405c21e",
      "metadata": {
        "id": "f405c21e",
        "outputId": "178603eb-d5b5-4ae6-e0c2-d887be0d73b6"
      },
      "outputs": [
        {
          "data": {
            "text/plain": [
              "2"
            ]
          },
          "execution_count": 34,
          "metadata": {},
          "output_type": "execute_result"
        }
      ],
      "source": [
        "e1.count()"
      ]
    },
    {
      "cell_type": "code",
      "execution_count": null,
      "id": "f5a4004b",
      "metadata": {
        "id": "f5a4004b"
      },
      "outputs": [],
      "source": [
        "e5 = employee('Bob',24,'SDE',30000)\n",
        "e3 = employee('Alan',34,'SE',20000)\n",
        "e4 = employee('Nick',55,'Manager',100000)"
      ]
    },
    {
      "cell_type": "code",
      "execution_count": null,
      "id": "5b63edfa",
      "metadata": {
        "id": "5b63edfa",
        "outputId": "836f1725-5668-4635-c830-251ab1926a45"
      },
      "outputs": [
        {
          "name": "stdout",
          "output_type": "stream",
          "text": [
            "Name is: Bob\n",
            "Age is: 24\n",
            "Designation is: SDE\n",
            "Salary is: 30000\n"
          ]
        }
      ],
      "source": [
        "e5.disp()"
      ]
    },
    {
      "cell_type": "code",
      "execution_count": null,
      "id": "f539688c",
      "metadata": {
        "id": "f539688c",
        "outputId": "da1be6d3-b024-4a27-bb2a-39e8478a4b0b"
      },
      "outputs": [
        {
          "data": {
            "text/plain": [
              "5"
            ]
          },
          "execution_count": 37,
          "metadata": {},
          "output_type": "execute_result"
        }
      ],
      "source": [
        "e1.count()"
      ]
    },
    {
      "cell_type": "code",
      "execution_count": null,
      "id": "af287708",
      "metadata": {
        "id": "af287708"
      },
      "outputs": [],
      "source": [
        "e6 = employee('Nick',55,'Manager',100000)"
      ]
    },
    {
      "cell_type": "code",
      "execution_count": null,
      "id": "c831ca26",
      "metadata": {
        "id": "c831ca26",
        "outputId": "8833da07-b247-4501-ee4f-4e92ed96b484"
      },
      "outputs": [
        {
          "data": {
            "text/plain": [
              "6"
            ]
          },
          "execution_count": 39,
          "metadata": {},
          "output_type": "execute_result"
        }
      ],
      "source": [
        "e1.count()"
      ]
    },
    {
      "cell_type": "code",
      "execution_count": null,
      "id": "4013de7d",
      "metadata": {
        "id": "4013de7d"
      },
      "outputs": [],
      "source": [
        "a=[]\n",
        "for i in range(0,100):\n",
        "    a.append(employee('John',22,'QA',10000))\n"
      ]
    },
    {
      "cell_type": "code",
      "execution_count": null,
      "id": "0803a6c1",
      "metadata": {
        "id": "0803a6c1",
        "outputId": "ba09e73b-62d8-4317-870f-1acc2b4ade17"
      },
      "outputs": [
        {
          "ename": "TypeError",
          "evalue": "'employee' object is not iterable",
          "output_type": "error",
          "traceback": [
            "\u001b[1;31m---------------------------------------------------------------------------\u001b[0m",
            "\u001b[1;31mTypeError\u001b[0m                                 Traceback (most recent call last)",
            "Input \u001b[1;32mIn [51]\u001b[0m, in \u001b[0;36m<cell line: 1>\u001b[1;34m()\u001b[0m\n\u001b[1;32m----> 1\u001b[0m \u001b[38;5;28;43mlist\u001b[39;49m\u001b[43m(\u001b[49m\u001b[43ma\u001b[49m\u001b[43m[\u001b[49m\u001b[38;5;241;43m0\u001b[39;49m\u001b[43m]\u001b[49m\u001b[43m)\u001b[49m\n",
            "\u001b[1;31mTypeError\u001b[0m: 'employee' object is not iterable"
          ]
        }
      ],
      "source": []
    },
    {
      "cell_type": "code",
      "execution_count": null,
      "id": "d0a67869",
      "metadata": {
        "id": "d0a67869",
        "outputId": "80abdd68-1358-45fe-b264-b619c1da2b13"
      },
      "outputs": [
        {
          "name": "stdout",
          "output_type": "stream",
          "text": [
            "Benz Purple 70000000\n",
            "MaxSpeed is 150KMPH\n",
            "Car Change gear is 7\n"
          ]
        }
      ],
      "source": [
        "#### Inheritance\n",
        "\n",
        "class Vehicle:\n",
        "\n",
        "    def __init__(self,name,color,price):\n",
        "        self.name = name\n",
        "        self.color = color\n",
        "        self.price = price\n",
        "\n",
        "    def disp(self):\n",
        "        print(self.name,self.color,self.price)\n",
        "\n",
        "    def max_speed(self):\n",
        "        print('MaxSpeed is 150KMPH')\n",
        "\n",
        "class Car(Vehicle):\n",
        "\n",
        "    def change_gear(self):\n",
        "        print('Car Change gear is 7')\n",
        "\n",
        "car1 = Car('Benz','Purple',70000000)\n",
        "car1.disp()\n",
        "car1.max_speed()\n",
        "car1.change_gear()"
      ]
    },
    {
      "cell_type": "code",
      "execution_count": null,
      "id": "e5741299",
      "metadata": {
        "id": "e5741299",
        "outputId": "29abbd2b-e4de-48c7-d4f2-67afb6a9538b"
      },
      "outputs": [
        {
          "name": "stdout",
          "output_type": "stream",
          "text": [
            "Truck-X Red 77800000\n",
            "MaxSpeed is 150KMPH\n"
          ]
        },
        {
          "ename": "AttributeError",
          "evalue": "'Vehicle' object has no attribute 'change_gear'",
          "output_type": "error",
          "traceback": [
            "\u001b[1;31m---------------------------------------------------------------------------\u001b[0m",
            "\u001b[1;31mAttributeError\u001b[0m                            Traceback (most recent call last)",
            "Input \u001b[1;32mIn [69]\u001b[0m, in \u001b[0;36m<cell line: 4>\u001b[1;34m()\u001b[0m\n\u001b[0;32m      2\u001b[0m T1\u001b[38;5;241m.\u001b[39mdisp()\n\u001b[0;32m      3\u001b[0m T1\u001b[38;5;241m.\u001b[39mmax_speed()\n\u001b[1;32m----> 4\u001b[0m \u001b[43mT1\u001b[49m\u001b[38;5;241;43m.\u001b[39;49m\u001b[43mchange_gear\u001b[49m()\n",
            "\u001b[1;31mAttributeError\u001b[0m: 'Vehicle' object has no attribute 'change_gear'"
          ]
        }
      ],
      "source": [
        "T1 = Vehicle('Truck-X','Red',77800000)\n",
        "T1.disp()\n",
        "T1.max_speed()\n",
        "T1.change_gear()"
      ]
    },
    {
      "cell_type": "code",
      "execution_count": null,
      "id": "ffd017f4",
      "metadata": {
        "id": "ffd017f4"
      },
      "outputs": [],
      "source": []
    },
    {
      "cell_type": "code",
      "execution_count": null,
      "id": "c71dc148",
      "metadata": {
        "id": "c71dc148"
      },
      "outputs": [],
      "source": []
    },
    {
      "cell_type": "code",
      "execution_count": null,
      "id": "a110ef0a",
      "metadata": {
        "id": "a110ef0a"
      },
      "outputs": [],
      "source": []
    },
    {
      "cell_type": "code",
      "execution_count": null,
      "id": "0d0fed38",
      "metadata": {
        "id": "0d0fed38"
      },
      "outputs": [],
      "source": []
    },
    {
      "cell_type": "code",
      "execution_count": null,
      "id": "2f53a13a",
      "metadata": {
        "id": "2f53a13a"
      },
      "outputs": [],
      "source": []
    },
    {
      "cell_type": "code",
      "execution_count": null,
      "id": "39e5496f",
      "metadata": {
        "id": "39e5496f"
      },
      "outputs": [],
      "source": []
    },
    {
      "cell_type": "code",
      "execution_count": null,
      "id": "462ed46c",
      "metadata": {
        "id": "462ed46c"
      },
      "outputs": [],
      "source": []
    },
    {
      "cell_type": "code",
      "execution_count": null,
      "id": "27798b40",
      "metadata": {
        "id": "27798b40"
      },
      "outputs": [],
      "source": []
    }
  ],
  "metadata": {
    "kernelspec": {
      "display_name": "Python 3 (ipykernel)",
      "language": "python",
      "name": "python3"
    },
    "language_info": {
      "codemirror_mode": {
        "name": "ipython",
        "version": 3
      },
      "file_extension": ".py",
      "mimetype": "text/x-python",
      "name": "python",
      "nbconvert_exporter": "python",
      "pygments_lexer": "ipython3",
      "version": "3.9.12"
    },
    "colab": {
      "provenance": []
    }
  },
  "nbformat": 4,
  "nbformat_minor": 5
}