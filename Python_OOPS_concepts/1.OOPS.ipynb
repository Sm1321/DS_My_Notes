{
  "cells": [
    {
      "cell_type": "code",
      "execution_count": null,
      "id": "17ae517d",
      "metadata": {
        "id": "17ae517d",
        "outputId": "717edc4a-d7db-44c0-eff2-d59d9861ee88"
      },
      "outputs": [
        {
          "name": "stdout",
          "output_type": "stream",
          "text": [
            "name: yamini\n",
            "age: 23\n",
            "gender: female\n",
            "course: datascience\n"
          ]
        }
      ],
      "source": [
        "class student():\n",
        "    def __init__(self):\n",
        "        print('name:','yamini')\n",
        "        print('age:','23')\n",
        "        print('gender:','female')\n",
        "        print('course:','datascience')\n",
        "    def student(self):\n",
        "        print('the above details are students data')\n",
        "\n",
        "obj2=student()"
      ]
    },
    {
      "cell_type": "code",
      "execution_count": null,
      "id": "0480be5f",
      "metadata": {
        "id": "0480be5f",
        "outputId": "883acdbc-2165-494b-8499-57cf4c009e62"
      },
      "outputs": [
        {
          "name": "stdout",
          "output_type": "stream",
          "text": [
            "Name: Yamini\n",
            "Age: 25\n",
            "Gender: Female\n",
            "Course: DataScience\n"
          ]
        }
      ],
      "source": [
        "class student():\n",
        "    def __init__(self,Name,Age,Gender):\n",
        "\n",
        "        self.N = Name\n",
        "        self.A = Age\n",
        "        self.G = Gender\n",
        "        print('Name:',self.N )\n",
        "        print('Age:',self.A)\n",
        "        print('Gender:',self.G)\n",
        "        print('Course:','DataScience')\n",
        "\n",
        "    def disp(self):\n",
        "        print('the above details are students data')\n",
        "\n",
        "obj2=student('Yamini',25,'Female')"
      ]
    },
    {
      "cell_type": "code",
      "execution_count": null,
      "id": "2f5a69bd",
      "metadata": {
        "id": "2f5a69bd"
      },
      "outputs": [],
      "source": [
        "class student():\n",
        "    def __init__(self,Name,Age,Gender):\n",
        "\n",
        "        self.N = Name\n",
        "        self.A = Age\n",
        "        self.G = Gender\n",
        "\n",
        "\n",
        "    def disp(self):\n",
        "        print('The Student Details: ')\n",
        "        print()\n",
        "        print('Name:',self.N )\n",
        "        print('Age:',self.A)\n",
        "        print('Gender:',self.G)\n",
        "        print('Course:','DataScience')\n",
        "\n"
      ]
    },
    {
      "cell_type": "code",
      "execution_count": null,
      "id": "2dad757e",
      "metadata": {
        "id": "2dad757e"
      },
      "outputs": [],
      "source": [
        "obj2=student('Yamini',25,'Female')"
      ]
    },
    {
      "cell_type": "code",
      "execution_count": null,
      "id": "c129a895",
      "metadata": {
        "id": "c129a895",
        "outputId": "654e5304-5bf7-41b8-fa7a-1e0fbdccc941"
      },
      "outputs": [
        {
          "name": "stdout",
          "output_type": "stream",
          "text": [
            "The Student Details: \n",
            "\n",
            "Name: Yamini\n",
            "Age: 25\n",
            "Gender: Female\n",
            "Course: DataScience\n"
          ]
        }
      ],
      "source": [
        "obj2.disp()"
      ]
    },
    {
      "cell_type": "code",
      "execution_count": null,
      "id": "40faf6fc",
      "metadata": {
        "id": "40faf6fc"
      },
      "outputs": [],
      "source": [
        "class student():\n",
        "    def __init__(self,Name,Age,Gender):\n",
        "\n",
        "        Name1 = Name\n",
        "        Age1 = Age\n",
        "        Gender1 = Gender\n",
        "\n",
        "\n",
        "\n",
        "    def disp(self):\n",
        "        print('the above details are students data')\n",
        "        print('Name:',Name1 )\n",
        "        print('Age:',Age1)\n",
        "        print('Gender:',Gender1)\n",
        "        print('Course:','DataScience')\n",
        "\n",
        "obj2=student('Yamini',25,'Female')"
      ]
    },
    {
      "cell_type": "code",
      "execution_count": null,
      "id": "7bb35211",
      "metadata": {
        "id": "7bb35211",
        "outputId": "f94288b0-4dc0-4971-b59d-313d8ce56874"
      },
      "outputs": [
        {
          "name": "stdout",
          "output_type": "stream",
          "text": [
            "the above details are students data\n"
          ]
        },
        {
          "ename": "NameError",
          "evalue": "name 'Name1' is not defined",
          "output_type": "error",
          "traceback": [
            "\u001b[1;31m---------------------------------------------------------------------------\u001b[0m",
            "\u001b[1;31mNameError\u001b[0m                                 Traceback (most recent call last)",
            "Input \u001b[1;32mIn [8]\u001b[0m, in \u001b[0;36m<cell line: 1>\u001b[1;34m()\u001b[0m\n\u001b[1;32m----> 1\u001b[0m \u001b[43mobj2\u001b[49m\u001b[38;5;241;43m.\u001b[39;49m\u001b[43mdisp\u001b[49m\u001b[43m(\u001b[49m\u001b[43m)\u001b[49m\n",
            "Input \u001b[1;32mIn [7]\u001b[0m, in \u001b[0;36mstudent.disp\u001b[1;34m(self)\u001b[0m\n\u001b[0;32m      9\u001b[0m \u001b[38;5;28;01mdef\u001b[39;00m \u001b[38;5;21mdisp\u001b[39m(\u001b[38;5;28mself\u001b[39m):\n\u001b[0;32m     10\u001b[0m     \u001b[38;5;28mprint\u001b[39m(\u001b[38;5;124m'\u001b[39m\u001b[38;5;124mthe above details are students data\u001b[39m\u001b[38;5;124m'\u001b[39m)\n\u001b[1;32m---> 11\u001b[0m     \u001b[38;5;28mprint\u001b[39m(\u001b[38;5;124m'\u001b[39m\u001b[38;5;124mName:\u001b[39m\u001b[38;5;124m'\u001b[39m,\u001b[43mName1\u001b[49m )\n\u001b[0;32m     12\u001b[0m     \u001b[38;5;28mprint\u001b[39m(\u001b[38;5;124m'\u001b[39m\u001b[38;5;124mAge:\u001b[39m\u001b[38;5;124m'\u001b[39m,Age1)\n\u001b[0;32m     13\u001b[0m     \u001b[38;5;28mprint\u001b[39m(\u001b[38;5;124m'\u001b[39m\u001b[38;5;124mGender:\u001b[39m\u001b[38;5;124m'\u001b[39m,Gender1)\n",
            "\u001b[1;31mNameError\u001b[0m: name 'Name1' is not defined"
          ]
        }
      ],
      "source": [
        "obj2.disp()"
      ]
    },
    {
      "cell_type": "code",
      "execution_count": null,
      "id": "50188823",
      "metadata": {
        "id": "50188823",
        "outputId": "f32462f8-7203-4fe2-b201-3a24d558797b"
      },
      "outputs": [
        {
          "name": "stdout",
          "output_type": "stream",
          "text": [
            "Name: Yamini\n",
            "Age: 25\n",
            "Gender: Female\n",
            "Course: DataScience\n"
          ]
        }
      ],
      "source": [
        "class student():\n",
        "    def __init__(self,Name,Age,Gender):\n",
        "\n",
        "        Name1 = Name\n",
        "        Age1 = Age\n",
        "        Gender1 = Gender\n",
        "        print('Name:',Name1 )\n",
        "        print('Age:',Age1)\n",
        "        print('Gender:',Gender1)\n",
        "        print('Course:','DataScience')\n",
        "\n",
        "\n",
        "    def disp(self):\n",
        "        print('the above details are students data')\n",
        "        print('Name:',Name1 )\n",
        "        print('Age:',Age1)\n",
        "        print('Gender:',Gender1)\n",
        "        print('Course:','DataScience')\n",
        "\n",
        "obj2=student('Yamini',25,'Female')"
      ]
    },
    {
      "cell_type": "code",
      "execution_count": null,
      "id": "cc372726",
      "metadata": {
        "id": "cc372726",
        "outputId": "61ddd668-fb4c-4f2a-92ca-98eafbf472ba"
      },
      "outputs": [
        {
          "name": "stdout",
          "output_type": "stream",
          "text": [
            "the above details are students data\n"
          ]
        },
        {
          "ename": "NameError",
          "evalue": "name 'Name1' is not defined",
          "output_type": "error",
          "traceback": [
            "\u001b[1;31m---------------------------------------------------------------------------\u001b[0m",
            "\u001b[1;31mNameError\u001b[0m                                 Traceback (most recent call last)",
            "Input \u001b[1;32mIn [11]\u001b[0m, in \u001b[0;36m<cell line: 1>\u001b[1;34m()\u001b[0m\n\u001b[1;32m----> 1\u001b[0m \u001b[43mobj2\u001b[49m\u001b[38;5;241;43m.\u001b[39;49m\u001b[43mdisp\u001b[49m\u001b[43m(\u001b[49m\u001b[43m)\u001b[49m\n",
            "Input \u001b[1;32mIn [10]\u001b[0m, in \u001b[0;36mstudent.disp\u001b[1;34m(self)\u001b[0m\n\u001b[0;32m     13\u001b[0m \u001b[38;5;28;01mdef\u001b[39;00m \u001b[38;5;21mdisp\u001b[39m(\u001b[38;5;28mself\u001b[39m):\n\u001b[0;32m     14\u001b[0m     \u001b[38;5;28mprint\u001b[39m(\u001b[38;5;124m'\u001b[39m\u001b[38;5;124mthe above details are students data\u001b[39m\u001b[38;5;124m'\u001b[39m)\n\u001b[1;32m---> 15\u001b[0m     \u001b[38;5;28mprint\u001b[39m(\u001b[38;5;124m'\u001b[39m\u001b[38;5;124mName:\u001b[39m\u001b[38;5;124m'\u001b[39m,\u001b[43mName1\u001b[49m )\n\u001b[0;32m     16\u001b[0m     \u001b[38;5;28mprint\u001b[39m(\u001b[38;5;124m'\u001b[39m\u001b[38;5;124mAge:\u001b[39m\u001b[38;5;124m'\u001b[39m,Age1)\n\u001b[0;32m     17\u001b[0m     \u001b[38;5;28mprint\u001b[39m(\u001b[38;5;124m'\u001b[39m\u001b[38;5;124mGender:\u001b[39m\u001b[38;5;124m'\u001b[39m,Gender1)\n",
            "\u001b[1;31mNameError\u001b[0m: name 'Name1' is not defined"
          ]
        }
      ],
      "source": [
        "obj2.disp()"
      ]
    },
    {
      "cell_type": "code",
      "execution_count": null,
      "id": "ef9bed13",
      "metadata": {
        "id": "ef9bed13"
      },
      "outputs": [],
      "source": [
        "class student():\n",
        "    def __init__(self,Name,Age,Gender):\n",
        "\n",
        "        self.N = Name\n",
        "        self.A = Age\n",
        "        self.G = Gender\n",
        "\n",
        "\n",
        "    def disp(self):\n",
        "        print('The Student Details: ')\n",
        "        print()\n",
        "        print('Name:',self.N )\n",
        "        print('Age:',self.A)\n",
        "        print('Gender:',self.G)\n",
        "        print('Course:','DataScience')\n",
        "\n"
      ]
    },
    {
      "cell_type": "code",
      "execution_count": null,
      "id": "cf1a7177",
      "metadata": {
        "id": "cf1a7177"
      },
      "outputs": [],
      "source": [
        "obj1=student('Nick',25,'Female')\n",
        "obj2=student('John',28,'Male')\n",
        "obj3=student('Venn',35,'Male')\n",
        "obj4=student('Polo',55,'Female')"
      ]
    },
    {
      "cell_type": "code",
      "execution_count": null,
      "id": "2d08f445",
      "metadata": {
        "id": "2d08f445",
        "outputId": "ef09480a-258c-4f60-9a20-855d8c661631"
      },
      "outputs": [
        {
          "name": "stdout",
          "output_type": "stream",
          "text": [
            "The Student Details: \n",
            "\n",
            "Name: Nick\n",
            "Age: 25\n",
            "Gender: Female\n",
            "Course: DataScience\n"
          ]
        }
      ],
      "source": [
        "obj1.disp()"
      ]
    },
    {
      "cell_type": "code",
      "execution_count": null,
      "id": "9bf2485b",
      "metadata": {
        "id": "9bf2485b",
        "outputId": "5ec5d4a5-2a5b-4f85-93ea-b4c508d8c137"
      },
      "outputs": [
        {
          "name": "stdout",
          "output_type": "stream",
          "text": [
            "The Student Details: \n",
            "\n",
            "Name: John\n",
            "Age: 28\n",
            "Gender: Male\n",
            "Course: DataScience\n"
          ]
        }
      ],
      "source": [
        "obj2.disp()"
      ]
    },
    {
      "cell_type": "code",
      "execution_count": null,
      "id": "13fa0b1f",
      "metadata": {
        "id": "13fa0b1f",
        "outputId": "a4925ca1-45e6-4e73-9b60-09305df4a47d"
      },
      "outputs": [
        {
          "name": "stdout",
          "output_type": "stream",
          "text": [
            "The Student Details: \n",
            "\n",
            "Name: Venn\n",
            "Age: 35\n",
            "Gender: Male\n",
            "Course: DataScience\n"
          ]
        }
      ],
      "source": [
        "obj3.disp()"
      ]
    },
    {
      "cell_type": "code",
      "execution_count": null,
      "id": "0a177280",
      "metadata": {
        "id": "0a177280",
        "outputId": "f7e2b32a-ba4f-44a5-a80b-20b37016e1e3"
      },
      "outputs": [
        {
          "name": "stdout",
          "output_type": "stream",
          "text": [
            "The Student Details: \n",
            "\n",
            "Name: Polo\n",
            "Age: 55\n",
            "Gender: Female\n",
            "Course: DataScience\n"
          ]
        }
      ],
      "source": [
        "obj4.disp()"
      ]
    },
    {
      "cell_type": "code",
      "execution_count": null,
      "id": "77b553ce",
      "metadata": {
        "id": "77b553ce"
      },
      "outputs": [],
      "source": [
        "class rectangle:\n",
        "    def __init__(self,l,b):\n",
        "        self.length = l\n",
        "        self.breadth = b\n",
        "\n",
        "    def area(self):\n",
        "        print('Area is:',self.length * self.breadth)\n",
        "\n",
        "    def perimeter(self):\n",
        "        print('perimeter is:',2*(self.length + self.breadth))\n"
      ]
    },
    {
      "cell_type": "code",
      "execution_count": null,
      "id": "9b2aa9d6",
      "metadata": {
        "id": "9b2aa9d6",
        "outputId": "55e6e457-8068-46c1-aa0d-e40feae115be"
      },
      "outputs": [
        {
          "name": "stdout",
          "output_type": "stream",
          "text": [
            "Area is: 300\n",
            "perimeter is: 74\n"
          ]
        }
      ],
      "source": [
        "_obj = rectangle(25,12)\n",
        "_obj.area()\n",
        "_obj.perimeter()"
      ]
    },
    {
      "cell_type": "code",
      "execution_count": null,
      "id": "d074c1d0",
      "metadata": {
        "id": "d074c1d0",
        "outputId": "a7261d52-56b4-4537-e9de-43d723851785"
      },
      "outputs": [
        {
          "name": "stdout",
          "output_type": "stream",
          "text": [
            "Area is: 186.48\n",
            "perimeter is: 54.8\n"
          ]
        }
      ],
      "source": [
        "_obj1 = rectangle(14.8,12.6)\n",
        "_obj1.area()\n",
        "_obj1.perimeter()"
      ]
    },
    {
      "cell_type": "code",
      "execution_count": null,
      "id": "0c84304a",
      "metadata": {
        "id": "0c84304a"
      },
      "outputs": [],
      "source": [
        "class circle:\n",
        "    def __init__(self,r):\n",
        "        self.radius = r\n",
        "\n",
        "\n",
        "    def area(self):\n",
        "        print('Area is:',3.14*self.radius**2)\n",
        "\n",
        "    def circumference(self):\n",
        "        print('circumference is:',2*3.14*self.radius)\n"
      ]
    },
    {
      "cell_type": "code",
      "execution_count": null,
      "id": "a6558569",
      "metadata": {
        "id": "a6558569",
        "outputId": "2062d6cd-a729-40da-b410-e45e91457cf4"
      },
      "outputs": [
        {
          "name": "stdout",
          "output_type": "stream",
          "text": [
            "Area is: 50.24\n",
            "circumference is: 25.12\n"
          ]
        }
      ],
      "source": [
        "_obj1 = circle(4)\n",
        "_obj1.area()\n",
        "_obj1.circumference()"
      ]
    },
    {
      "cell_type": "code",
      "execution_count": null,
      "id": "73064ad5",
      "metadata": {
        "id": "73064ad5",
        "outputId": "93b89588-7df4-43a5-b703-be21b538565f"
      },
      "outputs": [
        {
          "name": "stdout",
          "output_type": "stream",
          "text": [
            "Area is 78.5\n",
            "Perimeter is 31.400000000000002\n"
          ]
        }
      ],
      "source": [
        "class circle:\n",
        "    def __init__(self, r):\n",
        "        self.radius = r\n",
        "    def area(self):\n",
        "        print(\"Area is\", 3.14*self.radius**2)\n",
        "    def circumference(self):\n",
        "        print(\"Perimeter is\", 2*3.14*self.radius)\n",
        "_obj3 = circle(5)\n",
        "_obj3.area()\n",
        "_obj3.circumference()"
      ]
    },
    {
      "cell_type": "code",
      "execution_count": null,
      "id": "5317014b",
      "metadata": {
        "id": "5317014b"
      },
      "outputs": [],
      "source": [
        "class cubiod:\n",
        "    def __init__(self,l,b,h):\n",
        "        self.length = l\n",
        "        self.breadth = b\n",
        "        self.height = h\n",
        "\n",
        "        print('Length is:',self.length)\n",
        "        print('breadth is:',self.breadth)\n",
        "        print('height is:',self.height)\n",
        "\n",
        "    def total_s_a(self):\n",
        "        print('Total surface area is:',2*((self.length*self.breadth) + (self.breadth*self.height) +(self.height*self.length)))\n",
        "\n",
        "    def volume(self):\n",
        "        print('volume is:',self.length*self.breadth*self.height)\n"
      ]
    },
    {
      "cell_type": "code",
      "execution_count": null,
      "id": "3bd316c4",
      "metadata": {
        "id": "3bd316c4",
        "outputId": "202516fd-dc7c-48bf-fcce-a8e11ee3315d"
      },
      "outputs": [
        {
          "name": "stdout",
          "output_type": "stream",
          "text": [
            "Length is: 13\n",
            "breadth is: 2\n",
            "height is: 9\n",
            "Total surface area is: 322\n",
            "volume is: 234\n"
          ]
        }
      ],
      "source": [
        "_obj1 = cubiod(13,2,9)\n",
        "_obj1.total_s_a()\n",
        "_obj1.volume()"
      ]
    },
    {
      "cell_type": "code",
      "execution_count": null,
      "id": "c679e412",
      "metadata": {
        "id": "c679e412",
        "outputId": "abde62e6-0d1e-4d91-d4e3-aa25fcdecb7e"
      },
      "outputs": [
        {
          "name": "stdout",
          "output_type": "stream",
          "text": [
            "Length is: 19\n",
            "breadth is: 2.8\n",
            "height is: 9.4\n",
            "Total surface area is: 516.24\n",
            "volume is: 500.08\n"
          ]
        }
      ],
      "source": [
        "_obj2 = cubiod(19,2.8,9.4)\n",
        "_obj2.total_s_a()\n",
        "_obj2.volume()"
      ]
    },
    {
      "cell_type": "code",
      "execution_count": null,
      "id": "6541ffcc",
      "metadata": {
        "id": "6541ffcc"
      },
      "outputs": [],
      "source": [
        "class student():\n",
        "    def __init__(self,Name,Age,Gender):\n",
        "\n",
        "        self.N = Name\n",
        "        self.A = Age\n",
        "        self.G = Gender\n",
        "\n",
        "\n",
        "    def disp(self):\n",
        "        print('The Student Details: ')\n",
        "        print()\n",
        "        print('Name:',self.N )\n",
        "        print('Age:',self.A)\n",
        "        print('Gender:',self.G)\n",
        ""
      ]
    },
    {
      "cell_type": "code",
      "execution_count": null,
      "id": "cd3bf761",
      "metadata": {
        "id": "cd3bf761",
        "outputId": "323ba279-6be4-4a7b-f258-6b885459e695"
      },
      "outputs": [
        {
          "name": "stdout",
          "output_type": "stream",
          "text": [
            "Enter the NameJohn\n",
            "Enter the Age25\n",
            "Enter the GenderMale\n",
            "The Student Details: \n",
            "\n",
            "Name: John\n",
            "Age: 25\n",
            "Gender: Male\n"
          ]
        }
      ],
      "source": [
        "N = input('Enter the Name')\n",
        "A = int(input('Enter the Age'))\n",
        "G = input('Enter the Gender')\n",
        "S1 = student(N,A,G)\n",
        "S1.disp()"
      ]
    },
    {
      "cell_type": "code",
      "execution_count": null,
      "id": "a885dde4",
      "metadata": {
        "id": "a885dde4"
      },
      "outputs": [],
      "source": [
        "class student():\n",
        "    def __init__(self):\n",
        "\n",
        "        self.N = input('Enter the Name')\n",
        "        self.A = int(input('Enter the Age'))\n",
        "        self.G = input('Enter the Gender')\n",
        "\n",
        "\n",
        "    def disp(self):\n",
        "        print('The Student Details: ')\n",
        "        print()\n",
        "        print('Name:',self.N )\n",
        "        print('Age:',self.A)\n",
        "        print('Gender:',self.G)\n",
        ""
      ]
    },
    {
      "cell_type": "code",
      "execution_count": null,
      "id": "9cd5a9b1",
      "metadata": {
        "id": "9cd5a9b1",
        "outputId": "0a7304f3-fabc-421d-b987-b55e4aab48cc"
      },
      "outputs": [
        {
          "name": "stdout",
          "output_type": "stream",
          "text": [
            "Enter the NameJohn\n",
            "Enter the Age25\n",
            "Enter the GenderMale\n"
          ]
        }
      ],
      "source": [
        "S2 = student()"
      ]
    },
    {
      "cell_type": "code",
      "execution_count": null,
      "id": "f2b88ea9",
      "metadata": {
        "id": "f2b88ea9",
        "outputId": "0499fc53-d534-48e8-af32-7a90cdd6824c"
      },
      "outputs": [
        {
          "name": "stdout",
          "output_type": "stream",
          "text": [
            "Enter the NameNick\n",
            "Enter the Age56\n",
            "Enter the GenderFemale\n"
          ]
        }
      ],
      "source": [
        "S1 = student()"
      ]
    },
    {
      "cell_type": "code",
      "execution_count": null,
      "id": "ef657c20",
      "metadata": {
        "id": "ef657c20",
        "outputId": "901697e4-2659-40ae-fa5b-52f6410dd2d6"
      },
      "outputs": [
        {
          "name": "stdout",
          "output_type": "stream",
          "text": [
            "The Student Details: \n",
            "\n",
            "Name: Nick\n",
            "Age: 56\n",
            "Gender: Female\n"
          ]
        }
      ],
      "source": [
        "S1.disp()"
      ]
    },
    {
      "cell_type": "code",
      "execution_count": null,
      "id": "021d3f42",
      "metadata": {
        "id": "021d3f42",
        "outputId": "862708db-a45c-4fb3-b5c9-892085469150"
      },
      "outputs": [
        {
          "name": "stdout",
          "output_type": "stream",
          "text": [
            "The Student Details: \n",
            "\n",
            "Name: John\n",
            "Age: 25\n",
            "Gender: Male\n"
          ]
        }
      ],
      "source": [
        "S2.disp()"
      ]
    },
    {
      "cell_type": "code",
      "execution_count": null,
      "id": "15bc7a03",
      "metadata": {
        "id": "15bc7a03",
        "outputId": "03bd1980-2e24-4833-b778-8c776fc79a31"
      },
      "outputs": [
        {
          "name": "stdout",
          "output_type": "stream",
          "text": [
            "Enter the Length : 56\n",
            "Enter the Breadth : 89\n",
            "Area: 4984\n",
            "Perimeter: 290\n"
          ]
        }
      ],
      "source": [
        "## rectangle dynamically\n",
        "class rectangle():\n",
        "    def __init__(self):\n",
        "        self.length = int(input('Enter the Length : '))\n",
        "        self.breadth = int(input('Enter the Breadth : '))\n",
        "\n",
        "    def area(self):\n",
        "        return self.length * self.breadth\n",
        "\n",
        "    def perimeter(self):\n",
        "        return 2 * (self.length + self.breadth)\n",
        "\n",
        "    def display(self):\n",
        "        print('Length : ',self.length)\n",
        "        print('Breadth : ',self.breadth)\n",
        "\n",
        "# Create an instance of the Rectangle class\n",
        "rect = rectangle()\n",
        "# Calculate and print the area and perimeter of the rectangle\n",
        "print('Area:', rect.area())\n",
        "print('Perimeter:', rect.perimeter())\n"
      ]
    },
    {
      "cell_type": "code",
      "execution_count": null,
      "id": "f9738d3e",
      "metadata": {
        "id": "f9738d3e",
        "outputId": "02ea5908-5897-4fd4-dcdf-289f59949fde"
      },
      "outputs": [
        {
          "name": "stdout",
          "output_type": "stream",
          "text": [
            "Enter the Length : 6\n",
            "Enter the Breadth : 9\n",
            "Enter the Heigth : 12\n",
            "Length :  6\n",
            "Breadth :  9\n",
            "Heigth :  12\n",
            "\n",
            "TSA :  468\n",
            "Volumw :  648\n"
          ]
        }
      ],
      "source": [
        "### Cuboid dinamically\n",
        "class cubiod():\n",
        "    def __init__(self):\n",
        "        self.length = int(input('Enter the Length : '))\n",
        "        self.breadth = int(input('Enter the Breadth : '))\n",
        "        self.height = int(input('Enter the Heigth : '))\n",
        "\n",
        "    def Tsa(self):\n",
        "        return 2*((self.length*self.breadth)+(self.breadth*self.height)+(self.height*self.length))\n",
        "\n",
        "    def Volume(self):\n",
        "        return self.length*self.breadth*self.height\n",
        "\n",
        "    def display(self):\n",
        "        print('Length : ',self.length)\n",
        "        print('Breadth : ',self.breadth)\n",
        "        print('Heigth : ',self.height)\n",
        "\n",
        "c = cubiod()\n",
        "c.display()\n",
        "print()\n",
        "print('TSA : ', c.Tsa())\n",
        "print('Volumw : ', c.Volume())"
      ]
    },
    {
      "cell_type": "code",
      "execution_count": null,
      "id": "20c5aa79",
      "metadata": {
        "id": "20c5aa79"
      },
      "outputs": [],
      "source": []
    },
    {
      "cell_type": "code",
      "execution_count": null,
      "id": "8a429bb0",
      "metadata": {
        "id": "8a429bb0"
      },
      "outputs": [],
      "source": []
    }
  ],
  "metadata": {
    "kernelspec": {
      "display_name": "Python 3 (ipykernel)",
      "language": "python",
      "name": "python3"
    },
    "language_info": {
      "codemirror_mode": {
        "name": "ipython",
        "version": 3
      },
      "file_extension": ".py",
      "mimetype": "text/x-python",
      "name": "python",
      "nbconvert_exporter": "python",
      "pygments_lexer": "ipython3",
      "version": "3.9.12"
    },
    "colab": {
      "provenance": []
    }
  },
  "nbformat": 4,
  "nbformat_minor": 5
}