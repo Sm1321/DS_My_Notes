{
  "cells": [
    {
      "cell_type": "code",
      "execution_count": null,
      "id": "ff0e25c0",
      "metadata": {
        "id": "ff0e25c0"
      },
      "outputs": [],
      "source": [
        "class BankAccount(): #creating a class\n",
        "    def __init__(self,accountnumber,ifsc,name,balance):\n",
        "        self.accountnumber = accountnumber\n",
        "        self.ifsc = ifsc\n",
        "        self.name = name\n",
        "        self.balance = balance\n",
        "\n",
        "    def Disp(self):\n",
        "        print(\"Account Number :\" , self.accountnumber)\n",
        "        print('Name :',self.name)\n",
        "        print(\"IFSC :\",self.ifsc)\n",
        "        print(\"Balance: \",self.balance)\n",
        "\n",
        "    def Deposit(self,Amount):\n",
        "        if Amount<=0:\n",
        "            print(\"Enter the Valid Amount\")\n",
        "        else:\n",
        "            self.balance = self.balance+Amount\n",
        "\n",
        "    def Withdrawal(self,Amount):\n",
        "        if Amount<=0:\n",
        "            print(\"Enter the Valid Amount\")\n",
        "        else:\n",
        "            self.balance = self.balance-Amount"
      ]
    },
    {
      "cell_type": "code",
      "execution_count": null,
      "id": "2560f4c9",
      "metadata": {
        "id": "2560f4c9"
      },
      "outputs": [],
      "source": [
        "Acc1=BankAccount(152645585,'SBIN00085956','Siddarth',10000)"
      ]
    },
    {
      "cell_type": "code",
      "execution_count": null,
      "id": "8c04126e",
      "metadata": {
        "id": "8c04126e",
        "outputId": "420b5b12-940b-4d6e-ccb6-c06f09287c9d"
      },
      "outputs": [
        {
          "name": "stdout",
          "output_type": "stream",
          "text": [
            "Account Number : 152645585\n",
            "Name : Siddarth\n",
            "IFSC : SBIN00085956\n",
            "Balance:  10000\n"
          ]
        }
      ],
      "source": [
        "Acc1.Disp()"
      ]
    },
    {
      "cell_type": "code",
      "execution_count": null,
      "id": "9520ffb3",
      "metadata": {
        "id": "9520ffb3"
      },
      "outputs": [],
      "source": [
        "Acc1.Deposit(12562)"
      ]
    },
    {
      "cell_type": "code",
      "execution_count": null,
      "id": "59494f9b",
      "metadata": {
        "id": "59494f9b",
        "outputId": "3e5fd510-374b-4d30-a719-74d1eb1a0306"
      },
      "outputs": [
        {
          "name": "stdout",
          "output_type": "stream",
          "text": [
            "Account Number : 152645585\n",
            "Name : Siddarth\n",
            "IFSC : SBIN00085956\n",
            "Balance:  22562\n"
          ]
        }
      ],
      "source": [
        "Acc1.Disp()"
      ]
    },
    {
      "cell_type": "code",
      "execution_count": null,
      "id": "fbba74ca",
      "metadata": {
        "id": "fbba74ca"
      },
      "outputs": [],
      "source": [
        "Acc1.Withdrawal(2562)"
      ]
    },
    {
      "cell_type": "code",
      "execution_count": null,
      "id": "1bc814e9",
      "metadata": {
        "id": "1bc814e9",
        "outputId": "913a2c46-7904-472d-b7f5-55d0ca6f5a69"
      },
      "outputs": [
        {
          "name": "stdout",
          "output_type": "stream",
          "text": [
            "Account Number : 152645585\n",
            "Name : Siddarth\n",
            "IFSC : SBIN00085956\n",
            "Balance:  20000\n"
          ]
        }
      ],
      "source": [
        "Acc1.Disp()"
      ]
    },
    {
      "cell_type": "code",
      "execution_count": null,
      "id": "db364a97",
      "metadata": {
        "id": "db364a97"
      },
      "outputs": [],
      "source": [
        "Acc2=BankAccount(152645595,'SBIN00085956','Vijay',10000)"
      ]
    },
    {
      "cell_type": "code",
      "execution_count": null,
      "id": "be0d82a4",
      "metadata": {
        "id": "be0d82a4"
      },
      "outputs": [],
      "source": [
        "Acc2.Deposit(25625)"
      ]
    },
    {
      "cell_type": "code",
      "execution_count": null,
      "id": "a3d1f7a9",
      "metadata": {
        "id": "a3d1f7a9",
        "outputId": "5bff16ac-f884-4183-e808-6c626637b14a"
      },
      "outputs": [
        {
          "name": "stdout",
          "output_type": "stream",
          "text": [
            "Account Number : 152645595\n",
            "Name : Vijay\n",
            "IFSC : SBIN00085956\n",
            "Balance:  35625\n"
          ]
        }
      ],
      "source": [
        "Acc2.Disp()"
      ]
    },
    {
      "cell_type": "code",
      "execution_count": null,
      "id": "e616ff85",
      "metadata": {
        "id": "e616ff85"
      },
      "outputs": [],
      "source": [
        "Acc2.Withdrawal(2562)"
      ]
    },
    {
      "cell_type": "code",
      "execution_count": null,
      "id": "fb291a2b",
      "metadata": {
        "id": "fb291a2b",
        "outputId": "e0e376e1-8c3d-4e41-8f4c-433a0f146e0a"
      },
      "outputs": [
        {
          "name": "stdout",
          "output_type": "stream",
          "text": [
            "Account Number : 152645585\n",
            "Name : Siddarth\n",
            "IFSC : SBIN00085956\n",
            "Balance:  20000\n"
          ]
        }
      ],
      "source": [
        "Acc1.Disp()"
      ]
    },
    {
      "cell_type": "code",
      "execution_count": null,
      "id": "d7ea1310",
      "metadata": {
        "id": "d7ea1310",
        "outputId": "2fd1933f-6e58-4a5a-b282-ec87b936c87f"
      },
      "outputs": [
        {
          "name": "stdout",
          "output_type": "stream",
          "text": [
            "Account Number : 152645595\n",
            "Name : Vijay\n",
            "IFSC : SBIN00085956\n",
            "Balance:  33063\n"
          ]
        }
      ],
      "source": [
        "Acc2.Disp()"
      ]
    },
    {
      "cell_type": "code",
      "execution_count": null,
      "id": "766639f7",
      "metadata": {
        "id": "766639f7"
      },
      "outputs": [],
      "source": [
        "class BankAccount(): #creating a class\n",
        "    def __init__(self,accountnumber,ifsc,name,balance):\n",
        "        self.accountnumber = accountnumber\n",
        "        self.ifsc = ifsc\n",
        "        self.name = name\n",
        "        self.balance = balance\n",
        "\n",
        "    def Disp(self):\n",
        "        print(\"Account Number :\" , self.accountnumber)\n",
        "        print('Name :',self.name)\n",
        "        print(\"IFSC :\",self.ifsc)\n",
        "        print(\"Balance: \",self.balance)\n",
        "\n",
        "    def Deposit(self,Amount):\n",
        "        if Amount<=0:\n",
        "            print(\"Enter the Valid Amount\")\n",
        "        else:\n",
        "            self.balance = self.balance+Amount\n",
        "\n",
        "    def Withdrawal(self,Amount):\n",
        "        if Amount<=0:\n",
        "            print(\"Enter the Valid Amount\")\n",
        "        else:\n",
        "            self.balance = self.balance-Amount"
      ]
    },
    {
      "cell_type": "code",
      "execution_count": null,
      "id": "4aa23a89",
      "metadata": {
        "id": "4aa23a89"
      },
      "outputs": [],
      "source": [
        "class Bank_Acc_Updated(BankAccount):\n",
        "    def __init__(self,accountnumber,ifsc,name,balance,mobile,pan,aadhar):\n",
        "        BankAccount.__init__(self,accountnumber,ifsc,name,balance)\n",
        "        self.mobile = mobile\n",
        "        self.pan    = pan\n",
        "        self.aadhar = aadhar\n",
        "\n",
        "    def Update_Data(self):\n",
        "        Bank_Acc_Updated.Disp(self)\n",
        "        print('Aadhar: ',self.aadhar)\n",
        "        print('PAN: ',self.pan)\n",
        "        print('Mobile: ',self.mobile)\n",
        ""
      ]
    },
    {
      "cell_type": "code",
      "execution_count": null,
      "id": "3ab9f8b1",
      "metadata": {
        "id": "3ab9f8b1"
      },
      "outputs": [],
      "source": [
        "B2 = Bank_Acc_Updated(520125331,'SBIN885565','RAJ',25633,9586458656,'BHIPV8956K',45655622556622)"
      ]
    },
    {
      "cell_type": "code",
      "execution_count": null,
      "id": "622d3de6",
      "metadata": {
        "id": "622d3de6",
        "outputId": "8a47b644-2471-45ab-905b-798f31a9101c"
      },
      "outputs": [
        {
          "name": "stdout",
          "output_type": "stream",
          "text": [
            "Account Number : 520125331\n",
            "Name : RAJ\n",
            "IFSC : SBIN885565\n",
            "Balance:  25633\n",
            "Aadhar:  45655622556622\n",
            "PAN:  BHIPV8956K\n",
            "Mobile:  9586458656\n"
          ]
        }
      ],
      "source": [
        "B2.Update_Data()"
      ]
    },
    {
      "cell_type": "code",
      "execution_count": null,
      "id": "9c4122a7",
      "metadata": {
        "id": "9c4122a7"
      },
      "outputs": [],
      "source": [
        "B2.Deposit(55556)"
      ]
    },
    {
      "cell_type": "code",
      "execution_count": null,
      "id": "b292aff4",
      "metadata": {
        "id": "b292aff4",
        "outputId": "7aad124b-f3ff-48d9-a383-1e48cd31922f"
      },
      "outputs": [
        {
          "name": "stdout",
          "output_type": "stream",
          "text": [
            "Account Number : 520125331\n",
            "Name : RAJ\n",
            "IFSC : SBIN885565\n",
            "Balance:  81189\n",
            "Aadhar:  45655622556622\n",
            "PAN:  BHIPV8956K\n",
            "Mobile:  9586458656\n"
          ]
        }
      ],
      "source": [
        "B2.Update_Data()"
      ]
    },
    {
      "cell_type": "code",
      "execution_count": null,
      "id": "b933d41b",
      "metadata": {
        "id": "b933d41b"
      },
      "outputs": [],
      "source": [
        "# Over riding\n",
        "class Vehicle():\n",
        "\n",
        "    def max_speed(self):\n",
        "        print('Max speed allowed up to 100KMPH')\n",
        "\n",
        "    def min_speed(self):\n",
        "        print('Min Speed allowed up to 10KMPH')\n",
        "\n",
        "class Car(Vehicle):\n",
        "\n",
        "    def max_speed(self):\n",
        "        print('Max speed allowed up to 200KMPH')"
      ]
    },
    {
      "cell_type": "code",
      "execution_count": null,
      "id": "685d6cc4",
      "metadata": {
        "id": "685d6cc4"
      },
      "outputs": [],
      "source": [
        "V = Vehicle()"
      ]
    },
    {
      "cell_type": "code",
      "execution_count": null,
      "id": "6b577f10",
      "metadata": {
        "id": "6b577f10",
        "outputId": "124206b9-c839-4209-958f-0764dc02f527"
      },
      "outputs": [
        {
          "name": "stdout",
          "output_type": "stream",
          "text": [
            "Max speed allowed up to 100KMPH\n",
            "Min Speed allowed up to 10KMPH\n"
          ]
        }
      ],
      "source": [
        "V.max_speed()\n",
        "V.min_speed()"
      ]
    },
    {
      "cell_type": "code",
      "execution_count": null,
      "id": "aa19cbc6",
      "metadata": {
        "id": "aa19cbc6"
      },
      "outputs": [],
      "source": [
        "C = Car()"
      ]
    },
    {
      "cell_type": "code",
      "execution_count": null,
      "id": "5133e4d9",
      "metadata": {
        "id": "5133e4d9",
        "outputId": "1da0aa52-631b-4ead-8ec8-439a772fab95"
      },
      "outputs": [
        {
          "name": "stdout",
          "output_type": "stream",
          "text": [
            "Max speed allowed up to 200KMPH\n",
            "Min Speed allowed up to 10KMPH\n"
          ]
        }
      ],
      "source": [
        "C.max_speed()\n",
        "C.min_speed()"
      ]
    },
    {
      "cell_type": "code",
      "execution_count": null,
      "id": "73580235",
      "metadata": {
        "id": "73580235"
      },
      "outputs": [],
      "source": [
        "### Multi Inheritance\n",
        "\n",
        "class A:\n",
        "    def process(self):\n",
        "        print('In the class A')\n",
        "\n",
        "class B(A):\n",
        "    def process(self):\n",
        "        print('In the class B')\n",
        "\n",
        "class C_C(B,A):\n",
        "    def process(self):\n",
        "        print('In the class C')"
      ]
    },
    {
      "cell_type": "code",
      "execution_count": null,
      "id": "c23cea01",
      "metadata": {
        "id": "c23cea01"
      },
      "outputs": [],
      "source": [
        "C1=C_C()"
      ]
    },
    {
      "cell_type": "code",
      "execution_count": null,
      "id": "797e302b",
      "metadata": {
        "id": "797e302b",
        "outputId": "9497a3c8-6a6c-4fe6-fceb-163799dda19f"
      },
      "outputs": [
        {
          "name": "stdout",
          "output_type": "stream",
          "text": [
            "In the class C\n"
          ]
        }
      ],
      "source": [
        "C1.process()"
      ]
    },
    {
      "cell_type": "code",
      "execution_count": null,
      "id": "6e8e359b",
      "metadata": {
        "id": "6e8e359b"
      },
      "outputs": [],
      "source": [
        "### Multi Inheritance\n",
        "\n",
        "class A:\n",
        "    def process1(self):\n",
        "        print('In the class A')\n",
        "\n",
        "class B(A):\n",
        "    def process2(self):\n",
        "        print('In the class B')\n",
        "\n",
        "class C_C(B,A):\n",
        "    def process(self):\n",
        "        print('In the class C')"
      ]
    },
    {
      "cell_type": "code",
      "execution_count": null,
      "id": "4005468e",
      "metadata": {
        "id": "4005468e"
      },
      "outputs": [],
      "source": [
        "C2=C_C()"
      ]
    },
    {
      "cell_type": "code",
      "execution_count": null,
      "id": "f74a6b18",
      "metadata": {
        "id": "f74a6b18",
        "outputId": "589ee212-de5c-4841-d213-0b483fef05b5"
      },
      "outputs": [
        {
          "name": "stdout",
          "output_type": "stream",
          "text": [
            "In the class B\n"
          ]
        }
      ],
      "source": [
        "C2.process2()"
      ]
    },
    {
      "cell_type": "code",
      "execution_count": null,
      "id": "63f2c2d3",
      "metadata": {
        "id": "63f2c2d3",
        "outputId": "0f0cee44-a212-4126-afec-acec4d2bcd02"
      },
      "outputs": [
        {
          "name": "stdout",
          "output_type": "stream",
          "text": [
            "In the class A\n"
          ]
        }
      ],
      "source": [
        "C2.process1()"
      ]
    },
    {
      "cell_type": "code",
      "execution_count": null,
      "id": "a9fa8d46",
      "metadata": {
        "id": "a9fa8d46"
      },
      "outputs": [],
      "source": [
        "### Polymorphism"
      ]
    },
    {
      "cell_type": "code",
      "execution_count": null,
      "id": "8a54a790",
      "metadata": {
        "id": "8a54a790"
      },
      "outputs": [],
      "source": [
        "class Human():\n",
        "    def do(self):\n",
        "        print('I can walk and run')\n",
        "\n",
        "class Snake():\n",
        "    def do(self):\n",
        "        print('I can crawl')\n",
        "\n",
        "class Dog():\n",
        "    def do(self):\n",
        "        print('I can bark')\n",
        "\n",
        "class Lion():\n",
        "    def do(self):\n",
        "        print('I can roar')"
      ]
    },
    {
      "cell_type": "code",
      "execution_count": null,
      "id": "3f3daa60",
      "metadata": {
        "id": "3f3daa60"
      },
      "outputs": [],
      "source": [
        "human=Human()\n",
        "snake = Snake()\n",
        "dog = Dog()\n",
        "lion = Lion()"
      ]
    },
    {
      "cell_type": "code",
      "execution_count": null,
      "id": "784eefd5",
      "metadata": {
        "id": "784eefd5",
        "outputId": "39c89065-e356-4ac0-c6f5-e7b5290bcd6b"
      },
      "outputs": [
        {
          "name": "stdout",
          "output_type": "stream",
          "text": [
            "I can walk and run\n"
          ]
        }
      ],
      "source": [
        "human.do()"
      ]
    },
    {
      "cell_type": "code",
      "execution_count": null,
      "id": "2ee7d0bf",
      "metadata": {
        "id": "2ee7d0bf",
        "outputId": "52675bdb-f4b6-4028-b2b0-d0a594a74490"
      },
      "outputs": [
        {
          "name": "stdout",
          "output_type": "stream",
          "text": [
            "I can roar\n"
          ]
        }
      ],
      "source": [
        "lion.do()"
      ]
    },
    {
      "cell_type": "code",
      "execution_count": null,
      "id": "41e55903",
      "metadata": {
        "id": "41e55903"
      },
      "outputs": [],
      "source": [
        "Data =[human,snake,lion,dog]"
      ]
    },
    {
      "cell_type": "code",
      "execution_count": null,
      "id": "96e6ce15",
      "metadata": {
        "id": "96e6ce15",
        "outputId": "ff5b5a55-3476-4b3c-f460-dbe4c7d04bd4"
      },
      "outputs": [
        {
          "name": "stdout",
          "output_type": "stream",
          "text": [
            "I can walk and run\n",
            "I can crawl\n",
            "I can roar\n",
            "I can bark\n"
          ]
        }
      ],
      "source": [
        "for i in Data:\n",
        "    i.do()"
      ]
    },
    {
      "cell_type": "code",
      "execution_count": null,
      "id": "401ce3e5",
      "metadata": {
        "id": "401ce3e5"
      },
      "outputs": [],
      "source": [
        "class rectangle:\n",
        "    def __init__(self,width,height):\n",
        "        self.width = width\n",
        "        self.height = height\n",
        "\n",
        "    def area(self):\n",
        "        print('Area is:',self.width*self.height)\n",
        "\n",
        "    def Perimeter(self):\n",
        "        print('Perimeter is:', (2*(self.width+self.height)))\n",
        "\n",
        "\n",
        "class circle:\n",
        "\n",
        "    def __init__(self,r):\n",
        "        self.radius = r\n",
        "    def area(self):\n",
        "        print('Area is:',(3.14*self.radius*self.radius))\n",
        "    def Perimeter(self):\n",
        "        print('Perimeter is:',(2*3.14*self.radius))"
      ]
    },
    {
      "cell_type": "code",
      "execution_count": null,
      "id": "9aa8ca0e",
      "metadata": {
        "id": "9aa8ca0e"
      },
      "outputs": [],
      "source": [
        "rec = rectangle(2,3)\n",
        "cir = circle(2)"
      ]
    },
    {
      "cell_type": "code",
      "execution_count": null,
      "id": "61d88a35",
      "metadata": {
        "id": "61d88a35",
        "outputId": "b7f3fdd5-9e71-4c7e-8dea-7231e7c87874"
      },
      "outputs": [
        {
          "name": "stdout",
          "output_type": "stream",
          "text": [
            "Area is: 6\n",
            "Perimeter is: 10\n",
            "Area is: 12.56\n",
            "Perimeter is: 12.56\n"
          ]
        }
      ],
      "source": [
        "data = [rec,cir]\n",
        "for i in data:\n",
        "    i.area()\n",
        "    i.Perimeter()"
      ]
    },
    {
      "cell_type": "code",
      "execution_count": null,
      "id": "8b4c0338",
      "metadata": {
        "id": "8b4c0338"
      },
      "outputs": [],
      "source": [
        "class Person:\n",
        "    def __init__(self):\n",
        "        self.A = 'John'\n",
        "\n"
      ]
    },
    {
      "cell_type": "code",
      "execution_count": null,
      "id": "7804d565",
      "metadata": {
        "id": "7804d565"
      },
      "outputs": [],
      "source": [
        "P=Person()"
      ]
    },
    {
      "cell_type": "code",
      "execution_count": null,
      "id": "a1715afd",
      "metadata": {
        "id": "a1715afd",
        "outputId": "7b9a16ce-762b-4335-cc4d-7d80f1141236"
      },
      "outputs": [
        {
          "data": {
            "text/plain": [
              "'John'"
            ]
          },
          "execution_count": 53,
          "metadata": {},
          "output_type": "execute_result"
        }
      ],
      "source": [
        "P.A"
      ]
    },
    {
      "cell_type": "code",
      "execution_count": null,
      "id": "b3346080",
      "metadata": {
        "id": "b3346080"
      },
      "outputs": [],
      "source": [
        "class Person:\n",
        "    def __init__(self):\n",
        "        self.A = 'John'\n",
        "        self.__B='Mark'"
      ]
    },
    {
      "cell_type": "code",
      "execution_count": null,
      "id": "3960a2e9",
      "metadata": {
        "id": "3960a2e9"
      },
      "outputs": [],
      "source": [
        "P=Person()"
      ]
    },
    {
      "cell_type": "code",
      "execution_count": null,
      "id": "e8289f6e",
      "metadata": {
        "id": "e8289f6e",
        "outputId": "ccb3b463-320d-4fcc-db19-2a9df433af47"
      },
      "outputs": [
        {
          "data": {
            "text/plain": [
              "'John'"
            ]
          },
          "execution_count": 56,
          "metadata": {},
          "output_type": "execute_result"
        }
      ],
      "source": [
        "P.A"
      ]
    },
    {
      "cell_type": "code",
      "execution_count": null,
      "id": "60d8eb04",
      "metadata": {
        "id": "60d8eb04",
        "outputId": "e6a0d750-642f-4bce-f605-9d57b802c7d3"
      },
      "outputs": [
        {
          "ename": "AttributeError",
          "evalue": "'Person' object has no attribute 'B'",
          "output_type": "error",
          "traceback": [
            "\u001b[1;31m---------------------------------------------------------------------------\u001b[0m",
            "\u001b[1;31mAttributeError\u001b[0m                            Traceback (most recent call last)",
            "Input \u001b[1;32mIn [57]\u001b[0m, in \u001b[0;36m<cell line: 1>\u001b[1;34m()\u001b[0m\n\u001b[1;32m----> 1\u001b[0m \u001b[43mP\u001b[49m\u001b[38;5;241;43m.\u001b[39;49m\u001b[43mB\u001b[49m\n",
            "\u001b[1;31mAttributeError\u001b[0m: 'Person' object has no attribute 'B'"
          ]
        }
      ],
      "source": [
        "P.B"
      ]
    },
    {
      "cell_type": "code",
      "execution_count": null,
      "id": "3aec17f2",
      "metadata": {
        "id": "3aec17f2"
      },
      "outputs": [],
      "source": [
        "class Person:\n",
        "    def __init__(self):\n",
        "        self.A = 'John'\n",
        "        self.__B='Mark'\n",
        "    def __disp(self):\n",
        "        print(self.A,self.B)"
      ]
    },
    {
      "cell_type": "code",
      "execution_count": null,
      "id": "c8ae290a",
      "metadata": {
        "id": "c8ae290a"
      },
      "outputs": [],
      "source": [
        "P=Person()"
      ]
    },
    {
      "cell_type": "code",
      "execution_count": null,
      "id": "6c99a8b3",
      "metadata": {
        "id": "6c99a8b3",
        "outputId": "57e6581d-5d9b-4deb-fce4-68c8990a4b83"
      },
      "outputs": [
        {
          "data": {
            "text/plain": [
              "'John'"
            ]
          },
          "execution_count": 60,
          "metadata": {},
          "output_type": "execute_result"
        }
      ],
      "source": [
        "P.A"
      ]
    },
    {
      "cell_type": "code",
      "execution_count": null,
      "id": "fb7a4f08",
      "metadata": {
        "id": "fb7a4f08",
        "outputId": "ec385fb7-df33-4c34-f297-bf8a48a75048"
      },
      "outputs": [
        {
          "ename": "AttributeError",
          "evalue": "'Person' object has no attribute 'B'",
          "output_type": "error",
          "traceback": [
            "\u001b[1;31m---------------------------------------------------------------------------\u001b[0m",
            "\u001b[1;31mAttributeError\u001b[0m                            Traceback (most recent call last)",
            "Input \u001b[1;32mIn [61]\u001b[0m, in \u001b[0;36m<cell line: 1>\u001b[1;34m()\u001b[0m\n\u001b[1;32m----> 1\u001b[0m \u001b[43mP\u001b[49m\u001b[38;5;241;43m.\u001b[39;49m\u001b[43mB\u001b[49m\n",
            "\u001b[1;31mAttributeError\u001b[0m: 'Person' object has no attribute 'B'"
          ]
        }
      ],
      "source": [
        "P.B"
      ]
    },
    {
      "cell_type": "code",
      "execution_count": null,
      "id": "3434ee3a",
      "metadata": {
        "id": "3434ee3a",
        "outputId": "0f936975-5ecb-45ae-c4b5-0a4bf6729fad"
      },
      "outputs": [
        {
          "ename": "AttributeError",
          "evalue": "'Person' object has no attribute 'disp'",
          "output_type": "error",
          "traceback": [
            "\u001b[1;31m---------------------------------------------------------------------------\u001b[0m",
            "\u001b[1;31mAttributeError\u001b[0m                            Traceback (most recent call last)",
            "Input \u001b[1;32mIn [62]\u001b[0m, in \u001b[0;36m<cell line: 1>\u001b[1;34m()\u001b[0m\n\u001b[1;32m----> 1\u001b[0m \u001b[43mP\u001b[49m\u001b[38;5;241;43m.\u001b[39;49m\u001b[43mdisp\u001b[49m()\n",
            "\u001b[1;31mAttributeError\u001b[0m: 'Person' object has no attribute 'disp'"
          ]
        }
      ],
      "source": [
        "P.disp()"
      ]
    },
    {
      "cell_type": "code",
      "execution_count": null,
      "id": "fa0faff2",
      "metadata": {
        "id": "fa0faff2"
      },
      "outputs": [],
      "source": [
        "class A:\n",
        "    def __init__(self,a):\n",
        "        self.P = a\n",
        "        print('Constructor of the Parent class')\n",
        "\n",
        "class B(A):\n",
        "    def __init__(self,a,b):\n",
        "        self.Q=b\n",
        "        super().__init__(a)\n",
        "        print('Constructor in the child class')"
      ]
    },
    {
      "cell_type": "code",
      "execution_count": null,
      "id": "f3b17022",
      "metadata": {
        "id": "f3b17022",
        "outputId": "70ec8138-4282-406a-faeb-01fbb1c7735e"
      },
      "outputs": [
        {
          "name": "stdout",
          "output_type": "stream",
          "text": [
            "Constructor of the Parent class\n",
            "Constructor in the child class\n"
          ]
        }
      ],
      "source": [
        "obj = B(125,568)"
      ]
    },
    {
      "cell_type": "code",
      "execution_count": null,
      "id": "27f8ffe5",
      "metadata": {
        "id": "27f8ffe5"
      },
      "outputs": [],
      "source": []
    },
    {
      "cell_type": "code",
      "execution_count": null,
      "id": "75acb9e6",
      "metadata": {
        "id": "75acb9e6"
      },
      "outputs": [],
      "source": []
    },
    {
      "cell_type": "code",
      "execution_count": null,
      "id": "2382a671",
      "metadata": {
        "id": "2382a671"
      },
      "outputs": [],
      "source": []
    },
    {
      "cell_type": "code",
      "execution_count": null,
      "id": "b21a56f6",
      "metadata": {
        "id": "b21a56f6"
      },
      "outputs": [],
      "source": []
    },
    {
      "cell_type": "code",
      "execution_count": null,
      "id": "8e974f8e",
      "metadata": {
        "id": "8e974f8e"
      },
      "outputs": [],
      "source": []
    },
    {
      "cell_type": "code",
      "execution_count": null,
      "id": "d83b612c",
      "metadata": {
        "id": "d83b612c"
      },
      "outputs": [],
      "source": []
    }
  ],
  "metadata": {
    "kernelspec": {
      "display_name": "Python 3 (ipykernel)",
      "language": "python",
      "name": "python3"
    },
    "language_info": {
      "codemirror_mode": {
        "name": "ipython",
        "version": 3
      },
      "file_extension": ".py",
      "mimetype": "text/x-python",
      "name": "python",
      "nbconvert_exporter": "python",
      "pygments_lexer": "ipython3",
      "version": "3.9.12"
    },
    "colab": {
      "provenance": []
    }
  },
  "nbformat": 4,
  "nbformat_minor": 5
}